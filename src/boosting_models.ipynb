{
 "cells": [
  {
   "cell_type": "code",
   "execution_count": 13,
   "metadata": {},
   "outputs": [],
   "source": [
    "# %%writefile boosting_models.py\n",
    "import numpy as np\n",
    "import pandas as pd\n",
    "from pymongo import MongoClient\n",
    "import pprint\n",
    "import string\n",
    "import re\n",
    "import datetime\n",
    "import copy\n",
    "\n",
    "from my_tools import get_bill_data, plot_roc\n",
    "\n",
    "import statsmodels.api as sm\n",
    "import scipy.stats as scs\n",
    "from sklearn.ensemble import GradientBoostingClassifier, AdaBoostClassifier\n",
    "from sklearn.tree import DecisionTreeClassifier\n",
    "\n",
    "\n",
    "from sklearn.metrics.pairwise import linear_kernel\n",
    "from sklearn.preprocessing import normalize\n",
    "from sklearn.metrics import recall_score, precision_score, accuracy_score, confusion_matrix, mean_squared_error\n",
    "\n",
    "\n",
    "from sklearn.model_selection import train_test_split\n",
    "from sklearn.naive_bayes import MultinomialNB#, ComplementNB unreleased as of 12/14\n",
    "\n",
    "import matplotlib.pyplot as plt\n",
    "plt.style.use('ggplot')"
   ]
  },
  {
   "cell_type": "code",
   "execution_count": 2,
   "metadata": {},
   "outputs": [
    {
     "name": "stdout",
     "output_type": "stream",
     "text": [
      "------------------\n",
      "------------------\n",
      "Data is from the 110th Congress (2007) to present\n",
      "Alter masking in my_tools.get_bill_data to get a different data set.\n",
      "------------------\n"
     ]
    }
   ],
   "source": [
    "data = get_bill_data()"
   ]
  },
  {
   "cell_type": "code",
   "execution_count": 5,
   "metadata": {},
   "outputs": [],
   "source": [
    "# Second iteration removes num_of_cosponsors and bill_char_counts...\n",
    "# Tried running this using buckets for char_counts. MSE was higher.\n",
    "data_features = data.loc[:, [\n",
    "                            'num_of_cosponsors', \n",
    "                            'sponsor_party', \n",
    "#                             'sponsor_state', \n",
    "                            'intro_month', \n",
    "                            'session', \n",
    "                            'labels', \n",
    "                            'bill_char_counts']]"
   ]
  },
  {
   "cell_type": "code",
   "execution_count": 6,
   "metadata": {},
   "outputs": [],
   "source": [
    "# get dummies for intro_month, sponsor_party, sponsor_state, session\n",
    "data_dumm = pd.get_dummies(data_features, columns = [\n",
    "#                                             'intro_month', \n",
    "                                            'sponsor_party', \n",
    "#                                             'sponsor_state', \n",
    "                                            'session'\n",
    "                                                ], \n",
    "                           drop_first=True)"
   ]
  },
  {
   "cell_type": "code",
   "execution_count": 7,
   "metadata": {},
   "outputs": [
    {
     "data": {
      "text/plain": [
       "Index(['num_of_cosponsors', 'intro_month', 'labels', 'bill_char_counts',\n",
       "       'sponsor_party_I', 'sponsor_party_ID', 'sponsor_party_R', 'session_2'],\n",
       "      dtype='object')"
      ]
     },
     "execution_count": 7,
     "metadata": {},
     "output_type": "execute_result"
    }
   ],
   "source": [
    "data_dumm.columns"
   ]
  },
  {
   "cell_type": "code",
   "execution_count": 8,
   "metadata": {},
   "outputs": [],
   "source": [
    "y = data_dumm.pop('labels').values.astype(int)\n",
    "X_train, X_test, y_train, y_test = train_test_split(data_dumm, y, \n",
    "                                                    stratify = y, \n",
    "                                                    random_state = 123)"
   ]
  },
  {
   "cell_type": "code",
   "execution_count": null,
   "metadata": {},
   "outputs": [],
   "source": [
    "def stage_score_plot(estimator, X_train, y_train, X_test, y_test):\n",
    "    '''\n",
    "        Parameters: estimator: GradientBoostingRegressor or AdaBoostRegressor\n",
    "                    X_train: 2d numpy array\n",
    "                    y_train: 1d numpy array\n",
    "                    X_test: 2d numpy array\n",
    "                    y_test: 1d numpy array\n",
    "\n",
    "        Returns: A plot of the number of iterations vs the MSE for the model for\n",
    "        both the training set and test set.\n",
    "    '''\n",
    "    estimator.fit(X_train, y_train)\n",
    "    name = estimator.__class__.__name__.replace('Regressor', '')\n",
    "    learn_rate = estimator.learning_rate\n",
    "    # initialize \n",
    "    train_scores = np.zeros((estimator.n_estimators,), dtype=np.float64)\n",
    "    test_scores = np.zeros((estimator.n_estimators,), dtype=np.float64)\n",
    "    # Get train score from each boost\n",
    "    for i, y_train_pred in enumerate(estimator.staged_predict(X_train)):\n",
    "        train_scores[i] = mean_squared_error(y_train, y_train_pred)\n",
    "    # Get test score from each boost\n",
    "    for i, y_test_pred in enumerate(estimator.staged_predict(X_test)):\n",
    "        test_scores[i] = mean_squared_error(y_test, y_test_pred)\n",
    "    plt.plot(train_scores, alpha=.5, label=\"{0} Train - learning rate {1}\".format(\n",
    "                                                                name, learn_rate))\n",
    "    plt.plot(test_scores, alpha=.5, label=\"{0} Test  - learning rate {1}\".format(\n",
    "                                                      name, learn_rate), ls='--')\n",
    "    plt.title(name, fontsize=16, fontweight='bold')\n",
    "    plt.ylabel('MSE', fontsize=14)\n",
    "    plt.xlabel('Iterations', fontsize=14)"
   ]
  },
  {
   "cell_type": "code",
   "execution_count": null,
   "metadata": {},
   "outputs": [],
   "source": [
    "gb = GradientBoostingClassifier(learning_rate=.05, n_estimators=100, max_depth=3, random_state=123)\n",
    "gb_1 = GradientBoostingClassifier(learning_rate=.04, n_estimators=100, max_depth=3, random_state=123)\n",
    "gb_2 = GradientBoostingClassifier(learning_rate=.02, n_estimators=100, max_depth=3, random_state=123)"
   ]
  },
  {
   "cell_type": "code",
   "execution_count": null,
   "metadata": {},
   "outputs": [],
   "source": [
    "fig = plt.figure(figsize = (16, 8))\n",
    "stage_score_plot(gb, X_train, y_train, X_test, y_test)\n",
    "stage_score_plot(gb_1, X_train, y_train, X_test, y_test)\n",
    "stage_score_plot(gb_2, X_train, y_train, X_test, y_test)\n",
    "plt.legend()"
   ]
  },
  {
   "cell_type": "code",
   "execution_count": null,
   "metadata": {},
   "outputs": [],
   "source": [
    "ada = AdaBoostClassifier(DecisionTreeClassifier(max_depth=5), \n",
    "                         learning_rate=.05, \n",
    "                         n_estimators=100, \n",
    "                         random_state=123)\n",
    "\n",
    "ada_2 = AdaBoostClassifier(DecisionTreeClassifier(max_depth=5), \n",
    "                         learning_rate=.04, \n",
    "                         n_estimators=100, \n",
    "                         random_state=123)\n",
    "\n",
    "ada_3 = AdaBoostClassifier(DecisionTreeClassifier(max_depth=5), \n",
    "                         learning_rate=.02, \n",
    "                         n_estimators=100, \n",
    "                         random_state=123)"
   ]
  },
  {
   "cell_type": "code",
   "execution_count": null,
   "metadata": {},
   "outputs": [],
   "source": [
    "fig = plt.figure(figsize = (16, 8))\n",
    "stage_score_plot(ada, X_train, y_train, X_test, y_test)\n",
    "stage_score_plot(ada_2, X_train, y_train, X_test, y_test)\n",
    "stage_score_plot(ada_3, X_train, y_train, X_test, y_test)\n",
    "plt.legend()"
   ]
  },
  {
   "cell_type": "code",
   "execution_count": null,
   "metadata": {},
   "outputs": [],
   "source": [
    "# Gradient boosting giving us the lower MSE. At this point, it feels like I'm splitting hairs... \n",
    "# the difference in MSE is <.005"
   ]
  },
  {
   "cell_type": "code",
   "execution_count": null,
   "metadata": {},
   "outputs": [],
   "source": [
    "# after examination, going with a learning rate of .05\n",
    "gb = GradientBoostingClassifier(learning_rate=.05, n_estimators=100, random_state=123)"
   ]
  },
  {
   "cell_type": "code",
   "execution_count": null,
   "metadata": {},
   "outputs": [],
   "source": [
    "gb.fit(X_train, y_train)\n",
    "gb_y_pred = gb.predict(X_test)\n",
    "\n",
    "print('----------------------')\n",
    "print('----------------------')\n",
    "print('Gradient Boosting Classifier')\n",
    "print('----------------------')\n",
    "print('Accuracy score:  {:.2f}'.format(accuracy_score(y_test, gb_y_pred)))\n",
    "print('Precision score: {:.2f}'.format(precision_score(y_test, gb_y_pred)))\n",
    "print('Recall score:    {:.2f}'.format(recall_score(y_test, gb_y_pred)))\n"
   ]
  },
  {
   "cell_type": "code",
   "execution_count": null,
   "metadata": {},
   "outputs": [],
   "source": [
    "gb_y_predict_proba = gb.predict_proba(X_test)"
   ]
  },
  {
   "cell_type": "code",
   "execution_count": null,
   "metadata": {},
   "outputs": [],
   "source": [
    "gb_y_predict_proba[:, 1]"
   ]
  },
  {
   "cell_type": "code",
   "execution_count": 9,
   "metadata": {},
   "outputs": [],
   "source": [
    "def plot_it(x, y_list, name, labels):\n",
    "    x = x\n",
    "    fig = plt.figure(figsize = (16, 8))\n",
    "    ax = fig.add_subplot(111)\n",
    "    ax.set_title(name, fontdict = {'fontsize': 20})\n",
    "    for y in y_list:\n",
    "        plt.plot(x, y)\n",
    "    plt.legend(labels)\n",
    "\n",
    "    plt.show"
   ]
  },
  {
   "cell_type": "code",
   "execution_count": 10,
   "metadata": {},
   "outputs": [
    {
     "name": "stdout",
     "output_type": "stream",
     "text": [
      "----------------\n",
      "Iterating through several n_estimators for Gradient Boost models...\n",
      "--> n = 100\n",
      "--> n = 200\n",
      "--> n = 300\n",
      "--> n = 400\n",
      "--> n = 500\n",
      "--> n = 600\n",
      "--> n = 700\n",
      "--> n = 800\n",
      "--> n = 900\n",
      "--> n = 1000\n",
      "--> n = 1100\n",
      "--> n = 1200\n",
      "--> n = 1300\n",
      "--> n = 1400\n",
      "--> n = 1500\n"
     ]
    }
   ],
   "source": [
    "# Iterate through several n_estimators to find best \n",
    "n_list = range(100, 1600, 100)\n",
    "r_list = []\n",
    "\n",
    "print('----------------')\n",
    "print('Iterating through several n_estimators for Gradient Boost models...')\n",
    "\n",
    "for n in n_list:\n",
    "    print('--> n = {}'.format(n))\n",
    "    gb = GradientBoostingClassifier(learning_rate=.05, n_estimators=n, random_state=123)\n",
    "    gb.fit(X_train, y_train)\n",
    "    \n",
    "    gb_y_pred = gb.predict(X_test)\n",
    "    r_list.append(recall_score(y_test, gb_y_pred))\n"
   ]
  },
  {
   "cell_type": "code",
   "execution_count": 11,
   "metadata": {},
   "outputs": [
    {
     "data": {
      "image/png": "[encoded data removed]",
      "text/plain": [
       "<Figure size 1152x576 with 1 Axes>"
      ]
     },
     "metadata": {
      "needs_background": "light"
     },
     "output_type": "display_data"
    }
   ],
   "source": [
    "# show graph of scores vs. number of max_features \n",
    "x = np.arange(100, 1600, 100)\n",
    "plot_list = [r_list]\n",
    "graph_name = 'Gradient Boost n_estimators vs. Recall Score'\n",
    "labels = ['recall score']\n",
    "\n",
    "plot_it(x, plot_list, graph_name, labels)"
   ]
  },
  {
   "cell_type": "code",
   "execution_count": 15,
   "metadata": {},
   "outputs": [
    {
     "data": {
      "text/plain": [
       "1"
      ]
     },
     "execution_count": 15,
     "metadata": {},
     "output_type": "execute_result"
    }
   ],
   "source": [
    "np.argmax(r_list)"
   ]
  },
  {
   "cell_type": "code",
   "execution_count": 12,
   "metadata": {},
   "outputs": [
    {
     "data": {
      "text/plain": [
       "Text(0.5,0,'Average contribution to information gain')"
      ]
     },
     "execution_count": 12,
     "metadata": {},
     "output_type": "execute_result"
    },
    {
     "data": {
      "image/png": "[encoded data removed]",
      "text/plain": [
       "<Figure size 720x576 with 1 Axes>"
      ]
     },
     "metadata": {
      "needs_background": "light"
     },
     "output_type": "display_data"
    }
   ],
   "source": [
    "# Plot the feature importance\n",
    "feat_scores = pd.Series(gb.feature_importances_,\n",
    "                           index=X_train.columns)\n",
    "feat_scores = feat_scores.sort_values()[::-1][:20][::-1]\n",
    "ax = feat_scores.plot(kind='barh', \n",
    "                      figsize=(10,8),\n",
    "                      color='b')\n",
    "ax.set_title('Average Friedman MSE Importance (Top 20 features)')\n",
    "ax.set_xlabel('Average contribution to information gain')"
   ]
  },
  {
   "cell_type": "code",
   "execution_count": 18,
   "metadata": {},
   "outputs": [
    {
     "ename": "NameError",
     "evalue": "name 'np' is not defined",
     "output_type": "error",
     "traceback": [
      "\u001b[0;31m---------------------------------------------------------------------------\u001b[0m",
      "\u001b[0;31mNameError\u001b[0m                                 Traceback (most recent call last)",
      "\u001b[0;32m<ipython-input-18-9ba45701098d>\u001b[0m in \u001b[0;36m<module>\u001b[0;34m()\u001b[0m\n\u001b[1;32m      1\u001b[0m \u001b[0;32mimport\u001b[0m \u001b[0mnumpy\u001b[0m \u001b[0;32mas\u001b[0m \u001b[0mnp\u001b[0m\u001b[0;34m\u001b[0m\u001b[0m\n\u001b[0;32m----> 2\u001b[0;31m \u001b[0mplot_roc\u001b[0m\u001b[0;34m(\u001b[0m\u001b[0mX_train\u001b[0m\u001b[0;34m,\u001b[0m \u001b[0my_train\u001b[0m\u001b[0;34m,\u001b[0m \u001b[0mGradientBoostingClassifier\u001b[0m\u001b[0;34m,\u001b[0m \u001b[0;34m'Gradient Boost'\u001b[0m\u001b[0;34m,\u001b[0m \u001b[0mlearning_rate\u001b[0m\u001b[0;34m=\u001b[0m\u001b[0;36m.05\u001b[0m\u001b[0;34m,\u001b[0m \u001b[0mn_estimators\u001b[0m\u001b[0;34m=\u001b[0m\u001b[0;36m200\u001b[0m\u001b[0;34m)\u001b[0m\u001b[0;34m\u001b[0m\u001b[0m\n\u001b[0m",
      "\u001b[0;32m~/galvanize_capstone/src/my_tools.py\u001b[0m in \u001b[0;36mplot_roc\u001b[0;34m(X, y, clf_class, plot_name, **kwargs)\u001b[0m\n\u001b[1;32m    329\u001b[0m     \u001b[0mX\u001b[0m \u001b[0;34m=\u001b[0m \u001b[0mscaler\u001b[0m\u001b[0;34m.\u001b[0m\u001b[0mfit_transform\u001b[0m\u001b[0;34m(\u001b[0m\u001b[0mX\u001b[0m\u001b[0;34m)\u001b[0m\u001b[0;34m\u001b[0m\u001b[0m\n\u001b[1;32m    330\u001b[0m     \u001b[0mn_splits\u001b[0m\u001b[0;34m=\u001b[0m\u001b[0;36m5\u001b[0m\u001b[0;34m\u001b[0m\u001b[0m\n\u001b[0;32m--> 331\u001b[0;31m     \u001b[0mkf\u001b[0m \u001b[0;34m=\u001b[0m \u001b[0mKFold\u001b[0m\u001b[0;34m(\u001b[0m\u001b[0mn_splits\u001b[0m\u001b[0;34m=\u001b[0m\u001b[0mn_splits\u001b[0m\u001b[0;34m,\u001b[0m \u001b[0mshuffle\u001b[0m\u001b[0;34m=\u001b[0m\u001b[0;32mTrue\u001b[0m\u001b[0;34m)\u001b[0m\u001b[0;34m\u001b[0m\u001b[0m\n\u001b[0m\u001b[1;32m    332\u001b[0m     \u001b[0my_prob\u001b[0m \u001b[0;34m=\u001b[0m \u001b[0mnp\u001b[0m\u001b[0;34m.\u001b[0m\u001b[0mzeros\u001b[0m\u001b[0;34m(\u001b[0m\u001b[0;34m(\u001b[0m\u001b[0mlen\u001b[0m\u001b[0;34m(\u001b[0m\u001b[0my\u001b[0m\u001b[0;34m)\u001b[0m\u001b[0;34m,\u001b[0m\u001b[0;36m2\u001b[0m\u001b[0;34m)\u001b[0m\u001b[0;34m)\u001b[0m\u001b[0;34m\u001b[0m\u001b[0m\n\u001b[1;32m    333\u001b[0m     \u001b[0mmean_tpr\u001b[0m \u001b[0;34m=\u001b[0m \u001b[0;36m0.0\u001b[0m\u001b[0;34m\u001b[0m\u001b[0m\n",
      "\u001b[0;31mNameError\u001b[0m: name 'np' is not defined"
     ]
    }
   ],
   "source": [
    "import numpy as np\n",
    "plot_roc(X_train, y_train, GradientBoostingClassifier, 'Gradient Boost', learning_rate=.05, n_estimators=200)\n",
    "\n"
   ]
  },
  {
   "cell_type": "code",
   "execution_count": null,
   "metadata": {},
   "outputs": [],
   "source": []
  }
 ],
 "metadata": {
  "kernelspec": {
   "display_name": "Python 3",
   "language": "python",
   "name": "python3"
  },
  "language_info": {
   "codemirror_mode": {
    "name": "ipython",
    "version": 3
   },
   "file_extension": ".py",
   "mimetype": "text/x-python",
   "name": "python",
   "nbconvert_exporter": "python",
   "pygments_lexer": "ipython3",
   "version": "3.7.0"
  }
 },
 "nbformat": 4,
 "nbformat_minor": 2
}
