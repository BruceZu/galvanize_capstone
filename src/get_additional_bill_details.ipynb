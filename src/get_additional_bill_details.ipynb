{
 "cells": [
  {
   "cell_type": "code",
   "execution_count": 1,
   "metadata": {},
   "outputs": [],
   "source": [
    "# %%writefile get_additional_bill_details.py\n",
    "'''\n",
    "Once data has been populated into Mongo database, this script will populate the bill text\n",
    "in the 'body' field if text doesn't already exist. \n",
    "'''\n",
    "from pymongo import MongoClient\n"
   ]
  },
  {
   "cell_type": "code",
   "execution_count": 2,
   "metadata": {},
   "outputs": [],
   "source": [
    "client = MongoClient('mongodb://localhost:27017/')\n",
    "db = client.bills\n",
    "bill_info = db.bill_info"
   ]
  },
  {
   "cell_type": "code",
   "execution_count": 3,
   "metadata": {},
   "outputs": [
    {
     "name": "stderr",
     "output_type": "stream",
     "text": [
      "/home/ubuntu/anaconda3/lib/python3.7/site-packages/ipykernel_launcher.py:1: DeprecationWarning: count is deprecated. Use Collection.count_documents instead.\n",
      "  \"\"\"Entry point for launching an IPython kernel.\n"
     ]
    },
    {
     "data": {
      "text/plain": [
       "60616"
      ]
     },
     "execution_count": 3,
     "metadata": {},
     "output_type": "execute_result"
    }
   ],
   "source": [
    "bill_info.find().count()"
   ]
  },
  {
   "cell_type": "code",
   "execution_count": 4,
   "metadata": {},
   "outputs": [
    {
     "data": {
      "text/plain": [
       "{'_id': ObjectId('5c26c6c51417de25ef8a5a30'),\n",
       " 'leg_id': 'H R 7149',\n",
       " 'leg_type': 'BILL',\n",
       " 'leg_url': 'https://www.congress.gov/bill/115th-congress/house-bill/7149?s=1&r=251',\n",
       " 'intro_date': '11/16/2018',\n",
       " 'congress_id': '115',\n",
       " 'desc': 'Protecting Married Seniors from Impoverishment Act',\n",
       " 'sponsor': 'Dingell, Debbie',\n",
       " 'sponsor_party': 'D',\n",
       " 'sponsor_state': 'MI',\n",
       " 'sponsor_district': '12',\n",
       " 'num_of_cosponsors': '1',\n",
       " 'cosponsors_url': 'https://www.congress.gov/bill/115th-congress/house-bill/7149/cosponsors?s=1&r=251&overview=closed#tabs',\n",
       " 'cosponsors': None,\n",
       " 'num_of_amendments': None,\n",
       " 'committee': 'House - Energy and Commerce',\n",
       " 'bill_status': 'Introduced',\n",
       " 'body': None}"
      ]
     },
     "execution_count": 4,
     "metadata": {},
     "output_type": "execute_result"
    }
   ],
   "source": [
    "bill_info.find_one()"
   ]
  },
  {
   "cell_type": "code",
   "execution_count": null,
   "metadata": {},
   "outputs": [],
   "source": []
  }
 ],
 "metadata": {
  "kernelspec": {
   "display_name": "Python 3",
   "language": "python",
   "name": "python3"
  },
  "language_info": {
   "codemirror_mode": {
    "name": "ipython",
    "version": 3
   },
   "file_extension": ".py",
   "mimetype": "text/x-python",
   "name": "python",
   "nbconvert_exporter": "python",
   "pygments_lexer": "ipython3",
   "version": "3.7.1"
  }
 },
 "nbformat": 4,
 "nbformat_minor": 2
}
