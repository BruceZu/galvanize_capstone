{
 "cells": [
  {
   "cell_type": "code",
   "execution_count": 2,
   "metadata": {},
   "outputs": [],
   "source": [
    "from pymongo import MongoClient\n",
    "import pandas as pd\n",
    "import numpy as np\n",
    "from my_tools import get_bill_data, process_corpus\n",
    "import matplotlib.pyplot as plt"
   ]
  },
  {
   "cell_type": "code",
   "execution_count": 14,
   "metadata": {},
   "outputs": [
    {
     "name": "stdout",
     "output_type": "stream",
     "text": [
      "Number of records in database:\t60616\n",
      "Records with bill text:\t\t60053\n",
      "Records without bill text:\t563\n",
      "Records with amend count:\t20387\n",
      "Records without amend count:\t40229\n"
     ]
    }
   ],
   "source": [
    "client = MongoClient()\n",
    "db = client.bills\n",
    "bill_info = db.bill_info\n",
    "\n",
    "# monitoring progress of data into Mongo\n",
    "print('Number of records in database:\\t{}'.format(bill_info.count_documents({})))\n",
    "\n",
    "records_with_text = bill_info.count_documents({'body': {'$regex': '(.+)'}})\n",
    "print('Records with bill text:\\t\\t{}'.format(records_with_text))\n",
    "\n",
    "records_wo_text = bill_info.count_documents({'body': None})\n",
    "print('Records without bill text:\\t{}'.format(records_wo_text))\n",
    "\n",
    "records_with_amend_count = bill_info.count_documents({'num_of_amendments': {'$regex': '(.+)'}})\n",
    "print('Records with amend count:\\t{}'.format(records_with_amend_count))\n",
    "\n",
    "records_wo_amend_count = bill_info.count_documents({'num_of_amendments': None})\n",
    "print('Records without amend count:\\t{}'.format(records_wo_amend_count))\n"
   ]
  },
  {
   "cell_type": "code",
   "execution_count": null,
   "metadata": {},
   "outputs": [],
   "source": [
    "data = get_bill_data()\n",
    "\n",
    "data.describe()"
   ]
  },
  {
   "cell_type": "code",
   "execution_count": null,
   "metadata": {},
   "outputs": [],
   "source": [
    "bills_2008 = bill_info.find({'congress_id': '110'})"
   ]
  },
  {
   "cell_type": "code",
   "execution_count": null,
   "metadata": {},
   "outputs": [],
   "source": [
    "bills_2008[0]"
   ]
  },
  {
   "cell_type": "code",
   "execution_count": null,
   "metadata": {},
   "outputs": [],
   "source": [
    "bills_2008_count = bill_info.count_documents({'congress_id': '110'})\n",
    "bills_2008_count"
   ]
  },
  {
   "cell_type": "code",
   "execution_count": null,
   "metadata": {},
   "outputs": [],
   "source": [
    "bills_2008_with_text = bill_info.count_documents({'congress_id': '110', 'body': {'$regex': 'e'}})\n",
    "bills_2008_with_text"
   ]
  },
  {
   "cell_type": "code",
   "execution_count": null,
   "metadata": {},
   "outputs": [],
   "source": [
    "#  pass corpus through nlp pipeline\n",
    "X, y = process_corpus(data, 'body')"
   ]
  },
  {
   "cell_type": "code",
   "execution_count": null,
   "metadata": {
    "scrolled": true
   },
   "outputs": [],
   "source": [
    "data.describe()"
   ]
  },
  {
   "cell_type": "code",
   "execution_count": null,
   "metadata": {},
   "outputs": [],
   "source": [
    "len(data[data['num_of_cosponsors'] > 200])"
   ]
  },
  {
   "cell_type": "code",
   "execution_count": null,
   "metadata": {},
   "outputs": [],
   "source": [
    "data.columns"
   ]
  },
  {
   "cell_type": "code",
   "execution_count": null,
   "metadata": {},
   "outputs": [],
   "source": [
    "data.sponsor_party.value_counts()"
   ]
  },
  {
   "cell_type": "code",
   "execution_count": null,
   "metadata": {},
   "outputs": [],
   "source": [
    "data.labels.value_counts()"
   ]
  },
  {
   "cell_type": "code",
   "execution_count": null,
   "metadata": {},
   "outputs": [],
   "source": [
    "columns = ['sponsor', 'num_of_bills']\n",
    "sponsor_counts = pd.DataFrame(data.sponsor.value_counts()).reset_index()\n",
    "sponsor_counts.columns = columns"
   ]
  },
  {
   "cell_type": "code",
   "execution_count": null,
   "metadata": {},
   "outputs": [],
   "source": [
    "len(sponsor_counts)"
   ]
  },
  {
   "cell_type": "code",
   "execution_count": null,
   "metadata": {},
   "outputs": [],
   "source": [
    "x = np.arange(len(sponsor_counts))"
   ]
  },
  {
   "cell_type": "code",
   "execution_count": null,
   "metadata": {},
   "outputs": [],
   "source": [
    "sponsor_counts.describe()"
   ]
  },
  {
   "cell_type": "code",
   "execution_count": null,
   "metadata": {},
   "outputs": [],
   "source": [
    "sponsor_counts.head()"
   ]
  },
  {
   "cell_type": "code",
   "execution_count": null,
   "metadata": {},
   "outputs": [],
   "source": []
  }
 ],
 "metadata": {
  "kernelspec": {
   "display_name": "Python 3",
   "language": "python",
   "name": "python3"
  },
  "language_info": {
   "codemirror_mode": {
    "name": "ipython",
    "version": 3
   },
   "file_extension": ".py",
   "mimetype": "text/x-python",
   "name": "python",
   "nbconvert_exporter": "python",
   "pygments_lexer": "ipython3",
   "version": "3.7.1"
  }
 },
 "nbformat": 4,
 "nbformat_minor": 2
}
