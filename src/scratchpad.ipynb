{
 "cells": [
  {
   "cell_type": "code",
   "execution_count": 1,
   "metadata": {},
   "outputs": [],
   "source": [
    "from pymongo import MongoClient\n",
    "from datetime import date"
   ]
  },
  {
   "cell_type": "code",
   "execution_count": 2,
   "metadata": {},
   "outputs": [],
   "source": [
    "client = MongoClient()\n",
    "db = client.bills\n",
    "bill_info = db.bill_info\n",
    "predictions = db.predictions\n",
    "prev_predictions = db.prev_predictions\n"
   ]
  },
  {
   "cell_type": "code",
   "execution_count": 3,
   "metadata": {},
   "outputs": [],
   "source": [
    "prev = prev_predictions.find()"
   ]
  },
  {
   "cell_type": "code",
   "execution_count": 6,
   "metadata": {},
   "outputs": [
    {
     "data": {
      "text/plain": [
       "{'_id': ObjectId('5c377f011417de079ba6b36f'),\n",
       " 'bill_status': 'Introduced',\n",
       " 'bill_text': \"Making appropriations for Federal employees working during the Government shutdown beginning on or about December 22, 2018, and for other purposes. Be it enacted by the Senate and House of Representatives of the United States of America in Congress assembled, SECTION 1. SHORT TITLE. This Act may be cited as the ``No Work Without Pay Act''. SEC. 2. PAYMENT OF SALARIES OF EXCEPTED GOVERNMENT EMPLOYEES. There are appropriated, out of any money in the Treasury not otherwise appropriated, such sums as are necessary to pay, during the period of a lapse in discretionary appropriations beginning on or about December 22, 2018, the salaries and expenses of any officer or employee of the Federal Government who is excepted from the furlough resulting from such lapse. <all>\",\n",
       " 'body': \"[Congressional Bills 116th Congress] [From the U.S. Government Publishing Office] [H.R. 271 Introduced in House (IH)] <DOC> 116th CONGRESS 1st Session H. R. 271 Making appropriations for Federal employees working during the Government shutdown beginning on or about December 22, 2018, and for other purposes. _______________________________________________________________________ IN THE HOUSE OF REPRESENTATIVES January 8, 2019 Mr. Brooks of Alabama (for himself and Mr. Posey) introduced the following bill; which was referred to the Committee on Appropriations _______________________________________________________________________ A BILL Making appropriations for Federal employees working during the Government shutdown beginning on or about December 22, 2018, and for other purposes. Be it enacted by the Senate and House of Representatives of the United States of America in Congress assembled, SECTION 1. SHORT TITLE. This Act may be cited as the ``No Work Without Pay Act''. SEC. 2. PAYMENT OF SALARIES OF EXCEPTED GOVERNMENT EMPLOYEES. There are appropriated, out of any money in the Treasury not otherwise appropriated, such sums as are necessary to pay, during the period of a lapse in discretionary appropriations beginning on or about December 22, 2018, the salaries and expenses of any officer or employee of the Federal Government who is excepted from the furlough resulting from such lapse. <all>\",\n",
       " 'committee': 'House - Appropriations',\n",
       " 'congress_id': '116',\n",
       " 'cosponsors': None,\n",
       " 'cosponsors_url': 'https://www.congress.gov/bill/116th-congress/house-bill/271/cosponsors?s=1&r=85&overview=closed#tabs',\n",
       " 'desc': 'Making appropriations for Federal employees working during the Government shutdown beginning on or about December 22, 2018, and for other purposes.',\n",
       " 'intro_date': '01/08/2019',\n",
       " 'leg_id': 'H R 271',\n",
       " 'leg_type': 'BILL',\n",
       " 'leg_url': 'https://www.congress.gov/bill/116th-congress/house-bill/271?s=1&r=85',\n",
       " 'num_of_amendments': 0,\n",
       " 'num_of_cosponsors': 1,\n",
       " 'sponsor': 'Brooks, Mo',\n",
       " 'sponsor_district': '5',\n",
       " 'sponsor_party': 'R',\n",
       " 'sponsor_state': 'AL',\n",
       " 'bill_char_counts': 771,\n",
       " 'intro_month': 1,\n",
       " 'intro_year': 2019,\n",
       " 'session': 1,\n",
       " 'char_count_bucket': 'less than 1000',\n",
       " 'labels': 'in_progress',\n",
       " 'nlp_pred_proba': 0.05664,\n",
       " 'num_pred_proba': 0.05,\n",
       " 'pred_proba': 0.05332,\n",
       " 'pred_date': '01/10/2019'}"
      ]
     },
     "execution_count": 6,
     "metadata": {},
     "output_type": "execute_result"
    }
   ],
   "source": [
    "prev[1]"
   ]
  },
  {
   "cell_type": "code",
   "execution_count": 7,
   "metadata": {},
   "outputs": [],
   "source": [
    "leg_id = 'H R 271'\n",
    "cong_id = '116'"
   ]
  },
  {
   "cell_type": "code",
   "execution_count": 8,
   "metadata": {},
   "outputs": [
    {
     "name": "stdout",
     "output_type": "stream",
     "text": [
      "H R 271\n",
      "\tBill Status in database: Introduced\n"
     ]
    }
   ],
   "source": [
    "docs = bill_info.find({'leg_id': leg_id, 'congress_id': cong_id})\n",
    "\n",
    "for doc in docs:\n",
    "    print(doc['leg_id'])\n",
    "    print('\\tBill Status in database: {}'.format(doc['bill_status']))"
   ]
  },
  {
   "cell_type": "code",
   "execution_count": 9,
   "metadata": {},
   "outputs": [
    {
     "name": "stdout",
     "output_type": "stream",
     "text": [
      "-------------------\n",
      "H R 271 Current Predictions\n",
      "\tDate: 01/11/2019\n",
      "\t\tNLP Prediction:\t\t0.05664\n",
      "\t\tNumerical Prediction:\t0.05\n",
      "\t\t\tCombined Prediction:\t0.05332\n"
     ]
    }
   ],
   "source": [
    "print('-------------------')\n",
    "new = predictions.find({'leg_id': leg_id, 'congress_id': cong_id})\n",
    "for n in new:\n",
    "    print('{} Current Predictions'.format(n['leg_id']))\n",
    "    print('\\tDate: {}'.format(n['pred_date']))\n",
    "    print('\\t\\tNLP Prediction:\\t\\t{}'.format(n['nlp_pred_proba']))\n",
    "    print('\\t\\tNumerical Prediction:\\t{}'.format(n['num_pred_proba']))\n",
    "    print('\\t\\t\\tCombined Prediction:\\t{}'.format(n['pred_proba']))"
   ]
  },
  {
   "cell_type": "code",
   "execution_count": 13,
   "metadata": {},
   "outputs": [
    {
     "name": "stdout",
     "output_type": "stream",
     "text": [
      "-------------------\n",
      "H R 271 Previous Predictions\n",
      "\tDate: 01/10/2019\n",
      "\t\tNLP Prediction:\t\t0.05664\n",
      "\t\tNumerical Prediction:\t0.05\n",
      "\t\t\tCombined Prediction:\t0.05332\n",
      "H R 271 Previous Predictions\n",
      "\tDate: 01/08/2019\n",
      "\t\t\tOld Prediction:\t\t0.05664\n"
     ]
    }
   ],
   "source": [
    "print('-------------------')\n",
    "prev = prev_predictions.find({'leg_id': leg_id, 'congress_id': cong_id})\n",
    "\n",
    "# keep track of leg_id and it's corresponding list of tracked probabilities\n",
    "leg_id_list = []\n",
    "prob_track_list = []\n",
    "\n",
    "for n in prev:\n",
    "    leg_id_list.append(n['leg_id'])\n",
    "    \n",
    "    print('{} Previous Predictions'.format(n['leg_id']))\n",
    "    if 'pred_date' in n.keys():\n",
    "        pred_date = n['pred_date']\n",
    "        print('\\tDate: {}'.format(pred_date))\n",
    "    else: \n",
    "        pred_date = '01/08/2019'\n",
    "        print('\\tDate: 01/08/2019')\n",
    "        \n",
    "    if 'nlp_pred_proba' in n.keys():\n",
    "        nlp_pp = n['nlp_pred_proba']\n",
    "        print('\\t\\tNLP Prediction:\\t\\t{}'.format(nlp_pp))\n",
    "    else:\n",
    "        nlp_pp = None\n",
    "        \n",
    "    if 'num_pred_proba' in n.keys():\n",
    "        num_pp = n['num_pred_proba']\n",
    "        print('\\t\\tNumerical Prediction:\\t{}'.format(num_pp))\n",
    "    else:\n",
    "        num_pp = None\n",
    "        \n",
    "    if 'pred_proba' in n.keys():\n",
    "        pp = n['pred_proba']\n",
    "        print('\\t\\t\\tCombined Prediction:\\t{}'.format(pp))\n",
    "    else:\n",
    "        print('\\t\\t\\tOld Prediction:\\t\\t{}'.format(n['probability']))\n",
    "        \n",
    "    prob_track_list.append([pred_date, nlp_pp, num_pp, pp])\n"
   ]
  },
  {
   "cell_type": "code",
   "execution_count": 14,
   "metadata": {},
   "outputs": [
    {
     "data": {
      "text/plain": [
       "['H R 271', 'H R 271']"
      ]
     },
     "execution_count": 14,
     "metadata": {},
     "output_type": "execute_result"
    }
   ],
   "source": [
    "leg_id_list"
   ]
  },
  {
   "cell_type": "code",
   "execution_count": 15,
   "metadata": {},
   "outputs": [
    {
     "data": {
      "text/plain": [
       "[['01/10/2019', 0.05664, 0.05, 0.05332], ['01/08/2019', None, None, 0.05332]]"
      ]
     },
     "execution_count": 15,
     "metadata": {},
     "output_type": "execute_result"
    }
   ],
   "source": [
    "prob_track_list"
   ]
  },
  {
   "cell_type": "code",
   "execution_count": 17,
   "metadata": {},
   "outputs": [
    {
     "data": {
      "text/plain": [
       "['01/10/2019', 0.05664, 0.05, 0.05332]"
      ]
     },
     "execution_count": 17,
     "metadata": {},
     "output_type": "execute_result"
    }
   ],
   "source": [
    "prob_track_list[0]"
   ]
  },
  {
   "cell_type": "code",
   "execution_count": 19,
   "metadata": {},
   "outputs": [],
   "source": [
    "date_range = []\n",
    "nlp_probs = []\n",
    "num_probs = []\n",
    "combined_probs = []\n",
    "\n",
    "for p in prob_track_list:\n",
    "    date_range.append(p[0])\n",
    "    nlp_probs.append(p[1])\n",
    "    num_probs.append(p[2])\n",
    "    combined_probs.append(p[3])\n",
    "    "
   ]
  },
  {
   "cell_type": "code",
   "execution_count": null,
   "metadata": {},
   "outputs": [],
   "source": []
  }
 ],
 "metadata": {
  "kernelspec": {
   "display_name": "Python 3",
   "language": "python",
   "name": "python3"
  },
  "language_info": {
   "codemirror_mode": {
    "name": "ipython",
    "version": 3
   },
   "file_extension": ".py",
   "mimetype": "text/x-python",
   "name": "python",
   "nbconvert_exporter": "python",
   "pygments_lexer": "ipython3",
   "version": "3.7.1"
  }
 },
 "nbformat": 4,
 "nbformat_minor": 2
}
