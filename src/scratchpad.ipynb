{
 "cells": [
  {
   "cell_type": "code",
   "execution_count": 28,
   "metadata": {},
   "outputs": [],
   "source": [
    "from pymongo import MongoClient\n",
    "from datetime import date"
   ]
  },
  {
   "cell_type": "code",
   "execution_count": 2,
   "metadata": {},
   "outputs": [],
   "source": [
    "client = MongoClient()\n",
    "db = client.bills\n",
    "bill_info = db.bill_info\n",
    "predictions = db.predictions\n",
    "prev_predictions = db.prev_predictions\n"
   ]
  },
  {
   "cell_type": "code",
   "execution_count": 3,
   "metadata": {},
   "outputs": [],
   "source": [
    "leg_id = 'H R 21'\n",
    "cong_id = '116'"
   ]
  },
  {
   "cell_type": "code",
   "execution_count": 4,
   "metadata": {},
   "outputs": [
    {
     "name": "stdout",
     "output_type": "stream",
     "text": [
      "H R 21\n",
      "\tBill Status in database: Passed House\n"
     ]
    }
   ],
   "source": [
    "docs = bill_info.find({'leg_id': leg_id, 'congress_id': cong_id})\n",
    "\n",
    "for doc in docs:\n",
    "    print(doc['leg_id'])\n",
    "    print('\\tBill Status in database: {}'.format(doc['bill_status']))"
   ]
  },
  {
   "cell_type": "code",
   "execution_count": 26,
   "metadata": {},
   "outputs": [
    {
     "name": "stdout",
     "output_type": "stream",
     "text": [
      "-------------------\n",
      "H R 21 Current Predictions\n",
      "\tDate: 01/11/2019\n",
      "\t\tNLP Prediction:\t\t0.26712\n",
      "\t\tNumerical Prediction:\t0.82674\n",
      "\t\t\tCombined Prediction:\t0.54693\n"
     ]
    }
   ],
   "source": [
    "print('-------------------')\n",
    "new = predictions.find({'leg_id': leg_id, 'congress_id': cong_id})\n",
    "for n in new:\n",
    "    print('{} Current Predictions'.format(n['leg_id']))\n",
    "    print('\\tDate: {}'.format(n['pred_date']))\n",
    "    print('\\t\\tNLP Prediction:\\t\\t{}'.format(n['nlp_pred_proba']))\n",
    "    print('\\t\\tNumerical Prediction:\\t{}'.format(n['num_pred_proba']))\n",
    "    print('\\t\\t\\tCombined Prediction:\\t{}'.format(n['pred_proba']))"
   ]
  },
  {
   "cell_type": "code",
   "execution_count": 41,
   "metadata": {},
   "outputs": [
    {
     "name": "stdout",
     "output_type": "stream",
     "text": [
      "-------------------\n",
      "H R 21 Previous Predictions\n",
      "\tDate: 01/10/2019\n",
      "\t\tNLP Prediction:\t\t0.26712\n",
      "\t\tNumerical Prediction:\t0.82674\n",
      "\t\t\tCombined Prediction:\t0.54693\n",
      "H R 21 Previous Predictions\n",
      "\tDate: 01/08/2019\n",
      "\t\t\tOld Prediction:\t\t0.26712\n"
     ]
    }
   ],
   "source": [
    "print('-------------------')\n",
    "prev = prev_predictions.find({'leg_id': leg_id, 'congress_id': cong_id})\n",
    "for n in prev:\n",
    "    print('{} Previous Predictions'.format(n['leg_id']))\n",
    "    if 'pred_date' in n.keys():\n",
    "        print('\\tDate: {}'.format(n['pred_date']))\n",
    "    else: \n",
    "        print('\\tDate: 01/08/2019')\n",
    "        \n",
    "    if 'nlp_pred_proba' in n.keys():\n",
    "        print('\\t\\tNLP Prediction:\\t\\t{}'.format(n['nlp_pred_proba']))\n",
    "    if 'num_pred_proba' in n.keys():\n",
    "        print('\\t\\tNumerical Prediction:\\t{}'.format(n['num_pred_proba']))\n",
    "    if 'pred_proba' in n.keys():\n",
    "        print('\\t\\t\\tCombined Prediction:\\t{}'.format(n['pred_proba']))\n",
    "    if 'probability' in n.keys():\n",
    "        print('\\t\\t\\tOld Prediction:\\t\\t{}'.format(n['probability']))\n"
   ]
  },
  {
   "cell_type": "code",
   "execution_count": 38,
   "metadata": {},
   "outputs": [
    {
     "data": {
      "text/plain": [
       "'2019-01-11'"
      ]
     },
     "execution_count": 38,
     "metadata": {},
     "output_type": "execute_result"
    }
   ],
   "source": [
    "date.today().isoformat()"
   ]
  },
  {
   "cell_type": "code",
   "execution_count": null,
   "metadata": {},
   "outputs": [],
   "source": []
  }
 ],
 "metadata": {
  "kernelspec": {
   "display_name": "Python 3",
   "language": "python",
   "name": "python3"
  },
  "language_info": {
   "codemirror_mode": {
    "name": "ipython",
    "version": 3
   },
   "file_extension": ".py",
   "mimetype": "text/x-python",
   "name": "python",
   "nbconvert_exporter": "python",
   "pygments_lexer": "ipython3",
   "version": "3.7.1"
  }
 },
 "nbformat": 4,
 "nbformat_minor": 2
}
