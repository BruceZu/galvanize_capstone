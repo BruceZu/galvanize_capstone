{
 "cells": [
  {
   "cell_type": "code",
   "execution_count": 1,
   "metadata": {},
   "outputs": [],
   "source": [
    "from pymongo import MongoClient\n",
    "import pandas as pd\n",
    "import numpy as np\n",
    "from my_tools import get_bill_data, process_corpus\n",
    "import matplotlib.pyplot as plt"
   ]
  },
  {
   "cell_type": "code",
   "execution_count": 5,
   "metadata": {},
   "outputs": [
    {
     "name": "stdout",
     "output_type": "stream",
     "text": [
      "Number of documents in database:\t63348\n",
      "Documents with bill text:\t\t63338\n",
      "Documents without bill text:\t\t10\n",
      "Documents with amend count:\t\t49123\n",
      "Documents without amend count:\t\t14225\n"
     ]
    }
   ],
   "source": [
    "client = MongoClient()\n",
    "db = client.bills\n",
    "bill_info = db.bill_info\n",
    "\n",
    "# monitoring progress of data into Mongo\n",
    "print('Number of documents in database:\\t{}'.format(bill_info.count_documents({})))\n",
    "\n",
    "records_with_text = bill_info.count_documents({'body': {'$regex': '(.+)'}})\n",
    "print('Documents with bill text:\\t\\t{}'.format(records_with_text))\n",
    "\n",
    "records_wo_text = bill_info.count_documents({'body': None})\n",
    "print('Documents without bill text:\\t\\t{}'.format(records_wo_text))\n",
    "\n",
    "records_with_amend_count = bill_info.count_documents({'num_of_amendments': {'$regex': '(.+)'}})\n",
    "print('Documents with amend count:\\t\\t{}'.format(records_with_amend_count))\n",
    "\n",
    "records_wo_amend_count = bill_info.count_documents({'num_of_amendments': None})\n",
    "print('Documents without amend count:\\t\\t{}'.format(records_wo_amend_count))\n"
   ]
  },
  {
   "cell_type": "code",
   "execution_count": 3,
   "metadata": {
    "scrolled": true
   },
   "outputs": [
    {
     "name": "stdout",
     "output_type": "stream",
     "text": [
      "------------------\n",
      "------------------\n",
      "Data includes bills, joints resolutions, and laws with text from the 110th Congress (2007) to present\n",
      "Make changes in my_tools.get_bill_data to modify the data set.\n",
      "------------------\n"
     ]
    },
    {
     "data": {
      "text/html": [
       "<div>\n",
       "<style scoped>\n",
       "    .dataframe tbody tr th:only-of-type {\n",
       "        vertical-align: middle;\n",
       "    }\n",
       "\n",
       "    .dataframe tbody tr th {\n",
       "        vertical-align: top;\n",
       "    }\n",
       "\n",
       "    .dataframe thead th {\n",
       "        text-align: right;\n",
       "    }\n",
       "</style>\n",
       "<table border=\"1\" class=\"dataframe\">\n",
       "  <thead>\n",
       "    <tr style=\"text-align: right;\">\n",
       "      <th></th>\n",
       "      <th>num_of_cosponsors</th>\n",
       "      <th>bill_char_counts</th>\n",
       "      <th>intro_month</th>\n",
       "      <th>session</th>\n",
       "    </tr>\n",
       "  </thead>\n",
       "  <tbody>\n",
       "    <tr>\n",
       "      <th>count</th>\n",
       "      <td>52366.000000</td>\n",
       "      <td>5.236600e+04</td>\n",
       "      <td>52366.000000</td>\n",
       "      <td>52366.000000</td>\n",
       "    </tr>\n",
       "    <tr>\n",
       "      <th>mean</th>\n",
       "      <td>12.265057</td>\n",
       "      <td>1.598159e+04</td>\n",
       "      <td>5.520643</td>\n",
       "      <td>1.612134</td>\n",
       "    </tr>\n",
       "    <tr>\n",
       "      <th>std</th>\n",
       "      <td>29.226650</td>\n",
       "      <td>7.220081e+04</td>\n",
       "      <td>3.265627</td>\n",
       "      <td>0.487268</td>\n",
       "    </tr>\n",
       "    <tr>\n",
       "      <th>min</th>\n",
       "      <td>0.000000</td>\n",
       "      <td>4.320000e+02</td>\n",
       "      <td>1.000000</td>\n",
       "      <td>1.000000</td>\n",
       "    </tr>\n",
       "    <tr>\n",
       "      <th>25%</th>\n",
       "      <td>0.000000</td>\n",
       "      <td>2.181000e+03</td>\n",
       "      <td>3.000000</td>\n",
       "      <td>1.000000</td>\n",
       "    </tr>\n",
       "    <tr>\n",
       "      <th>50%</th>\n",
       "      <td>2.000000</td>\n",
       "      <td>4.495500e+03</td>\n",
       "      <td>5.000000</td>\n",
       "      <td>2.000000</td>\n",
       "    </tr>\n",
       "    <tr>\n",
       "      <th>75%</th>\n",
       "      <td>11.000000</td>\n",
       "      <td>1.099750e+04</td>\n",
       "      <td>8.000000</td>\n",
       "      <td>2.000000</td>\n",
       "    </tr>\n",
       "    <tr>\n",
       "      <th>max</th>\n",
       "      <td>432.000000</td>\n",
       "      <td>2.758251e+06</td>\n",
       "      <td>12.000000</td>\n",
       "      <td>2.000000</td>\n",
       "    </tr>\n",
       "  </tbody>\n",
       "</table>\n",
       "</div>"
      ],
      "text/plain": [
       "       num_of_cosponsors  bill_char_counts   intro_month       session\n",
       "count       52366.000000      5.236600e+04  52366.000000  52366.000000\n",
       "mean           12.265057      1.598159e+04      5.520643      1.612134\n",
       "std            29.226650      7.220081e+04      3.265627      0.487268\n",
       "min             0.000000      4.320000e+02      1.000000      1.000000\n",
       "25%             0.000000      2.181000e+03      3.000000      1.000000\n",
       "50%             2.000000      4.495500e+03      5.000000      2.000000\n",
       "75%            11.000000      1.099750e+04      8.000000      2.000000\n",
       "max           432.000000      2.758251e+06     12.000000      2.000000"
      ]
     },
     "execution_count": 3,
     "metadata": {},
     "output_type": "execute_result"
    }
   ],
   "source": [
    "data = get_bill_data()\n",
    "\n",
    "data.describe()"
   ]
  },
  {
   "cell_type": "code",
   "execution_count": null,
   "metadata": {},
   "outputs": [],
   "source": [
    "# get mongoo data and convert mongo query resuls to dataframe\n",
    "# need to execute query (.find) everytime i refer to it?\n",
    "records_with_text = bill_info.find({'body': {'$regex': '(.+)'}})\n",
    "data = pd.DataFrame(list(records_with_text))\n"
   ]
  },
  {
   "cell_type": "code",
   "execution_count": null,
   "metadata": {},
   "outputs": [],
   "source": [
    "data.shape"
   ]
  },
  {
   "cell_type": "code",
   "execution_count": null,
   "metadata": {},
   "outputs": [],
   "source": [
    "data.head()"
   ]
  },
  {
   "cell_type": "code",
   "execution_count": null,
   "metadata": {},
   "outputs": [],
   "source": [
    "data.describe()"
   ]
  },
  {
   "cell_type": "code",
   "execution_count": null,
   "metadata": {},
   "outputs": [],
   "source": [
    "# DATA CLEANUP\n",
    "# filter out simple resolutions, concurrent resolutions, and amendments (for prelim model)\n",
    "data = data[(data['leg_type'] != 'RESOLUTION') & (data['leg_type'] != 'CONCURRENT RESOLUTION') & (data['leg_type'] != 'AMENDMENT')].copy()\n"
   ]
  },
  {
   "cell_type": "code",
   "execution_count": null,
   "metadata": {},
   "outputs": [],
   "source": [
    "data.shape"
   ]
  },
  {
   "cell_type": "code",
   "execution_count": null,
   "metadata": {},
   "outputs": [],
   "source": [
    "# create column for character counts of the bill text\n",
    "bill_lengths = list(map(lambda x: len(x), data['body']))\n",
    "data['bill_char_counts'] = bill_lengths\n"
   ]
  },
  {
   "cell_type": "code",
   "execution_count": null,
   "metadata": {},
   "outputs": [],
   "source": [
    "import datetime\n",
    "# convert date column to type datetime\n",
    "data['intro_date'] = data['intro_date'].apply(lambda x: datetime.datetime.strptime(x[:10], '%m/%d/%Y'))"
   ]
  },
  {
   "cell_type": "code",
   "execution_count": null,
   "metadata": {},
   "outputs": [],
   "source": [
    "\n",
    "# strip out month from intro date\n",
    "data['intro_month'] = data['intro_date'].apply(lambda x: x.month)\n",
    "\n",
    "# get session from year (odd years are Session 1, even years are Session 2)\n",
    "data['session'] = data['congress_id'].apply(lambda x: 2 if int(x[:3])%2 == 0 else 1)\n",
    "\n",
    "# filter out non-numeric num_of_cosponsors: S. Rept. 110-184, TXT, All Actions\n",
    "data = data[(data['num_of_cosponsors'] != 'S. Rept. 110-184') &\n",
    "           (data['num_of_cosponsors'] != 'TXT') &\n",
    "           (data['num_of_cosponsors'] != 'All Actions')].copy()\n",
    "\n",
    "# convert num_of_cosponsors to numeric\n",
    "data['num_of_cosponsors'] = data['num_of_cosponsors'].apply(pd.to_numeric)"
   ]
  },
  {
   "cell_type": "code",
   "execution_count": null,
   "metadata": {},
   "outputs": [],
   "source": [
    "data.shape"
   ]
  },
  {
   "cell_type": "code",
   "execution_count": null,
   "metadata": {},
   "outputs": [],
   "source": [
    "# create column for getting char_counts into buckets\n",
    "data['char_count_bucket'] = None\n",
    "\n",
    "d_0 = data[data['bill_char_counts'] <= 1000].copy()\n",
    "d_1000 = data[(data['bill_char_counts'] > 1000) & (data['bill_char_counts'] <= 2000)].copy()\n",
    "d_2000 = data[(data['bill_char_counts'] > 2000) & (data['bill_char_counts'] <= 3000)].copy()\n",
    "d_3000 = data[(data['bill_char_counts'] > 3000) & (data['bill_char_counts'] <= 4000)].copy()\n",
    "d_4000 = data[(data['bill_char_counts'] > 4000) & (data['bill_char_counts'] <= 5000)].copy()\n",
    "d_5000 = data[(data['bill_char_counts'] > 5000) & (data['bill_char_counts'] <= 6000)].copy()\n",
    "d_6000 = data[(data['bill_char_counts'] > 6000) & (data['bill_char_counts'] <= 7000)].copy()\n",
    "d_7000 = data[(data['bill_char_counts'] > 7000) & (data['bill_char_counts'] <= 8000)].copy()\n",
    "d_8000 = data[(data['bill_char_counts'] > 8000) & (data['bill_char_counts'] <= 9000)].copy()\n",
    "d_9000 = data[(data['bill_char_counts'] > 9000) & (data['bill_char_counts'] <= 10000)].copy()\n",
    "d_10000 = data[data['bill_char_counts'] > 10000].copy()\n",
    "\n",
    "\n",
    "d_0['char_count_bucket'] = 'less than 1000'\n",
    "d_1000['char_count_bucket'] = '1001 - 2000'\n",
    "d_2000['char_count_bucket'] = '2001 - 3000'\n",
    "d_3000['char_count_bucket'] = '3001 - 4000'\n",
    "d_4000['char_count_bucket'] = '4001 - 5000'\n",
    "d_5000['char_count_bucket'] = '5001 - 6000'\n",
    "d_6000['char_count_bucket'] = '6001 - 7000'\n",
    "d_7000['char_count_bucket'] = '7001 - 8000'\n",
    "d_8000['char_count_bucket'] = '8001 - 9000'\n",
    "d_9000['char_count_bucket'] = '9001 - 10000'\n",
    "d_10000['char_count_bucket'] = 'greater than 10000'\n",
    "\n",
    "data = pd.concat([d_0, d_1000, d_2000, d_3000, d_4000, d_5000, \n",
    "                  d_6000, d_7000, d_8000, d_9000, d_10000])\n"
   ]
  },
  {
   "cell_type": "code",
   "execution_count": null,
   "metadata": {},
   "outputs": [],
   "source": [
    "data.shape"
   ]
  },
  {
   "cell_type": "code",
   "execution_count": null,
   "metadata": {},
   "outputs": [],
   "source": [
    "\n",
    "# LABELING\n",
    "# break up dataframe into those that became law and others (did not or still pending)\n",
    "became_law = data[(data['bill_status'] == 'Became Law') | (data['bill_status'] == 'Became Private Law')].copy()\n",
    "others = data[(data['bill_status'] != 'Became Law') & (data['bill_status'] != 'Became Private Law')].copy()\n",
    "\n",
    "became_law.loc[:, 'labels'] = 1\n"
   ]
  },
  {
   "cell_type": "code",
   "execution_count": null,
   "metadata": {},
   "outputs": [],
   "source": [
    "print(became_law.shape, others.shape)"
   ]
  },
  {
   "cell_type": "code",
   "execution_count": null,
   "metadata": {},
   "outputs": [],
   "source": [
    "# break up others into current congress and previous ones. Anything that hasn't been signed into law\n",
    "# before current session is dead. Currently, all bills vetoed by the president come from previous congresses\n",
    "current_cong = others[others['congress_id'] == '115'].copy()\n",
    "prev_cong = others[others['congress_id'] != '115'].copy()\n",
    "\n",
    "prev_cong.loc[:, 'labels'] = 0\n",
    "\n",
    "print(current_cong.shape, prev_cong.shape)"
   ]
  },
  {
   "cell_type": "code",
   "execution_count": null,
   "metadata": {},
   "outputs": [],
   "source": [
    "# let's label To President and Resolving Differences with 1. Everything else is on the floor\n",
    "to_pres = current_cong[(current_cong['bill_status'] == 'To President') | (current_cong['bill_status'] == 'Resolving Differences')].copy()\n",
    "on_floor = current_cong[(current_cong['bill_status'] != 'To President') & (current_cong['bill_status'] != 'Resolving Differences')].copy()\n",
    "\n",
    "to_pres.loc[:, 'labels'] = 1\n",
    "\n",
    "print(to_pres.shape, on_floor.shape)\n"
   ]
  },
  {
   "cell_type": "code",
   "execution_count": null,
   "metadata": {},
   "outputs": [],
   "source": []
  }
 ],
 "metadata": {
  "kernelspec": {
   "display_name": "Python 3",
   "language": "python",
   "name": "python3"
  },
  "language_info": {
   "codemirror_mode": {
    "name": "ipython",
    "version": 3
   },
   "file_extension": ".py",
   "mimetype": "text/x-python",
   "name": "python",
   "nbconvert_exporter": "python",
   "pygments_lexer": "ipython3",
   "version": "3.7.1"
  }
 },
 "nbformat": 4,
 "nbformat_minor": 2
}
