{
 "cells": [
  {
   "cell_type": "code",
   "execution_count": 28,
   "metadata": {},
   "outputs": [],
   "source": [
    "import pandas as pd\n",
    "import numpy as np\n",
    "from my_tools import get_bill_data, process_corpus\n",
    "import matplotlib.pyplot as plt"
   ]
  },
  {
   "cell_type": "code",
   "execution_count": 2,
   "metadata": {},
   "outputs": [
    {
     "name": "stdout",
     "output_type": "stream",
     "text": [
      "------------------\n",
      "------------------\n",
      "Data is that with text from the 110th Congress (2007) to present\n",
      "Alter masking in my_tools.get_bill_data to get a different data set.\n",
      "------------------\n"
     ]
    }
   ],
   "source": [
    "data = get_bill_data()\n",
    "\n",
    "data.describe()"
   ]
  },
  {
   "cell_type": "code",
   "execution_count": 33,
   "metadata": {},
   "outputs": [
    {
     "data": {
      "text/html": [
       "<div>\n",
       "<style scoped>\n",
       "    .dataframe tbody tr th:only-of-type {\n",
       "        vertical-align: middle;\n",
       "    }\n",
       "\n",
       "    .dataframe tbody tr th {\n",
       "        vertical-align: top;\n",
       "    }\n",
       "\n",
       "    .dataframe thead th {\n",
       "        text-align: right;\n",
       "    }\n",
       "</style>\n",
       "<table border=\"1\" class=\"dataframe\">\n",
       "  <thead>\n",
       "    <tr style=\"text-align: right;\">\n",
       "      <th></th>\n",
       "      <th>_id</th>\n",
       "      <th>bill_status</th>\n",
       "      <th>body</th>\n",
       "      <th>committee</th>\n",
       "      <th>congress_id</th>\n",
       "      <th>cosponsors</th>\n",
       "      <th>cosponsors_url</th>\n",
       "      <th>desc</th>\n",
       "      <th>intro_date</th>\n",
       "      <th>leg_id</th>\n",
       "      <th>...</th>\n",
       "      <th>num_of_cosponsors</th>\n",
       "      <th>sponsor</th>\n",
       "      <th>sponsor_district</th>\n",
       "      <th>sponsor_party</th>\n",
       "      <th>sponsor_state</th>\n",
       "      <th>bill_char_counts</th>\n",
       "      <th>intro_month</th>\n",
       "      <th>session</th>\n",
       "      <th>char_count_bucket</th>\n",
       "      <th>labels</th>\n",
       "    </tr>\n",
       "  </thead>\n",
       "  <tbody>\n",
       "    <tr>\n",
       "      <th>0</th>\n",
       "      <td>5c182d561417de23a8260f58</td>\n",
       "      <td>Became Law</td>\n",
       "      <td>[110th Congress Public Law 180] [From the U.S....</td>\n",
       "      <td>House - Judiciary | Senate - Judiciary</td>\n",
       "      <td>110th</td>\n",
       "      <td>None</td>\n",
       "      <td>https://www.congress.gov/bill/110th-congress/h...</td>\n",
       "      <td>NICS Improvement Amendments Act of 2007</td>\n",
       "      <td>2007-06-11</td>\n",
       "      <td>H R 2640</td>\n",
       "      <td>...</td>\n",
       "      <td>17</td>\n",
       "      <td>Rep. McCarthy, Carolyn</td>\n",
       "      <td>4</td>\n",
       "      <td>D</td>\n",
       "      <td>NY</td>\n",
       "      <td>432</td>\n",
       "      <td>6</td>\n",
       "      <td>2</td>\n",
       "      <td>less than 1000</td>\n",
       "      <td>1</td>\n",
       "    </tr>\n",
       "    <tr>\n",
       "      <th>1</th>\n",
       "      <td>5c182d561417de23a8261074</td>\n",
       "      <td>Became Law</td>\n",
       "      <td>[110th Congress Public Law 239] [From the U.S....</td>\n",
       "      <td>House - Judiciary | Senate - Judiciary</td>\n",
       "      <td>110th</td>\n",
       "      <td>None</td>\n",
       "      <td>https://www.congress.gov/bill/110th-congress/h...</td>\n",
       "      <td>To amend title 4, United States Code, to encou...</td>\n",
       "      <td>2007-05-17</td>\n",
       "      <td>H R 2356</td>\n",
       "      <td>...</td>\n",
       "      <td>1</td>\n",
       "      <td>Rep. Scott, David</td>\n",
       "      <td>13</td>\n",
       "      <td>D</td>\n",
       "      <td>GA</td>\n",
       "      <td>924</td>\n",
       "      <td>5</td>\n",
       "      <td>2</td>\n",
       "      <td>less than 1000</td>\n",
       "      <td>1</td>\n",
       "    </tr>\n",
       "    <tr>\n",
       "      <th>2</th>\n",
       "      <td>5c182d571417de23a82619aa</td>\n",
       "      <td>Became Law</td>\n",
       "      <td>[110th Congress Public Law 137] [From the U.S....</td>\n",
       "      <td>House - Appropriations</td>\n",
       "      <td>110th</td>\n",
       "      <td>None</td>\n",
       "      <td>None</td>\n",
       "      <td>Making further continuing appropriations for t...</td>\n",
       "      <td>2007-12-12</td>\n",
       "      <td>H J Res 69</td>\n",
       "      <td>...</td>\n",
       "      <td>0</td>\n",
       "      <td>Rep. Obey, David R.</td>\n",
       "      <td>7</td>\n",
       "      <td>D</td>\n",
       "      <td>WI</td>\n",
       "      <td>797</td>\n",
       "      <td>12</td>\n",
       "      <td>2</td>\n",
       "      <td>less than 1000</td>\n",
       "      <td>1</td>\n",
       "    </tr>\n",
       "    <tr>\n",
       "      <th>3</th>\n",
       "      <td>5c182d581417de23a82621c3</td>\n",
       "      <td>Became Law</td>\n",
       "      <td>[110th Congress Public Law 80] [From the U.S. ...</td>\n",
       "      <td>Senate - Agriculture, Nutrition, and Forestry</td>\n",
       "      <td>110th</td>\n",
       "      <td>None</td>\n",
       "      <td>https://www.congress.gov/bill/110th-congress/s...</td>\n",
       "      <td>A bill to amend the U.S. Troop Readiness, Vete...</td>\n",
       "      <td>2007-06-27</td>\n",
       "      <td>S 1716</td>\n",
       "      <td>...</td>\n",
       "      <td>12</td>\n",
       "      <td>Sen. Thune, John</td>\n",
       "      <td>None</td>\n",
       "      <td>R</td>\n",
       "      <td>SD</td>\n",
       "      <td>967</td>\n",
       "      <td>6</td>\n",
       "      <td>2</td>\n",
       "      <td>less than 1000</td>\n",
       "      <td>1</td>\n",
       "    </tr>\n",
       "    <tr>\n",
       "      <th>4</th>\n",
       "      <td>5c182d581417de23a8262651</td>\n",
       "      <td>Became Law</td>\n",
       "      <td>[110th Congress Public Law 201] [From the U.S....</td>\n",
       "      <td>Senate - Homeland Security and Governmental Af...</td>\n",
       "      <td>110th</td>\n",
       "      <td>None</td>\n",
       "      <td>https://www.congress.gov/bill/110th-congress/s...</td>\n",
       "      <td>A bill to preserve existing judgeships on the ...</td>\n",
       "      <td>2007-02-12</td>\n",
       "      <td>S 550</td>\n",
       "      <td>...</td>\n",
       "      <td>2</td>\n",
       "      <td>Sen. Akaka, Daniel K.</td>\n",
       "      <td>None</td>\n",
       "      <td>D</td>\n",
       "      <td>HI</td>\n",
       "      <td>884</td>\n",
       "      <td>2</td>\n",
       "      <td>2</td>\n",
       "      <td>less than 1000</td>\n",
       "      <td>1</td>\n",
       "    </tr>\n",
       "  </tbody>\n",
       "</table>\n",
       "<p>5 rows × 22 columns</p>\n",
       "</div>"
      ],
      "text/plain": [
       "                        _id bill_status  \\\n",
       "0  5c182d561417de23a8260f58  Became Law   \n",
       "1  5c182d561417de23a8261074  Became Law   \n",
       "2  5c182d571417de23a82619aa  Became Law   \n",
       "3  5c182d581417de23a82621c3  Became Law   \n",
       "4  5c182d581417de23a8262651  Became Law   \n",
       "\n",
       "                                                body  \\\n",
       "0  [110th Congress Public Law 180] [From the U.S....   \n",
       "1  [110th Congress Public Law 239] [From the U.S....   \n",
       "2  [110th Congress Public Law 137] [From the U.S....   \n",
       "3  [110th Congress Public Law 80] [From the U.S. ...   \n",
       "4  [110th Congress Public Law 201] [From the U.S....   \n",
       "\n",
       "                                           committee congress_id cosponsors  \\\n",
       "0             House - Judiciary | Senate - Judiciary       110th       None   \n",
       "1             House - Judiciary | Senate - Judiciary       110th       None   \n",
       "2                             House - Appropriations       110th       None   \n",
       "3      Senate - Agriculture, Nutrition, and Forestry       110th       None   \n",
       "4  Senate - Homeland Security and Governmental Af...       110th       None   \n",
       "\n",
       "                                      cosponsors_url  \\\n",
       "0  https://www.congress.gov/bill/110th-congress/h...   \n",
       "1  https://www.congress.gov/bill/110th-congress/h...   \n",
       "2                                               None   \n",
       "3  https://www.congress.gov/bill/110th-congress/s...   \n",
       "4  https://www.congress.gov/bill/110th-congress/s...   \n",
       "\n",
       "                                                desc intro_date      leg_id  \\\n",
       "0            NICS Improvement Amendments Act of 2007 2007-06-11    H R 2640   \n",
       "1  To amend title 4, United States Code, to encou... 2007-05-17    H R 2356   \n",
       "2  Making further continuing appropriations for t... 2007-12-12  H J Res 69   \n",
       "3  A bill to amend the U.S. Troop Readiness, Vete... 2007-06-27      S 1716   \n",
       "4  A bill to preserve existing judgeships on the ... 2007-02-12       S 550   \n",
       "\n",
       "    ...   num_of_cosponsors                 sponsor  sponsor_district  \\\n",
       "0   ...                  17  Rep. McCarthy, Carolyn                 4   \n",
       "1   ...                   1       Rep. Scott, David                13   \n",
       "2   ...                   0     Rep. Obey, David R.                 7   \n",
       "3   ...                  12        Sen. Thune, John              None   \n",
       "4   ...                   2   Sen. Akaka, Daniel K.              None   \n",
       "\n",
       "  sponsor_party sponsor_state bill_char_counts intro_month  session  \\\n",
       "0             D            NY              432           6        2   \n",
       "1             D            GA              924           5        2   \n",
       "2             D            WI              797          12        2   \n",
       "3             R            SD              967           6        2   \n",
       "4             D            HI              884           2        2   \n",
       "\n",
       "   char_count_bucket  labels  \n",
       "0     less than 1000       1  \n",
       "1     less than 1000       1  \n",
       "2     less than 1000       1  \n",
       "3     less than 1000       1  \n",
       "4     less than 1000       1  \n",
       "\n",
       "[5 rows x 22 columns]"
      ]
     },
     "execution_count": 33,
     "metadata": {},
     "output_type": "execute_result"
    }
   ],
   "source": [
    "data.head()"
   ]
  },
  {
   "cell_type": "code",
   "execution_count": 45,
   "metadata": {},
   "outputs": [
    {
     "name": "stdout",
     "output_type": "stream",
     "text": [
      "------------------\n",
      "Creating corpus...\n",
      "------------------\n",
      "Tokenizing...\n",
      "------------------\n",
      "Stripping out stop words, punctuation, and numbers...\n",
      "------------------\n",
      "Lemmatizing...\n",
      "------------------\n",
      "Creating a vocabulary...\n",
      "------------------\n",
      "NLP preprocessing complete ...\n"
     ]
    }
   ],
   "source": [
    "#  pass corpus through nlp pipeline\n",
    "X, y = process_corpus(data, 'body')"
   ]
  },
  {
   "cell_type": "code",
   "execution_count": 39,
   "metadata": {
    "scrolled": true
   },
   "outputs": [
    {
     "data": {
      "text/html": [
       "<div>\n",
       "<style scoped>\n",
       "    .dataframe tbody tr th:only-of-type {\n",
       "        vertical-align: middle;\n",
       "    }\n",
       "\n",
       "    .dataframe tbody tr th {\n",
       "        vertical-align: top;\n",
       "    }\n",
       "\n",
       "    .dataframe thead th {\n",
       "        text-align: right;\n",
       "    }\n",
       "</style>\n",
       "<table border=\"1\" class=\"dataframe\">\n",
       "  <thead>\n",
       "    <tr style=\"text-align: right;\">\n",
       "      <th></th>\n",
       "      <th>num_of_cosponsors</th>\n",
       "      <th>bill_char_counts</th>\n",
       "      <th>intro_month</th>\n",
       "      <th>session</th>\n",
       "    </tr>\n",
       "  </thead>\n",
       "  <tbody>\n",
       "    <tr>\n",
       "      <th>count</th>\n",
       "      <td>52238.000000</td>\n",
       "      <td>5.223800e+04</td>\n",
       "      <td>52238.000000</td>\n",
       "      <td>52238.000000</td>\n",
       "    </tr>\n",
       "    <tr>\n",
       "      <th>mean</th>\n",
       "      <td>12.243099</td>\n",
       "      <td>1.598837e+04</td>\n",
       "      <td>5.518243</td>\n",
       "      <td>1.613634</td>\n",
       "    </tr>\n",
       "    <tr>\n",
       "      <th>std</th>\n",
       "      <td>29.163586</td>\n",
       "      <td>7.222059e+04</td>\n",
       "      <td>3.265099</td>\n",
       "      <td>0.486921</td>\n",
       "    </tr>\n",
       "    <tr>\n",
       "      <th>min</th>\n",
       "      <td>0.000000</td>\n",
       "      <td>4.320000e+02</td>\n",
       "      <td>1.000000</td>\n",
       "      <td>1.000000</td>\n",
       "    </tr>\n",
       "    <tr>\n",
       "      <th>25%</th>\n",
       "      <td>0.000000</td>\n",
       "      <td>2.184000e+03</td>\n",
       "      <td>3.000000</td>\n",
       "      <td>1.000000</td>\n",
       "    </tr>\n",
       "    <tr>\n",
       "      <th>50%</th>\n",
       "      <td>2.000000</td>\n",
       "      <td>4.497000e+03</td>\n",
       "      <td>5.000000</td>\n",
       "      <td>2.000000</td>\n",
       "    </tr>\n",
       "    <tr>\n",
       "      <th>75%</th>\n",
       "      <td>11.000000</td>\n",
       "      <td>1.099750e+04</td>\n",
       "      <td>8.000000</td>\n",
       "      <td>2.000000</td>\n",
       "    </tr>\n",
       "    <tr>\n",
       "      <th>max</th>\n",
       "      <td>432.000000</td>\n",
       "      <td>2.758251e+06</td>\n",
       "      <td>12.000000</td>\n",
       "      <td>2.000000</td>\n",
       "    </tr>\n",
       "  </tbody>\n",
       "</table>\n",
       "</div>"
      ],
      "text/plain": [
       "       num_of_cosponsors  bill_char_counts   intro_month       session\n",
       "count       52238.000000      5.223800e+04  52238.000000  52238.000000\n",
       "mean           12.243099      1.598837e+04      5.518243      1.613634\n",
       "std            29.163586      7.222059e+04      3.265099      0.486921\n",
       "min             0.000000      4.320000e+02      1.000000      1.000000\n",
       "25%             0.000000      2.184000e+03      3.000000      1.000000\n",
       "50%             2.000000      4.497000e+03      5.000000      2.000000\n",
       "75%            11.000000      1.099750e+04      8.000000      2.000000\n",
       "max           432.000000      2.758251e+06     12.000000      2.000000"
      ]
     },
     "execution_count": 39,
     "metadata": {},
     "output_type": "execute_result"
    }
   ],
   "source": [
    "data.describe()"
   ]
  },
  {
   "cell_type": "code",
   "execution_count": 41,
   "metadata": {},
   "outputs": [
    {
     "data": {
      "text/plain": [
       "270"
      ]
     },
     "execution_count": 41,
     "metadata": {},
     "output_type": "execute_result"
    }
   ],
   "source": [
    "len(data[data['num_of_cosponsors'] > 200])"
   ]
  },
  {
   "cell_type": "code",
   "execution_count": 34,
   "metadata": {},
   "outputs": [
    {
     "data": {
      "text/plain": [
       "Index(['_id', 'bill_status', 'body', 'committee', 'congress_id', 'cosponsors',\n",
       "       'cosponsors_url', 'desc', 'intro_date', 'leg_id', 'leg_type', 'leg_url',\n",
       "       'num_of_cosponsors', 'sponsor', 'sponsor_district', 'sponsor_party',\n",
       "       'sponsor_state', 'bill_char_counts', 'intro_month', 'session',\n",
       "       'char_count_bucket', 'labels'],\n",
       "      dtype='object')"
      ]
     },
     "execution_count": 34,
     "metadata": {},
     "output_type": "execute_result"
    }
   ],
   "source": [
    "data.columns"
   ]
  },
  {
   "cell_type": "code",
   "execution_count": 35,
   "metadata": {},
   "outputs": [
    {
     "data": {
      "text/plain": [
       "D     30434\n",
       "R     21437\n",
       "I       224\n",
       "ID      142\n",
       "Name: sponsor_party, dtype: int64"
      ]
     },
     "execution_count": 35,
     "metadata": {},
     "output_type": "execute_result"
    }
   ],
   "source": [
    "data.sponsor_party.value_counts()"
   ]
  },
  {
   "cell_type": "code",
   "execution_count": 36,
   "metadata": {},
   "outputs": [
    {
     "data": {
      "text/plain": [
       "0    50158\n",
       "1     2080\n",
       "Name: labels, dtype: int64"
      ]
     },
     "execution_count": 36,
     "metadata": {},
     "output_type": "execute_result"
    }
   ],
   "source": [
    "data.labels.value_counts()"
   ]
  },
  {
   "cell_type": "code",
   "execution_count": null,
   "metadata": {},
   "outputs": [],
   "source": [
    "columns = ['sponsor', 'num_of_bills']\n",
    "sponsor_counts = pd.DataFrame(data.sponsor.value_counts()).reset_index()\n",
    "sponsor_counts.columns = columns"
   ]
  },
  {
   "cell_type": "code",
   "execution_count": 27,
   "metadata": {},
   "outputs": [
    {
     "data": {
      "text/plain": [
       "966"
      ]
     },
     "execution_count": 27,
     "metadata": {},
     "output_type": "execute_result"
    }
   ],
   "source": [
    "len(sponsor_counts)"
   ]
  },
  {
   "cell_type": "code",
   "execution_count": 29,
   "metadata": {},
   "outputs": [],
   "source": [
    "x = np.arange(len(sponsor_counts))"
   ]
  },
  {
   "cell_type": "code",
   "execution_count": 32,
   "metadata": {},
   "outputs": [
    {
     "data": {
      "text/html": [
       "<div>\n",
       "<style scoped>\n",
       "    .dataframe tbody tr th:only-of-type {\n",
       "        vertical-align: middle;\n",
       "    }\n",
       "\n",
       "    .dataframe tbody tr th {\n",
       "        vertical-align: top;\n",
       "    }\n",
       "\n",
       "    .dataframe thead th {\n",
       "        text-align: right;\n",
       "    }\n",
       "</style>\n",
       "<table border=\"1\" class=\"dataframe\">\n",
       "  <thead>\n",
       "    <tr style=\"text-align: right;\">\n",
       "      <th></th>\n",
       "      <th>num_of_bills</th>\n",
       "    </tr>\n",
       "  </thead>\n",
       "  <tbody>\n",
       "    <tr>\n",
       "      <th>count</th>\n",
       "      <td>966.000000</td>\n",
       "    </tr>\n",
       "    <tr>\n",
       "      <th>mean</th>\n",
       "      <td>54.075569</td>\n",
       "    </tr>\n",
       "    <tr>\n",
       "      <th>std</th>\n",
       "      <td>59.082602</td>\n",
       "    </tr>\n",
       "    <tr>\n",
       "      <th>min</th>\n",
       "      <td>1.000000</td>\n",
       "    </tr>\n",
       "    <tr>\n",
       "      <th>25%</th>\n",
       "      <td>17.000000</td>\n",
       "    </tr>\n",
       "    <tr>\n",
       "      <th>50%</th>\n",
       "      <td>37.000000</td>\n",
       "    </tr>\n",
       "    <tr>\n",
       "      <th>75%</th>\n",
       "      <td>66.000000</td>\n",
       "    </tr>\n",
       "    <tr>\n",
       "      <th>max</th>\n",
       "      <td>481.000000</td>\n",
       "    </tr>\n",
       "  </tbody>\n",
       "</table>\n",
       "</div>"
      ],
      "text/plain": [
       "       num_of_bills\n",
       "count    966.000000\n",
       "mean      54.075569\n",
       "std       59.082602\n",
       "min        1.000000\n",
       "25%       17.000000\n",
       "50%       37.000000\n",
       "75%       66.000000\n",
       "max      481.000000"
      ]
     },
     "execution_count": 32,
     "metadata": {},
     "output_type": "execute_result"
    }
   ],
   "source": [
    "sponsor_counts.describe()"
   ]
  },
  {
   "cell_type": "code",
   "execution_count": 42,
   "metadata": {},
   "outputs": [
    {
     "data": {
      "text/html": [
       "<div>\n",
       "<style scoped>\n",
       "    .dataframe tbody tr th:only-of-type {\n",
       "        vertical-align: middle;\n",
       "    }\n",
       "\n",
       "    .dataframe tbody tr th {\n",
       "        vertical-align: top;\n",
       "    }\n",
       "\n",
       "    .dataframe thead th {\n",
       "        text-align: right;\n",
       "    }\n",
       "</style>\n",
       "<table border=\"1\" class=\"dataframe\">\n",
       "  <thead>\n",
       "    <tr style=\"text-align: right;\">\n",
       "      <th></th>\n",
       "      <th>sponsor</th>\n",
       "      <th>num_of_bills</th>\n",
       "    </tr>\n",
       "  </thead>\n",
       "  <tbody>\n",
       "    <tr>\n",
       "      <th>0</th>\n",
       "      <td>Sen. Schumer, Charles E.</td>\n",
       "      <td>481</td>\n",
       "    </tr>\n",
       "    <tr>\n",
       "      <th>1</th>\n",
       "      <td>Sen. Menendez, Robert</td>\n",
       "      <td>471</td>\n",
       "    </tr>\n",
       "    <tr>\n",
       "      <th>2</th>\n",
       "      <td>Sen. Feinstein, Dianne</td>\n",
       "      <td>456</td>\n",
       "    </tr>\n",
       "    <tr>\n",
       "      <th>3</th>\n",
       "      <td>Sen. Casey, Robert P., Jr.</td>\n",
       "      <td>448</td>\n",
       "    </tr>\n",
       "    <tr>\n",
       "      <th>4</th>\n",
       "      <td>Sen. Vitter, David</td>\n",
       "      <td>425</td>\n",
       "    </tr>\n",
       "  </tbody>\n",
       "</table>\n",
       "</div>"
      ],
      "text/plain": [
       "                      sponsor  num_of_bills\n",
       "0    Sen. Schumer, Charles E.           481\n",
       "1       Sen. Menendez, Robert           471\n",
       "2      Sen. Feinstein, Dianne           456\n",
       "3  Sen. Casey, Robert P., Jr.           448\n",
       "4          Sen. Vitter, David           425"
      ]
     },
     "execution_count": 42,
     "metadata": {},
     "output_type": "execute_result"
    }
   ],
   "source": [
    "sponsor_counts.head()"
   ]
  },
  {
   "cell_type": "code",
   "execution_count": null,
   "metadata": {},
   "outputs": [],
   "source": []
  }
 ],
 "metadata": {
  "kernelspec": {
   "display_name": "Python 3",
   "language": "python",
   "name": "python3"
  },
  "language_info": {
   "codemirror_mode": {
    "name": "ipython",
    "version": 3
   },
   "file_extension": ".py",
   "mimetype": "text/x-python",
   "name": "python",
   "nbconvert_exporter": "python",
   "pygments_lexer": "ipython3",
   "version": "3.7.1"
  }
 },
 "nbformat": 4,
 "nbformat_minor": 2
}
