{
 "cells": [
  {
   "cell_type": "code",
   "execution_count": 3,
   "metadata": {},
   "outputs": [
    {
     "name": "stdout",
     "output_type": "stream",
     "text": [
      "Overwriting make_predictions.py\n"
     ]
    }
   ],
   "source": [
    "%%writefile make_predictions.py\n",
    "'''\n",
    "----------------------------------------------\n",
    "This script loads the data and pickled models to make predictions on the bills that are still\n",
    "in progress. It is currently using sklearn's TfidfVectorizer and Random Forest to vectorize\n",
    "the text and make the predictions. The results are then loaded into Mongo collection predictions\n",
    "for use in the Flask app.\n",
    "\n",
    "----------------------------------------------\n",
    "'''\n",
    "from pymongo import MongoClient\n",
    "from my_tools import get_bill_data, process_corpus\n",
    "from sklearn.externals import joblib\n",
    "\n",
    "from datetime import datetime\n",
    "import matplotlib.pyplot as plt\n",
    "\n",
    "# initialize Mongo client\n",
    "client = MongoClient()\n",
    "db = client.bills\n",
    "predictions = db.predictions\n",
    "\n",
    "print('---------------')\n",
    "print('---------------')\n",
    "print('---------------')\n",
    "print('Loading new data to make predictions...')\n",
    "data, in_progress = get_bill_data()\n",
    "\n",
    "\n",
    "# Load pickled TfidfVectorizer and Random Forest Classifier\n",
    "print('---------------')\n",
    "print('Loading pickled vectorizer and classifier...')\n",
    "vectorizer = joblib.load('pickle_files/tfidfVectorizer.pkl')\n",
    "# classifier = joblib.load('pickle_files/nlp_gradientBoost.pkl')\n",
    "classifier = joblib.load('pickle_files/nlp_randomForest.pkl')\n",
    "print('Pickled models loaded.')\n",
    "\n",
    "\n",
    "\n",
    "# Put bill text from bills still in progress through the nlp pipeline\n",
    "print('---------------')\n",
    "print('Preprocessing bill text...')\n",
    "corpus = process_corpus(in_progress, 'bill_text')\n",
    "\n",
    "\n",
    "\n",
    "# Vectorize the text for modeling\n",
    "print('')\n",
    "print('---------------')\n",
    "print('Vectorizing bill text...')\n",
    "corpus_vec = vectorizer.transform(corpus)\n",
    "\n",
    "\n",
    "\n",
    "\n",
    "print('---------------')\n",
    "print('Calculating predicted probabilities...')\n",
    "y_pred = classifier.predict(corpus_vec)\n",
    "y_pred_proba = classifier.predict_proba(corpus_vec)[:, 1]\n",
    "\n",
    "\n",
    "print('---------------')\n",
    "print('Inserting the following predicted probabilities into Mongo...')\n",
    "print(y_pred_proba)\n",
    "\n",
    "# add probabilities to dataframe and load dataframe to Mongo collection predictions\n",
    "in_progress['probability'] = y_pred_proba\n",
    "\n",
    "# format columns for flask app\n",
    "in_progress['intro_date'] = in_progress['intro_date'].apply(lambda x: x.strftime('%m/%d/%Y'))\n",
    "in_progress['probability'] = in_progress['probability'].round(5)\n",
    "\n",
    "# drop id_, new collection will add a new id_\n",
    "in_progress.drop('_id', axis = 1, inplace = True)\n",
    "\n",
    "\n",
    "\n",
    "# reset collection and insert new data\n",
    "db.predictions.drop()\n",
    "predictions.insert_many(in_progress.to_dict('records'))\n",
    "print('---------------')\n",
    "print('Loaded {} predictions. Script complete. DATA SCIENCE!!!'.format(len(y_pred_proba)))\n"
   ]
  },
  {
   "cell_type": "code",
   "execution_count": null,
   "metadata": {},
   "outputs": [],
   "source": [
    "# exploration\n",
    "from pymongo import MongoClient\n",
    "# initialize Mongo client\n",
    "client = MongoClient()\n",
    "db = client.bills\n",
    "predictions = db.predictions\n",
    "\n",
    "predictions.find_one()"
   ]
  },
  {
   "cell_type": "code",
   "execution_count": null,
   "metadata": {},
   "outputs": [],
   "source": []
  }
 ],
 "metadata": {
  "kernelspec": {
   "display_name": "Python 3",
   "language": "python",
   "name": "python3"
  },
  "language_info": {
   "codemirror_mode": {
    "name": "ipython",
    "version": 3
   },
   "file_extension": ".py",
   "mimetype": "text/x-python",
   "name": "python",
   "nbconvert_exporter": "python",
   "pygments_lexer": "ipython3",
   "version": "3.7.1"
  }
 },
 "nbformat": 4,
 "nbformat_minor": 2
}
