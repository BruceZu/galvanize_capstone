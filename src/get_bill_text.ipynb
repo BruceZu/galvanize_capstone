{
 "cells": [
  {
   "cell_type": "code",
   "execution_count": 30,
   "metadata": {},
   "outputs": [
    {
     "name": "stdout",
     "output_type": "stream",
     "text": [
      "Overwriting get_bill_text.py\n"
     ]
    }
   ],
   "source": [
    "%%writefile get_bill_text.py\n",
    "'''\n",
    "Once data has been populated into Mongo database, this script will populate the bill text\n",
    "in the 'body' field if text doesn't already exist. \n",
    "'''\n",
    "from pymongo import MongoClient\n",
    "from bs4 import BeautifulSoup\n",
    "import requests\n",
    "import threading\n",
    "from random import randint\n",
    "from time import sleep\n",
    "\n",
    "from my_tools import write_json_file\n",
    "\n",
    "\n",
    "def url_builder(record_url):\n",
    "    '''\n",
    "    Builds endpoint url from leg_url in mongo. Endpoint url should be the site that \n",
    "    contains the text version of the bill.\n",
    "    \n",
    "    Parameters: a mongo record\n",
    "    \n",
    "    Returns:    url\n",
    "    '''\n",
    "    url_root = record_url.rsplit('?')[0]\n",
    "    return '{}/text?format=txt&r=1'.format(url_root)\n",
    "\n",
    "\n",
    "def get_bill_text(site_url):\n",
    "    '''\n",
    "    Scrapes the page at url to return the text of the bill.\n",
    "    \n",
    "    Parameters: url\n",
    "    \n",
    "    Returns:    bill text, if it exists\n",
    "    '''\n",
    "    # included sleep time to mimick human user \n",
    "    sleep_time = randint(2, 5)\n",
    "    sleep(sleep_time)\n",
    "\n",
    "    req = requests.get(site_url)\n",
    "    stat_code = req.status_code\n",
    "\n",
    "    # if error in getting url, print and log the error\n",
    "    if stat_code != 200:\n",
    "        print('_______________')\n",
    "        print('_______________')\n",
    "        print('')\n",
    "        print('\\t{}'.format(site_url))\n",
    "        print('\\t\\tError in retrieving bill text.')\n",
    "        print('\\t\\tRequest Status Code: {}'.format(stat_code))\n",
    "        errored_line = {'url': site_url, 'error': stat_code}\n",
    "        write_json_file(errored_line, '../data/logs/bill_text_errors.jsonl')\n",
    "        print('Error logged in ../data/logs/bill_text_errors.jsonl')\n",
    "\n",
    "    if stat_code == 200:\n",
    "        soup = BeautifulSoup(req.content, 'lxml')\n",
    "        # print(soup.prettify())\n",
    "\n",
    "        # if there is no text, print and log the error\n",
    "        if soup.find('pre') is None:\n",
    "            print('_______________')\n",
    "            print('_______________')\n",
    "            print('\\t{}'.format(site_url))\n",
    "            print('\\t\\tNo text available for scraping. Logging...')\n",
    "            errored_line = {'url': site_url, 'error': 'no text available', 'process': 'bill text'}\n",
    "            write_json_file(errored_line, '../data/logs/bill_text_errors.jsonl')\n",
    "            \n",
    "            return None\n",
    "\n",
    "\n",
    "        # else scrape the text\n",
    "        else:\n",
    "            bill_txt = soup.find('pre').text\n",
    "            bill_txt = ' '.join(bill_txt.split())\n",
    "\n",
    "            return bill_txt\n",
    "\n",
    "\n",
    "def update_mongo_body(txt, bill_issue, cong_id, collection):  \n",
    "    '''\n",
    "    Updates the body field in the mongo record specified by bill_issue (leg_id) and\n",
    "    cong_id (congress_id) from db.collection with txt.\n",
    "    \n",
    "    Parameters: txt - the text of the bill\n",
    "                bill_issue - value to filter on for key leg_id\n",
    "                cong_id - value to filter on for key congress_id\n",
    "                collection - the name of the mongo collection\n",
    "                \n",
    "    Returns:    None\n",
    "    '''\n",
    "    collection.update_one({'leg_id': bill_issue, 'congress_id': cong_id}, {'$set': {'body': txt}})\n",
    "\n",
    "\n",
    "def initiate_process(year, collection):\n",
    "    '''\n",
    "    Initiates process from threads.\n",
    "    '''\n",
    "#     client = MongoClient() # defaults to localhost\n",
    "#     db = client.bills\n",
    "#     bill_info = db.bill_info\n",
    "\n",
    "    print('--------------------')\n",
    "    print('Cleaning up year {}'.format(year))\n",
    "    year_str = str(year)\n",
    "    records_to_populate = collection.find({'leg_url': {'$regex': 'http'}, 'intro_date': {'$regex': year_str}, 'body': None})\n",
    "    record_count = collection.count_documents({'leg_url': {'$regex': 'http'}, 'intro_date': {'$regex': year_str}, 'body': None})\n",
    "    print('--> Number of records with no text for year {}: {}'.format(year, record_count))\n",
    "    \n",
    "    if record_count > 0:\n",
    "        for rec in records_to_populate:\n",
    "            # get complete url using url_builder\n",
    "            url = url_builder(rec['leg_url'])\n",
    "            # get bill text\n",
    "            bill_text = get_bill_text(url)\n",
    "\n",
    "            # update mongo record with bill text\n",
    "            bill_issue = rec['leg_id']\n",
    "            cong_id = rec['congress_id']\n",
    "            update_mongo_body(bill_text, bill_issue, cong_id, collection)\n",
    "\n",
    "            \n",
    "            r = collection.count_documents({'leg_url': {'$regex': 'http'}, 'intro_date': {'$regex': year_str}, 'body': None})\n",
    "            if r%100 == 0:\n",
    "                print('+++++++++')\n",
    "                print('Year {}: {} records remaining with no text'.format(year, r))\n",
    "                print('+++++++++')\n",
    "    \n",
    "                \n",
    "if __name__ == '__main__':\n",
    "    print('This script is populating bill text into Mongo threading four years at a time for those records without any text.')\n",
    "    client = MongoClient() # defaults to localhost\n",
    "    db = client.bills\n",
    "    bill_info = db.bill_info\n",
    "\n",
    "    # iterate through date range in reverse\n",
    "    year_range = range(2007, 2019)[::-1]\n",
    "\n",
    "    for y in year_range[::4]:\n",
    "        t1 = threading.Thread(target=initiate_process, args=[y, bill_info])\n",
    "        t2 = threading.Thread(target=initiate_process, args=[y-1, bill_info])\n",
    "        t3 = threading.Thread(target=initiate_process, args=[y-2, bill_info])\n",
    "        t4 = threading.Thread(target=initiate_process, args=[y-3, bill_info])\n",
    "        \n",
    "        t1.start()\n",
    "        t2.start()\n",
    "        t3.start()\n",
    "        t4.start()\n",
    "\n",
    "        t1.join()\n",
    "        t2.join()\n",
    "        t3.join()\n",
    "        t4.join()\n",
    "        \n",
    "    print('-----------')\n",
    "    print('-----------')\n",
    "    print('Bill text populating complete!... DATA SCIENCE!!!')\n",
    "    "
   ]
  },
  {
   "cell_type": "code",
   "execution_count": 4,
   "metadata": {},
   "outputs": [
    {
     "name": "stdout",
     "output_type": "stream",
     "text": [
      "Number of records in database: 60616\n"
     ]
    },
    {
     "name": "stderr",
     "output_type": "stream",
     "text": [
      "/home/ubuntu/anaconda3/lib/python3.7/site-packages/ipykernel_launcher.py:7: DeprecationWarning: count is deprecated. Use Collection.count_documents instead.\n",
      "  import sys\n"
     ]
    }
   ],
   "source": [
    "# exploration\n",
    "from pymongo import MongoClient\n",
    "client = MongoClient('mongodb://localhost:27017/')\n",
    "db = client.bills\n",
    "bill_info = db.bill_info\n",
    "\n",
    "print('Number of records in database: {}'.format(bill_info.find().count()))\n",
    "\n"
   ]
  },
  {
   "cell_type": "code",
   "execution_count": 5,
   "metadata": {},
   "outputs": [],
   "source": [
    "records_with_text = bill_info.find({'body': {'$regex': 'e'}})\n"
   ]
  },
  {
   "cell_type": "code",
   "execution_count": 24,
   "metadata": {},
   "outputs": [
    {
     "data": {
      "text/plain": [
       "10675"
      ]
     },
     "execution_count": 24,
     "metadata": {},
     "output_type": "execute_result"
    }
   ],
   "source": [
    "records_with_text_count = bill_info.count_documents({'body': {'$regex': 'e'}})\n",
    "records_with_text_count"
   ]
  },
  {
   "cell_type": "code",
   "execution_count": 25,
   "metadata": {},
   "outputs": [
    {
     "data": {
      "text/plain": [
       "{'_id': ObjectId('5c26cd6d1417de25ef8b48a8'),\n",
       " 'leg_id': 'H R 6420',\n",
       " 'leg_type': 'BILL',\n",
       " 'leg_url': 'https://www.congress.gov/bill/109th-congress/house-bill/6420?s=1&r=110993',\n",
       " 'intro_date': '12/08/2006',\n",
       " 'congress_id': '109',\n",
       " 'desc': 'Tax Exempt Hospitals Responsibility Act of 2006',\n",
       " 'sponsor': 'Thomas, William M.',\n",
       " 'sponsor_party': 'R',\n",
       " 'sponsor_state': 'CA',\n",
       " 'sponsor_district': '22',\n",
       " 'num_of_cosponsors': '0',\n",
       " 'cosponsors_url': None,\n",
       " 'cosponsors': None,\n",
       " 'num_of_amendments': None,\n",
       " 'committee': 'House - Ways and Means',\n",
       " 'bill_status': 'Introduced',\n",
       " 'body': \"[Congressional Bills 109th Congress] [From the U.S. Government Publishing Office] [H.R. 6420 Introduced in House (IH)] 109th CONGRESS 2d Session H. R. 6420 To amend the Internal Revenue Code of 1986 to impose an excise tax on certain medical care providers that fail to provide a minimum level of charity medical care, and for other purposes. _______________________________________________________________________ IN THE HOUSE OF REPRESENTATIVES December 8, 2006 Mr. Thomas introduced the following bill; which was referred to the Committee on Ways and Means _______________________________________________________________________ A BILL To amend the Internal Revenue Code of 1986 to impose an excise tax on certain medical care providers that fail to provide a minimum level of charity medical care, and for other purposes. Be it enacted by the Senate and House of Representatives of the United States of America in Congress assembled, SECTION 1. SHORT TITLE. This Act may be cited as the ``Tax Exempt Hospitals Responsibility Act of 2006''. SEC. 2. REQUIRED POLICIES AND PROCEDURES OF SPECIFIED MEDICAL CARE PROVIDERS. (a) In General.--Section 501 of the Internal Revenue Code of 1986 (relating to exemption from tax on corporations, certain trusts, etc.) is amended-- (1) by redesignating subsection (r) as subsection (s), and (2) by inserting after subsection (q) the following new subsection: ``(r) Policies and Procedures of Specified Medical Care Providers.-- ``(1) In general.--A specified medical care provider shall not be treated as described in section 501(c)(3) unless such provider has adopted, and normally operates consistently with, policies and procedures for providing, and charging for, specified medically necessary care to low-income uninsured individuals consistent with the requirements of subchapter H of chapter 42. ``(2) Denial of deduction.--No deduction shall be allowed under any provision of this title, including sections 170, 545(b)(2), 556(b)(2), 642(c), 2055, 2106(a)(2), and 2522, with respect to any contribution to an organization which is not described in section 501(c)(3) by reason of paragraph (1). ``(3) Definitions.--Terms used in this subsection shall have the same meanings as when used in subchapter H of chapter 42, except that with respect to the term `specified medical care provider' clause (i) of section 4968C(1)(A) shall not apply.''. (b) Effective Date.--The amendments made by this section shall apply to taxable years beginning after December 31, 2007. SEC. 3. FAILURE BY SPECIFIED MEDICAL CARE PROVIDER TO MEET MINIMUM CHARITY CARE REQUIREMENT. (a) In General.--Chapter 42 of the Internal Revenue Code of 1986 (relating to private foundations and certain other tax-exempt organizations) is amended by adding at the end the following new subchapter: ``Subchapter H--Failure by Specified Medical Care Provider To Meet Minimum Charity Care Requirements ``Sec. 4968. Excise tax on specified medical care provider for failure to provide specified medically necessary care. ``Sec. 4968A. Excise tax on specified medical care provider for overcharging for specified medically necessary care. ``Sec. 4968B. Excise tax on specified medical care provider for failure to disclose charitable medical care information and negotiated charges. ``Sec. 4968C. Definitions. ``SEC. 4968. EXCISE TAX ON SPECIFIED MEDICAL CARE PROVIDER FOR FAILURE TO PROVIDE SPECIFIED MEDICALLY NECESSARY CARE. ``If a specified medical care provider fails to provide specified medically necessary care to a low-income uninsured individual who seeks such care from such provider in an in-person visit, there is hereby imposed on such provider a tax equal to $1,000 for each such failure. ``SEC. 4968A. EXCISE TAX ON SPECIFIED MEDICAL CARE PROVIDER FOR OVERCHARGING FOR SPECIFIED MEDICALLY NECESSARY CARE. ``(a) Imposition of Tax.--If a specified medical care provider collects from a low-income uninsured individual an amount in excess of the maximum allowed charges for specified medically necessary care provided to such individual, there is hereby imposed a tax on such provider in an amount equal to 3 times such excess. ``(b) Maximum Allowed Charges.--For purposes of this section, the term `maximum allowed charges' means-- ``(1) with respect to a low-income uninsured individual whose annual household income is not more than 100 percent of the poverty line applicable to the size of the family involved, $25 for each visit, and ``(2) with respect to a low-income uninsured individual whose annual household income is more than 100 percent, but not more than 200 percent, of the poverty line applicable to the size of the family involved, the average amount paid to the specified medical care provider for such medical care under contracts with private health insurers. ``SEC. 4968B. EXCISE TAX ON SPECIFIED MEDICAL CARE PROVIDER FOR FAILURE TO DISCLOSE CHARITABLE MEDICAL CARE INFORMATION AND NEGOTIATED CHARGES. ``(a) Imposition of Tax.--If a specified medical care provider fails to meet the requirements of subsection (b), there is hereby imposed a tax on such provider equal to $1,000-- ``(1) for each such failure with respect to a requirement described in subsection (b)(1), and ``(2) for each day on which such failure occurred with respect to a requirement described in subsection (b)(2). ``(b) Disclosure of Charitable Medical Care Information and Medical Care Price Data.-- ``(1) Disclosure to patients.--The requirements of this paragraph are met if the specified medical care provider discloses its policies with respect to providing, and charging for, specified medically necessary care-- ``(A) in the patient admission process, and ``(B) in any attempt by the provider to charge for medical care provided, and ``(2) Disclosure to public.--The requirements of this paragraph are met if the specified medical care provider makes available to the public-- ``(A) its policies with respect to providing, and charging for, specified medically necessary care, and ``(B) a list of the average prices actually paid to the provider for each procedure or service, grouped by private health insurance, self-pay, and governmental health programs. ``(c) Maximum Tax.--The amount of tax imposed under subsection (a)(2) with respect to each failure shall not exceed $50,000. ``SEC. 4968C. DEFINITIONS. ``For purposes of this subchapter-- ``(1) Specified medical care provider.-- ``(A) In general.--The term `specified medical care provider' means an organization which-- ``(i) is described in section 501(c)(3), ``(ii) has as its principal purpose the provision of medical or hospital care, ``(iii) has as its principal purpose the provision of medical education or medical research and is actively engaged in providing medical or hospital care, or ``(iv) is required under State law to be licensed as a hospital. ``(B) Exceptions.--Such term shall not include a convalescent home or a home for children or the aged. ``(2) Specified medically necessary care.-- ``(A) In general.--The term `specified medically necessary care' means any medical care which is within the scope of medical care provided by the specified medical care provider. ``(B) Exceptions.--Such term shall not include-- ``(i) any medical care-- ``(I) which is attested to by the physician or practitioner treating the low-income uninsured individual as being not medically necessary, or ``(II) with respect to which the low-income uninsured individual signs a waiver acknowledging such care is not medically necessary, and ``(ii) any organ transplant, any medical care that is cosmetic or experimental in nature, and any treatment to improve the functioning of a malformed member. ``(3) Low-income uninsured individual.-- ``(A) In general.--The term `low-income uninsured individual' means any individual who, at the time the medical care is sought-- ``(i) is not covered by insurance constituting medical care, other than coverage described in section 223(c)(1)(B), ``(ii) has an annual household income equal to not more than 200 percent of the poverty line applicable to the size of the family involved, ``(iii) does not fail the resource requirement of subparagraph (D) or (E) of section 1860-14(a)(3) of the Social Security Act, ``(iv) is a citizen or resident of the United States, and ``(v) is not eligible for government- sponsored insurance constituting medical care. ``(B) Exception.--An individual shall not be a low- income uninsured individual if the individual fails to comply with reasonable requests by a specified medical care provider to provide documentation, or make an attestation, regarding income, assets, citizenship or residency, or insurance status. ``(4) Poverty line.--The term `poverty line' has the meaning given such term in section 673 of the Community Services Block Grant Act (42 U.S.C. 9902).''. (b) Conforming Amendment.--The table of subchapters for chapter 42 of such Code is amended by adding at the end the following new item: ``subchapter h. failure by specified medical care provider to meet minimum charity care requirement.''. (c) Effective Date.--The amendments made by this section shall apply to taxable years beginning after December 31, 2007. <all>\"}"
      ]
     },
     "execution_count": 25,
     "metadata": {},
     "output_type": "execute_result"
    }
   ],
   "source": [
    "records_with_text[10670]"
   ]
  },
  {
   "cell_type": "code",
   "execution_count": null,
   "metadata": {},
   "outputs": [],
   "source": []
  },
  {
   "cell_type": "code",
   "execution_count": 3,
   "metadata": {},
   "outputs": [
    {
     "name": "stderr",
     "output_type": "stream",
     "text": [
      "/home/ubuntu/anaconda3/lib/python3.7/site-packages/ipykernel_launcher.py:1: DeprecationWarning: count is deprecated. Use Collection.count_documents instead.\n",
      "  \"\"\"Entry point for launching an IPython kernel.\n"
     ]
    },
    {
     "data": {
      "text/plain": [
       "60616"
      ]
     },
     "execution_count": 3,
     "metadata": {},
     "output_type": "execute_result"
    }
   ],
   "source": [
    "bill_info.find().count()"
   ]
  },
  {
   "cell_type": "code",
   "execution_count": 4,
   "metadata": {},
   "outputs": [
    {
     "data": {
      "text/plain": [
       "{'_id': ObjectId('5c26c6c51417de25ef8a5a30'),\n",
       " 'leg_id': 'H R 7149',\n",
       " 'leg_type': 'BILL',\n",
       " 'leg_url': 'https://www.congress.gov/bill/115th-congress/house-bill/7149?s=1&r=251',\n",
       " 'intro_date': '11/16/2018',\n",
       " 'congress_id': '115',\n",
       " 'desc': 'Protecting Married Seniors from Impoverishment Act',\n",
       " 'sponsor': 'Dingell, Debbie',\n",
       " 'sponsor_party': 'D',\n",
       " 'sponsor_state': 'MI',\n",
       " 'sponsor_district': '12',\n",
       " 'num_of_cosponsors': '1',\n",
       " 'cosponsors_url': 'https://www.congress.gov/bill/115th-congress/house-bill/7149/cosponsors?s=1&r=251&overview=closed#tabs',\n",
       " 'cosponsors': None,\n",
       " 'num_of_amendments': None,\n",
       " 'committee': 'House - Energy and Commerce',\n",
       " 'bill_status': 'Introduced',\n",
       " 'body': None}"
      ]
     },
     "execution_count": 4,
     "metadata": {},
     "output_type": "execute_result"
    }
   ],
   "source": [
    "bill_info.find_one()"
   ]
  },
  {
   "cell_type": "code",
   "execution_count": null,
   "metadata": {},
   "outputs": [],
   "source": []
  }
 ],
 "metadata": {
  "kernelspec": {
   "display_name": "Python 3",
   "language": "python",
   "name": "python3"
  },
  "language_info": {
   "codemirror_mode": {
    "name": "ipython",
    "version": 3
   },
   "file_extension": ".py",
   "mimetype": "text/x-python",
   "name": "python",
   "nbconvert_exporter": "python",
   "pygments_lexer": "ipython3",
   "version": "3.7.1"
  }
 },
 "nbformat": 4,
 "nbformat_minor": 2
}
