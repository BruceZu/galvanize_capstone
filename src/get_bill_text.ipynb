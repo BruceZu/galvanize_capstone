{
 "cells": [
  {
   "cell_type": "code",
   "execution_count": 2,
   "metadata": {},
   "outputs": [
    {
     "name": "stdout",
     "output_type": "stream",
     "text": [
      "Overwriting get_bill_text.py\n"
     ]
    }
   ],
   "source": [
    "%%writefile get_bill_text.py\n",
    "'''\n",
    "Once data has been populated into Mongo database, this script will populate the bill text\n",
    "in the 'body' field if text doesn't already exist. \n",
    "'''\n",
    "from pymongo import MongoClient\n",
    "from bs4 import BeautifulSoup\n",
    "import requests\n",
    "import threading\n",
    "from random import randint\n",
    "from time import sleep\n",
    "\n",
    "from my_tools import write_json_file\n",
    "\n",
    "def url_builder(record_url):\n",
    "    '''\n",
    "    Builds endpoint url from leg_url in mongo. Endpoint url should be the site that \n",
    "    contains the text version of the bill.\n",
    "    \n",
    "    Parameters: a mongo record\n",
    "    \n",
    "    Returns:    url\n",
    "    '''\n",
    "    url_root = record_url.rsplit('?')[0]\n",
    "    return '{}/text?format=txt&r=1'.format(url_root)\n",
    "\n",
    "\n",
    "def get_bill_text(site_url):\n",
    "    '''\n",
    "    Scrapes the page at url to return the text of the bill.\n",
    "    \n",
    "    Parameters: url\n",
    "    \n",
    "    Returns: bill text, if it exists\n",
    "    '''\n",
    "    # included sleep time to mimick human user \n",
    "    sleep_time = randint(0, 11)\n",
    "    sleep(sleep_time)\n",
    "\n",
    "    req = requests.get(site_url)\n",
    "    stat_code = req.status_code\n",
    "\n",
    "    # if error in getting url, print and log the error\n",
    "    if stat_code != 200:\n",
    "        print('_______________')\n",
    "        print('_______________')\n",
    "        print('')\n",
    "        print('\\t{}'.format(site_url))\n",
    "        print('\\t\\tError in retrieving bill text.')\n",
    "        print('\\t\\tRequest Status Code: {}'.format(stat_code))\n",
    "        errored_line = {'url': site_url, 'error': stat_code}\n",
    "        write_json_file(errored_line, '../data/logs/bill_text_errors.jsonl')\n",
    "        print('Error logged in ../data/logs/bill_text_errors.jsonl')\n",
    "\n",
    "    if stat_code == 200:\n",
    "        soup = BeautifulSoup(req.content, 'lxml')\n",
    "        # print(soup.prettify())\n",
    "\n",
    "        # if there is no text, print and log the error\n",
    "        if soup.find('pre') is None:\n",
    "            print('_______________')\n",
    "            print('_______________')\n",
    "            print('\\t{}'.format(site_url))\n",
    "            print('\\t\\tError in retrieving bill text.')\n",
    "            print('\\t\\tNo text available for scraping.')\n",
    "            errored_line = {'url': site_url, 'error': 'no text available'}\n",
    "            write_json_file(errored_line, '../data/logs/bill_text_errors.jsonl')\n",
    "            print('\\t\\tReturned None and error logged in ../data/logs/bill_text_errors.jsonl')\n",
    "            \n",
    "            return None\n",
    "\n",
    "\n",
    "        # else scrape the text\n",
    "        else:\n",
    "            bill_txt = soup.find('pre').text\n",
    "            bill_txt = ' '.join(bill_txt.split())\n",
    "\n",
    "            return bill_txt\n",
    "\n",
    "\n",
    "def update_mongo_body(txt, bill_issue, cong_id, collection):  #this function is missing session \n",
    "    '''\n",
    "    Updates the body field in the mongo record specified by bill_issue (leg_id) and\n",
    "    cong_id (congress_id) from db.collection with txt.\n",
    "    \n",
    "    Parameters: txt - the text of the bill\n",
    "                bill_issue - value to filter on for key leg_id\n",
    "                cong_id - value to filter on for key congress_id\n",
    "                collection - the name of the mongo collection\n",
    "                \n",
    "    Returns: None\n",
    "    '''\n",
    "    \n",
    "    collection.update_one({'leg_id': bill_issue, 'congress_id': cong_id}, {'$set': {'body': txt}})\n",
    "  \n",
    "\n",
    "def initiate_process(year):\n",
    "    '''\n",
    "    Initiates process from threads\n",
    "    '''\n",
    "    client = MongoClient() # defaults to localhost\n",
    "    db = client.bills\n",
    "    bill_info = db.bill_info\n",
    "\n",
    "    print('--------------------')\n",
    "    print('Cleaning up year {}'.format(year))\n",
    "    year_str = str(year)\n",
    "    records_to_populate = bill_info.find({'leg_url': {'$regex': 'http'}, 'intro_date': {'$regex': year_str}, 'body': None})\n",
    "    record_count = records_to_populate.count()\n",
    "    print('--> Number of records with no text for year {}: {}'.format(year, record_count))\n",
    "    \n",
    "    if record_count > 0:\n",
    "        i = 0\n",
    "        for rec in records_to_populate:\n",
    "            # get complete url using url_builder\n",
    "            url = url_builder(rec['leg_url'])\n",
    "            # get bill text\n",
    "            bill_text = get_bill_text(url)\n",
    "\n",
    "            # update mongo record with bill text\n",
    "            bill_issue = rec['leg_id']\n",
    "            cong_id = rec['congress_id']\n",
    "            update_mongo_body(bill_text, bill_issue, cong_id, bill_info)\n",
    "\n",
    "            if i%100 == 0:\n",
    "                print('\\tYear {} {:.2f}% complete'.format(year, 100 * i / record_count))\n",
    "            i += 1\n",
    "\n",
    "\n",
    "                \n",
    "                \n",
    "if __name__ == '__main__':        \n",
    "    # iterate through date range in reverse\n",
    "    year_range = range(2007, 2019)[::-1]\n",
    "\n",
    "    for y in year_range[::3]:\n",
    "        t1 = threading.Thread(target=initiate_process, args=[y])\n",
    "        t2 = threading.Thread(target=initiate_process, args=[y+1])\n",
    "        t3 = threading.Thread(target=initiate_process, args=[y+2])\n",
    "        \n",
    "        t1.start()\n",
    "        t2.start()\n",
    "        t3.start()\n",
    "\n",
    "        t1.join()\n",
    "        t2.join()\n",
    "        t3.join()\n",
    "        \n",
    "    print('-----------')\n",
    "    print('-----------')\n",
    "    print('Bill text populating complete!... DATA SCIENCE!!!')\n"
   ]
  },
  {
   "cell_type": "code",
   "execution_count": 8,
   "metadata": {},
   "outputs": [
    {
     "name": "stdout",
     "output_type": "stream",
     "text": [
      "Number of records in database: 60616\n"
     ]
    },
    {
     "name": "stderr",
     "output_type": "stream",
     "text": [
      "/home/ubuntu/anaconda3/lib/python3.7/site-packages/ipykernel_launcher.py:6: DeprecationWarning: count is deprecated. Use Collection.count_documents instead.\n",
      "  \n"
     ]
    }
   ],
   "source": [
    "# exploration\n",
    "client = MongoClient('mongodb://localhost:27017/')\n",
    "db = client.bills\n",
    "bill_info = db.bill_info\n",
    "\n",
    "print('Number of records in database: {}'.format(bill_info.find().count()))\n"
   ]
  },
  {
   "cell_type": "code",
   "execution_count": 13,
   "metadata": {},
   "outputs": [
    {
     "name": "stdout",
     "output_type": "stream",
     "text": [
      "2018\n",
      "2015\n",
      "2016\n",
      "2017\n",
      "2012\n",
      "2013\n",
      "2014\n",
      "2009\n",
      "2010\n",
      "2011\n"
     ]
    }
   ],
   "source": [
    "year_range = range(2007, 2019)[::-1]\n",
    "for i in year_range[::3]:\n",
    "    print(i)\n",
    "    if i+1 in year_range:\n",
    "        print(i+1)\n",
    "    if i+2 in year_range:\n",
    "        print(i+2)\n",
    "    "
   ]
  },
  {
   "cell_type": "code",
   "execution_count": null,
   "metadata": {},
   "outputs": [],
   "source": []
  },
  {
   "cell_type": "code",
   "execution_count": 3,
   "metadata": {},
   "outputs": [
    {
     "name": "stderr",
     "output_type": "stream",
     "text": [
      "/home/ubuntu/anaconda3/lib/python3.7/site-packages/ipykernel_launcher.py:1: DeprecationWarning: count is deprecated. Use Collection.count_documents instead.\n",
      "  \"\"\"Entry point for launching an IPython kernel.\n"
     ]
    },
    {
     "data": {
      "text/plain": [
       "60616"
      ]
     },
     "execution_count": 3,
     "metadata": {},
     "output_type": "execute_result"
    }
   ],
   "source": [
    "bill_info.find().count()"
   ]
  },
  {
   "cell_type": "code",
   "execution_count": 4,
   "metadata": {},
   "outputs": [
    {
     "data": {
      "text/plain": [
       "{'_id': ObjectId('5c26c6c51417de25ef8a5a30'),\n",
       " 'leg_id': 'H R 7149',\n",
       " 'leg_type': 'BILL',\n",
       " 'leg_url': 'https://www.congress.gov/bill/115th-congress/house-bill/7149?s=1&r=251',\n",
       " 'intro_date': '11/16/2018',\n",
       " 'congress_id': '115',\n",
       " 'desc': 'Protecting Married Seniors from Impoverishment Act',\n",
       " 'sponsor': 'Dingell, Debbie',\n",
       " 'sponsor_party': 'D',\n",
       " 'sponsor_state': 'MI',\n",
       " 'sponsor_district': '12',\n",
       " 'num_of_cosponsors': '1',\n",
       " 'cosponsors_url': 'https://www.congress.gov/bill/115th-congress/house-bill/7149/cosponsors?s=1&r=251&overview=closed#tabs',\n",
       " 'cosponsors': None,\n",
       " 'num_of_amendments': None,\n",
       " 'committee': 'House - Energy and Commerce',\n",
       " 'bill_status': 'Introduced',\n",
       " 'body': None}"
      ]
     },
     "execution_count": 4,
     "metadata": {},
     "output_type": "execute_result"
    }
   ],
   "source": [
    "bill_info.find_one()"
   ]
  },
  {
   "cell_type": "code",
   "execution_count": null,
   "metadata": {},
   "outputs": [],
   "source": []
  }
 ],
 "metadata": {
  "kernelspec": {
   "display_name": "Python 3",
   "language": "python",
   "name": "python3"
  },
  "language_info": {
   "codemirror_mode": {
    "name": "ipython",
    "version": 3
   },
   "file_extension": ".py",
   "mimetype": "text/x-python",
   "name": "python",
   "nbconvert_exporter": "python",
   "pygments_lexer": "ipython3",
   "version": "3.7.1"
  }
 },
 "nbformat": 4,
 "nbformat_minor": 2
}
