{
 "cells": [
  {
   "cell_type": "code",
   "execution_count": 4,
   "metadata": {},
   "outputs": [
    {
     "name": "stdout",
     "output_type": "stream",
     "text": [
      "Overwriting mongo_import.py\n"
     ]
    }
   ],
   "source": [
    "%%writefile mongo_import.py\n",
    "'''\n",
    "Pull bill_details and vote_results files from S3 into mongo database\n",
    "'''\n",
    "\n",
    "from pymongo import MongoClient\n",
    "import bson.json_util\n",
    "import os\n",
    "import boto\n",
    "from boto.s3.connection import S3Connection, Location\n",
    "from boto.s3.key import Key\n",
    "from my_tools import read_jsonl_file\n",
    "\n",
    "\n",
    "def mongo_import(filename_start, collection_name):\n",
    "    '''\n",
    "    Imports files from S3 bucket gavcap-leg with filenames that start with filename_start,\n",
    "    temporarily puts them in the data folder. The data is then loaded into Mongo \n",
    "    collection collection_name and the files are deleted from data folder.\n",
    "    \n",
    "    Parameters: filename_start - the start of the filename\n",
    "                collection_name - Mongo collection in database bills\n",
    "                \n",
    "    Returns: None\n",
    "    '''\n",
    "    # create an AWS S3 connection\n",
    "    conn = boto.s3.connect_to_region('us-west-2', host = 's3-us-west-2.amazonaws.com')\n",
    "\n",
    "    legislation_bucket = conn.get_bucket('galvcap-leg')\n",
    "\n",
    "    print('Pulling {} files from S3...'.format(filename_start))\n",
    "    print('-------------------')\n",
    "    for k in legislation_bucket:\n",
    "        filename = k.key\n",
    "        if filename.startswith(filename_start):\n",
    "            k.get_contents_to_filename('../data/{}'.format(filename))\n",
    "    \n",
    "\n",
    "    for filename in os.listdir('../data'):\n",
    "        if filename.startswith(filename_start):\n",
    "            print('Loading {} into mongo'.format(filename))\n",
    "            data = read_jsonl_file('../data/{}'.format(filename))\n",
    "            for record in data:\n",
    "                collection_name.insert_one(record)\n",
    "\n",
    "            # remove file from data folder once mongo load completes\n",
    "            os.remove('../data/{}'.format(filename))\n",
    "    print('------------------')\n",
    "    print('Mongo load and data folder cleanup complete.')\n",
    "    \n",
    "\n",
    "\n",
    "if __name__ == '__main__':\n",
    "    # intialize mongo client\n",
    "    client = MongoClient() # defaults to localhost\n",
    "    db = client.bills\n",
    "    \n",
    "    bill_details = db.bill_details    \n",
    "    mongo_import('bill_details', bill_details)\n",
    "\n",
    "    vote_results = db.vote_results    \n",
    "    mongo_import('vote_results', vote_results)\n",
    "\n",
    "\n",
    "        "
   ]
  },
  {
   "cell_type": "code",
   "execution_count": 5,
   "metadata": {},
   "outputs": [
    {
     "name": "stdout",
     "output_type": "stream",
     "text": [
      "/home/ubuntu/galvanize_capstone/src\r\n"
     ]
    }
   ],
   "source": [
    "!pwd"
   ]
  },
  {
   "cell_type": "code",
   "execution_count": null,
   "metadata": {},
   "outputs": [],
   "source": []
  }
 ],
 "metadata": {
  "kernelspec": {
   "display_name": "Python 3",
   "language": "python",
   "name": "python3"
  },
  "language_info": {
   "codemirror_mode": {
    "name": "ipython",
    "version": 3
   },
   "file_extension": ".py",
   "mimetype": "text/x-python",
   "name": "python",
   "nbconvert_exporter": "python",
   "pygments_lexer": "ipython3",
   "version": "3.7.0"
  }
 },
 "nbformat": 4,
 "nbformat_minor": 2
}
