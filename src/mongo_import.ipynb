{
 "cells": [
  {
   "cell_type": "code",
   "execution_count": 34,
   "metadata": {},
   "outputs": [
    {
     "name": "stdout",
     "output_type": "stream",
     "text": [
      "Overwriting mongo_import.py\n"
     ]
    }
   ],
   "source": [
    "%%writefile mongo_import.py\n",
    "'''\n",
    "script used to pull s3 files into mongo database\n",
    "'''\n",
    "\n",
    "from pymongo import MongoClient\n",
    "import bson.json_util\n",
    "import os\n",
    "import boto\n",
    "from boto.s3.connection import S3Connection, Location\n",
    "from boto.s3.key import Key\n",
    "from my_tools import read_jsonl_file\n",
    "\n",
    "# intialize mongo client\n",
    "client = MongoClient() # defaults to localhost\n",
    "db = client.bills\n",
    "bill_details = db.bill_details\n",
    "\n",
    "\n",
    "# create an AWS S3 connection\n",
    "conn = boto.s3.connect_to_region('us-west-2', host = 's3-us-west-2.amazonaws.com')\n",
    "\n",
    "legislation_bucket = conn.get_bucket('galvcap-leg')\n",
    "\n",
    "# print('Keys currently in bucket galvcap-leg: {}'.format(legislation_bucket.get_all_keys()))\n",
    "\n",
    "\n",
    "print('Pulling bill_details files from S3...')\n",
    "print('-------------------')\n",
    "for k in legislation_bucket:\n",
    "    filename = k.key\n",
    "    if filename.startswith('bill_details'):\n",
    "        k.get_contents_to_filename('../data/{}'.format(filename))\n",
    "\n",
    "for filename in os.listdir('../data'):\n",
    "    if filename.startswith('bill_details'):\n",
    "        print('Loading {} into mongo'.format(filename))\n",
    "        data = read_jsonl_file('../data/{}'.format(filename))\n",
    "        for record in data:\n",
    "            bill_details.insert_one(record)\n",
    "            \n",
    "        "
   ]
  },
  {
   "cell_type": "code",
   "execution_count": null,
   "metadata": {},
   "outputs": [],
   "source": []
  }
 ],
 "metadata": {
  "kernelspec": {
   "display_name": "Python 3",
   "language": "python",
   "name": "python3"
  },
  "language_info": {
   "codemirror_mode": {
    "name": "ipython",
    "version": 3
   },
   "file_extension": ".py",
   "mimetype": "text/x-python",
   "name": "python",
   "nbconvert_exporter": "python",
   "pygments_lexer": "ipython3",
   "version": "3.7.0"
  }
 },
 "nbformat": 4,
 "nbformat_minor": 2
}
