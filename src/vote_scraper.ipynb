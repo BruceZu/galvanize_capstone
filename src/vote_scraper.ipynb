{
 "cells": [
  {
   "cell_type": "code",
   "execution_count": 71,
   "metadata": {},
   "outputs": [],
   "source": [
    "# %%writefile vote_scraper.py\n",
    "from pymongo import MongoClient\n",
    "import pprint \n",
    "import pandas as pd \n",
    "import copy\n",
    "from bs4 import BeautifulSoup\n",
    "import requests\n",
    "import datetime\n",
    "\n",
    "from time import sleep\n",
    "import warnings\n",
    "\n",
    "import codecs\n",
    "import json\n",
    "\n",
    "import boto"
   ]
  },
  {
   "cell_type": "code",
   "execution_count": 17,
   "metadata": {},
   "outputs": [],
   "source": [
    "client = MongoClient('mongodb://localhost:27017/')\n",
    "db = client.bills\n",
    "vote_records = db.vote_records\n",
    "\n",
    "# the 101st Congress (1989 - 1990) starts on pg 1011 for pageSize=250\n",
    "house_url_root = 'http://clerk.house.gov/evs'\n",
    "\n",
    "\n",
    "def house_year_iterator(date_range, root_url):\n",
    "    print('_______________')\n",
    "    print('Beginning iterations for House data for years {} to {}'.format(min(date_range), max(date_range)))\n",
    "    print('_______________')\n",
    "    for yr in date_range:\n",
    "        site_url = '{}/{}/index.asp'.format(root_url, yr)\n",
    "        req = requests.get(site_url)\n",
    "        tstamp = datetime.datetime.now().strftime('%m-%d-%Y %H:%M:%S')\n",
    "        stat_code = req.status_code\n",
    "        if stat_code != 200:\n",
    "            print('_______________')\n",
    "            print('_______________')\n",
    "            print('Error requesting {}'.format(site_url))\n",
    "            print('Request Status Code: {}, {}'.format(stat_code, tstamp))\n",
    "            sleep(3)\n",
    "\n",
    "    print('Iterations through years of House data complete')\n",
    "    print('Last url requested: {}'.format(site_url))\n",
    "    print(\"Examine output above for occurrences in request errors, if any.\")"
   ]
  },
  {
   "cell_type": "code",
   "execution_count": 18,
   "metadata": {},
   "outputs": [],
   "source": [
    "date_range = list(range(1990, 2019))\n",
    "\n",
    "house_year_iterator(date_range, house_url_root)"
   ]
  },
  {
   "cell_type": "code",
   "execution_count": 8,
   "metadata": {},
   "outputs": [],
   "source": [
    "vote_url_head = 'http://clerk.house.gov/evs'"
   ]
  },
  {
   "cell_type": "code",
   "execution_count": 88,
   "metadata": {},
   "outputs": [],
   "source": [
    "def write_json_file(obj, path):\n",
    "    '''Dump an object and write it ous as json to a file'''\n",
    "    f = codecs.open(path, 'a', 'utf-8')\n",
    "    json_record = json.dumps(obj, ensure_ascii = False)\n",
    "    f.write(json_record + '\\n')\n",
    "    f.close"
   ]
  },
  {
   "cell_type": "code",
   "execution_count": 26,
   "metadata": {},
   "outputs": [],
   "source": [
    "def get_table_summary(root_url, yr, final_roll_id):\n",
    "    # get voting data by iterating through roll ids\n",
    "    for i in range(1, final_roll_id + 1):\n",
    "        # convert roll id to 3-digits for url\n",
    "        three_digit_roll = '{}'.format(str(i).zfill(3))\n",
    "        vote_table_url = '{}/{}/roll{}.xml'.format(root_url, yr, three_digit_roll)\n",
    "    #     print(vote_table_url)\n",
    "        req = requests.get(vote_table_url)\n",
    "        stat_code = req.status_code\n",
    "\n",
    "        # print verification that iterator is working\n",
    "        if i%100 == 0:\n",
    "            print('...................')\n",
    "            print('...on Roll ID {}'.format(i))\n",
    "\n",
    "        if stat_code != 200:\n",
    "            print('_______________')\n",
    "            print('_______________')\n",
    "            print(site_url)\n",
    "            print('Request Status Code: {}, {}'.format(stat_code, tstamp))\n",
    "\n",
    "    #     sleep(3)\n",
    "\n",
    "    print('Iterations through rolls for year {} complete.'.format(yr))\n",
    "    print('Last url: {}'.format(vote_table_url))\n",
    "    print(\"Examine output above for occurrences in request errors, if any.\")\n"
   ]
  },
  {
   "cell_type": "code",
   "execution_count": 28,
   "metadata": {},
   "outputs": [],
   "source": [
    "get_table_summary(vote_url_head, yr, final_roll)"
   ]
  },
  {
   "cell_type": "code",
   "execution_count": 31,
   "metadata": {},
   "outputs": [
    {
     "name": "stdout",
     "output_type": "stream",
     "text": [
      "_______________\n",
      "_______________\n",
      "http://clerk.house.gov/evs/1990/index.asp\n",
      "Request Status Code: 200, 12-10-2018 12:26:39\n",
      "Final Roll ID: 536\n"
     ]
    }
   ],
   "source": [
    "# test code with year 1990 for House votes\n",
    "site_url_root = 'http://clerk.house.gov/evs'\n",
    "yr = '1990'\n",
    "\n",
    "site_url = '{}/{}/index.asp'.format(site_url_root, yr)\n",
    "req = requests.get(site_url)\n",
    "tstamp = datetime.datetime.now().strftime('%m-%d-%Y %H:%M:%S')\n",
    "stat_code = req.status_code\n",
    "print('_______________')\n",
    "print('_______________')\n",
    "print(site_url)\n",
    "print('Request Status Code: {}, {}'.format(stat_code, tstamp))\n",
    "\n",
    "# use BeautifulSoup to find the data we need.\n",
    "soup = BeautifulSoup(req.content, 'lxml')\n",
    "# print(soup.prettify())\n",
    "\n",
    "table = soup.find('table')\n",
    "# print(table.prettify())\n",
    "\n",
    "rows = table.find_all('tr')\n",
    "\n",
    "# initial request of webpage will show the final table with the most recent roll call votes\n",
    "# get the largest value of roll for iteration\n",
    "final_roll = int(rows[1].find_all('a')[0].text.strip())\n",
    "print('Final Roll ID: {}'.format(final_roll))"
   ]
  },
  {
   "cell_type": "code",
   "execution_count": 29,
   "metadata": {},
   "outputs": [
    {
     "data": {
      "text/plain": [
       "'http://clerk.house.gov/evs/1990/roll223.xml'"
      ]
     },
     "execution_count": 29,
     "metadata": {},
     "output_type": "execute_result"
    }
   ],
   "source": [
    "vote_table_url"
   ]
  },
  {
   "cell_type": "code",
   "execution_count": 34,
   "metadata": {},
   "outputs": [
    {
     "name": "stdout",
     "output_type": "stream",
     "text": [
      "<tr><td><a href=\"http://clerk.house.gov/cgi-bin/vote.asp?year=1990&amp;rollnumber=536\">536</a></td>\n",
      "<td><font face=\"Arial\" size=\"-1\">27-Oct</font></td>\n",
      "<td><font face=\"Arial\" size=\"-1\"><a href=\"https://www.congress.gov/bill/101st-congress/senate-bill/280\">S 280</a></font></td>\n",
      "<td><font face=\"Arial\" size=\"-1\">SUSPEND THE RULES AND CONCUR IN S. ADTS. TO H. ADT</font></td>\n",
      "<td align=\"CENTER\"><font face=\"Arial\" size=\"-1\">F</font></td>\n",
      "<td><font face=\"Arial\" size=\"-1\">NIOBRARA RIVER DESIGNATION</font></td></tr>\n"
     ]
    }
   ],
   "source": [
    "print(rows[1])"
   ]
  },
  {
   "cell_type": "code",
   "execution_count": 45,
   "metadata": {},
   "outputs": [],
   "source": [
    "# all_rows = []\n",
    "empty_row = {\n",
    "            \"year\": yr,\n",
    "            \"roll\": None, \n",
    "            \"date\": None, \n",
    "            \"issue\": None,\n",
    "            \"question\": None,\n",
    "            \"result\": None,\n",
    "            \"description\": None\n",
    "            }"
   ]
  },
  {
   "cell_type": "code",
   "execution_count": 94,
   "metadata": {},
   "outputs": [],
   "source": [
    "# skip the header when reading table\n",
    "for row in rows[1:]:\n",
    "    new_row = copy.copy(empty_row)\n",
    "    columns = row.find_all('td')\n",
    "    new_row['roll'] = columns[0].text.strip()\n",
    "    new_row['date'] = columns[1].text.strip()\n",
    "    new_row['issue'] = columns[2].text.strip()\n",
    "    new_row['question'] = columns[3].text.strip()\n",
    "    new_row['result'] = columns[4].text.strip()\n",
    "    new_row['description'] = columns[5].text.strip()\n",
    "#     all_rows.append(new_row)\n",
    "    write_json_file(new_row, '../data/test_data.txt')"
   ]
  },
  {
   "cell_type": "code",
   "execution_count": 80,
   "metadata": {},
   "outputs": [
    {
     "data": {
      "text/plain": [
       "{'year': '1990',\n",
       " 'roll': '536',\n",
       " 'date': '27-Oct',\n",
       " 'issue': 'S 280',\n",
       " 'question': 'SUSPEND THE RULES AND CONCUR IN S. ADTS. TO H. ADT',\n",
       " 'result': 'F',\n",
       " 'description': 'NIOBRARA RIVER DESIGNATION'}"
      ]
     },
     "execution_count": 80,
     "metadata": {},
     "output_type": "execute_result"
    }
   ],
   "source": [
    "all_rows[0]      #all_rows is a list of dictionaries"
   ]
  },
  {
   "cell_type": "code",
   "execution_count": 88,
   "metadata": {},
   "outputs": [],
   "source": [
    "    \n",
    "def write_json_lines_file(list_of_objs, path):\n",
    "    '''dump an array of objects out as a json lines file'''\n",
    "    f = codecs.open(path, 'w', 'utf-8')\n",
    "    for row_object in list_of_objs:\n",
    "        json_record = json.dumps(row_object, ensure_ascii = False)\n",
    "        f.write(json_record + '\\n')\n",
    "    f.close()"
   ]
  },
  {
   "cell_type": "code",
   "execution_count": 91,
   "metadata": {},
   "outputs": [],
   "source": [
    "write_json_file(all_rows[2], '../data/test_data.txt')"
   ]
  },
  {
   "cell_type": "code",
   "execution_count": 82,
   "metadata": {},
   "outputs": [
    {
     "name": "stdout",
     "output_type": "stream",
     "text": [
      "/Users/u1b1700/Documents/Galvanize/galvanize_capstone/src\n"
     ]
    }
   ],
   "source": [
    "!pwd"
   ]
  },
  {
   "cell_type": "code",
   "execution_count": 61,
   "metadata": {},
   "outputs": [
    {
     "data": {
      "text/plain": [
       "[<Bucket: aws-logs-220699157430-us-west-2>,\n",
       " <Bucket: capstonetwi>,\n",
       " <Bucket: capstoneyelp112018>,\n",
       " <Bucket: galvcap-legislation>,\n",
       " <Bucket: magdielb1>]"
      ]
     },
     "execution_count": 61,
     "metadata": {},
     "output_type": "execute_result"
    }
   ],
   "source": [
    "# create an AWS S3 connection\n",
    "conn = boto.connect_s3()\n",
    "# print(conn)\n",
    "\n",
    "conn.get_all_buckets()"
   ]
  },
  {
   "cell_type": "code",
   "execution_count": 59,
   "metadata": {},
   "outputs": [],
   "source": [
    "# create a bucket for all of our project data\n",
    "# not needed after creation\n",
    "# legislation_bucket = conn.create_bucket('galvcap-legislation')"
   ]
  },
  {
   "cell_type": "code",
   "execution_count": 63,
   "metadata": {},
   "outputs": [
    {
     "data": {
      "text/plain": [
       "[]"
      ]
     },
     "execution_count": 63,
     "metadata": {},
     "output_type": "execute_result"
    }
   ],
   "source": [
    "legislation_bucket.get_all_keys()"
   ]
  },
  {
   "cell_type": "code",
   "execution_count": 67,
   "metadata": {},
   "outputs": [
    {
     "ename": "AttributeError",
     "evalue": "'list' object has no attribute 'tell'",
     "output_type": "error",
     "traceback": [
      "\u001b[0;31m---------------------------------------------------------------------------\u001b[0m",
      "\u001b[0;31mAttributeError\u001b[0m                            Traceback (most recent call last)",
      "\u001b[0;32m<ipython-input-67-06ed7cb10d02>\u001b[0m in \u001b[0;36m<module>\u001b[0;34m()\u001b[0m\n\u001b[1;32m      1\u001b[0m \u001b[0;31m# write data to S3\u001b[0m\u001b[0;34m\u001b[0m\u001b[0;34m\u001b[0m\u001b[0m\n\u001b[1;32m      2\u001b[0m \u001b[0mroll_summary_file\u001b[0m \u001b[0;34m=\u001b[0m \u001b[0mlegislation_bucket\u001b[0m\u001b[0;34m.\u001b[0m\u001b[0mnew_key\u001b[0m\u001b[0;34m(\u001b[0m\u001b[0;34m'roll_summaries.txt'\u001b[0m\u001b[0;34m)\u001b[0m\u001b[0;34m\u001b[0m\u001b[0m\n\u001b[0;32m----> 3\u001b[0;31m \u001b[0mroll_summary_file\u001b[0m\u001b[0;34m.\u001b[0m\u001b[0mset_contents_from_file\u001b[0m\u001b[0;34m(\u001b[0m\u001b[0mall_rows\u001b[0m\u001b[0;34m)\u001b[0m\u001b[0;34m\u001b[0m\u001b[0m\n\u001b[0m",
      "\u001b[0;32m/anaconda3/lib/python3.6/site-packages/boto/s3/key.py\u001b[0m in \u001b[0;36mset_contents_from_file\u001b[0;34m(self, fp, headers, replace, cb, num_cb, policy, md5, reduced_redundancy, query_args, encrypt_key, size, rewind)\u001b[0m\n\u001b[1;32m   1234\u001b[0m             \u001b[0;31m# programs remain that assume the older auto-rewind interface.\u001b[0m\u001b[0;34m\u001b[0m\u001b[0;34m\u001b[0m\u001b[0m\n\u001b[1;32m   1235\u001b[0m             \u001b[0;32mif\u001b[0m \u001b[0;32mnot\u001b[0m \u001b[0misinstance\u001b[0m\u001b[0;34m(\u001b[0m\u001b[0mfp\u001b[0m\u001b[0;34m,\u001b[0m \u001b[0mKeyFile\u001b[0m\u001b[0;34m)\u001b[0m\u001b[0;34m:\u001b[0m\u001b[0;34m\u001b[0m\u001b[0m\n\u001b[0;32m-> 1236\u001b[0;31m                 \u001b[0mspos\u001b[0m \u001b[0;34m=\u001b[0m \u001b[0mfp\u001b[0m\u001b[0;34m.\u001b[0m\u001b[0mtell\u001b[0m\u001b[0;34m(\u001b[0m\u001b[0;34m)\u001b[0m\u001b[0;34m\u001b[0m\u001b[0m\n\u001b[0m\u001b[1;32m   1237\u001b[0m                 \u001b[0mfp\u001b[0m\u001b[0;34m.\u001b[0m\u001b[0mseek\u001b[0m\u001b[0;34m(\u001b[0m\u001b[0;36m0\u001b[0m\u001b[0;34m,\u001b[0m \u001b[0mos\u001b[0m\u001b[0;34m.\u001b[0m\u001b[0mSEEK_END\u001b[0m\u001b[0;34m)\u001b[0m\u001b[0;34m\u001b[0m\u001b[0m\n\u001b[1;32m   1238\u001b[0m                 \u001b[0;32mif\u001b[0m \u001b[0mfp\u001b[0m\u001b[0;34m.\u001b[0m\u001b[0mtell\u001b[0m\u001b[0;34m(\u001b[0m\u001b[0;34m)\u001b[0m \u001b[0;34m==\u001b[0m \u001b[0mspos\u001b[0m\u001b[0;34m:\u001b[0m\u001b[0;34m\u001b[0m\u001b[0m\n",
      "\u001b[0;31mAttributeError\u001b[0m: 'list' object has no attribute 'tell'"
     ]
    }
   ],
   "source": [
    "# write data to S3\n",
    "roll_summary_file = legislation_bucket.new_key('roll_summaries.txt')\n",
    "roll_summary_file.set_contents_from_file(all_rows)"
   ]
  },
  {
   "cell_type": "code",
   "execution_count": null,
   "metadata": {},
   "outputs": [],
   "source": [
    "# \n"
   ]
  },
  {
   "cell_type": "code",
   "execution_count": null,
   "metadata": {},
   "outputs": [],
   "source": [
    "# if req.status_code == 200:\n",
    "#################\n",
    "browser.get(site_url)\n",
    "soup = BeautifulSoup(browser.page_source, 'lxml')\n",
    "# print(soup.prettify())\n",
    "div = soup.find('div', {'class':'row'})\n",
    "print(div.prettify())"
   ]
  },
  {
   "cell_type": "code",
   "execution_count": null,
   "metadata": {},
   "outputs": [],
   "source": [
    "# add page page html to mongo\n",
    "collection_name.insert_one({'lxml': req.content})\n",
    "\n",
    "\n",
    "# print result of load\n",
    "with open('data/load_results.txt', 'a') as f:\n",
    "    f.writelines('{}, {}, {}\\n'.format(site_url, stat_code, tstamp))\n",
    "f.close()\n",
    "\n",
    "\n",
    "##################\n",
    "# else: \n",
    "#     print('failed to get {}'.format(site_url))\n",
    "#     # print result of load\n",
    "#     with open('data/logs/load_results.txt', 'a') as f:\n",
    "#         f.writelines('{}, {}, {}\\n'.format(site_url, stat_code, tstamp))\n",
    "#     f.close()"
   ]
  }
 ],
 "metadata": {
  "kernelspec": {
   "display_name": "Python 3",
   "language": "python",
   "name": "python3"
  },
  "language_info": {
   "codemirror_mode": {
    "name": "ipython",
    "version": 3
   },
   "file_extension": ".py",
   "mimetype": "text/x-python",
   "name": "python",
   "nbconvert_exporter": "python",
   "pygments_lexer": "ipython3",
   "version": "3.6.5"
  }
 },
 "nbformat": 4,
 "nbformat_minor": 2
}
