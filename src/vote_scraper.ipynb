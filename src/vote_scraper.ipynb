{
 "cells": [
  {
   "cell_type": "code",
   "execution_count": 31,
   "metadata": {},
   "outputs": [],
   "source": [
    "# %%writefile vote_scraper.py\n",
    "from pymongo import MongoClient\n",
    "import pprint \n",
    "import pandas as pd \n",
    "import copy\n",
    "from bs4 import BeautifulSoup\n",
    "import requests\n",
    "import datetime\n",
    "\n",
    "from time import sleep\n",
    "import warnings\n",
    "\n",
    "client = MongoClient('mongodb://localhost:27017/')\n",
    "db = client.bills\n",
    "vote_records = db.vote_records\n",
    "\n",
    "# the 101st Congress (1989 - 1990) starts on pg 1011 for pageSize=250\n",
    "house_url_root = 'http://clerk.house.gov/evs'\n",
    "\n",
    "date_range = list(range(1990, 2019))\n",
    "print(date_range)\n",
    "\n",
    "for yr in date_range:\n",
    "    site_url = '{}/{}/index.asp'.format(house_url_root, yr)\n",
    "    req = requests.get(site_url)\n",
    "    tstamp = datetime.datetime.now().strftime('%m-%d-%Y %H:%M:%S')\n",
    "    stat_code = req.status_code\n",
    "    print('_______________')\n",
    "    print('_______________')\n",
    "    print(site_url)\n",
    "    print('Request Status Code: {}, {}'.format(stat_code, tstamp))"
   ]
  },
  {
   "cell_type": "code",
   "execution_count": 56,
   "metadata": {},
   "outputs": [
    {
     "name": "stdout",
     "output_type": "stream",
     "text": [
      "_______________\n",
      "_______________\n",
      "http://clerk.house.gov/evs/1990/index.asp\n",
      "Request Status Code: 200, 12-07-2018 17:17:34\n"
     ]
    }
   ],
   "source": [
    "site_url_root = 'http://clerk.house.gov/evs'\n",
    "yr = '1990'\n",
    "\n",
    "site_url = '{}/{}/index.asp'.format(site_url_root, yr)\n",
    "req = requests.get(site_url)\n",
    "tstamp = datetime.datetime.now().strftime('%m-%d-%Y %H:%M:%S')\n",
    "stat_code = req.status_code\n",
    "print('_______________')\n",
    "print('_______________')\n",
    "print(site_url)\n",
    "print('Request Status Code: {}, {}'.format(stat_code, tstamp))"
   ]
  },
  {
   "cell_type": "code",
   "execution_count": 57,
   "metadata": {},
   "outputs": [],
   "source": [
    "soup = BeautifulSoup(req.content, 'lxml')\n",
    "# print(soup.prettify())"
   ]
  },
  {
   "cell_type": "code",
   "execution_count": 58,
   "metadata": {},
   "outputs": [],
   "source": [
    "table = soup.find('table')\n",
    "# print(table.prettify())"
   ]
  },
  {
   "cell_type": "code",
   "execution_count": 59,
   "metadata": {},
   "outputs": [],
   "source": [
    "rows = table.find_all('tr')\n",
    "all_rows = []\n",
    "empty_row = {\n",
    "            \"year\": yr,\n",
    "            \"roll\": None, \n",
    "            \"issue\": None, \n",
    "            }"
   ]
  },
  {
   "cell_type": "code",
   "execution_count": 60,
   "metadata": {},
   "outputs": [],
   "source": [
    "# skip the header when reading table\n",
    "for row in rows[1:]:\n",
    "    new_row = copy.copy(empty_row)\n",
    "    columns = row.find_all('td')\n",
    "    new_row['roll'] = columns[0].text.strip()\n",
    "    new_row['issue'] = columns[2].text.strip()\n",
    "    all_rows.append(new_row)"
   ]
  },
  {
   "cell_type": "code",
   "execution_count": 61,
   "metadata": {},
   "outputs": [
    {
     "data": {
      "text/plain": [
       "[{'year': '1990', 'roll': '536', 'issue': 'S 280'},\n",
       " {'year': '1990', 'roll': '535', 'issue': 'H R 4793'},\n",
       " {'year': '1990', 'roll': '534', 'issue': 'S 3266'},\n",
       " {'year': '1990', 'roll': '533', 'issue': 'H J RES 687'},\n",
       " {'year': '1990', 'roll': '532', 'issue': 'H R 5769'},\n",
       " {'year': '1990', 'roll': '531', 'issue': 'H R 5114'},\n",
       " {'year': '1990', 'roll': '530', 'issue': 'S 358'},\n",
       " {'year': '1990', 'roll': '529', 'issue': 'H R 5399'},\n",
       " {'year': '1990', 'roll': '528', 'issue': 'H R 5835'},\n",
       " {'year': '1990', 'roll': '527', 'issue': 'H RES 537'},\n",
       " {'year': '1990', 'roll': '526', 'issue': 'H RES 531'},\n",
       " {'year': '1990', 'roll': '525', 'issue': 'S 1630'},\n",
       " {'year': '1990', 'roll': '524', 'issue': 'H RES 535'}]"
      ]
     },
     "execution_count": 61,
     "metadata": {},
     "output_type": "execute_result"
    }
   ],
   "source": [
    "all_rows"
   ]
  },
  {
   "cell_type": "code",
   "execution_count": null,
   "metadata": {},
   "outputs": [],
   "source": []
  },
  {
   "cell_type": "code",
   "execution_count": null,
   "metadata": {},
   "outputs": [],
   "source": []
  },
  {
   "cell_type": "code",
   "execution_count": null,
   "metadata": {},
   "outputs": [],
   "source": [
    "# if req.status_code == 200:\n",
    "#################\n",
    "browser.get(site_url)\n",
    "soup = BeautifulSoup(browser.page_source, 'lxml')\n",
    "# print(soup.prettify())\n",
    "div = soup.find('div', {'class':'row'})\n",
    "print(div.prettify())"
   ]
  },
  {
   "cell_type": "code",
   "execution_count": null,
   "metadata": {},
   "outputs": [],
   "source": [
    "# add page page html to mongo\n",
    "collection_name.insert_one({'lxml': req.content})\n",
    "\n",
    "\n",
    "# print result of load\n",
    "with open('data/load_results.txt', 'a') as f:\n",
    "    f.writelines('{}, {}, {}\\n'.format(site_url, stat_code, tstamp))\n",
    "f.close()\n",
    "\n",
    "\n",
    "##################\n",
    "# else: \n",
    "#     print('failed to get {}'.format(site_url))\n",
    "#     # print result of load\n",
    "#     with open('data/logs/load_results.txt', 'a') as f:\n",
    "#         f.writelines('{}, {}, {}\\n'.format(site_url, stat_code, tstamp))\n",
    "#     f.close()"
   ]
  }
 ],
 "metadata": {
  "kernelspec": {
   "display_name": "Python 3",
   "language": "python",
   "name": "python3"
  },
  "language_info": {
   "codemirror_mode": {
    "name": "ipython",
    "version": 3
   },
   "file_extension": ".py",
   "mimetype": "text/x-python",
   "name": "python",
   "nbconvert_exporter": "python",
   "pygments_lexer": "ipython3",
   "version": "3.6.5"
  }
 },
 "nbformat": 4,
 "nbformat_minor": 2
}
