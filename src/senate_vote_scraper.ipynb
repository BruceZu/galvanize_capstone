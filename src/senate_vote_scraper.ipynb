{
 "cells": [
  {
   "cell_type": "code",
   "execution_count": 1,
   "metadata": {},
   "outputs": [],
   "source": [
    "# %%writefile senate_vote_scraper.py\n",
    "from pymongo import MongoClient\n",
    "import pprint \n",
    "import pandas as pd \n",
    "import copy\n",
    "from bs4 import BeautifulSoup\n",
    "import pprint\n",
    "import requests\n",
    "import datetime"
   ]
  },
  {
   "cell_type": "code",
   "execution_count": 58,
   "metadata": {},
   "outputs": [],
   "source": [
    "# https://www.senate.gov/legislative/LIS/roll_call_lists/vote_menu_115_1.htm\n",
    "# https://www.senate.gov/legislative/LIS/roll_call_lists/vote_menu_101_1.htm\n",
    "# can I employ multithreading to get these quicker?\n",
    "\n",
    "root_url = 'https://www.senate.gov/legislative/LIS/roll_call_lists/vote_menu'\n"
   ]
  },
  {
   "cell_type": "code",
   "execution_count": null,
   "metadata": {},
   "outputs": [],
   "source": [
    "cong_ids = range(101, 116)\n",
    "years = range(1989, 2019)"
   ]
  },
  {
   "cell_type": "code",
   "execution_count": 14,
   "metadata": {},
   "outputs": [],
   "source": [
    "empty_row = {\n",
    "    'congress_id': None,\n",
    "    'session': None,\n",
    "    'vote_id': None, \n",
    "    'issue': None, \n",
    "    'result': None, \n",
    "    'question': None, \n",
    "    'desc': None, \n",
    "    'date': None,\n",
    "    'year': None, \n",
    "    'vote_results': None\n",
    "}"
   ]
  },
  {
   "cell_type": "code",
   "execution_count": 5,
   "metadata": {},
   "outputs": [],
   "source": [
    "site_url = '{}_{}_1.htm'.format(root_url, cong_ids[0])\n",
    "req = requests.get(site_url)\n",
    "tstamp = datetime.datetime.now().strftime('%m-%d-%Y %H:%M:%S')\n",
    "stat_code = req.status_code\n",
    "if stat_code != 200:\n",
    "    print('_______________')\n",
    "    print('_______________')\n",
    "    print('Error requesting {}'.format(site_url))\n",
    "    print('Request Status Code: {}, {}'.format(stat_code, tstamp))\n",
    "    sleep(3)\n",
    "\n",
    "if stat_code == 200:            \n",
    "#     final_roll = get_final_roll_id(root_url, yr)\n",
    "#     get_table_summary(root_url, yr, final_roll)\n",
    "    \n",
    "    # use BeautifulSoup to find the data we need.\n",
    "    soup = BeautifulSoup(req.content, 'lxml')\n",
    "    table = soup.find('table')\n",
    "    rows = table.find_all('tr')\n",
    "    "
   ]
  },
  {
   "cell_type": "code",
   "execution_count": 87,
   "metadata": {},
   "outputs": [
    {
     "ename": "AttributeError",
     "evalue": "'dict_values' object has no attribute 'index'",
     "output_type": "error",
     "traceback": [
      "\u001b[0;31m---------------------------------------------------------------------------\u001b[0m",
      "\u001b[0;31mAttributeError\u001b[0m                            Traceback (most recent call last)",
      "\u001b[0;32m<ipython-input-87-353875dded4b>\u001b[0m in \u001b[0;36m<module>\u001b[0;34m()\u001b[0m\n\u001b[0;32m----> 1\u001b[0;31m \u001b[0myr_cong_dict\u001b[0m\u001b[0;34m.\u001b[0m\u001b[0mvalues\u001b[0m\u001b[0;34m(\u001b[0m\u001b[0;34m)\u001b[0m\u001b[0;34m.\u001b[0m\u001b[0mindex\u001b[0m\u001b[0;34m(\u001b[0m\u001b[0;34m'1989'\u001b[0m\u001b[0;34m)\u001b[0m\u001b[0;34m\u001b[0m\u001b[0;34m\u001b[0m\u001b[0m\n\u001b[0m",
      "\u001b[0;31mAttributeError\u001b[0m: 'dict_values' object has no attribute 'index'"
     ]
    }
   ],
   "source": [
    "yr_cong_dict.values().index('1989')"
   ]
  },
  {
   "cell_type": "code",
   "execution_count": null,
   "metadata": {},
   "outputs": [],
   "source": [
    "for row in rows[1:]:\n",
    "        new_row = copy.copy(empty_row)\n",
    "        columns = row.find_all('td')\n",
    "        new_row['congress_id'] = cong_ids[0]\n",
    "        new_row['session'] = None\n",
    "        new_row['vote_id'] = re.sub(r'[^\\x00-\\x7F]+', ' ' ,columns[0].text).strip().split(' ')[0]\n",
    "        new_row['issue'] = columns[3].text.replace('.', ' ').replace('  ', ' ').upper().strip()\n",
    "        new_row['result'] = columns[1].text\n",
    "        new_row['question'] = columns[2].text.split(':', 1)[0]\n",
    "        new_row['desc'] = columns[2].text.split(':', 1)[1][1:]\n",
    "        new_row['date'] = re.sub(r'[^\\x00-\\x7F]+', ' ' ,columns[4].text).strip()\n",
    "        new_row['year'] = yr_cong_dict[]\n",
    "        new_row['vote_results'] = None\n",
    "        \n",
    "        \n",
    "        \n",
    "        \n",
    "        \n",
    "    "
   ]
  },
  {
   "cell_type": "code",
   "execution_count": 19,
   "metadata": {},
   "outputs": [
    {
     "name": "stdout",
     "output_type": "stream",
     "text": [
      "--------\n",
      "312 (99-0)\n",
      "--------\n",
      "Agreed to\n",
      "--------\n",
      "On the Resolution: S. Res. 217; A resolution deploring the escalating violence in El Salvador; condemning the killing of innocent civilians, including six Jesuit priests; and calling for an immediate cessation of hostilities.\n",
      "--------\n",
      "S.Res. 217\n",
      "--------\n",
      "Nov 21\n"
     ]
    }
   ],
   "source": [
    "columns = rows[1].find_all('td')\n",
    "for col in columns:\n",
    "    print('--------')\n",
    "    print(col.text.strip())"
   ]
  },
  {
   "cell_type": "code",
   "execution_count": null,
   "metadata": {},
   "outputs": [],
   "source": [
    "import re"
   ]
  },
  {
   "cell_type": "code",
   "execution_count": 57,
   "metadata": {},
   "outputs": [
    {
     "data": {
      "text/plain": [
       "'S. Res. 217; A resolution deploring the escalating violence in El Salvador; condemning the killing of innocent civilians, including six Jesuit priests; and calling for an immediate cessation of hostilities.'"
      ]
     },
     "execution_count": 57,
     "metadata": {},
     "output_type": "execute_result"
    }
   ],
   "source": [
    "columns[2].text.split(':', 1)[1][1:]"
   ]
  },
  {
   "cell_type": "code",
   "execution_count": 48,
   "metadata": {},
   "outputs": [
    {
     "data": {
      "text/plain": [
       "'312'"
      ]
     },
     "execution_count": 48,
     "metadata": {},
     "output_type": "execute_result"
    }
   ],
   "source": [
    "re.sub(r'[^\\x00-\\x7F]+', ' ' ,columns[0].text).strip().split(' ')[0]"
   ]
  },
  {
   "cell_type": "code",
   "execution_count": 12,
   "metadata": {},
   "outputs": [
    {
     "name": "stdout",
     "output_type": "stream",
     "text": [
      "--------\n",
      "<a href=\"/legislative/LIS/roll_call_lists/roll_call_vote_cfm.cfm?congress=101&amp;session=1&amp;vote=00312\">312 (99-0)</a>\n",
      "--------\n",
      "<a href=\"http://www.congress.gov/bill/101st-congress/senate-resolution/217\">S.Res. 217</a>\n"
     ]
    }
   ],
   "source": [
    "columns = rows[1].find_all('a')\n",
    "for col in columns:\n",
    "    print('--------')\n",
    "    print(col)"
   ]
  },
  {
   "cell_type": "code",
   "execution_count": null,
   "metadata": {},
   "outputs": [],
   "source": []
  }
 ],
 "metadata": {
  "kernelspec": {
   "display_name": "Python 3",
   "language": "python",
   "name": "python3"
  },
  "language_info": {
   "codemirror_mode": {
    "name": "ipython",
    "version": 3
   },
   "file_extension": ".py",
   "mimetype": "text/x-python",
   "name": "python",
   "nbconvert_exporter": "python",
   "pygments_lexer": "ipython3",
   "version": "3.7.1"
  }
 },
 "nbformat": 4,
 "nbformat_minor": 2
}
