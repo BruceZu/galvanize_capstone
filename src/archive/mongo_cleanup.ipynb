{
 "cells": [
  {
   "cell_type": "code",
   "execution_count": null,
   "metadata": {},
   "outputs": [],
   "source": [
    "%%writefile mongo_cleanup.py\n",
    "'''\n",
    "This script attempts to populate the bill text for each record in mongo database \n",
    "bills.bill_details if it doesn't already exist.\n",
    "'''\n",
    "from pymongo import MongoClient\n",
    "import bson.json_util\n",
    "from bs4 import BeautifulSoup\n",
    "import requests\n",
    "import json\n",
    "import codecs\n",
    "from random import randint\n",
    "from time import sleep\n",
    "import datetime\n",
    "import copy\n",
    "import pandas as pd\n",
    "\n",
    "\n",
    "\n",
    "def write_json_file(obj, path):\n",
    "    '''Dump an object and write it out as json to a file'''\n",
    "    f = codecs.open(path, 'a', 'utf-8')\n",
    "    json_record = json.dumps(obj, ensure_ascii = False)\n",
    "    f.write(json_record + '\\n')\n",
    "    f.close\n",
    "\n",
    "\n",
    "def url_builder(record_url):\n",
    "    '''\n",
    "    Builds endpoint url from leg_url in mongo. Endpoint url should be the site that \n",
    "    contains the text version of the bill.\n",
    "    \n",
    "    Parameters: a mongo record\n",
    "    \n",
    "    Returns:    url\n",
    "    '''\n",
    "    url_root = record_url.rsplit('?')[0]\n",
    "    return '{}/text?format=txt&r=1'.format(url_root)\n",
    "\n",
    "\n",
    "def get_bill_text(url):\n",
    "    '''\n",
    "    Scrapes the page at url to return the text of the bill.\n",
    "    \n",
    "    Parameters: url\n",
    "    \n",
    "    Returns: bill text, if it exists\n",
    "    '''\n",
    "    site_url = url\n",
    "\n",
    "    req = requests.get(site_url)\n",
    "    stat_code = req.status_code\n",
    "#     print(stat_code)\n",
    "\n",
    "    # if error in getting url, print and log the error\n",
    "    if stat_code != 200:\n",
    "        print('_______________')\n",
    "        print('_______________')\n",
    "        print('')\n",
    "        print('\\t{}'.format(site_url))\n",
    "        print('\\t\\tError in retrieving bill text.')\n",
    "        print('\\t\\tRequest Status Code: {}'.format(stat_code))\n",
    "        errored_line = {'url': site_url, 'error': stat_code}\n",
    "        write_json_file(errored_line, '../data/logs/bill_text_errors.jsonl')\n",
    "        print('Error logged in ../data/logs/bill_text_errors.jsonl')\n",
    "\n",
    "    if stat_code == 200:\n",
    "        soup = BeautifulSoup(req.content, 'lxml')\n",
    "        # print(soup.prettify())\n",
    "\n",
    "        # if there is no text, print and log the error\n",
    "        if soup.find('pre') is None:\n",
    "            print('_______________')\n",
    "            print('_______________')\n",
    "            print('\\t{}'.format(site_url))\n",
    "            print('\\t\\tError in retrieving bill text.')\n",
    "            print('\\t\\tNo text available for scraping.')\n",
    "            errored_line = {'url': site_url, 'error': 'no text available'}\n",
    "            write_json_file(errored_line, '../data/logs/bill_text_errors.jsonl')\n",
    "            print('\\t\\tReturned None and error logged in ../data/logs/bill_text_errors.jsonl')\n",
    "            \n",
    "            return None\n",
    "\n",
    "\n",
    "        # else scrape the text\n",
    "        else:\n",
    "            bill_txt = soup.find('pre').text\n",
    "            bill_txt = ' '.join(bill_txt.split())\n",
    "\n",
    "            return bill_txt\n",
    "\n",
    "\n",
    "def update_mongo_body(txt, bill_issue, cong_id, collection):  #this function is missing session \n",
    "    '''\n",
    "    Updates the body field in the mongo record specified by bill_issue (leg_id) and\n",
    "    cong_id (congress_id) from db.collection with txt.\n",
    "    \n",
    "    Parameters: txt - the text of the bill\n",
    "                bill_issue - value to filter on for key leg_id\n",
    "                cong_id - value to filter on for key congress_id\n",
    "                collection - the name of the mongo collection\n",
    "                \n",
    "    Returns: None\n",
    "    '''\n",
    "    \n",
    "    collection.update({'leg_id': bill_issue, 'congress_id': cong_id}, {'$set': {'body': txt}})\n",
    "\n",
    "    \n",
    "    \n",
    "    \n",
    "def update_mongo_votes(collection, cong_id, session, vote_id, votes):\n",
    "    '''\n",
    "    Updates the vote_results field in the mongo record specified by bill_id (leg_id) and\n",
    "    cong_id (congress_id) from db.collection with votes.\n",
    "    \n",
    "    Parameters:\n",
    "                collection - the name of the mongo collection\n",
    "                cong_id - value to filter on for key congress_id\n",
    "                bill_id - value to filter on for key leg_id\n",
    "                votes - json line of names, votes and other metadata\n",
    "\n",
    "    Returns: None\n",
    "    '''\n",
    "    \n",
    "    collection.update_one({'congress_id': int(cong_id), 'session': int(session), 'vote_id': str(vote_id)}, {'$set': {'vote_results': votes}})\n",
    "\n",
    "    \n",
    "    \n",
    "    \n",
    "    \n",
    "def get_vote_results(cong_id, session, vote_id):\n",
    "    '''\n",
    "    Gets the votes from individual Senators\n",
    "    \n",
    "    Parameters: cong_id - congress id\n",
    "                session - 1 or 2\n",
    "                vote_id - the id# of the vote or roll call\n",
    "                \n",
    "    Returns: dictionary with keys name, party, state, and vote\n",
    "    '''\n",
    "    # convert vote_id to 5-digit string for url\n",
    "    vote_id_ext = '{}'.format(str(vote_id).zfill(5))\n",
    "    \n",
    "    url_root = 'https://www.senate.gov/legislative/LIS/roll_call_lists/roll_call_vote_cfm.cfm?'\n",
    "    url_tail = 'congress={}&session={}&vote={}'.format(cong_id, session, vote_id_ext)\n",
    "    site_url = '{}{}'.format(url_root, url_tail)\n",
    "    \n",
    "    req = requests.get(site_url)\n",
    "    sleep_time = randint(0, 5)\n",
    "    sleep(sleep_time)\n",
    "\n",
    "    tstamp = datetime.datetime.now().strftime('%m-%d-%Y %H:%M:%S')\n",
    "    stat_code = req.status_code\n",
    "\n",
    "    # print verification that iterator is working\n",
    "    if int(vote_id)%50 == 0:\n",
    "        print('\\t\\t... getting results for Roll ID {}'.format(vote_id))\n",
    "        print('\\t\\t... working backwards ... ... ... ... ... ...')\n",
    "\n",
    "    if stat_code != 200:\n",
    "        print('_______________')\n",
    "        print('_______________')\n",
    "        print('\\t\\tError in retrieving vote results for Congress {}, Session {}, Vote Id {}'.format(cong_id, session, vote_id))\n",
    "        print('\\t\\tRequest Status Code: {}, {}'.format(stat_code, tstamp))\n",
    "        \n",
    "    \n",
    "\n",
    "    if stat_code == 200:\n",
    "        # use BeautifulSoup to find the data we need.\n",
    "        soup = BeautifulSoup(req.content, 'lxml')\n",
    "        recorded_votes = soup.find('span', {'class': 'contenttext'})\n",
    "\n",
    "        for br in recorded_votes.find_all('br'):\n",
    "            br.replace_with('\\n' + br.text)\n",
    "\n",
    "        all_rows = []\n",
    "        \n",
    "        empty_vote = {\n",
    "                    'name': None,\n",
    "                    'party': None,\n",
    "                    'state': None,\n",
    "                    'vote': None\n",
    "                    }\n",
    "        \n",
    "        for line in recorded_votes.text.split('\\n\\n'):\n",
    "            new_row = copy.copy(empty_vote)\n",
    "            if ',' in line:\n",
    "                vote = line.rsplit(', ', 1)[1]\n",
    "                senator = line.rsplit(', ', 1)[0]\n",
    "                new_row['vote'] = line.rsplit(', ', 1)[1]\n",
    "                new_row['name'] = senator.split(' (')[0]\n",
    "\n",
    "                rep = senator.split(' (')[1].strip(')')\n",
    "                new_row['party'] = rep.split('-')[0]\n",
    "                new_row['state'] = rep.split('-')[1]     \n",
    "                \n",
    "                all_rows.append(new_row)\n",
    "                \n",
    "        return(all_rows)\n",
    "    \n",
    "\n",
    "\n",
    "if __name__ == '__main__':\n",
    "    client = MongoClient() # defaults to localhost\n",
    "    db = client.bills\n",
    "#     bill_details = db.bill_details\n",
    "    senate_votes = db.senate_votes\n",
    "    \n",
    "#     # print out record counts\n",
    "#     print('--------------------')\n",
    "#     print('--------------------')\n",
    "#     print('Number of records in database: {}'.format(bill_details.find().count()))\n",
    "#     print('Ignoring RESOLUTIONS, CONCURRENT RESOLUTIONS, and AMENDMENTS for populating bills text.')\n",
    "    \n",
    "#     # iterate through date range in reverse\n",
    "#     date_range = range(1990, 2019)[::-1]\n",
    "\n",
    "#     for d in date_range:\n",
    "#         print('--------------------')\n",
    "#         print('Cleaning up year {}'.format(d))\n",
    "#         date_str = str(d)\n",
    "#         records_to_pop = bill_details.find({'leg_url': {'$regex': 'http'}, 'intro_date': {'$regex': date_str}, 'body': None})\n",
    "#         record_count = records_to_pop.count()\n",
    "#         print('--> Number of records with no text for year {}: {}'.format(d, record_count))\n",
    "\n",
    "\n",
    "#         i = 0\n",
    "#         for rec in records_to_pop:\n",
    "#             # ignore concurrent resolution and simple resolution\n",
    "#             if (rec['leg_type'] != 'CONCURRENT RESOLUTION') & (rec['leg_type'] != 'RESOLUTION') & (rec['leg_type'] != 'AMENDMENT'):\n",
    "#                 url = url_builder(rec['leg_url'])\n",
    "#                 # get bill text\n",
    "#                 bill_text = get_bill_text(url)\n",
    "\n",
    "#                 # update mongo record with bill text\n",
    "#                 bill_issue = rec['leg_id']\n",
    "#                 cong_id = rec['congress_id']\n",
    "#                 update_mongo_body(bill_text, bill_issue, cong_id, bill_details)\n",
    "\n",
    "#             i += 1\n",
    "#             if i%200 == 0:\n",
    "#                 print('\\t{:.2f}% complete'.format(100 * i / record_count))\n",
    "\n",
    "    # update senate_votes with vote_results\n",
    "    print('... gathering data where vote details are missing...')\n",
    "    missing_votes = senate_votes.find({'vote_results': None})\n",
    "\n",
    "    cols = ['_id', \n",
    "            'congress_id', \n",
    "            'session', \n",
    "            'vote_id', \n",
    "            'issue', \n",
    "            'result', \n",
    "            'question', \n",
    "            'desc', \n",
    "            'date', \n",
    "            'year', \n",
    "            'vote_results']\n",
    "    df = pd.DataFrame(columns = cols)\n",
    "\n",
    "    for i in range(missing_votes.count()):\n",
    "        df = df.append(pd.DataFrame.from_dict(missing_votes[i], orient='index').T, ignore_index=True)\n",
    "\n",
    "    print('{} records found without vote details'.format(df.shape[0]))\n",
    "    \n",
    "    for i in range(df.shape[0]):\n",
    "        cong_id = df.iloc[i, 1]\n",
    "        sess = df.iloc[i, 2]\n",
    "        vote_id = df.iloc[i, 3]\n",
    "\n",
    "        votes = get_vote_results(cong_id, sess, vote_id)\n",
    "        update_mongo_votes(senate_votes, cong_id, sess, vote_id, votes)\n",
    "\n",
    "        vote_upload = senate_votes.find_one({'congress_id': int(cong_id), 'session': int(sess), 'vote_id': str(vote_id)})\n",
    "        if vote_upload['vote_results'] is not None: \n",
    "            print('Vote upload successful for Congress {}, Session {}, Vote ID {}'.format(cong_id, sess, vote_id))\n",
    "        else:\n",
    "            print('\\t\\tERROR uploading votes for Congress {}, Session {}, Vote ID {}'.format(cong_id, sess, vote_id))\n",
    "    "
   ]
  },
  {
   "cell_type": "code",
   "execution_count": 1,
   "metadata": {},
   "outputs": [],
   "source": [
    "# exploration\n",
    "from pymongo import MongoClient\n",
    "import bson.json_util\n",
    "from bs4 import BeautifulSoup\n",
    "import requests\n",
    "import json\n",
    "import codecs\n",
    "import pandas as pd\n",
    "from random import randint\n",
    "from time import sleep\n",
    "import datetime\n",
    "import copy\n",
    "\n",
    "\n",
    "\n",
    "\n",
    "client = MongoClient() # defaults to localhost\n",
    "db = client.bills\n",
    "senate_votes = db.senate_votes\n"
   ]
  },
  {
   "cell_type": "code",
   "execution_count": 2,
   "metadata": {},
   "outputs": [],
   "source": [
    "votes = senate_votes.find()"
   ]
  },
  {
   "cell_type": "code",
   "execution_count": 5,
   "metadata": {},
   "outputs": [
    {
     "name": "stderr",
     "output_type": "stream",
     "text": [
      "/anaconda3/lib/python3.6/site-packages/ipykernel_launcher.py:2: DeprecationWarning: count is deprecated. Use Collection.count_documents instead.\n",
      "  \n"
     ]
    }
   ],
   "source": [
    "data = pd.DataFrame()\n",
    "for i in range(votes.count()):\n",
    "    data = data.append(pd.DataFrame.from_dict(votes[i], orient='index').T, ignore_index=True)\n"
   ]
  },
  {
   "cell_type": "code",
   "execution_count": 6,
   "metadata": {},
   "outputs": [
    {
     "data": {
      "text/plain": [
       "(4127, 11)"
      ]
     },
     "execution_count": 6,
     "metadata": {},
     "output_type": "execute_result"
    }
   ],
   "source": [
    "data.shape"
   ]
  },
  {
   "cell_type": "code",
   "execution_count": 8,
   "metadata": {},
   "outputs": [
    {
     "data": {
      "text/html": [
       "<div>\n",
       "<style scoped>\n",
       "    .dataframe tbody tr th:only-of-type {\n",
       "        vertical-align: middle;\n",
       "    }\n",
       "\n",
       "    .dataframe tbody tr th {\n",
       "        vertical-align: top;\n",
       "    }\n",
       "\n",
       "    .dataframe thead th {\n",
       "        text-align: right;\n",
       "    }\n",
       "</style>\n",
       "<table border=\"1\" class=\"dataframe\">\n",
       "  <thead>\n",
       "    <tr style=\"text-align: right;\">\n",
       "      <th></th>\n",
       "      <th>_id</th>\n",
       "      <th>congress_id</th>\n",
       "      <th>session</th>\n",
       "      <th>vote_id</th>\n",
       "      <th>issue</th>\n",
       "      <th>result</th>\n",
       "      <th>question</th>\n",
       "      <th>desc</th>\n",
       "      <th>date</th>\n",
       "      <th>year</th>\n",
       "      <th>vote_results</th>\n",
       "    </tr>\n",
       "  </thead>\n",
       "  <tbody>\n",
       "    <tr>\n",
       "      <th>0</th>\n",
       "      <td>5c23f633cd68d1091822c88b</td>\n",
       "      <td>115</td>\n",
       "      <td>1</td>\n",
       "      <td>325</td>\n",
       "      <td>H R 1370</td>\n",
       "      <td>Agreed to</td>\n",
       "      <td>On the Motion</td>\n",
       "      <td>Motion to Concur in the House Amendment to the...</td>\n",
       "      <td>Dec 21</td>\n",
       "      <td>2017</td>\n",
       "      <td>[{'name': 'Alexander', 'party': 'R', 'state': ...</td>\n",
       "    </tr>\n",
       "    <tr>\n",
       "      <th>1</th>\n",
       "      <td>5c23f639cd68d1091822c88c</td>\n",
       "      <td>115</td>\n",
       "      <td>1</td>\n",
       "      <td>324</td>\n",
       "      <td>H R 1370</td>\n",
       "      <td>Agreed to</td>\n",
       "      <td>On the Motion</td>\n",
       "      <td>Motion to Waive All Applicable Budgetary Disci...</td>\n",
       "      <td>Dec 21</td>\n",
       "      <td>2017</td>\n",
       "      <td>[{'name': 'Alexander', 'party': 'R', 'state': ...</td>\n",
       "    </tr>\n",
       "    <tr>\n",
       "      <th>2</th>\n",
       "      <td>5c23f63fcd68d1091822c88d</td>\n",
       "      <td>115</td>\n",
       "      <td>1</td>\n",
       "      <td>323</td>\n",
       "      <td>H R 1</td>\n",
       "      <td>Agreed to</td>\n",
       "      <td>On the Motion</td>\n",
       "      <td>Motion to Recede from the Senate Amendment to ...</td>\n",
       "      <td>Dec 20</td>\n",
       "      <td>2017</td>\n",
       "      <td>[{'name': 'Alexander', 'party': 'R', 'state': ...</td>\n",
       "    </tr>\n",
       "    <tr>\n",
       "      <th>3</th>\n",
       "      <td>5c23f642cd68d1091822c88e</td>\n",
       "      <td>115</td>\n",
       "      <td>1</td>\n",
       "      <td>322</td>\n",
       "      <td>H R 1</td>\n",
       "      <td>Rejected</td>\n",
       "      <td>On the Motion</td>\n",
       "      <td>Motion to Waive All Applicable Budget Resoluti...</td>\n",
       "      <td>Dec 20</td>\n",
       "      <td>2017</td>\n",
       "      <td>[{'name': 'Alexander', 'party': 'R', 'state': ...</td>\n",
       "    </tr>\n",
       "    <tr>\n",
       "      <th>4</th>\n",
       "      <td>5c23f648cd68d1091822c88f</td>\n",
       "      <td>115</td>\n",
       "      <td>1</td>\n",
       "      <td>321</td>\n",
       "      <td>H R 1</td>\n",
       "      <td>Agreed to</td>\n",
       "      <td>On the Motion to Proceed</td>\n",
       "      <td>Motion to Proceed to the Conference Report to ...</td>\n",
       "      <td>Dec 19</td>\n",
       "      <td>2017</td>\n",
       "      <td>None</td>\n",
       "    </tr>\n",
       "  </tbody>\n",
       "</table>\n",
       "</div>"
      ],
      "text/plain": [
       "                        _id congress_id session vote_id     issue     result  \\\n",
       "0  5c23f633cd68d1091822c88b         115       1     325  H R 1370  Agreed to   \n",
       "1  5c23f639cd68d1091822c88c         115       1     324  H R 1370  Agreed to   \n",
       "2  5c23f63fcd68d1091822c88d         115       1     323     H R 1  Agreed to   \n",
       "3  5c23f642cd68d1091822c88e         115       1     322     H R 1   Rejected   \n",
       "4  5c23f648cd68d1091822c88f         115       1     321     H R 1  Agreed to   \n",
       "\n",
       "                   question  \\\n",
       "0             On the Motion   \n",
       "1             On the Motion   \n",
       "2             On the Motion   \n",
       "3             On the Motion   \n",
       "4  On the Motion to Proceed   \n",
       "\n",
       "                                                desc    date  year  \\\n",
       "0  Motion to Concur in the House Amendment to the...  Dec 21  2017   \n",
       "1  Motion to Waive All Applicable Budgetary Disci...  Dec 21  2017   \n",
       "2  Motion to Recede from the Senate Amendment to ...  Dec 20  2017   \n",
       "3  Motion to Waive All Applicable Budget Resoluti...  Dec 20  2017   \n",
       "4  Motion to Proceed to the Conference Report to ...  Dec 19  2017   \n",
       "\n",
       "                                        vote_results  \n",
       "0  [{'name': 'Alexander', 'party': 'R', 'state': ...  \n",
       "1  [{'name': 'Alexander', 'party': 'R', 'state': ...  \n",
       "2  [{'name': 'Alexander', 'party': 'R', 'state': ...  \n",
       "3  [{'name': 'Alexander', 'party': 'R', 'state': ...  \n",
       "4                                               None  "
      ]
     },
     "execution_count": 8,
     "metadata": {},
     "output_type": "execute_result"
    }
   ],
   "source": [
    "data.head()"
   ]
  },
  {
   "cell_type": "code",
   "execution_count": 19,
   "metadata": {},
   "outputs": [
    {
     "data": {
      "text/plain": [
       "101    554\n",
       "111    551\n",
       "107    520\n",
       "108    468\n",
       "114    383\n",
       "112    370\n",
       "104    249\n",
       "105    244\n",
       "102    242\n",
       "115    211\n",
       "109    211\n",
       "113    124\n",
       "Name: congress_id, dtype: int64"
      ]
     },
     "execution_count": 19,
     "metadata": {},
     "output_type": "execute_result"
    }
   ],
   "source": [
    "data.congress_id.value_counts()#[115]"
   ]
  },
  {
   "cell_type": "code",
   "execution_count": 13,
   "metadata": {},
   "outputs": [],
   "source": [
    "small_df = data[data['vote_results'].notna()]"
   ]
  },
  {
   "cell_type": "code",
   "execution_count": 28,
   "metadata": {},
   "outputs": [
    {
     "data": {
      "text/plain": [
       "On Passage of the Bill                           410\n",
       "On the Cloture Motion                            296\n",
       "On the Motion                                    199\n",
       "On the Conference Report                         132\n",
       "On Cloture on the Motion to Proceed               98\n",
       "On the Joint Resolution                           69\n",
       "On the Motion to Proceed                          60\n",
       "On the Motion to Table                            57\n",
       "On the Motion for Attendance                      11\n",
       "On Overriding the Veto                            11\n",
       "On the Motion to Table the Motion to Recommit     11\n",
       "On the Motion to Recommit                          6\n",
       "On the Amendment                                   4\n",
       "On the Amendment S.Amdt. 69                        4\n",
       "On the Amendment S.Amdt. 3303                      4\n",
       "On the Amendment S.Amdt. 2100                      4\n",
       "On the Point of Order                              4\n",
       "On the Amendment S.Amdt. 115                       4\n",
       "On the Cloture Motion S.Amdt. 3801                 4\n",
       "On the Amendment S.Amdt. 816                       4\n",
       "On the Amendment S.Amdt. 246                       4\n",
       "On the Decision of the Chair                       4\n",
       "On the Cloture Motion S.Amdt. 2471                 3\n",
       "Whether the Amendment is Germane                   3\n",
       "On the Amendment S.Amdt. 14                        3\n",
       "On the Motion to Table S.Amdt. 33                  3\n",
       "On the Motion to Table S.Amdt. 146                 3\n",
       "On the Amendment S.Amdt. 713                       3\n",
       "On the Amendment S.Amdt. 27                        3\n",
       "On the Motion to Table S.Amdt. 25                  3\n",
       "                                                ... \n",
       "On the Motion to Table S.Amdt. 2837                1\n",
       "On the Motion to Table S.Amdt. 1826                1\n",
       "On the Amendment S.Amdt. 3827                      1\n",
       "On the Motion to Table S.Amdt. 3969                1\n",
       "On the Amendment S.Amdt. 4027                      1\n",
       "On the Amendment S.Amdt. 25                        1\n",
       "On the Motion to Table S.Amdt. 3669                1\n",
       "On the Amendment S.Amdt. 1782                      1\n",
       "On the Amendment S.Amdt. 4114                      1\n",
       "On the Motion to Table S.Amdt. 4995                1\n",
       "On the Amendment S.Amdt. 63                        1\n",
       "On the Motion to Table S.Amdt. 4463                1\n",
       "On the Amendment S.Amdt. 1542                      1\n",
       "On the Amendment S.Amdt. 425                       1\n",
       "On the Amendment S.Amdt. 995                       1\n",
       "On the Motion to Table S.Amdt. 50                  1\n",
       "On the Amendment S.Amdt. 1126                      1\n",
       "On the Amendment S.Amdt. 3724                      1\n",
       "On the Amendment S.Amdt. 1197                      1\n",
       "On the Amendment S.Amdt. 3961                      1\n",
       "On the Amendment S.Amdt. 768                       1\n",
       "On the Motion to Table S.Amdt. 1987                1\n",
       "On the Amendment S.Amdt. 1596                      1\n",
       "On the Amendment S.Amdt. 3617                      1\n",
       "On the Motion to Table S.Amdt. 3316                1\n",
       "On the Amendment S.Amdt. 2308                      1\n",
       "On the Motion to Table S.Amdt. 2314                1\n",
       "On the Motion to Table S.Amdt. 136                 1\n",
       "On the Motion to Table S.Amdt. 3338                1\n",
       "On the Motion to Table S.Amdt. 3520                1\n",
       "Name: question, Length: 2475, dtype: int64"
      ]
     },
     "execution_count": 28,
     "metadata": {},
     "output_type": "execute_result"
    }
   ],
   "source": [
    "data.question.value_counts()"
   ]
  },
  {
   "cell_type": "code",
   "execution_count": 25,
   "metadata": {},
   "outputs": [
    {
     "name": "stdout",
     "output_type": "stream",
     "text": [
      "111th Congress: Obtained votes for 244 of 551 records\n",
      "112th Congress: Obtained votes for 157 of 370 records\n",
      "113th Congress: Obtained votes for 45 of 124 records\n",
      "114th Congress: Obtained votes for 229 of 383 records\n",
      "115th Congress: Obtained votes for 186 of 211 records\n"
     ]
    }
   ],
   "source": [
    "for i in range(111, 116):\n",
    "    all_count = data.congress_id.value_counts()[i]\n",
    "    votes_obtained = small_df.congress_id.value_counts()[i]\n",
    "    print('{}th Congress: Obtained votes for {} of {} records'.format(i, votes_obtained, all_count))"
   ]
  },
  {
   "cell_type": "code",
   "execution_count": null,
   "metadata": {},
   "outputs": [],
   "source": [
    "missing_votes = senate_votes.find({'vote_results': None})\n",
    "\n",
    "cols = ['_id', \n",
    "        'congress_id', \n",
    "        'session', \n",
    "        'vote_id', \n",
    "        'issue', \n",
    "        'result', \n",
    "        'question', \n",
    "        'desc', \n",
    "        'date', \n",
    "        'year', \n",
    "        'vote_results']\n",
    "df = pd.DataFrame(columns = cols)\n",
    "\n",
    "for i in range(missing_votes.count()):\n",
    "    df = df.append(pd.DataFrame.from_dict(missing_votes[i], orient='index').T, ignore_index=True)\n",
    "\n",
    "\n",
    "df.head()"
   ]
  },
  {
   "cell_type": "code",
   "execution_count": null,
   "metadata": {},
   "outputs": [],
   "source": [
    "df.question.unique()"
   ]
  },
  {
   "cell_type": "code",
   "execution_count": null,
   "metadata": {},
   "outputs": [],
   "source": [
    "df.shape"
   ]
  },
  {
   "cell_type": "code",
   "execution_count": null,
   "metadata": {},
   "outputs": [],
   "source": [
    "small_df = df[df['congress_id'] == 115]"
   ]
  },
  {
   "cell_type": "code",
   "execution_count": null,
   "metadata": {},
   "outputs": [],
   "source": [
    "small_df.shape"
   ]
  },
  {
   "cell_type": "code",
   "execution_count": null,
   "metadata": {},
   "outputs": [],
   "source": [
    "small_df.congress_id.unique()"
   ]
  },
  {
   "cell_type": "code",
   "execution_count": null,
   "metadata": {},
   "outputs": [],
   "source": [
    "small_df"
   ]
  },
  {
   "cell_type": "code",
   "execution_count": null,
   "metadata": {},
   "outputs": [],
   "source": [
    "for i in small_df.issue.unique():\n",
    "    print(i)"
   ]
  },
  {
   "cell_type": "code",
   "execution_count": null,
   "metadata": {},
   "outputs": [],
   "source": []
  },
  {
   "cell_type": "code",
   "execution_count": null,
   "metadata": {},
   "outputs": [],
   "source": []
  },
  {
   "cell_type": "code",
   "execution_count": null,
   "metadata": {},
   "outputs": [],
   "source": [
    "# https://www.senate.gov/legislative/LIS/roll_call_lists/roll_call_vote_cfm.cfm?congress=115&session=2&vote=00140\n",
    "url_root = 'https://www.senate.gov/legislative/LIS/roll_call_lists/roll_call_vote_cfm.cfm?'\n",
    "for i in range(df.shape[0]):\n",
    "    cong_id = df.iloc[i, 1]\n",
    "    sess = df.iloc[i, 2]\n",
    "    vote_id = df.iloc[i, 3]\n",
    "    \n",
    "    votes = get_votes_results(cong_id, sess, vote_id)\n",
    "    update_mongo_votes(senate_votes, cong_id, sess, vote_id, votes)\n",
    "\n",
    "    print(site_url)"
   ]
  },
  {
   "cell_type": "code",
   "execution_count": null,
   "metadata": {},
   "outputs": [],
   "source": [
    "site_url = 'https://www.senate.gov/legislative/LIS/roll_call_lists/roll_call_vote_cfm.cfm?congress=113&session=1&vote=00199'"
   ]
  },
  {
   "cell_type": "code",
   "execution_count": null,
   "metadata": {},
   "outputs": [],
   "source": [
    "req = requests.get(site_url)\n",
    "sleep_time = randint(0, 5)\n",
    "sleep(sleep_time)\n",
    "\n",
    "tstamp = datetime.datetime.now().strftime('%m-%d-%Y %H:%M:%S')\n",
    "stat_code = req.status_code\n",
    "print(stat_code)"
   ]
  },
  {
   "cell_type": "code",
   "execution_count": null,
   "metadata": {},
   "outputs": [],
   "source": [
    "cong_id"
   ]
  },
  {
   "cell_type": "code",
   "execution_count": null,
   "metadata": {},
   "outputs": [],
   "source": [
    "sess"
   ]
  },
  {
   "cell_type": "code",
   "execution_count": null,
   "metadata": {},
   "outputs": [],
   "source": [
    "vote_id = 199"
   ]
  },
  {
   "cell_type": "code",
   "execution_count": null,
   "metadata": {},
   "outputs": [],
   "source": [
    "site_url"
   ]
  },
  {
   "cell_type": "code",
   "execution_count": null,
   "metadata": {},
   "outputs": [],
   "source": [
    "results = get_vote_results(115, 1, 321)"
   ]
  },
  {
   "cell_type": "code",
   "execution_count": null,
   "metadata": {},
   "outputs": [],
   "source": [
    "record = senate_votes.find_one({'congress_id': cong_id, 'session': sess, 'vote_id': str(vote_id)})\n",
    "record"
   ]
  },
  {
   "cell_type": "code",
   "execution_count": null,
   "metadata": {},
   "outputs": [],
   "source": [
    "update_mongo_votes(senate_votes, cong_id, sess, vote_id, results)"
   ]
  },
  {
   "cell_type": "code",
   "execution_count": null,
   "metadata": {},
   "outputs": [],
   "source": [
    "results"
   ]
  },
  {
   "cell_type": "code",
   "execution_count": null,
   "metadata": {},
   "outputs": [],
   "source": [
    "senate_votes.find().count()"
   ]
  },
  {
   "cell_type": "code",
   "execution_count": null,
   "metadata": {},
   "outputs": [],
   "source": []
  },
  {
   "cell_type": "code",
   "execution_count": null,
   "metadata": {},
   "outputs": [],
   "source": [
    "t = list(bill_details.find({'num_of_cosponsors': 'TXT'}))"
   ]
  },
  {
   "cell_type": "code",
   "execution_count": null,
   "metadata": {},
   "outputs": [],
   "source": [
    "# lost HJ RES 45 , 111th congress when trying to update it"
   ]
  },
  {
   "cell_type": "code",
   "execution_count": null,
   "metadata": {},
   "outputs": [],
   "source": [
    "bill_details.update({'num_of_cosponsors': 'TXT', 'congress_id': '111th'}, \n",
    "                   {'$set': {'num_of_cosponsors': '0'}})"
   ]
  },
  {
   "cell_type": "code",
   "execution_count": null,
   "metadata": {},
   "outputs": [],
   "source": [
    "site_url = 'https://www.congress.gov/amendment/115th-congress/house-amendment/982/text?format=txt&r=1'\n",
    "req = requests.get(site_url)\n",
    "stat_code = req.status_code\n",
    "print(stat_code)"
   ]
  },
  {
   "cell_type": "code",
   "execution_count": null,
   "metadata": {},
   "outputs": [],
   "source": [
    "soup = BeautifulSoup(req.content, 'lxml')\n",
    "# print(soup.prettify())\n",
    "\n",
    "pre = soup.find('pre')\n",
    "\n",
    "print(pre)"
   ]
  },
  {
   "cell_type": "code",
   "execution_count": null,
   "metadata": {},
   "outputs": [],
   "source": [
    "soup.find('pre') is None"
   ]
  },
  {
   "cell_type": "code",
   "execution_count": null,
   "metadata": {},
   "outputs": [],
   "source": []
  }
 ],
 "metadata": {
  "kernelspec": {
   "display_name": "Python 3",
   "language": "python",
   "name": "python3"
  },
  "language_info": {
   "codemirror_mode": {
    "name": "ipython",
    "version": 3
   },
   "file_extension": ".py",
   "mimetype": "text/x-python",
   "name": "python",
   "nbconvert_exporter": "python",
   "pygments_lexer": "ipython3",
   "version": "3.6.5"
  }
 },
 "nbformat": 4,
 "nbformat_minor": 2
}
