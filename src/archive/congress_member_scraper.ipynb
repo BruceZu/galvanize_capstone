{
 "cells": [
  {
   "cell_type": "code",
   "execution_count": 103,
   "metadata": {},
   "outputs": [
    {
     "name": "stdout",
     "output_type": "stream",
     "text": [
      "Overwriting congress_member_scraper.py\n"
     ]
    }
   ],
   "source": [
    "%%writefile congress_member_scraper.py\n",
    "from pymongo import MongoClient\n",
    "import pprint \n",
    "import pandas as pd \n",
    "import copy\n",
    "from bs4 import BeautifulSoup\n",
    "import pprint\n",
    "import requests\n",
    "import datetime\n",
    "import re\n",
    "import os\n",
    "from random import randint\n",
    "import datetime\n",
    "from time import sleep\n",
    "\n",
    "\n",
    "\n",
    "\n",
    "def get_soup(url):\n",
    "    '''\n",
    "    Get soup object from url to be parsed out in another function. If status code != 200, \n",
    "    prints out error message.\n",
    "    \n",
    "    Parameters: url\n",
    "    \n",
    "    Returns: BeautifulSoup object\n",
    "    '''\n",
    "    req = requests.get(url)\n",
    "    sleep_time = randint(0, 11)\n",
    "    sleep(sleep_time)\n",
    "    stat_code = req.status_code\n",
    "\n",
    "    if stat_code != 200:\n",
    "        print('_______________')\n",
    "        print('_______________')\n",
    "        print('Error requesting {}'.format(url))\n",
    "        print('Request Status Code: {}'.format(stat_code))\n",
    "\n",
    "    if stat_code == 200:            \n",
    "        print('_______________')\n",
    "        print('_______________')\n",
    "        print('\\tRetrieving soup from {}'.format(url))\n",
    "        soup = BeautifulSoup(req.content, 'lxml')\n",
    "        \n",
    "        return soup\n",
    "    \n",
    "    \n",
    "\n",
    "def soup_details_to_mongo(cong_id, soup, collection):\n",
    "    # initialize emtpy_row to populate info\n",
    "    empty_row = {\n",
    "        'congress_id': cong_id,\n",
    "        'name': None,\n",
    "        'chamber': None,\n",
    "        'state': None,\n",
    "        'party': None\n",
    "    }\n",
    "    \n",
    "    table = soup.find('div', {'id': 'main'})\n",
    "\n",
    "    # house members have district, senate members do not\n",
    "    for content in table.find_all('li', {'class': 'expanded'}):\n",
    "        new_row = copy.copy(empty_row)\n",
    "        details = content.find_all('span')\n",
    "\n",
    "        # split title from name\n",
    "        title_name = details[1].text\n",
    "        title = title_name.split(' ', 1)[0]\n",
    "        rep_name = title_name.split(' ', 1)[1]\n",
    "        new_row['name'] = rep_name\n",
    "\n",
    "        # get state\n",
    "        new_row['state'] = details[3].text\n",
    "\n",
    "        # house and senate details are in different spans \n",
    "        if 'Representative' in title:\n",
    "            new_row['chamber'] = 'House'\n",
    "\n",
    "        if 'Senator' in title:\n",
    "            new_row['chamber'] = 'Senate'\n",
    "\n",
    "        # party info in different locations throughout body, iterate through to find\n",
    "        for i in range(len(details[2:])):\n",
    "            if 'Party' in details[i].text:\n",
    "                new_row['party'] = details[i + 1].text\n",
    "\n",
    "        collection.insert_one(new_row)\n",
    "    \n",
    "    \n",
    "\n",
    "\n",
    "if __name__ == '__main__':\n",
    "    #initialize Mongo database and collection\n",
    "    client = MongoClient()\n",
    "    db = client.bills\n",
    "    members = db.members\n",
    "\n",
    "    cong_ids = range(110, 116)\n",
    "    pages = range(1, 4)\n",
    "    url_root = 'https://www.congress.gov/members?q=%7B%22congress%22%3A%22'\n",
    "\n",
    "    for i in cong_ids[::-1]:\n",
    "        for p in pages:\n",
    "            url_tail = '{}%22%7D&pageSize=250&page={}'.format(i, p)\n",
    "            site_url = '{}{}'.format(url_root, url_tail)\n",
    "            print('Attempting to retrieve members from Congress {}, page {}'.format(i, p))\n",
    "            soup = get_soup(site_url)\n",
    "            soup_details_to_mongo(i, soup, members)\n"
   ]
  },
  {
   "cell_type": "code",
   "execution_count": 104,
   "metadata": {},
   "outputs": [],
   "source": [
    "# exploration\n",
    "import pandas as pd\n",
    "from pymongo import MongoClient"
   ]
  },
  {
   "cell_type": "code",
   "execution_count": 105,
   "metadata": {},
   "outputs": [],
   "source": [
    "client = MongoClient()\n",
    "db = client.bills\n",
    "members = db.members\n"
   ]
  },
  {
   "cell_type": "code",
   "execution_count": 106,
   "metadata": {},
   "outputs": [
    {
     "name": "stderr",
     "output_type": "stream",
     "text": [
      "/anaconda3/lib/python3.6/site-packages/ipykernel_launcher.py:1: DeprecationWarning: count is deprecated. Use Collection.count_documents instead.\n",
      "  \"\"\"Entry point for launching an IPython kernel.\n"
     ]
    },
    {
     "data": {
      "text/plain": [
       "3328"
      ]
     },
     "execution_count": 106,
     "metadata": {},
     "output_type": "execute_result"
    }
   ],
   "source": [
    "members.find().count()"
   ]
  },
  {
   "cell_type": "code",
   "execution_count": 112,
   "metadata": {},
   "outputs": [],
   "source": [
    "r = members.find({'name': 'Allen, Rick W.'})"
   ]
  },
  {
   "cell_type": "code",
   "execution_count": 113,
   "metadata": {},
   "outputs": [
    {
     "name": "stdout",
     "output_type": "stream",
     "text": [
      "{'_id': ObjectId('5c26604ecd68d104b304e80e'), 'congress_id': 115, 'name': 'Allen, Rick W.', 'chamber': 'House', 'state': 'Georgia', 'party': 'Republican'}\n",
      "{'_id': ObjectId('5c26605fcd68d104b304ea3f'), 'congress_id': 114, 'name': 'Allen, Rick W.', 'chamber': 'House', 'state': 'Georgia', 'party': 'Republican'}\n"
     ]
    }
   ],
   "source": [
    "for i in r:\n",
    "    print (i)"
   ]
  },
  {
   "cell_type": "code",
   "execution_count": null,
   "metadata": {},
   "outputs": [],
   "source": []
  }
 ],
 "metadata": {
  "kernelspec": {
   "display_name": "Python 3",
   "language": "python",
   "name": "python3"
  },
  "language_info": {
   "codemirror_mode": {
    "name": "ipython",
    "version": 3
   },
   "file_extension": ".py",
   "mimetype": "text/x-python",
   "name": "python",
   "nbconvert_exporter": "python",
   "pygments_lexer": "ipython3",
   "version": "3.6.5"
  }
 },
 "nbformat": 4,
 "nbformat_minor": 2
}
