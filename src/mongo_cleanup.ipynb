{
 "cells": [
  {
   "cell_type": "code",
   "execution_count": 21,
   "metadata": {},
   "outputs": [
    {
     "name": "stdout",
     "output_type": "stream",
     "text": [
      "Overwriting mongo_cleanup.py\n"
     ]
    }
   ],
   "source": [
    "%%writefile mongo_cleanup.py\n",
    "'''\n",
    "This script attempts to populate the bill text for each record in mongo database \n",
    "bills.bill_details if it doesn't already exist.\n",
    "'''\n",
    "from pymongo import MongoClient\n",
    "import bson.json_util\n",
    "from bs4 import BeautifulSoup\n",
    "import requests\n",
    "import json\n",
    "import codecs\n",
    "\n",
    "\n",
    "def write_json_file(obj, path):\n",
    "    '''Dump an object and write it out as json to a file'''\n",
    "    f = codecs.open(path, 'a', 'utf-8')\n",
    "    json_record = json.dumps(obj, ensure_ascii = False)\n",
    "    f.write(json_record + '\\n')\n",
    "    f.close\n",
    "\n",
    "\n",
    "def url_builder(record_url):\n",
    "    '''\n",
    "    Builds endpoint url from leg_url in mongo. Endpoint url should be the site that \n",
    "    contains the text version of the bill.\n",
    "    \n",
    "    Parameters: a mongo record\n",
    "    \n",
    "    Returns:    url\n",
    "    '''\n",
    "    url_root = record_url.rsplit('?')[0]\n",
    "    return '{}/text?format=txt&r=1'.format(url_root)\n",
    "\n",
    "\n",
    "def get_bill_text(url):\n",
    "    '''\n",
    "    Scrapes the page at url to return the text of the bill.\n",
    "    \n",
    "    Parameters: url\n",
    "    \n",
    "    Returns: bill text, if it exists\n",
    "    '''\n",
    "    site_url = url\n",
    "\n",
    "    req = requests.get(site_url)\n",
    "    stat_code = req.status_code\n",
    "#     print(stat_code)\n",
    "\n",
    "    # if error in getting url, print and log the error\n",
    "    if stat_code != 200:\n",
    "        print('_______________')\n",
    "        print('_______________')\n",
    "        print('')\n",
    "        print('\\t{}'.format(site_url))\n",
    "        print('\\t\\tError in retrieving bill text.')\n",
    "        print('\\t\\tRequest Status Code: {}'.format(stat_code))\n",
    "        errored_line = {'url': site_url, 'error': stat_code}\n",
    "        write_json_file(errored_line, '../data/logs/bill_text_errors.jsonl')\n",
    "        print('Error logged in ../data/logs/bill_text_errors.jsonl')\n",
    "\n",
    "    if stat_code == 200:\n",
    "        soup = BeautifulSoup(req.content, 'lxml')\n",
    "        # print(soup.prettify())\n",
    "\n",
    "        # if there is no text, print and log the error\n",
    "        if soup.find('pre') is None:\n",
    "            print('_______________')\n",
    "            print('_______________')\n",
    "            print('\\t{}'.format(site_url))\n",
    "            print('\\t\\tError in retrieving bill text.')\n",
    "            print('\\t\\tNo text available for scraping.')\n",
    "            errored_line = {'url': site_url, 'error': 'no text available'}\n",
    "            write_json_file(errored_line, '../data/logs/bill_text_errors.jsonl')\n",
    "            print('\\t\\tReturned None and error logged in ../data/logs/bill_text_errors.jsonl')\n",
    "            \n",
    "            return None\n",
    "\n",
    "\n",
    "        # else scrape the text\n",
    "        else:\n",
    "            bill_txt = soup.find('pre').text\n",
    "            bill_txt = ' '.join(bill_txt.split())\n",
    "\n",
    "            return bill_txt\n",
    "\n",
    "\n",
    "def update_mongo_body(txt, bill_issue, cong_id, collection):\n",
    "    '''\n",
    "    Updates the body field in the mongo record specified by bill_issue (leg_id) and\n",
    "    cong_id (congress_id) from db.collection with txt.\n",
    "    \n",
    "    Parameters: txt - the text of the bill\n",
    "                bill_issue - value to filter on for key leg_id\n",
    "                cong_id - value to filter on for key congress_id\n",
    "                collection - the name of the mongo collection\n",
    "                \n",
    "    Returns: None\n",
    "    '''\n",
    "    \n",
    "    collection.update({'leg_id': bill_issue, 'congress_id': cong_id}, {'$set': {'body': txt}})\n",
    "\n",
    "    \n",
    "\n",
    "  \n",
    "\n",
    "  \n",
    "\n",
    "if __name__ == '__main__':\n",
    "    client = MongoClient() # defaults to localhost\n",
    "    db = client.bills\n",
    "    bill_details = db.bill_details\n",
    "\n",
    "    # print out record counts\n",
    "    print('--------------------')\n",
    "    print('--------------------')\n",
    "    print('Number of records in database: {}'.format(bill_details.find().count()))\n",
    "    print('Ignoring RESOLUTIONS, CONCURRENT RESOLUTIONS, and AMENDMENTS for populating bills text.')\n",
    "    \n",
    "    # iterate through date range in reverse\n",
    "    date_range = range(1990, 2019)[::-1]\n",
    "\n",
    "    for d in date_range:\n",
    "        print('--------------------')\n",
    "        print('Cleaning up year {}'.format(d))\n",
    "        date_str = str(d)\n",
    "        records_to_pop = bill_details.find({'leg_url': {'$regex': 'http'}, 'intro_date': {'$regex': date_str}, 'body': None})\n",
    "        record_count = records_to_pop.count()\n",
    "        print('--> Number of records with no text for year {}: {}'.format(d, record_count))\n",
    "\n",
    "\n",
    "        i = 0\n",
    "        for rec in records_to_pop:\n",
    "            # ignore concurrent resolution and simple resolution\n",
    "            if (rec['leg_type'] != 'CONCURRENT RESOLUTION') & (rec['leg_type'] != 'RESOLUTION') & (rec['leg_type'] != 'AMENDMENT'):\n",
    "                url = url_builder(rec['leg_url'])\n",
    "                # get bill text\n",
    "                bill_text = get_bill_text(url)\n",
    "\n",
    "                # update mongo record with bill text\n",
    "                bill_issue = rec['leg_id']\n",
    "                cong_id = rec['congress_id']\n",
    "                update_mongo_body(bill_text, bill_issue, cong_id, bill_details)\n",
    "\n",
    "            i += 1\n",
    "            if i%200 == 0:\n",
    "                print('\\t{:.2f}% complete'.format(100 * i / record_count))"
   ]
  },
  {
   "cell_type": "code",
   "execution_count": 16,
   "metadata": {},
   "outputs": [],
   "source": [
    "# exploration\n",
    "from pymongo import MongoClient\n",
    "import bson.json_util\n",
    "from bs4 import BeautifulSoup\n",
    "import requests\n",
    "import json\n",
    "import codecs\n",
    "\n",
    "client = MongoClient() # defaults to localhost\n",
    "db = client.bills\n",
    "bill_details = db.bill_details\n"
   ]
  },
  {
   "cell_type": "code",
   "execution_count": 16,
   "metadata": {},
   "outputs": [
    {
     "name": "stdout",
     "output_type": "stream",
     "text": [
      "200\n"
     ]
    }
   ],
   "source": [
    "site_url = 'https://www.congress.gov/amendment/115th-congress/house-amendment/982/text?format=txt&r=1'\n",
    "req = requests.get(site_url)\n",
    "stat_code = req.status_code\n",
    "print(stat_code)"
   ]
  },
  {
   "cell_type": "code",
   "execution_count": 18,
   "metadata": {},
   "outputs": [
    {
     "name": "stdout",
     "output_type": "stream",
     "text": [
      "None\n"
     ]
    }
   ],
   "source": [
    "soup = BeautifulSoup(req.content, 'lxml')\n",
    "# print(soup.prettify())\n",
    "\n",
    "pre = soup.find('pre')\n",
    "\n",
    "print(pre)"
   ]
  },
  {
   "cell_type": "code",
   "execution_count": 19,
   "metadata": {},
   "outputs": [
    {
     "data": {
      "text/plain": [
       "True"
      ]
     },
     "execution_count": 19,
     "metadata": {},
     "output_type": "execute_result"
    }
   ],
   "source": [
    "soup.find('pre') is None"
   ]
  },
  {
   "cell_type": "code",
   "execution_count": 17,
   "metadata": {},
   "outputs": [
    {
     "data": {
      "text/plain": [
       "{'_id': ObjectId('5c11d642cd68d16918e58ea9'),\n",
       " 'leg_id': 'H R 7211',\n",
       " 'leg_type': 'BILL',\n",
       " 'leg_url': 'https://www.congress.gov/bill/115th-congress/house-bill/7211?r=1',\n",
       " 'intro_date': '11/30/2018',\n",
       " 'congress_id': '115th',\n",
       " 'desc': 'To amend the Mineral Leasing Act to authorize the Secretary of the Interior to regulate hydraulic fracturing operations on Federal lands, and for other purposes.',\n",
       " 'sponsor': 'Rep. Soto, Darren',\n",
       " 'sponsor_party': 'FL',\n",
       " 'sponsor_state': 'D',\n",
       " 'sponsor_district': '9',\n",
       " 'num_of_cosponsors': '0',\n",
       " 'cosponsors_url': None,\n",
       " 'cosponsors': None,\n",
       " 'committee': 'House - Natural Resources, Energy and Commerce',\n",
       " 'bill_status': 'Introduced',\n",
       " 'body': \"[Congressional Bills 115th Congress] [From the U.S. Government Publishing Office] [H.R. 7211 Introduced in House (IH)] <DOC> 115th CONGRESS 2d Session H. R. 7211 To amend the Mineral Leasing Act to authorize the Secretary of the Interior to regulate hydraulic fracturing operations on Federal lands, and for other purposes. _______________________________________________________________________ IN THE HOUSE OF REPRESENTATIVES November 30, 2018 Mr. Soto introduced the following bill; which was referred to the Committee on Natural Resources, and in addition to the Committee on Energy and Commerce, for a period to be subsequently determined by the Speaker, in each case for consideration of such provisions as fall within the jurisdiction of the committee concerned _______________________________________________________________________ A BILL To amend the Mineral Leasing Act to authorize the Secretary of the Interior to regulate hydraulic fracturing operations on Federal lands, and for other purposes. Be it enacted by the Senate and House of Representatives of the United States of America in Congress assembled, SECTION 1. AUTHORITY OF BLM TO REGULATE HYDRAULIC FRACTURING OPERATIONS. (a) Authority of BLM To Regulate Hydraulic Fracturing Operations.-- The Mineral Leasing Act (30 U.S.C. 181 et seq.) is amended-- (1) by redesignating section 44 as section 45; and (2) by adding after section 43 the following: ``SEC. 44. HYDRAULIC FRACTURING OPERATIONS. ``(a) Regulatory Authority.--The Secretary of the Interior, acting through the Director of the Bureau of Land Management, shall regulate hydraulic fracturing operations on Federal lands under the administration of such Secretary with respect to the purposes of this Act. ``(b) Requirements on Operators.--The Secretary of the Interior, acting through the Director of the Bureau of Land Management, shall require as a condition of receiving a permit or other authorization under this section an operator to-- ``(1) conduct baseline water testing; and ``(2) disclose to the public on an Internet website the chemicals used by such operator to conduct hydraulic fracturing operations. ``(c) Definition of Hydraulic Fracturing Operations.--The term `hydraulic fracturing operations'-- ``(1) means those operations conducted in an individual wellbore designed to increase the flow of hydrocarbons from the rock formation to the wellbore through modifying the permeability of reservoir rock by applying fluids under pressure to fracture it; and ``(2) does not include enhanced secondary recovery such as water flooding, tertiary recovery, recovery through steam injection, or other types of well stimulation operations such as acidizing.''. (b) Definition of Underground Injection.--Section 1421 of the Safe Drinking Water Act (42 U.S.C. 300h) is amended-- (1) by amending subsection (d)(1)(B) to read as follows: ``(B) excludes the underground injection of natural gas for purposes of storage.''. <all>\"}"
      ]
     },
     "execution_count": 17,
     "metadata": {},
     "output_type": "execute_result"
    }
   ],
   "source": [
    "bill_details.find_one()"
   ]
  },
  {
   "cell_type": "code",
   "execution_count": null,
   "metadata": {},
   "outputs": [],
   "source": []
  }
 ],
 "metadata": {
  "kernelspec": {
   "display_name": "Python 3",
   "language": "python",
   "name": "python3"
  },
  "language_info": {
   "codemirror_mode": {
    "name": "ipython",
    "version": 3
   },
   "file_extension": ".py",
   "mimetype": "text/x-python",
   "name": "python",
   "nbconvert_exporter": "python",
   "pygments_lexer": "ipython3",
   "version": "3.7.0"
  }
 },
 "nbformat": 4,
 "nbformat_minor": 2
}
