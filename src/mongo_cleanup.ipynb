{
 "cells": [
  {
   "cell_type": "code",
   "execution_count": 22,
   "metadata": {},
   "outputs": [
    {
     "name": "stdout",
     "output_type": "stream",
     "text": [
      "Overwriting mongo_cleanup.py\n"
     ]
    }
   ],
   "source": [
    "%%writefile mongo_cleanup.py\n",
    "'''\n",
    "This script attempts to populate the bill text for each record in mongo database \n",
    "bills.bill_details if it doesn't already exist.\n",
    "'''\n",
    "from pymongo import MongoClient\n",
    "import bson.json_util\n",
    "from bs4 import BeautifulSoup\n",
    "import requests\n",
    "import json\n",
    "import codecs\n",
    "\n",
    "\n",
    "def write_json_file(obj, path):\n",
    "    '''Dump an object and write it out as json to a file'''\n",
    "    f = codecs.open(path, 'a', 'utf-8')\n",
    "    json_record = json.dumps(obj, ensure_ascii = False)\n",
    "    f.write(json_record + '\\n')\n",
    "    f.close\n",
    "\n",
    "\n",
    "def url_builder(record_url):\n",
    "    '''\n",
    "    Builds endpoint url from leg_url in mongo. Endpoint url should be the site that \n",
    "    contains the text version of the bill.\n",
    "    \n",
    "    Parameters: a mongo record\n",
    "    \n",
    "    Returns:    url\n",
    "    '''\n",
    "    url_root = record_url.rsplit('?')[0]\n",
    "    return '{}/text?format=txt&r=1'.format(url_root)\n",
    "\n",
    "\n",
    "def get_bill_text(url):\n",
    "    '''\n",
    "    Scrapes the page at url to return the text of the bill.\n",
    "    \n",
    "    Parameters: url\n",
    "    \n",
    "    Returns: bill text, if it exists\n",
    "    '''\n",
    "    site_url = url\n",
    "\n",
    "    req = requests.get(site_url)\n",
    "    stat_code = req.status_code\n",
    "#     print(stat_code)\n",
    "\n",
    "    # if error in getting url, print and log the error\n",
    "    if stat_code != 200:\n",
    "        print('_______________')\n",
    "        print('_______________')\n",
    "        print('')\n",
    "        print('\\t{}'.format(site_url))\n",
    "        print('\\t\\tError in retrieving bill text.')\n",
    "        print('\\t\\tRequest Status Code: {}'.format(stat_code))\n",
    "        errored_line = {'url': site_url, 'error': stat_code}\n",
    "        write_json_file(errored_line, '../data/logs/bill_text_errors.jsonl')\n",
    "        print('Error logged in ../data/logs/bill_text_errors.jsonl')\n",
    "\n",
    "    if stat_code == 200:\n",
    "        soup = BeautifulSoup(req.content, 'lxml')\n",
    "        # print(soup.prettify())\n",
    "\n",
    "        # if there is no text, print and log the error\n",
    "        if soup.find('pre') is None:\n",
    "            print('_______________')\n",
    "            print('_______________')\n",
    "            print('\\t{}'.format(site_url))\n",
    "            print('\\t\\tError in retrieving bill text.')\n",
    "            print('\\t\\tNo text available for scraping.')\n",
    "            errored_line = {'url': site_url, 'error': 'no text available'}\n",
    "            write_json_file(errored_line, '../data/logs/bill_text_errors.jsonl')\n",
    "            print('\\t\\tReturned None and error logged in ../data/logs/bill_text_errors.jsonl')\n",
    "            \n",
    "            return None\n",
    "\n",
    "\n",
    "        # else scrape the text\n",
    "        else:\n",
    "            bill_txt = soup.find('pre').text\n",
    "            bill_txt = ' '.join(bill_txt.split())\n",
    "\n",
    "            return bill_txt\n",
    "\n",
    "\n",
    "def update_mongo_body(txt, bill_issue, cong_id, collection):\n",
    "    '''\n",
    "    Updates the body field in the mongo record specified by bill_issue (leg_id) and\n",
    "    cong_id (congress_id) from db.collection with txt.\n",
    "    \n",
    "    Parameters: txt - the text of the bill\n",
    "                bill_issue - value to filter on for key leg_id\n",
    "                cong_id - value to filter on for key congress_id\n",
    "                collection - the name of the mongo collection\n",
    "                \n",
    "    Returns: None\n",
    "    '''\n",
    "    \n",
    "    collection.update({'leg_id': bill_issue, 'congress_id': cong_id}, {'$set': {'body': txt}})\n",
    "\n",
    "    \n",
    "\n",
    "  \n",
    "\n",
    "  \n",
    "\n",
    "if __name__ == '__main__':\n",
    "    client = MongoClient() # defaults to localhost\n",
    "    db = client.bills\n",
    "    bill_details = db.bill_details\n",
    "\n",
    "    # print out record counts\n",
    "    print('--> Number of records in database: {}'.format(bill_details.find().count()))\n",
    "\n",
    "    records_to_pop = bill_details.find({'leg_url': {'$regex': 'http'}, 'body': None})\n",
    "    record_count = records_to_pop.count()\n",
    "    print('--> Number of records with no text: {}'.format(record_count))\n",
    "    \n",
    "    \n",
    "    i = 0\n",
    "    for rec in records_to_pop:\n",
    "        # ignore concurrent resolution and simple resolution\n",
    "        if (rec['leg_type'] != 'CONCURRENT RESOLUTION') & (rec['leg_type'] != 'RESOLUTION') & (rec['leg_type'] != 'AMENDMENT'):\n",
    "            url = url_builder(rec['leg_url'])\n",
    "            # get bill text\n",
    "            bill_text = get_bill_text(url)\n",
    "\n",
    "            # update mongo record with bill text\n",
    "            bill_issue = rec['leg_id']\n",
    "            cong_id = rec['congress_id']\n",
    "            update_mongo_body(bill_text, bill_issue, cong_id, bill_details)\n",
    "\n",
    "        i += 1\n",
    "        if i%200 == 0:\n",
    "            print('{:.2f}% complete'.format(100 * i / record_count))"
   ]
  },
  {
   "cell_type": "code",
   "execution_count": 15,
   "metadata": {},
   "outputs": [],
   "source": [
    "# exploration\n",
    "from pymongo import MongoClient\n",
    "import bson.json_util\n",
    "from bs4 import BeautifulSoup\n",
    "import requests\n",
    "import json\n",
    "import codecs\n",
    "\n",
    "client = MongoClient() # defaults to localhost\n",
    "db = client.bills\n",
    "bill_details = db.bill_details\n"
   ]
  },
  {
   "cell_type": "code",
   "execution_count": 16,
   "metadata": {},
   "outputs": [
    {
     "name": "stdout",
     "output_type": "stream",
     "text": [
      "200\n"
     ]
    }
   ],
   "source": [
    "site_url = 'https://www.congress.gov/amendment/115th-congress/house-amendment/982/text?format=txt&r=1'\n",
    "req = requests.get(site_url)\n",
    "stat_code = req.status_code\n",
    "print(stat_code)"
   ]
  },
  {
   "cell_type": "code",
   "execution_count": 18,
   "metadata": {},
   "outputs": [
    {
     "name": "stdout",
     "output_type": "stream",
     "text": [
      "None\n"
     ]
    }
   ],
   "source": [
    "soup = BeautifulSoup(req.content, 'lxml')\n",
    "# print(soup.prettify())\n",
    "\n",
    "pre = soup.find('pre')\n",
    "\n",
    "print(pre)"
   ]
  },
  {
   "cell_type": "code",
   "execution_count": 19,
   "metadata": {},
   "outputs": [
    {
     "data": {
      "text/plain": [
       "True"
      ]
     },
     "execution_count": 19,
     "metadata": {},
     "output_type": "execute_result"
    }
   ],
   "source": [
    "soup.find('pre') is None"
   ]
  },
  {
   "cell_type": "code",
   "execution_count": null,
   "metadata": {},
   "outputs": [],
   "source": []
  }
 ],
 "metadata": {
  "kernelspec": {
   "display_name": "Python 3",
   "language": "python",
   "name": "python3"
  },
  "language_info": {
   "codemirror_mode": {
    "name": "ipython",
    "version": 3
   },
   "file_extension": ".py",
   "mimetype": "text/x-python",
   "name": "python",
   "nbconvert_exporter": "python",
   "pygments_lexer": "ipython3",
   "version": "3.6.5"
  }
 },
 "nbformat": 4,
 "nbformat_minor": 2
}
