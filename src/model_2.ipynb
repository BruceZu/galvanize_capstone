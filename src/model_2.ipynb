{
 "cells": [
  {
   "cell_type": "code",
   "execution_count": 1,
   "metadata": {},
   "outputs": [],
   "source": [
    "# %%writefile model_2.py\n",
    "import numpy as np\n",
    "import pandas as pd\n",
    "from pymongo import MongoClient\n",
    "import pprint\n",
    "import string\n",
    "import re\n",
    "import datetime\n",
    "\n",
    "from my_tools import get_bill_data, process_corpus\n",
    "\n",
    "\n",
    "from sklearn.feature_extraction.text import CountVectorizer, TfidfVectorizer\n",
    "from sklearn.decomposition import NMF\n",
    "\n",
    "from sklearn.metrics.pairwise import linear_kernel\n",
    "from sklearn.preprocessing import normalize\n",
    "from sklearn.metrics import recall_score, precision_score, accuracy_score, confusion_matrix\n",
    "\n",
    "from nltk.tokenize import word_tokenize, wordpunct_tokenize, RegexpTokenizer\n",
    "from nltk.stem.snowball import SnowballStemmer\n",
    "from nltk.stem.wordnet  import WordNetLemmatizer\n",
    "from nltk.corpus import stopwords\n",
    "from nltk.util import ngrams, skipgrams\n",
    "\n",
    "\n",
    "from sklearn.model_selection import train_test_split\n",
    "from sklearn.naive_bayes import MultinomialNB#, ComplementNB unreleased as of 12/14\n",
    "\n",
    "import matplotlib.pyplot as plt\n",
    "plt.style.use('ggplot')"
   ]
  },
  {
   "cell_type": "code",
   "execution_count": 2,
   "metadata": {},
   "outputs": [
    {
     "name": "stdout",
     "output_type": "stream",
     "text": [
      "------------------\n",
      "Creating column 'labels'...\n"
     ]
    },
    {
     "name": "stderr",
     "output_type": "stream",
     "text": [
      "/anaconda3/lib/python3.6/site-packages/pandas/core/indexing.py:362: SettingWithCopyWarning: \n",
      "A value is trying to be set on a copy of a slice from a DataFrame.\n",
      "Try using .loc[row_indexer,col_indexer] = value instead\n",
      "\n",
      "See the caveats in the documentation: http://pandas.pydata.org/pandas-docs/stable/indexing.html#indexing-view-versus-copy\n",
      "  self.obj[key] = _infer_fill_value(value)\n",
      "/anaconda3/lib/python3.6/site-packages/pandas/core/indexing.py:543: SettingWithCopyWarning: \n",
      "A value is trying to be set on a copy of a slice from a DataFrame.\n",
      "Try using .loc[row_indexer,col_indexer] = value instead\n",
      "\n",
      "See the caveats in the documentation: http://pandas.pydata.org/pandas-docs/stable/indexing.html#indexing-view-versus-copy\n",
      "  self.obj[item] = s\n"
     ]
    },
    {
     "name": "stdout",
     "output_type": "stream",
     "text": [
      "------------------\n",
      "------------------\n",
      "Data is from the 110th Congress (2007) to present\n",
      "------------------\n"
     ]
    }
   ],
   "source": [
    "data = get_bill_data()"
   ]
  },
  {
   "cell_type": "code",
   "execution_count": 9,
   "metadata": {},
   "outputs": [
    {
     "name": "stdout",
     "output_type": "stream",
     "text": [
      "<class 'pandas.core.frame.DataFrame'>\n",
      "Int64Index: 50039 entries, 24 to 12026\n",
      "Data columns (total 19 columns):\n",
      "_id                  50039 non-null object\n",
      "bill_status          50039 non-null object\n",
      "body                 50039 non-null object\n",
      "committee            49574 non-null object\n",
      "congress_id          50039 non-null object\n",
      "cosponsors           0 non-null object\n",
      "cosponsors_url       35495 non-null object\n",
      "desc                 50039 non-null object\n",
      "intro_date           50039 non-null datetime64[ns]\n",
      "leg_id               50039 non-null object\n",
      "leg_type             50039 non-null object\n",
      "leg_url              50039 non-null object\n",
      "num_of_cosponsors    50039 non-null object\n",
      "sponsor              50036 non-null object\n",
      "sponsor_district     33822 non-null object\n",
      "sponsor_party        50036 non-null object\n",
      "sponsor_state        50036 non-null object\n",
      "bill_char_counts     50039 non-null int64\n",
      "labels               50039 non-null object\n",
      "dtypes: datetime64[ns](1), int64(1), object(17)\n",
      "memory usage: 7.6+ MB\n"
     ]
    }
   ],
   "source": [
    "data.info()"
   ]
  },
  {
   "cell_type": "code",
   "execution_count": 27,
   "metadata": {},
   "outputs": [
    {
     "name": "stdout",
     "output_type": "stream",
     "text": [
      "2007-01-04 00:00:00 2018-11-29 00:00:00\n"
     ]
    }
   ],
   "source": [
    "print(data['intro_date'].min(), data['intro_date'].max())"
   ]
  },
  {
   "cell_type": "code",
   "execution_count": 31,
   "metadata": {},
   "outputs": [
    {
     "data": {
      "text/html": [
       "<div>\n",
       "<style scoped>\n",
       "    .dataframe tbody tr th:only-of-type {\n",
       "        vertical-align: middle;\n",
       "    }\n",
       "\n",
       "    .dataframe tbody tr th {\n",
       "        vertical-align: top;\n",
       "    }\n",
       "\n",
       "    .dataframe thead th {\n",
       "        text-align: right;\n",
       "    }\n",
       "</style>\n",
       "<table border=\"1\" class=\"dataframe\">\n",
       "  <thead>\n",
       "    <tr style=\"text-align: right;\">\n",
       "      <th></th>\n",
       "      <th>_id</th>\n",
       "      <th>bill_status</th>\n",
       "      <th>body</th>\n",
       "      <th>committee</th>\n",
       "      <th>congress_id</th>\n",
       "      <th>cosponsors</th>\n",
       "      <th>cosponsors_url</th>\n",
       "      <th>desc</th>\n",
       "      <th>intro_date</th>\n",
       "      <th>leg_id</th>\n",
       "      <th>leg_type</th>\n",
       "      <th>leg_url</th>\n",
       "      <th>num_of_cosponsors</th>\n",
       "      <th>sponsor</th>\n",
       "      <th>sponsor_district</th>\n",
       "      <th>sponsor_party</th>\n",
       "      <th>sponsor_state</th>\n",
       "      <th>bill_char_counts</th>\n",
       "      <th>labels</th>\n",
       "    </tr>\n",
       "  </thead>\n",
       "  <tbody>\n",
       "    <tr>\n",
       "      <th>24</th>\n",
       "      <td>5c11d642cd68d16918e58ec1</td>\n",
       "      <td>Became Law</td>\n",
       "      <td>[Congressional Bills 115th Congress] [From the...</td>\n",
       "      <td>House - Financial Services</td>\n",
       "      <td>115th</td>\n",
       "      <td>None</td>\n",
       "      <td>None</td>\n",
       "      <td>To extend the National Flood Insurance Program...</td>\n",
       "      <td>2018-11-29</td>\n",
       "      <td>H R 7187</td>\n",
       "      <td>LAW</td>\n",
       "      <td>https://www.congress.gov/bill/115th-congress/h...</td>\n",
       "      <td>0</td>\n",
       "      <td>Rep. MacArthur, Thomas</td>\n",
       "      <td>3</td>\n",
       "      <td>NJ</td>\n",
       "      <td>R</td>\n",
       "      <td>1115</td>\n",
       "      <td>1</td>\n",
       "    </tr>\n",
       "    <tr>\n",
       "      <th>314</th>\n",
       "      <td>5c11d643cd68d16918e58fe3</td>\n",
       "      <td>Became Law</td>\n",
       "      <td>[Congressional Bills 115th Congress] [From the...</td>\n",
       "      <td>House - Transportation and Infrastructure, Way...</td>\n",
       "      <td>115th</td>\n",
       "      <td>None</td>\n",
       "      <td>None</td>\n",
       "      <td>Airport and Airway Extension Act of 2018, Part II</td>\n",
       "      <td>2018-09-26</td>\n",
       "      <td>H R 6897</td>\n",
       "      <td>LAW</td>\n",
       "      <td>https://www.congress.gov/bill/115th-congress/h...</td>\n",
       "      <td>0</td>\n",
       "      <td>Rep. Shuster, Bill</td>\n",
       "      <td>9</td>\n",
       "      <td>PA</td>\n",
       "      <td>R</td>\n",
       "      <td>3585</td>\n",
       "      <td>1</td>\n",
       "    </tr>\n",
       "    <tr>\n",
       "      <th>315</th>\n",
       "      <td>5c11d643cd68d16918e58fe4</td>\n",
       "      <td>Became Law</td>\n",
       "      <td>[Congressional Bills 115th Congress] [From the...</td>\n",
       "      <td>House - Judiciary | Senate - Judiciary</td>\n",
       "      <td>115th</td>\n",
       "      <td>None</td>\n",
       "      <td>https://www.congress.gov/bill/115th-congress/h...</td>\n",
       "      <td>United States Parole Commission Extension Act ...</td>\n",
       "      <td>2018-09-26</td>\n",
       "      <td>H R 6896</td>\n",
       "      <td>LAW</td>\n",
       "      <td>https://www.congress.gov/bill/115th-congress/h...</td>\n",
       "      <td>1</td>\n",
       "      <td>Rep. Sensenbrenner, F. James, Jr.</td>\n",
       "      <td>5</td>\n",
       "      <td>WI</td>\n",
       "      <td>R</td>\n",
       "      <td>8388</td>\n",
       "      <td>1</td>\n",
       "    </tr>\n",
       "    <tr>\n",
       "      <th>341</th>\n",
       "      <td>5c11d643cd68d16918e58ffe</td>\n",
       "      <td>Became Law</td>\n",
       "      <td>[115th Congress Public Law 277] [From the U.S....</td>\n",
       "      <td>House - Oversight and Government Reform, Finan...</td>\n",
       "      <td>115th</td>\n",
       "      <td>None</td>\n",
       "      <td>None</td>\n",
       "      <td>To rename the Stop Trading on Congressional Kn...</td>\n",
       "      <td>2018-09-25</td>\n",
       "      <td>H R 6870</td>\n",
       "      <td>LAW</td>\n",
       "      <td>https://www.congress.gov/bill/115th-congress/h...</td>\n",
       "      <td>0</td>\n",
       "      <td>Rep. Tonko, Paul</td>\n",
       "      <td>20</td>\n",
       "      <td>NY</td>\n",
       "      <td>D</td>\n",
       "      <td>1209</td>\n",
       "      <td>1</td>\n",
       "    </tr>\n",
       "    <tr>\n",
       "      <th>453</th>\n",
       "      <td>5c11d643cd68d16918e5906e</td>\n",
       "      <td>Became Law</td>\n",
       "      <td>[Congressional Bills 115th Congress] [From the...</td>\n",
       "      <td>House - Judiciary</td>\n",
       "      <td>115th</td>\n",
       "      <td>None</td>\n",
       "      <td>https://www.congress.gov/bill/115th-congress/h...</td>\n",
       "      <td>SUCCESS Act</td>\n",
       "      <td>2018-09-10</td>\n",
       "      <td>H R 6758</td>\n",
       "      <td>LAW</td>\n",
       "      <td>https://www.congress.gov/bill/115th-congress/h...</td>\n",
       "      <td>10</td>\n",
       "      <td>Rep. Chabot, Steve</td>\n",
       "      <td>1</td>\n",
       "      <td>OH</td>\n",
       "      <td>R</td>\n",
       "      <td>3924</td>\n",
       "      <td>1</td>\n",
       "    </tr>\n",
       "  </tbody>\n",
       "</table>\n",
       "</div>"
      ],
      "text/plain": [
       "                          _id bill_status  \\\n",
       "24   5c11d642cd68d16918e58ec1  Became Law   \n",
       "314  5c11d643cd68d16918e58fe3  Became Law   \n",
       "315  5c11d643cd68d16918e58fe4  Became Law   \n",
       "341  5c11d643cd68d16918e58ffe  Became Law   \n",
       "453  5c11d643cd68d16918e5906e  Became Law   \n",
       "\n",
       "                                                  body  \\\n",
       "24   [Congressional Bills 115th Congress] [From the...   \n",
       "314  [Congressional Bills 115th Congress] [From the...   \n",
       "315  [Congressional Bills 115th Congress] [From the...   \n",
       "341  [115th Congress Public Law 277] [From the U.S....   \n",
       "453  [Congressional Bills 115th Congress] [From the...   \n",
       "\n",
       "                                             committee congress_id cosponsors  \\\n",
       "24                          House - Financial Services       115th       None   \n",
       "314  House - Transportation and Infrastructure, Way...       115th       None   \n",
       "315             House - Judiciary | Senate - Judiciary       115th       None   \n",
       "341  House - Oversight and Government Reform, Finan...       115th       None   \n",
       "453                                  House - Judiciary       115th       None   \n",
       "\n",
       "                                        cosponsors_url  \\\n",
       "24                                                None   \n",
       "314                                               None   \n",
       "315  https://www.congress.gov/bill/115th-congress/h...   \n",
       "341                                               None   \n",
       "453  https://www.congress.gov/bill/115th-congress/h...   \n",
       "\n",
       "                                                  desc intro_date    leg_id  \\\n",
       "24   To extend the National Flood Insurance Program... 2018-11-29  H R 7187   \n",
       "314  Airport and Airway Extension Act of 2018, Part II 2018-09-26  H R 6897   \n",
       "315  United States Parole Commission Extension Act ... 2018-09-26  H R 6896   \n",
       "341  To rename the Stop Trading on Congressional Kn... 2018-09-25  H R 6870   \n",
       "453                                        SUCCESS Act 2018-09-10  H R 6758   \n",
       "\n",
       "    leg_type                                            leg_url  \\\n",
       "24       LAW  https://www.congress.gov/bill/115th-congress/h...   \n",
       "314      LAW  https://www.congress.gov/bill/115th-congress/h...   \n",
       "315      LAW  https://www.congress.gov/bill/115th-congress/h...   \n",
       "341      LAW  https://www.congress.gov/bill/115th-congress/h...   \n",
       "453      LAW  https://www.congress.gov/bill/115th-congress/h...   \n",
       "\n",
       "    num_of_cosponsors                            sponsor sponsor_district  \\\n",
       "24                  0             Rep. MacArthur, Thomas                3   \n",
       "314                 0                 Rep. Shuster, Bill                9   \n",
       "315                 1  Rep. Sensenbrenner, F. James, Jr.                5   \n",
       "341                 0                   Rep. Tonko, Paul               20   \n",
       "453                10                 Rep. Chabot, Steve                1   \n",
       "\n",
       "    sponsor_party sponsor_state  bill_char_counts labels  \n",
       "24             NJ             R              1115      1  \n",
       "314            PA             R              3585      1  \n",
       "315            WI             R              8388      1  \n",
       "341            NY             D              1209      1  \n",
       "453            OH             R              3924      1  "
      ]
     },
     "execution_count": 31,
     "metadata": {},
     "output_type": "execute_result"
    }
   ],
   "source": [
    "data.head()"
   ]
  },
  {
   "cell_type": "code",
   "execution_count": 33,
   "metadata": {},
   "outputs": [
    {
     "data": {
      "text/plain": [
       "D     29011\n",
       "R     20685\n",
       "I       213\n",
       "ID      127\n",
       "Name: sponsor_state, dtype: int64"
      ]
     },
     "execution_count": 33,
     "metadata": {},
     "output_type": "execute_result"
    }
   ],
   "source": [
    "data.sponsor_state.value_counts()"
   ]
  },
  {
   "cell_type": "code",
   "execution_count": null,
   "metadata": {},
   "outputs": [],
   "source": []
  },
  {
   "cell_type": "code",
   "execution_count": 60,
   "metadata": {},
   "outputs": [
    {
     "data": {
      "image/png": "[encoded data removed]",
      "text/plain": [
       "<Figure size 2160x864 with 1 Axes>"
      ]
     },
     "metadata": {},
     "output_type": "display_data"
    }
   ],
   "source": [
    "passed_df = data[data['labels'] == 1]\n",
    "\n",
    "fig = plt.figure(figsize = (30, 12))\n",
    "ax = fig.add_subplot(111)\n",
    "ax.set_title('Number of Bills Introduced (red) and Passed (green) vs. Time', fontdict={'fontsize': 24})\n",
    "ax.hist(data['intro_date'], bins = 500, alpha = .5)\n",
    "ax.hist(passed_df['intro_date'], bins = 500, color = 'g')\n",
    "plt.show()"
   ]
  },
  {
   "cell_type": "code",
   "execution_count": 62,
   "metadata": {},
   "outputs": [
    {
     "data": {
      "image/png": "[encoded data removed]",
      "text/plain": [
       "<Figure size 2160x864 with 1 Axes>"
      ]
     },
     "metadata": {},
     "output_type": "display_data"
    }
   ],
   "source": [
    "passed_df = data[data['labels'] == 1]\n",
    "\n",
    "fig = plt.figure(figsize = (30, 12))\n",
    "ax = fig.add_subplot(111)\n",
    "ax.set_title('Number of Bills Introduced (red) and Passed (green) vs. Time', fontdict={'fontsize': 24})\n",
    "ax.hist(data['intro_date'], bins = 500, alpha = .5)\n",
    "ax.hist(passed_df['intro_date'], bins = 1000, color = 'g', )\n",
    "ax.set_ylim(0, 400)\n",
    "plt.show()"
   ]
  },
  {
   "cell_type": "code",
   "execution_count": null,
   "metadata": {},
   "outputs": [],
   "source": []
  },
  {
   "cell_type": "code",
   "execution_count": null,
   "metadata": {},
   "outputs": [],
   "source": []
  },
  {
   "cell_type": "code",
   "execution_count": null,
   "metadata": {},
   "outputs": [],
   "source": []
  }
 ],
 "metadata": {
  "kernelspec": {
   "display_name": "Python 3",
   "language": "python",
   "name": "python3"
  },
  "language_info": {
   "codemirror_mode": {
    "name": "ipython",
    "version": 3
   },
   "file_extension": ".py",
   "mimetype": "text/x-python",
   "name": "python",
   "nbconvert_exporter": "python",
   "pygments_lexer": "ipython3",
   "version": "3.6.5"
  }
 },
 "nbformat": 4,
 "nbformat_minor": 2
}
