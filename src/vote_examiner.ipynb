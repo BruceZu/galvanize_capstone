{
 "cells": [
  {
   "cell_type": "code",
   "execution_count": 2,
   "metadata": {},
   "outputs": [],
   "source": [
    "# %%writefile vote_examiner.py\n",
    "import codecs\n",
    "import json\n",
    "import os"
   ]
  },
  {
   "cell_type": "code",
   "execution_count": 3,
   "metadata": {},
   "outputs": [],
   "source": [
    "def read_json_lines_file(path):\n",
    "    '''turn a json lines file into an list of objects'''\n",
    "    arr = []\n",
    "    f = codecs.open(path, 'r', 'utf-8')\n",
    "    for line in f:\n",
    "        record = json.loads(line.rstrip('\\n|\\r'))\n",
    "        arr.append(record)\n",
    "        \n",
    "    return arr"
   ]
  },
  {
   "cell_type": "code",
   "execution_count": 6,
   "metadata": {},
   "outputs": [
    {
     "name": "stdout",
     "output_type": "stream",
     "text": [
      "vote_results_1995.jsonl\n",
      "vote_results_2004.jsonl\n",
      "vote_results_1997.jsonl\n",
      "vote_results_2006.jsonl\n",
      "vote_results_2002.jsonl\n",
      "vote_results_1993.jsonl\n",
      "vote_results_2000.jsonl\n",
      "vote_results_1991.jsonl\n",
      "vote_results_2007.jsonl\n",
      "vote_results_1996.jsonl\n",
      "vote_results_2005.jsonl\n",
      "vote_results_1994.jsonl\n",
      "vote_results_2018.jsonl\n",
      "vote_results_1990.jsonl\n",
      "vote_results_2001.jsonl\n",
      "vote_results_1992.jsonl\n",
      "vote_results_2003.jsonl\n",
      "vote_results_2016.jsonl\n",
      "vote_results_2014.jsonl\n",
      "vote_results_2010.jsonl\n",
      "vote_results_2009.jsonl\n",
      "vote_results_1998.jsonl\n",
      "vote_results_2012.jsonl\n",
      "vote_results_2015.jsonl\n",
      "vote_results_2017.jsonl\n",
      "vote_results_2013.jsonl\n",
      "vote_results_2011.jsonl\n",
      "vote_results_1999.jsonl\n",
      "vote_results_2008.jsonl\n"
     ]
    }
   ],
   "source": [
    "for filename in os.listdir('../data'):\n",
    "    if filename.startswith('vote_results'):\n",
    "        print(filename)\n",
    "        vote_results = read_json_lines_file('../data/{}'.format(filename))\n",
    "    "
   ]
  },
  {
   "cell_type": "code",
   "execution_count": null,
   "metadata": {},
   "outputs": [],
   "source": []
  }
 ],
 "metadata": {
  "kernelspec": {
   "display_name": "Python 3",
   "language": "python",
   "name": "python3"
  },
  "language_info": {
   "codemirror_mode": {
    "name": "ipython",
    "version": 3
   },
   "file_extension": ".py",
   "mimetype": "text/x-python",
   "name": "python",
   "nbconvert_exporter": "python",
   "pygments_lexer": "ipython3",
   "version": "3.6.5"
  }
 },
 "nbformat": 4,
 "nbformat_minor": 2
}
