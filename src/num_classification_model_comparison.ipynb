{
 "cells": [
  {
   "cell_type": "code",
   "execution_count": 1,
   "metadata": {},
   "outputs": [
    {
     "name": "stderr",
     "output_type": "stream",
     "text": [
      "/home/ubuntu/anaconda3/lib/python3.7/site-packages/sklearn/ensemble/weight_boosting.py:29: DeprecationWarning: numpy.core.umath_tests is an internal NumPy module and should not be imported. It will be removed in a future NumPy release.\n",
      "  from numpy.core.umath_tests import inner1d\n"
     ]
    }
   ],
   "source": [
    "import pandas as pd\n",
    "import numpy as np\n",
    "from my_tools import get_bill_data\n",
    "import matplotlib.pyplot as plt\n",
    "plt.style.use('ggplot')\n",
    "\n",
    "from sklearn.model_selection import train_test_split\n",
    "from sklearn.preprocessing import StandardScaler\n",
    "\n",
    "from sklearn.linear_model import LogisticRegression\n",
    "from sklearn.neighbors import KNeighborsClassifier\n",
    "from sklearn.ensemble import GradientBoostingClassifier, AdaBoostClassifier\n",
    "from sklearn.tree import DecisionTreeClassifier\n",
    "\n",
    "from sklearn.metrics import recall_score, precision_score, accuracy_score, f1_score, confusion_matrix, log_loss, roc_curve, roc_auc_score\n",
    "\n"
   ]
  },
  {
   "cell_type": "code",
   "execution_count": 2,
   "metadata": {},
   "outputs": [],
   "source": [
    "np.random.seed(123)\n",
    "data, in_progress = get_bill_data()\n",
    "\n",
    "data = data[data['bill_status'] != 'Introduced']\n"
   ]
  },
  {
   "cell_type": "code",
   "execution_count": 3,
   "metadata": {},
   "outputs": [],
   "source": [
    "# # try all of the below with different datasets\n",
    "# data = data[(data['congress_id'] == '115') | \n",
    "# #             (data['congress_id'] == '114') | \n",
    "# #             (data['congress_id'] == '113') |\n",
    "# #             (data['congress_id'] == '112') \n",
    "#            ]"
   ]
  },
  {
   "cell_type": "code",
   "execution_count": 4,
   "metadata": {},
   "outputs": [
    {
     "name": "stdout",
     "output_type": "stream",
     "text": [
      "------------------\n",
      "Limiting dataset to significant numerical and categorical features...\n",
      "------------------\n",
      "Performing train-test split...\n",
      "------------------\n",
      "Scaling the data...\n"
     ]
    }
   ],
   "source": [
    "print('------------------')\n",
    "print('Limiting dataset to significant numerical and categorical features...')\n",
    "data_features = data.loc[:, [\n",
    "#                             'sponsor',\n",
    "                            'num_of_cosponsors', \n",
    "                            'sponsor_party', \n",
    "#                             'sponsor_state', \n",
    "                            'num_of_amendments',\n",
    "                            'bill_char_counts', \n",
    "#                             'char_count_bucket',\n",
    "                            'intro_month', \n",
    "                            'session', \n",
    "                            'labels'\n",
    "                            ]]\n",
    "\n",
    "# get dummies for intro_month, sponsor_party, sponsor_state, session\n",
    "data_dumm = pd.get_dummies(data_features, columns = [\n",
    "                                            'intro_month', \n",
    "#                                             'num_of_amendments', \n",
    "#                                             'num_of_cosponsors',\n",
    "#                                             'sponsor',\n",
    "                                            'sponsor_party', \n",
    "#                                             'sponsor_state', \n",
    "                                            'session', \n",
    "#                                             'char_count_bucket'\n",
    "                                            ], \n",
    "                           drop_first=True)\n",
    "\n",
    "\n",
    "\n",
    "\n",
    "# y = data_features.pop('labels').values.astype(int)\n",
    "y = data_dumm.pop('labels').values.astype(int)\n",
    "\n",
    "\n",
    "\n",
    "print('------------------')\n",
    "print('Performing train-test split...')\n",
    "X_train, X_test, y_train, y_test = train_test_split(data_dumm, y, stratify = y)\n",
    "# X_train, X_test, y_train, y_test = train_test_split(data_features, y, stratify = y)\n",
    "\n",
    "print('------------------')\n",
    "print('Scaling the data...')\n",
    "sc = StandardScaler()\n",
    "X_train = sc.fit_transform(X_train)\n",
    "X_test = sc.transform(X_test)\n"
   ]
  },
  {
   "cell_type": "code",
   "execution_count": 5,
   "metadata": {},
   "outputs": [
    {
     "name": "stdout",
     "output_type": "stream",
     "text": [
      "-------------------\n",
      "Training Logistic regression with continuous and categorical data...\n",
      "-------------------\n",
      "Getting predictions...\n",
      "-------------------\n",
      "F1 Score:\t\t0.4927\n",
      "Recall Score:\t\t0.5896\n",
      "Precision Score:\t0.4231\n",
      "Accuracy Score:\t\t0.5509\n",
      "Confusion Matrix\n",
      "[[487 435]\n",
      " [222 319]]\n"
     ]
    },
    {
     "name": "stderr",
     "output_type": "stream",
     "text": [
      "/home/ubuntu/anaconda3/lib/python3.7/site-packages/sklearn/linear_model/logistic.py:1232: UserWarning: 'n_jobs' > 1 does not have any effect when 'solver' is set to 'liblinear'. Got 'n_jobs' = -1.\n",
      "  \" = {}.\".format(self.n_jobs))\n"
     ]
    }
   ],
   "source": [
    "# fit data to Logistic Regression\n",
    "print('-------------------')\n",
    "print('Training Logistic regression with continuous and categorical data...')\n",
    "lr = LogisticRegression(C = 100, \n",
    "                        n_jobs = -1, \n",
    "                        class_weight = 'balanced')\n",
    "lr.fit(X_train, y_train)\n",
    "\n",
    "print('-------------------')\n",
    "print('Getting predictions...')\n",
    "lr_y_pred = lr.predict(X_test)\n",
    "lr_y_pred_proba = lr.predict_proba(X_test)[:,1]\n",
    "\n",
    "print('-------------------')\n",
    "print('F1 Score:\\t\\t{:.4f}'.format(f1_score(y_test, lr_y_pred)))\n",
    "print('Recall Score:\\t\\t{:.4f}'.format(recall_score(y_test, lr_y_pred)))\n",
    "print('Precision Score:\\t{:.4f}'.format(precision_score(y_test, lr_y_pred)))\n",
    "print('Accuracy Score:\\t\\t{:.4f}'.format(accuracy_score(y_test, lr_y_pred)))\n",
    "print('Confusion Matrix')\n",
    "print(confusion_matrix(y_test, lr_y_pred))\n",
    "\n",
    "lr_fprs, lr_tprs, lr_thresh = roc_curve(y_test, lr_y_pred_proba)"
   ]
  },
  {
   "cell_type": "code",
   "execution_count": 6,
   "metadata": {},
   "outputs": [
    {
     "name": "stdout",
     "output_type": "stream",
     "text": [
      "-------------------\n",
      "Training KNN Classifier with continuous and categorical data...\n",
      "-------------------\n",
      "Getting predictions...\n",
      "-------------------\n",
      "F1 Score:\t\t0.3880\n",
      "Recall Score:\t\t0.3475\n",
      "Precision Score:\t0.4393\n",
      "Accuracy Score:\t\t0.5947\n",
      "Confusion Matrix\n",
      "[[682 240]\n",
      " [353 188]]\n"
     ]
    }
   ],
   "source": [
    "# fit data to KNN Classifier\n",
    "print('-------------------')\n",
    "print('Training KNN Classifier with continuous and categorical data...')\n",
    "kn = KNeighborsClassifier(n_neighbors = 5, n_jobs = -1)\n",
    "kn.fit(X_train, y_train)\n",
    "\n",
    "print('-------------------')\n",
    "print('Getting predictions...')\n",
    "kn_y_pred = kn.predict(X_test)\n",
    "kn_y_pred_proba = kn.predict_proba(X_test)[:,1]\n",
    "\n",
    "print('-------------------')\n",
    "print('F1 Score:\\t\\t{:.4f}'.format(f1_score(y_test, kn_y_pred)))\n",
    "print('Recall Score:\\t\\t{:.4f}'.format(recall_score(y_test, kn_y_pred)))\n",
    "print('Precision Score:\\t{:.4f}'.format(precision_score(y_test, kn_y_pred)))\n",
    "print('Accuracy Score:\\t\\t{:.4f}'.format(accuracy_score(y_test, kn_y_pred)))\n",
    "print('Confusion Matrix')\n",
    "print(confusion_matrix(y_test, kn_y_pred))\n",
    "\n",
    "kn_fprs, kn_tprs, kn_thresh = roc_curve(y_test, kn_y_pred_proba)"
   ]
  },
  {
   "cell_type": "code",
   "execution_count": 10,
   "metadata": {},
   "outputs": [
    {
     "name": "stdout",
     "output_type": "stream",
     "text": [
      "-------------------\n",
      "Training Gradient Boosting Classifier with continuous and categorical data...\n",
      "-------------------\n",
      "Getting predictions...\n",
      "-------------------\n",
      "F1 Score:\t\t0.5356\n",
      "Recall Score:\t\t0.4658\n",
      "Precision Score:\t0.6300\n",
      "Accuracy Score:\t\t0.7013\n",
      "[[774 148]\n",
      " [289 252]]\n"
     ]
    }
   ],
   "source": [
    "print('-------------------')\n",
    "print('Training Gradient Boosting Classifier with continuous and categorical data...')\n",
    "gb = GradientBoostingClassifier(loss= 'deviance',             # default value\n",
    "                                max_features = None,          # default value\n",
    "                                learning_rate = .05,\n",
    "                                n_estimators = 200,           # default value\n",
    "                                criterion = 'friedman_mse',   # default value\n",
    "                                min_samples_split = 2,        # default value\n",
    "                                min_samples_leaf = 1,         # default value\n",
    "                                max_depth = 8,\n",
    "                                max_leaf_nodes = None)        # default value\n",
    "\n",
    "gb.fit(X_train, y_train)\n",
    "\n",
    "print('-------------------')\n",
    "print('Getting predictions...')\n",
    "gb_y_pred = gb.predict(X_test)\n",
    "gb_y_pred_proba = gb.predict_proba(X_test)[:, 1]\n",
    "\n",
    "print('-------------------')\n",
    "print('F1 Score:\\t\\t{:.4f}'.format(f1_score(y_test, gb_y_pred)))\n",
    "print('Recall Score:\\t\\t{:.4f}'.format(recall_score(y_test, gb_y_pred)))\n",
    "print('Precision Score:\\t{:.4f}'.format(precision_score(y_test, gb_y_pred)))\n",
    "print('Accuracy Score:\\t\\t{:.4f}'.format(accuracy_score(y_test, gb_y_pred)))\n",
    "print(confusion_matrix(y_test, gb_y_pred))\n",
    "\n",
    "gb_fprs, gb_tprs, gb_thresh = roc_curve(y_test, gb_y_pred_proba)\n"
   ]
  },
  {
   "cell_type": "code",
   "execution_count": 8,
   "metadata": {},
   "outputs": [
    {
     "name": "stdout",
     "output_type": "stream",
     "text": [
      "-------------------\n",
      "Training AdaBoost Classifier with continuous and categorical data...\n",
      "-------------------\n",
      "Getting predictions...\n",
      "-------------------\n",
      "F1 Score:\t\t0.5313\n",
      "Recall Score:\t\t0.4861\n",
      "Precision Score:\t0.5857\n",
      "Accuracy Score:\t\t0.6828\n",
      "[[736 186]\n",
      " [278 263]]\n"
     ]
    }
   ],
   "source": [
    "print('-------------------')\n",
    "print('Training AdaBoost Classifier with continuous and categorical data...')\n",
    "ada = AdaBoostClassifier(DecisionTreeClassifier(max_depth=3), \n",
    "                         learning_rate=1, \n",
    "                         n_estimators=100)\n",
    "\n",
    "ada.fit(X_train, y_train)\n",
    "\n",
    "print('-------------------')\n",
    "print('Getting predictions...')\n",
    "ada_y_pred = ada.predict(X_test)\n",
    "ada_y_pred_proba = ada.predict_proba(X_test)[:, 1]\n",
    "\n",
    "print('-------------------')\n",
    "print('F1 Score:\\t\\t{:.4f}'.format(f1_score(y_test, ada_y_pred)))\n",
    "print('Recall Score:\\t\\t{:.4f}'.format(recall_score(y_test, ada_y_pred)))\n",
    "print('Precision Score:\\t{:.4f}'.format(precision_score(y_test, ada_y_pred)))\n",
    "print('Accuracy Score:\\t\\t{:.4f}'.format(accuracy_score(y_test, ada_y_pred)))\n",
    "print(confusion_matrix(y_test, ada_y_pred))\n",
    "\n",
    "ada_fprs, ada_tprs, ada_thresh = roc_curve(y_test, ada_y_pred_proba)\n"
   ]
  },
  {
   "cell_type": "code",
   "execution_count": 9,
   "metadata": {},
   "outputs": [
    {
     "name": "stdout",
     "output_type": "stream",
     "text": [
      "---------------------------\n",
      "With all data (2007 - 2018)\n",
      "---------------------------\n",
      "Logistic Regression ROC AUC Score: \t0.5679\n",
      "KNN ROC AUC Score: \t\t\t0.5711\n",
      "GradientBoost ROC AUC Score: \t\t0.6979\n",
      "AdaBoost ROC AUC Score: \t\t0.6615\n"
     ]
    },
    {
     "data": {
      "image/png": "[encoded data removed]",
      "text/plain": [
       "<Figure size 720x576 with 1 Axes>"
      ]
     },
     "metadata": {
      "needs_background": "light"
     },
     "output_type": "display_data"
    }
   ],
   "source": [
    "print('---------------------------')\n",
    "print('With all data (2007 - 2018)')\n",
    "print('---------------------------')\n",
    "fig = plt.figure(figsize = (10, 8))\n",
    "plt.plot(lr_fprs, lr_tprs, label = 'Logistic Regression', color = 'orange')\n",
    "plt.plot(kn_fprs, kn_tprs, label = 'KNN', color = 'blue')\n",
    "plt.plot(gb_fprs, gb_tprs, label = 'GradientBoost', color = 'red')\n",
    "plt.plot(ada_fprs, ada_tprs, label = 'AdaBoost', color = 'green')\n",
    "plt.plot([0, 1], [0, 1], 'k:')\n",
    "plt.legend()\n",
    "plt.xlabel('FPR')\n",
    "plt.ylabel('TPR')\n",
    "plt.title('ROC Curve')\n",
    "\n",
    "print('Logistic Regression ROC AUC Score: \\t{:.4f}'.format(roc_auc_score(y_test, lr_y_pred_proba)))\n",
    "print('KNN ROC AUC Score: \\t\\t\\t{:.4f}'.format(roc_auc_score(y_test, kn_y_pred_proba)))\n",
    "print('GradientBoost ROC AUC Score: \\t\\t{:.4f}'.format(roc_auc_score(y_test, gb_y_pred_proba)))\n",
    "print('AdaBoost ROC AUC Score: \\t\\t{:.4f}'.format(roc_auc_score(y_test, ada_y_pred_proba)))"
   ]
  },
  {
   "cell_type": "code",
   "execution_count": null,
   "metadata": {},
   "outputs": [],
   "source": []
  },
  {
   "cell_type": "code",
   "execution_count": null,
   "metadata": {},
   "outputs": [],
   "source": []
  },
  {
   "cell_type": "code",
   "execution_count": null,
   "metadata": {},
   "outputs": [],
   "source": []
  }
 ],
 "metadata": {
  "kernelspec": {
   "display_name": "Python 3",
   "language": "python",
   "name": "python3"
  },
  "language_info": {
   "codemirror_mode": {
    "name": "ipython",
    "version": 3
   },
   "file_extension": ".py",
   "mimetype": "text/x-python",
   "name": "python",
   "nbconvert_exporter": "python",
   "pygments_lexer": "ipython3",
   "version": "3.7.1"
  }
 },
 "nbformat": 4,
 "nbformat_minor": 2
}
