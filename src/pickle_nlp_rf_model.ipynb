{
 "cells": [
  {
   "cell_type": "code",
   "execution_count": 1,
   "metadata": {},
   "outputs": [
    {
     "name": "stderr",
     "output_type": "stream",
     "text": [
      "/home/ubuntu/anaconda3/lib/python3.7/site-packages/sklearn/ensemble/weight_boosting.py:29: DeprecationWarning: numpy.core.umath_tests is an internal NumPy module and should not be imported. It will be removed in a future NumPy release.\n",
      "  from numpy.core.umath_tests import inner1d\n"
     ]
    }
   ],
   "source": [
    "# %%writefile pickle_nlp_rf_model.py\n",
    "%matplotlib inline\n",
    "from pymongo import MongoClient\n",
    "import numpy as np\n",
    "import pandas as pd\n",
    "import os\n",
    "from my_tools import get_bill_data, process_corpus, read_jsonl_file\n",
    "import matplotlib.pyplot as plt\n",
    "plt.style.use('ggplot')\n",
    "\n",
    "from sklearn.model_selection import train_test_split\n",
    "from sklearn.feature_extraction.text import TfidfVectorizer\n",
    "from sklearn.ensemble import RandomForestClassifier\n",
    "from sklearn.metrics import recall_score, precision_score, accuracy_score, f1_score, confusion_matrix\n",
    "\n",
    "from sklearn.externals import joblib"
   ]
  },
  {
   "cell_type": "code",
   "execution_count": 2,
   "metadata": {},
   "outputs": [
    {
     "name": "stdout",
     "output_type": "stream",
     "text": [
      "-------------------\n",
      "Loading original and preprocessed data for vectorizing and modeling...\n",
      "-------------------\n",
      "Doing train-test split...\n",
      "-------------------\n",
      "Vectorizing...\n",
      "-------------------\n",
      "Getting Features...\n",
      "-------------------\n",
      "Pickling the TfidfVectorizer...\n",
      "Pickling complete.\n",
      "-------------------\n",
      "Training Random Forest Classifier with vectorized results...\n",
      "F1 Score:\t\t0.2961\n",
      "Recall Score:\t\t0.9445\n",
      "Precision Score:\t0.1755\n",
      "Accuracy Score:\t\t0.8465\n",
      "Confusion Matrix\n",
      "[[12888  2400]\n",
      " [   30   511]]\n",
      "Pickling the Random Forest Classifier...\n",
      "All Pickling Complete.  DATA SCIENCE!!!\n"
     ]
    }
   ],
   "source": [
    "# get bill data\n",
    "print('-------------------')\n",
    "print('Loading original and preprocessed data for vectorizing and modeling...')\n",
    "data, in_progress = get_bill_data()\n",
    "\n",
    "\n",
    "corpus_with_labels = read_jsonl_file('/home/ubuntu/galvanize_capstone/data/nlp/corpus_with_labels.jsonl')\n",
    "corpus_df = pd.DataFrame(list(corpus_with_labels))\n",
    "\n",
    "X = corpus_df['document']\n",
    "y = corpus_df['label'].astype(int)\n",
    "\n",
    "\n",
    "\n",
    "# create stratified train-test split\n",
    "print('-------------------')\n",
    "print('Doing train-test split...')\n",
    "X_train, X_test, y_train, y_test = train_test_split(X, y, stratify = y)#, random_state = 123)\n",
    "\n",
    "\n",
    "# Already vectorized using pickle_nlp_boosting_model.py\n",
    "# vectorizing ~30M dimensions with n-grams, l1 norm (simple avg), or l2 (avg**2)\n",
    "# use_idf=True gives more weight to words, n_grams that appear less frequently in the corpus\n",
    "# sublinear_tf=True reduces the bias of length\n",
    "print('-------------------')\n",
    "print('Vectorizing...')\n",
    "tfvect = TfidfVectorizer(ngram_range = (1, 4), \n",
    "                         max_features = 6000000,\n",
    "                         norm = 'l2',              #default value\n",
    "                         use_idf = True,           #default value\n",
    "                         sublinear_tf = True)\n",
    "\n",
    "\n",
    "\n",
    "# # load the TfidfVectorizer if needed\n",
    "# print('-------------------')\n",
    "# print('Loading the pickled TfidfVectorizer...')\n",
    "# pickle_path = 'pickle_files/tfidfVectorizer.pkl'\n",
    "# tfvect = joblib.load(pickle_path)\n",
    "# print('Pickled vectorizer loaded.')\n",
    "\n",
    "\n",
    "# print('-------------------')\n",
    "# print('Vectorizing bill text...')\n",
    "X_train_vec = tfvect.fit_transform(X_train)\n",
    "# X_train_vec = tfvect.transform(X_train)           # for pickled model\n",
    "X_test_vec = tfvect.transform(X_test)\n",
    "\n",
    "\n",
    "print('-------------------')\n",
    "print('Getting Features...')\n",
    "features = tfvect.get_feature_names()\n",
    "\n",
    "\n",
    "# dump the TfidfVectorizer\n",
    "print('-------------------')\n",
    "print('Pickling the TfidfVectorizer...')\n",
    "pickle_path = 'pickle_files/tfidfVectorizer.pkl'\n",
    "if os.path.exists(pickle_path):\n",
    "    os.remove(pickle_path)\n",
    "joblib.dump(tfvect, pickle_path)\n",
    "print('Pickling complete.')\n",
    "\n",
    "\n",
    "print('-------------------')\n",
    "print('Training Random Forest Classifier with vectorized results...')\n",
    "rf = RandomForestClassifier(n_estimators = 100, \n",
    "                            max_features = 3000000,\n",
    "                            max_depth = 3, \n",
    "                            min_samples_split = 2, \n",
    "                            min_samples_leaf = 1,\n",
    "                            class_weight = 'balanced',\n",
    "                            n_jobs = -1)\n",
    "rf.fit(X_train_vec, y_train)\n",
    "\n",
    "rf_y_pred = rf.predict(X_test_vec)\n",
    "rf_y_pred_proba = rf.predict_proba(X_test_vec)\n",
    "\n",
    "print('F1 Score:\\t\\t{:.4f}'.format(f1_score(y_test, rf_y_pred)))\n",
    "print('Recall Score:\\t\\t{:.4f}'.format(recall_score(y_test, rf_y_pred)))\n",
    "print('Precision Score:\\t{:.4f}'.format(precision_score(y_test, rf_y_pred)))\n",
    "print('Accuracy Score:\\t\\t{:.4f}'.format(accuracy_score(y_test, rf_y_pred)))\n",
    "print('Confusion Matrix')\n",
    "print(confusion_matrix(y_test, rf_y_pred))\n",
    "\n",
    "\n",
    "# dump the RandomForest Classifier\n",
    "print('Pickling the Random Forest Classifier...')\n",
    "pickle_path = 'pickle_files/nlp_randomForest.pkl'\n",
    "if os.path.exists(pickle_path):\n",
    "    os.remove(pickle_path)\n",
    "joblib.dump(rf, pickle_path)\n",
    "print('All Pickling Complete.  DATA SCIENCE!!!')"
   ]
  },
  {
   "cell_type": "code",
   "execution_count": 4,
   "metadata": {},
   "outputs": [
    {
     "data": {
      "text/plain": [
       "Text(0.5,0,'Average contribution to information gain')"
      ]
     },
     "execution_count": 4,
     "metadata": {},
     "output_type": "execute_result"
    },
    {
     "data": {
      "image/png": "[encoded data removed]",
      "text/plain": [
       "<Figure size 720x576 with 1 Axes>"
      ]
     },
     "metadata": {
      "needs_background": "light"
     },
     "output_type": "display_data"
    }
   ],
   "source": [
    "#exploration\n",
    "# Plot the feature importance\n",
    "feat_scores = pd.Series(rf.feature_importances_,\n",
    "                           index=features)\n",
    "\n",
    "feat_scores = feat_scores.sort_values()[::-1][:15][::-1]\n",
    "\n",
    "fig = plt.figure(figsize = (8, 8))\n",
    "ax = feat_scores.plot(kind='barh', \n",
    "                      figsize=(10,8),\n",
    "                      color='b')\n",
    "ax.set_title('Average Gini Importance (Top 20 features)')\n",
    "ax.set_xlabel('Average contribution to information gain')"
   ]
  },
  {
   "cell_type": "code",
   "execution_count": null,
   "metadata": {},
   "outputs": [],
   "source": [
    "# Plot the feature importance\n",
    "feat_scores = pd.Series(rf.feature_importances_,\n",
    "                           index=features)\n",
    "\n",
    "feat_scores = feat_scores.sort_values()[::-1][:50][::-1]\n",
    "\n",
    "ax = feat_scores.plot(kind='barh', \n",
    "                      figsize=(10,8),\n",
    "                      color='b')\n",
    "ax.set_title('Average Gini Importance (Top 50 features)')\n",
    "ax.set_xlabel('Average contribution to information gain')"
   ]
  },
  {
   "cell_type": "code",
   "execution_count": null,
   "metadata": {},
   "outputs": [],
   "source": [
    "rf.n_estimators"
   ]
  },
  {
   "cell_type": "code",
   "execution_count": null,
   "metadata": {
    "scrolled": true
   },
   "outputs": [],
   "source": [
    "confusion_matrix(y_test, rf_y_pred)"
   ]
  },
  {
   "cell_type": "code",
   "execution_count": null,
   "metadata": {},
   "outputs": [],
   "source": [
    "pd.Series(rf_y_pred_proba[:, 1]).unique()"
   ]
  },
  {
   "cell_type": "code",
   "execution_count": null,
   "metadata": {},
   "outputs": [],
   "source": [
    "rf_y_pred_proba[45, 1]"
   ]
  },
  {
   "cell_type": "code",
   "execution_count": null,
   "metadata": {},
   "outputs": [],
   "source": [
    "# Get input of bill still in progress\n",
    "input_corpus = process_corpus(in_progress, 'bill_text')\n",
    "\n",
    "input_vec = tfvect.transform(input_corpus)\n",
    "input_y_pred = rf.predict(input_vec)\n",
    "input_y_pred_proba = rf.predict_proba(input_vec)\n",
    "\n",
    "\n",
    "print(input_y_pred_proba)"
   ]
  },
  {
   "cell_type": "code",
   "execution_count": null,
   "metadata": {},
   "outputs": [],
   "source": []
  },
  {
   "cell_type": "code",
   "execution_count": null,
   "metadata": {},
   "outputs": [],
   "source": [
    "# rf_y_pred_proba[0]"
   ]
  },
  {
   "cell_type": "code",
   "execution_count": null,
   "metadata": {},
   "outputs": [],
   "source": [
    "# my recall scores seem abnormally high... let's iterate through a few different slices to build \n",
    "# confidence in our results\n",
    "recall_scores = []\n",
    "\n",
    "i = 1\n",
    "while i < 6:\n",
    "    print('-------------')\n",
    "    print('Performing train-test split and vectorizing for iteration {}...'.format(i))\n",
    "    X_train, X_test, y_train, y_test = train_test_split(X, y, \n",
    "                                                    stratify = y)\n",
    "    \n",
    "    tfvect = TfidfVectorizer(ngram_range=(1, 5))\n",
    "    X_train_vec = tfvect.fit_transform(X_train)\n",
    "    X_test_vec = tfvect.transform(X_test)\n",
    "    \n",
    "    print('\\tFitting data to Random Forest Classifier...')\n",
    "    rf = RandomForestClassifier(max_features = 'auto', n_jobs = -1)\n",
    "    rf.fit(X_train, y_train)\n",
    "\n",
    "    rf_y_pred = rf.predict(X_test)\n",
    "    recall_scores.append(recall_score(y_test, rf_y_pred))\n",
    "    \n",
    "    i+=1\n",
    "    \n",
    "\n",
    "print('Mean recall score after {} iterations: {}'.format(i, np.mean(recall_scores)))"
   ]
  },
  {
   "cell_type": "code",
   "execution_count": null,
   "metadata": {},
   "outputs": [],
   "source": []
  }
 ],
 "metadata": {
  "kernelspec": {
   "display_name": "Python 3",
   "language": "python",
   "name": "python3"
  },
  "language_info": {
   "codemirror_mode": {
    "name": "ipython",
    "version": 3
   },
   "file_extension": ".py",
   "mimetype": "text/x-python",
   "name": "python",
   "nbconvert_exporter": "python",
   "pygments_lexer": "ipython3",
   "version": "3.7.1"
  }
 },
 "nbformat": 4,
 "nbformat_minor": 2
}
