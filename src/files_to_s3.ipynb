{
 "cells": [
  {
   "cell_type": "code",
   "execution_count": 15,
   "metadata": {},
   "outputs": [],
   "source": [
    "# %%writefile files_to_s3.py\n",
    "import boto\n",
    "from boto.s3.connection import S3Connection, Location\n",
    "import os"
   ]
  },
  {
   "cell_type": "code",
   "execution_count": 13,
   "metadata": {},
   "outputs": [
    {
     "data": {
      "text/plain": [
       "[<Bucket: aws-logs-220699157430-us-west-2>,\n",
       " <Bucket: galvcap-leg>,\n",
       " <Bucket: magdielb1>]"
      ]
     },
     "execution_count": 13,
     "metadata": {},
     "output_type": "execute_result"
    }
   ],
   "source": [
    "# create an AWS S3 connection\n",
    "conn = boto.connect_s3()\n",
    "# print(conn)\n",
    "\n",
    "conn.get_all_buckets()"
   ]
  },
  {
   "cell_type": "code",
   "execution_count": 14,
   "metadata": {},
   "outputs": [
    {
     "data": {
      "text/plain": [
       "[]"
      ]
     },
     "execution_count": 14,
     "metadata": {},
     "output_type": "execute_result"
    }
   ],
   "source": [
    "# create a bucket for all of our project data\n",
    "# not needed after creation\n",
    "# had trouble creating a bucket in USWest2 this way. Used UI to do so\n",
    "# legislation_bucket = conn.create_bucket('galvcap-legislation', location = Location.USWest2)\n",
    "\n",
    "legislation_bucket = conn.get_bucket('galvcap-leg')\n",
    "\n",
    "legislation_bucket.get_all_keys()"
   ]
  },
  {
   "cell_type": "code",
   "execution_count": 19,
   "metadata": {},
   "outputs": [
    {
     "name": "stdout",
     "output_type": "stream",
     "text": [
      "vote_results_1995.jsonl\n",
      "vote_results_1997.jsonl\n",
      "vote_results_2002.jsonl\n",
      "vote_results_1993.jsonl\n",
      "vote_results_2000.jsonl\n",
      "vote_results_1991.jsonl\n",
      "vote_results_1996.jsonl\n",
      "vote_results_1994.jsonl\n",
      "vote_results_1990.jsonl\n",
      "vote_results_2001.jsonl\n",
      "vote_results_1992.jsonl\n",
      "vote_results_2003.jsonl\n",
      "vote_results_1998.jsonl\n",
      "vote_results_1999.jsonl\n"
     ]
    }
   ],
   "source": [
    "for f in os.listdir('../data'):\n",
    "    if f.startswith('vote_results'):\n",
    "        print(f)"
   ]
  },
  {
   "cell_type": "code",
   "execution_count": null,
   "metadata": {},
   "outputs": [],
   "source": []
  },
  {
   "cell_type": "code",
   "execution_count": null,
   "metadata": {},
   "outputs": [],
   "source": [
    "legislation_bucket."
   ]
  },
  {
   "cell_type": "code",
   "execution_count": null,
   "metadata": {},
   "outputs": [],
   "source": [
    "# write data to S3\n",
    "roll_summary_file = legislation_bucket.new_key('roll_summaries.txt')"
   ]
  },
  {
   "cell_type": "code",
   "execution_count": null,
   "metadata": {},
   "outputs": [],
   "source": []
  }
 ],
 "metadata": {
  "kernelspec": {
   "display_name": "Python 3",
   "language": "python",
   "name": "python3"
  },
  "language_info": {
   "codemirror_mode": {
    "name": "ipython",
    "version": 3
   },
   "file_extension": ".py",
   "mimetype": "text/x-python",
   "name": "python",
   "nbconvert_exporter": "python",
   "pygments_lexer": "ipython3",
   "version": "3.6.5"
  }
 },
 "nbformat": 4,
 "nbformat_minor": 2
}
