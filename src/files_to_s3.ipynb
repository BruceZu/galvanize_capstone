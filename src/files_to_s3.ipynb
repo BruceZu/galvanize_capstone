{
 "cells": [
  {
   "cell_type": "code",
   "execution_count": 15,
   "metadata": {},
   "outputs": [
    {
     "name": "stdout",
     "output_type": "stream",
     "text": [
      "Overwriting files_to_s3.py\n"
     ]
    }
   ],
   "source": [
    "%%writefile files_to_s3.py\n",
    "import boto\n",
    "from boto.s3.connection import S3Connection, Location\n",
    "import os\n",
    "import codecs\n",
    "import json\n",
    "\n",
    "# create an AWS S3 connection\n",
    "conn = boto.s3.connect_to_region('us-west-2', host = 's3-us-west-2.amazonaws.com')\n",
    "\n",
    "print('Buckets available: {}'.format(conn.get_all_buckets()))\n",
    "\n",
    "# create a bucket for all of our project data\n",
    "# not needed after creation\n",
    "# had trouble creating a bucket in USWest2 this way. Used UI to do so\n",
    "# legislation_bucket = conn.create_bucket('galvcap-legislation', location = Location.USWest2)\n",
    "\n",
    "legislation_bucket = conn.get_bucket('galvcap-leg')\n",
    "\n",
    "print('Keys currently in bucket galvcap-leg: {}'.format(legislation_bucket.get_all_keys()))\n",
    "\n",
    "for f in os.listdir('../data'):\n",
    "    if f.startswith('vote_results'):\n",
    "        print('Loading {} to s3'.format(f))\n",
    "        # create new key in s3\n",
    "        file_ = legislation_bucket.new_key(f)\n",
    "\n",
    "        # copy one local file to s3\n",
    "        filepath = '../data/{}'.format(f)\n",
    "        file_.set_contents_from_filename(filepath)\n",
    "        file_.get_contents_to_filename(f)\n",
    "        \n",
    "print('Upload to s3 complete!')"
   ]
  },
  {
   "cell_type": "code",
   "execution_count": null,
   "metadata": {},
   "outputs": [],
   "source": []
  }
 ],
 "metadata": {
  "kernelspec": {
   "display_name": "Python 3",
   "language": "python",
   "name": "python3"
  },
  "language_info": {
   "codemirror_mode": {
    "name": "ipython",
    "version": 3
   },
   "file_extension": ".py",
   "mimetype": "text/x-python",
   "name": "python",
   "nbconvert_exporter": "python",
   "pygments_lexer": "ipython3",
   "version": "3.6.5"
  }
 },
 "nbformat": 4,
 "nbformat_minor": 2
}
