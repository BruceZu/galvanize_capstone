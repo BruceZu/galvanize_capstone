{
 "cells": [
  {
   "cell_type": "code",
   "execution_count": 1,
   "metadata": {},
   "outputs": [
    {
     "name": "stdout",
     "output_type": "stream",
     "text": [
      "Overwriting nlp_pipeline.py\n"
     ]
    }
   ],
   "source": [
    "%%writefile nlp_pipeline.py\n",
    "'''\n",
    "This script pull the bill data from Mongo and processes the text through the nlp pipeline. \n",
    "It then writes out the corpus and labels to ../data/nlp/corpus_with_labels.jsonl\n",
    "'''\n",
    "\n",
    "from my_tools import get_bill_data, process_corpus, write_json_file\n",
    "import os\n",
    "\n",
    "print('----------------')\n",
    "print('----------------')\n",
    "print('Running script nlp_pipeline.py...')\n",
    "\n",
    "print('----------------')\n",
    "print('Retrieving bill data from Mongo...')\n",
    "data = get_bill_data()\n",
    "\n",
    "print('----------------')\n",
    "print('Processing bill text through nlp pipeline... ')\n",
    "X, y = process_corpus(data, 'body')\n",
    "\n",
    "# output corpus to eliminate multiple preprocessing events.\n",
    "outfile_path = '/home/ubuntu/galvanize_capstone/data/nlp/corpus_with_labels.jsonl'\n",
    "\n",
    "#reset file if it exists\n",
    "if os.path.exists(outfile_path):\n",
    "    os.remove(outfile_path)\n",
    "\n",
    "for i in range(len(X)):\n",
    "    output = {'document': X[i], 'label': str(y[i])}\n",
    "    write_json_file(output, outfile_path)"
   ]
  },
  {
   "cell_type": "code",
   "execution_count": 12,
   "metadata": {},
   "outputs": [
    {
     "data": {
      "text/plain": [
       "True"
      ]
     },
     "execution_count": 12,
     "metadata": {},
     "output_type": "execute_result"
    }
   ],
   "source": [
    "import os\n",
    "os.path.exists(outfile_path)"
   ]
  },
  {
   "cell_type": "code",
   "execution_count": null,
   "metadata": {},
   "outputs": [],
   "source": []
  }
 ],
 "metadata": {
  "kernelspec": {
   "display_name": "Python 3",
   "language": "python",
   "name": "python3"
  },
  "language_info": {
   "codemirror_mode": {
    "name": "ipython",
    "version": 3
   },
   "file_extension": ".py",
   "mimetype": "text/x-python",
   "name": "python",
   "nbconvert_exporter": "python",
   "pygments_lexer": "ipython3",
   "version": "3.7.1"
  }
 },
 "nbformat": 4,
 "nbformat_minor": 2
}
