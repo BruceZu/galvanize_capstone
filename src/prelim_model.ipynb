{
 "cells": [
  {
   "cell_type": "code",
   "execution_count": 1,
   "metadata": {},
   "outputs": [],
   "source": [
    "import numpy as np\n",
    "import pandas as pd\n",
    "from pymongo import MongoClient\n",
    "import pprint"
   ]
  },
  {
   "cell_type": "code",
   "execution_count": 2,
   "metadata": {},
   "outputs": [],
   "source": [
    "client = MongoClient() # defaults to localhost\n",
    "db = client.bills\n",
    "bill_details = db.bill_details\n"
   ]
  },
  {
   "cell_type": "code",
   "execution_count": 3,
   "metadata": {},
   "outputs": [
    {
     "name": "stderr",
     "output_type": "stream",
     "text": [
      "/anaconda3/lib/python3.6/site-packages/ipykernel_launcher.py:1: DeprecationWarning: count is deprecated. Use Collection.count_documents instead.\n",
      "  \"\"\"Entry point for launching an IPython kernel.\n"
     ]
    },
    {
     "data": {
      "text/plain": [
       "253000"
      ]
     },
     "execution_count": 3,
     "metadata": {},
     "output_type": "execute_result"
    }
   ],
   "source": [
    "bill_details.find().count()"
   ]
  },
  {
   "cell_type": "code",
   "execution_count": 4,
   "metadata": {},
   "outputs": [
    {
     "name": "stderr",
     "output_type": "stream",
     "text": [
      "/anaconda3/lib/python3.6/site-packages/ipykernel_launcher.py:2: DeprecationWarning: count is deprecated. Use Collection.count_documents instead.\n",
      "  \n",
      "/anaconda3/lib/python3.6/site-packages/ipykernel_launcher.py:5: DeprecationWarning: count is deprecated. Use Collection.count_documents instead.\n",
      "  \"\"\"\n"
     ]
    },
    {
     "name": "stdout",
     "output_type": "stream",
     "text": [
      "--> Number of records in database: 253000\n",
      "--> Current number of records with text: 11738\n"
     ]
    }
   ],
   "source": [
    "# print out record counts with text\n",
    "print('--> Number of records in database: {}'.format(bill_details.find().count()))\n",
    "\n",
    "records_with_text = bill_details.find({'body': {'$regex': 'e'}})\n",
    "record_count = records_with_text.count()\n",
    "print('--> Current number of records with text: {}'.format(record_count))\n"
   ]
  },
  {
   "cell_type": "code",
   "execution_count": 5,
   "metadata": {},
   "outputs": [],
   "source": [
    "# need to execute query everytime i refer to it?\n",
    "records_with_text = bill_details.find({'body': {'$regex': 'e'}})\n",
    "data = pd.DataFrame(list(records_with_text))"
   ]
  },
  {
   "cell_type": "code",
   "execution_count": 6,
   "metadata": {},
   "outputs": [
    {
     "data": {
      "text/plain": [
       "array(['BILL', 'LAW', 'JOINT RESOLUTION', 'CONCURRENT RESOLUTION',\n",
       "       'RESOLUTION', 'AMENDMENT'], dtype=object)"
      ]
     },
     "execution_count": 6,
     "metadata": {},
     "output_type": "execute_result"
    }
   ],
   "source": [
    "data.leg_type.unique()"
   ]
  },
  {
   "cell_type": "code",
   "execution_count": 7,
   "metadata": {},
   "outputs": [],
   "source": [
    "# filter out simple resolutions, concurrent resolutions, and amendments (for prelim model)\n",
    "data = data[(data['leg_type'] != 'RESOLUTION') & (data['leg_type'] != 'CONCURRENT RESOLUTION') & (data['leg_type'] != 'AMENDMENT')]"
   ]
  },
  {
   "cell_type": "code",
   "execution_count": 8,
   "metadata": {},
   "outputs": [
    {
     "data": {
      "text/plain": [
       "array(['Introduced', 'Became Law', 'Passed House', 'To President',\n",
       "       'Resolving Differences', 'Failed House', 'Became Private Law',\n",
       "       'Passed Senate', 'Failed to pass over veto', 'Vetoed by President',\n",
       "       'Passed over veto', 'Pocket vetoed by President', 'Failed Senate'],\n",
       "      dtype=object)"
      ]
     },
     "execution_count": 8,
     "metadata": {},
     "output_type": "execute_result"
    }
   ],
   "source": [
    "data.bill_status.unique()"
   ]
  },
  {
   "cell_type": "code",
   "execution_count": 9,
   "metadata": {},
   "outputs": [],
   "source": [
    "\n",
    "# LABELS\n",
    "\n",
    "# Every record that doesn't have status Became Law will have label 0 if before current (115th) congress.\n",
    "# Try this out with 3 labels.\n",
    "\n",
    "#  \n",
    "\n",
    "#                             Whole     House     Senate\n",
    "# Introduced:                 None      None      None\n",
    "# Became Law:                 1         1         1\n",
    "# Passed House:               None      1         None\n",
    "# To President:               1         1         1\n",
    "# Resolving Differences:      1         1         1\n",
    "# Failed House:               0         0         1 if S\n",
    "# Became Private Law:         1         1         1\n",
    "# Passed Senate:              None      None      1\n",
    "# Failed to pass over veto:   1         1         1\n",
    "# Vetoed by President:        1         1         1\n",
    "# Passed over veto:           1         1         1     #stronger support for this one???\n",
    "# Pocket vetoed by President: 1         1         1\n",
    "# Failed Senate:              0         1 if H    0\n"
   ]
  },
  {
   "cell_type": "code",
   "execution_count": 10,
   "metadata": {},
   "outputs": [
    {
     "name": "stdout",
     "output_type": "stream",
     "text": [
      "Introduced: \t\t6370\n",
      "Became Law: \t\t1439\n",
      "Passed House: \t\t2140\n",
      "To President: \t\t21\n",
      "Resolving Differences: \t\t72\n",
      "Failed House: \t\t114\n",
      "Became Private Law: \t\t2\n",
      "Passed Senate: \t\t42\n",
      "Failed to pass over veto: \t\t34\n",
      "Vetoed by President: \t\t27\n",
      "Passed over veto: \t\t1\n",
      "Pocket vetoed by President: \t\t5\n",
      "Failed Senate: \t\t1\n"
     ]
    }
   ],
   "source": [
    "# check numbers for each status\n",
    "for i in data.bill_status.unique():\n",
    "    num = len(data[data['bill_status'] == i])\n",
    "    print('{}: \\t\\t{}'.format(i, num))"
   ]
  },
  {
   "cell_type": "code",
   "execution_count": 11,
   "metadata": {},
   "outputs": [],
   "source": [
    "# create columns for labels\n",
    "# data['house_label'] = None\n",
    "# data['senate_label'] = None\n",
    "# data['president_label'] = None\n",
    "data['passed'] = None"
   ]
  },
  {
   "cell_type": "code",
   "execution_count": 12,
   "metadata": {},
   "outputs": [],
   "source": [
    "# # start breaking up the labels after first iteration\n",
    "# introduced = data[data['bill_status'] == 'Introduced']\n",
    "# became_law = data[data['bill_status'] == 'Became Law']\n",
    "# passed_house = data[data['bill_status'] == 'Passed House']\n",
    "# to_pres = data[data['bill_status'] == 'To President']\n",
    "# res_diff = data[data['bill_status'] == 'Resolving Differences']\n",
    "# failed_house = data[data['bill_status'] == 'Failed House']\n",
    "# became_priv = data[data['bill_status'] == 'Became Private Law']\n",
    "# passed_senate = data[data['bill_status'] == 'Passed Senate']\n",
    "# failed_over_veto = data[data['bill_status'] == 'Failed to pass over veto']\n",
    "# veto_pres = data[data['bill_status'] == 'Vetoed by President']\n",
    "# passed_over_veto = data[data['bill_status'] == 'Passed over veto']   #more weight to this one?\n",
    "# pocket_veto = data[data['bill_status'] == 'Pocket vetoed by President']  #this is a pass\n",
    "# failed_senate = data[data['bill_status'] == 'Failed Senate']\n",
    "\n",
    "\n",
    "# # all labels on became_law will be 1\n",
    "# became_law.loc[:, 'house_label'] = 1\n",
    "# became_law.loc[:, 'senate_label'] = 1\n",
    "# became_law.loc[:, 'president_label'] = 1\n",
    "# became_law.loc[:, 'passed'] = 1\n",
    "\n",
    "# # labels on veto_pres will be 1, 1, 0\n",
    "# veto_pres.loc[:, 'house_label'] = 1\n",
    "# veto_pres.loc[:, 'senate_label'] = 1\n",
    "# veto_pres.loc[:, 'president_label'] = 0\n",
    "\n"
   ]
  },
  {
   "cell_type": "code",
   "execution_count": 103,
   "metadata": {},
   "outputs": [
    {
     "name": "stdout",
     "output_type": "stream",
     "text": [
      "Shape of entire data before labeling: (10268, 18)\n"
     ]
    }
   ],
   "source": [
    "orig_shape = data.shape\n",
    "print('Shape of entire data before labeling: {}'.format(orig_shape))"
   ]
  },
  {
   "cell_type": "code",
   "execution_count": 18,
   "metadata": {},
   "outputs": [
    {
     "name": "stderr",
     "output_type": "stream",
     "text": [
      "/anaconda3/lib/python3.6/site-packages/pandas/core/indexing.py:630: SettingWithCopyWarning: \n",
      "A value is trying to be set on a copy of a slice from a DataFrame.\n",
      "Try using .loc[row_indexer,col_indexer] = value instead\n",
      "\n",
      "See the caveats in the documentation: http://pandas.pydata.org/pandas-docs/stable/indexing.html#indexing-view-versus-copy\n",
      "  self.obj[item_labels[indexer[info_axis]]] = value\n"
     ]
    }
   ],
   "source": [
    "# break up dataframe into those that became law and others (did not or still pending)\n",
    "became_law = data[(data['bill_status'] == 'Became Law') | (data['bill_status'] == 'Became Private Law')]\n",
    "others = data[(data['bill_status'] != 'Became Law') & (data['bill_status'] != 'Became Private Law')]\n",
    "\n",
    "became_law.loc[:, 'passed'] = 1\n",
    "\n",
    "\n",
    "# break up others into current congress and previous ones. Anything that hasn't been signed into law\n",
    "# before current session is dead.\n",
    "current_cong = others[others['congress_id'] == '115th']\n",
    "prev_cong = others[others['congress_id'] != '115th']\n",
    "\n",
    "prev_cong.loc[:, 'passed'] = 0\n",
    "\n",
    "\n",
    "# let's label To President and Resolving Differences with 1\n",
    "to_pres = current_cong[(current_cong['bill_status'] == 'To President') | (current_cong['bill_status'] == 'Resolving Differences')]\n",
    "on_floor = current_cong[(current_cong['bill_status'] != 'To President') & (current_cong['bill_status'] != 'Resolving Differences')]\n",
    "\n",
    "to_pres.loc[:, 'passed'] = 1\n"
   ]
  },
  {
   "cell_type": "code",
   "execution_count": 49,
   "metadata": {},
   "outputs": [
    {
     "name": "stderr",
     "output_type": "stream",
     "text": [
      "/anaconda3/lib/python3.6/site-packages/pandas/core/indexing.py:630: SettingWithCopyWarning: \n",
      "A value is trying to be set on a copy of a slice from a DataFrame.\n",
      "Try using .loc[row_indexer,col_indexer] = value instead\n",
      "\n",
      "See the caveats in the documentation: http://pandas.pydata.org/pandas-docs/stable/indexing.html#indexing-view-versus-copy\n",
      "  self.obj[item_labels[indexer[info_axis]]] = value\n"
     ]
    }
   ],
   "source": [
    "failed = on_floor[on_floor['bill_status'].str.startswith('Failed')]\n",
    "not_failed = on_floor[~on_floor['bill_status'].str.startswith('Failed')]\n",
    "\n",
    "failed.loc[:, 'passed'] = 0"
   ]
  },
  {
   "cell_type": "code",
   "execution_count": 97,
   "metadata": {},
   "outputs": [
    {
     "name": "stderr",
     "output_type": "stream",
     "text": [
      "/anaconda3/lib/python3.6/site-packages/pandas/core/indexing.py:630: SettingWithCopyWarning: \n",
      "A value is trying to be set on a copy of a slice from a DataFrame.\n",
      "Try using .loc[row_indexer,col_indexer] = value instead\n",
      "\n",
      "See the caveats in the documentation: http://pandas.pydata.org/pandas-docs/stable/indexing.html#indexing-view-versus-copy\n",
      "  self.obj[item_labels[indexer[info_axis]]] = value\n"
     ]
    }
   ],
   "source": [
    "introduced = not_failed[not_failed['bill_status'] == 'Introduced']\n",
    "beyond_intro = not_failed[not_failed['bill_status'] != 'Introduced']\n",
    "\n",
    "introduced.loc[:, 'passed'] = 'in_progress'"
   ]
  },
  {
   "cell_type": "code",
   "execution_count": 99,
   "metadata": {},
   "outputs": [
    {
     "name": "stderr",
     "output_type": "stream",
     "text": [
      "/anaconda3/lib/python3.6/site-packages/pandas/core/indexing.py:630: SettingWithCopyWarning: \n",
      "A value is trying to be set on a copy of a slice from a DataFrame.\n",
      "Try using .loc[row_indexer,col_indexer] = value instead\n",
      "\n",
      "See the caveats in the documentation: http://pandas.pydata.org/pandas-docs/stable/indexing.html#indexing-view-versus-copy\n",
      "  self.obj[item_labels[indexer[info_axis]]] = value\n"
     ]
    }
   ],
   "source": [
    "passed_opp_chamber = beyond_intro[(beyond_intro['bill_status'] == 'Passed House') & (beyond_intro['leg_id'].str.startswith('S')) | \n",
    "                          (beyond_intro['bill_status'] == 'Passed Senate') & (beyond_intro['leg_id'].str.startswith('H'))]\n",
    "\n",
    "passed_opp_chamber.loc[:, 'passed'] = 1\n",
    "\n",
    "\n",
    "in_orig_chamber = beyond_intro[(beyond_intro['bill_status'] == 'Passed House') & (beyond_intro['leg_id'].str.startswith('H')) | \n",
    "                          (beyond_intro['bill_status'] == 'Passed Senate') & (beyond_intro['leg_id'].str.startswith('S'))]    \n",
    "\n",
    "in_orig_chamber.loc[:, 'passed'] = 'in_progress'"
   ]
  },
  {
   "cell_type": "code",
   "execution_count": 101,
   "metadata": {},
   "outputs": [],
   "source": [
    "data_l = pd.concat([became_law, prev_cong, to_pres, failed, introduced, in_opp_chamber, in_orig_chamber])"
   ]
  },
  {
   "cell_type": "code",
   "execution_count": 105,
   "metadata": {},
   "outputs": [
    {
     "name": "stdout",
     "output_type": "stream",
     "text": [
      "Shape of entire data after labeling: (10268, 18)\n",
      "----------------\n",
      "\tNo data loss upon labeling. Continue on your chosen path. DATA SCIENCE YULES!!!\n"
     ]
    }
   ],
   "source": [
    "labeled_shape = data_l.shape\n",
    "print('Shape of entire data after labeling: {}'.format(labeled_shape))\n",
    "print('----------------')\n",
    "\n",
    "if orig_shape == labeled_shape:\n",
    "    print('\\tNo data loss upon labeling. Continue on your chosen path. DATA SCIENCE YULES!!!')\n",
    "else:\n",
    "    print('\\tData loss occurred during labeling. Examine your code')    \n"
   ]
  },
  {
   "cell_type": "code",
   "execution_count": 106,
   "metadata": {},
   "outputs": [
    {
     "data": {
      "text/html": [
       "<div>\n",
       "<style scoped>\n",
       "    .dataframe tbody tr th:only-of-type {\n",
       "        vertical-align: middle;\n",
       "    }\n",
       "\n",
       "    .dataframe tbody tr th {\n",
       "        vertical-align: top;\n",
       "    }\n",
       "\n",
       "    .dataframe thead th {\n",
       "        text-align: right;\n",
       "    }\n",
       "</style>\n",
       "<table border=\"1\" class=\"dataframe\">\n",
       "  <thead>\n",
       "    <tr style=\"text-align: right;\">\n",
       "      <th></th>\n",
       "      <th>_id</th>\n",
       "      <th>bill_status</th>\n",
       "      <th>body</th>\n",
       "      <th>committee</th>\n",
       "      <th>congress_id</th>\n",
       "      <th>cosponsors</th>\n",
       "      <th>cosponsors_url</th>\n",
       "      <th>desc</th>\n",
       "      <th>intro_date</th>\n",
       "      <th>leg_id</th>\n",
       "      <th>leg_type</th>\n",
       "      <th>leg_url</th>\n",
       "      <th>num_of_cosponsors</th>\n",
       "      <th>sponsor</th>\n",
       "      <th>sponsor_district</th>\n",
       "      <th>sponsor_party</th>\n",
       "      <th>sponsor_state</th>\n",
       "      <th>passed</th>\n",
       "    </tr>\n",
       "  </thead>\n",
       "  <tbody>\n",
       "    <tr>\n",
       "      <th>24</th>\n",
       "      <td>5c11d642cd68d16918e58ec1</td>\n",
       "      <td>Became Law</td>\n",
       "      <td>[Congressional Bills 115th Congress] [From the...</td>\n",
       "      <td>House - Financial Services</td>\n",
       "      <td>115th</td>\n",
       "      <td>None</td>\n",
       "      <td>None</td>\n",
       "      <td>To extend the National Flood Insurance Program...</td>\n",
       "      <td>11/29/2018</td>\n",
       "      <td>H R 7187</td>\n",
       "      <td>LAW</td>\n",
       "      <td>https://www.congress.gov/bill/115th-congress/h...</td>\n",
       "      <td>0</td>\n",
       "      <td>Rep. MacArthur, Thomas</td>\n",
       "      <td>3</td>\n",
       "      <td>NJ</td>\n",
       "      <td>R</td>\n",
       "      <td>1</td>\n",
       "    </tr>\n",
       "    <tr>\n",
       "      <th>314</th>\n",
       "      <td>5c11d643cd68d16918e58fe3</td>\n",
       "      <td>Became Law</td>\n",
       "      <td>[Congressional Bills 115th Congress] [From the...</td>\n",
       "      <td>House - Transportation and Infrastructure, Way...</td>\n",
       "      <td>115th</td>\n",
       "      <td>None</td>\n",
       "      <td>None</td>\n",
       "      <td>Airport and Airway Extension Act of 2018, Part II</td>\n",
       "      <td>09/26/2018</td>\n",
       "      <td>H R 6897</td>\n",
       "      <td>LAW</td>\n",
       "      <td>https://www.congress.gov/bill/115th-congress/h...</td>\n",
       "      <td>0</td>\n",
       "      <td>Rep. Shuster, Bill</td>\n",
       "      <td>9</td>\n",
       "      <td>PA</td>\n",
       "      <td>R</td>\n",
       "      <td>1</td>\n",
       "    </tr>\n",
       "    <tr>\n",
       "      <th>315</th>\n",
       "      <td>5c11d643cd68d16918e58fe4</td>\n",
       "      <td>Became Law</td>\n",
       "      <td>[Congressional Bills 115th Congress] [From the...</td>\n",
       "      <td>House - Judiciary | Senate - Judiciary</td>\n",
       "      <td>115th</td>\n",
       "      <td>None</td>\n",
       "      <td>https://www.congress.gov/bill/115th-congress/h...</td>\n",
       "      <td>United States Parole Commission Extension Act ...</td>\n",
       "      <td>09/26/2018</td>\n",
       "      <td>H R 6896</td>\n",
       "      <td>LAW</td>\n",
       "      <td>https://www.congress.gov/bill/115th-congress/h...</td>\n",
       "      <td>1</td>\n",
       "      <td>Rep. Sensenbrenner, F. James, Jr.</td>\n",
       "      <td>5</td>\n",
       "      <td>WI</td>\n",
       "      <td>R</td>\n",
       "      <td>1</td>\n",
       "    </tr>\n",
       "    <tr>\n",
       "      <th>341</th>\n",
       "      <td>5c11d643cd68d16918e58ffe</td>\n",
       "      <td>Became Law</td>\n",
       "      <td>[115th Congress Public Law 277] [From the U.S....</td>\n",
       "      <td>House - Oversight and Government Reform, Finan...</td>\n",
       "      <td>115th</td>\n",
       "      <td>None</td>\n",
       "      <td>None</td>\n",
       "      <td>To rename the Stop Trading on Congressional Kn...</td>\n",
       "      <td>09/25/2018</td>\n",
       "      <td>H R 6870</td>\n",
       "      <td>LAW</td>\n",
       "      <td>https://www.congress.gov/bill/115th-congress/h...</td>\n",
       "      <td>0</td>\n",
       "      <td>Rep. Tonko, Paul</td>\n",
       "      <td>20</td>\n",
       "      <td>NY</td>\n",
       "      <td>D</td>\n",
       "      <td>1</td>\n",
       "    </tr>\n",
       "    <tr>\n",
       "      <th>453</th>\n",
       "      <td>5c11d643cd68d16918e5906e</td>\n",
       "      <td>Became Law</td>\n",
       "      <td>[Congressional Bills 115th Congress] [From the...</td>\n",
       "      <td>House - Judiciary</td>\n",
       "      <td>115th</td>\n",
       "      <td>None</td>\n",
       "      <td>https://www.congress.gov/bill/115th-congress/h...</td>\n",
       "      <td>SUCCESS Act</td>\n",
       "      <td>09/10/2018</td>\n",
       "      <td>H R 6758</td>\n",
       "      <td>LAW</td>\n",
       "      <td>https://www.congress.gov/bill/115th-congress/h...</td>\n",
       "      <td>10</td>\n",
       "      <td>Rep. Chabot, Steve</td>\n",
       "      <td>1</td>\n",
       "      <td>OH</td>\n",
       "      <td>R</td>\n",
       "      <td>1</td>\n",
       "    </tr>\n",
       "  </tbody>\n",
       "</table>\n",
       "</div>"
      ],
      "text/plain": [
       "                          _id bill_status  \\\n",
       "24   5c11d642cd68d16918e58ec1  Became Law   \n",
       "314  5c11d643cd68d16918e58fe3  Became Law   \n",
       "315  5c11d643cd68d16918e58fe4  Became Law   \n",
       "341  5c11d643cd68d16918e58ffe  Became Law   \n",
       "453  5c11d643cd68d16918e5906e  Became Law   \n",
       "\n",
       "                                                  body  \\\n",
       "24   [Congressional Bills 115th Congress] [From the...   \n",
       "314  [Congressional Bills 115th Congress] [From the...   \n",
       "315  [Congressional Bills 115th Congress] [From the...   \n",
       "341  [115th Congress Public Law 277] [From the U.S....   \n",
       "453  [Congressional Bills 115th Congress] [From the...   \n",
       "\n",
       "                                             committee congress_id cosponsors  \\\n",
       "24                          House - Financial Services       115th       None   \n",
       "314  House - Transportation and Infrastructure, Way...       115th       None   \n",
       "315             House - Judiciary | Senate - Judiciary       115th       None   \n",
       "341  House - Oversight and Government Reform, Finan...       115th       None   \n",
       "453                                  House - Judiciary       115th       None   \n",
       "\n",
       "                                        cosponsors_url  \\\n",
       "24                                                None   \n",
       "314                                               None   \n",
       "315  https://www.congress.gov/bill/115th-congress/h...   \n",
       "341                                               None   \n",
       "453  https://www.congress.gov/bill/115th-congress/h...   \n",
       "\n",
       "                                                  desc  intro_date    leg_id  \\\n",
       "24   To extend the National Flood Insurance Program...  11/29/2018  H R 7187   \n",
       "314  Airport and Airway Extension Act of 2018, Part II  09/26/2018  H R 6897   \n",
       "315  United States Parole Commission Extension Act ...  09/26/2018  H R 6896   \n",
       "341  To rename the Stop Trading on Congressional Kn...  09/25/2018  H R 6870   \n",
       "453                                        SUCCESS Act  09/10/2018  H R 6758   \n",
       "\n",
       "    leg_type                                            leg_url  \\\n",
       "24       LAW  https://www.congress.gov/bill/115th-congress/h...   \n",
       "314      LAW  https://www.congress.gov/bill/115th-congress/h...   \n",
       "315      LAW  https://www.congress.gov/bill/115th-congress/h...   \n",
       "341      LAW  https://www.congress.gov/bill/115th-congress/h...   \n",
       "453      LAW  https://www.congress.gov/bill/115th-congress/h...   \n",
       "\n",
       "    num_of_cosponsors                            sponsor sponsor_district  \\\n",
       "24                  0             Rep. MacArthur, Thomas                3   \n",
       "314                 0                 Rep. Shuster, Bill                9   \n",
       "315                 1  Rep. Sensenbrenner, F. James, Jr.                5   \n",
       "341                 0                   Rep. Tonko, Paul               20   \n",
       "453                10                 Rep. Chabot, Steve                1   \n",
       "\n",
       "    sponsor_party sponsor_state passed  \n",
       "24             NJ             R      1  \n",
       "314            PA             R      1  \n",
       "315            WI             R      1  \n",
       "341            NY             D      1  \n",
       "453            OH             R      1  "
      ]
     },
     "execution_count": 106,
     "metadata": {},
     "output_type": "execute_result"
    }
   ],
   "source": [
    "data_l.head()"
   ]
  },
  {
   "cell_type": "code",
   "execution_count": 107,
   "metadata": {},
   "outputs": [
    {
     "data": {
      "text/plain": [
       "in_progress    7118\n",
       "0              1676\n",
       "1              1467\n",
       "Name: passed, dtype: int64"
      ]
     },
     "execution_count": 107,
     "metadata": {},
     "output_type": "execute_result"
    }
   ],
   "source": [
    "data_l.passed.value_counts()"
   ]
  },
  {
   "cell_type": "code",
   "execution_count": null,
   "metadata": {},
   "outputs": [],
   "source": []
  }
 ],
 "metadata": {
  "kernelspec": {
   "display_name": "Python 3",
   "language": "python",
   "name": "python3"
  },
  "language_info": {
   "codemirror_mode": {
    "name": "ipython",
    "version": 3
   },
   "file_extension": ".py",
   "mimetype": "text/x-python",
   "name": "python",
   "nbconvert_exporter": "python",
   "pygments_lexer": "ipython3",
   "version": "3.6.5"
  }
 },
 "nbformat": 4,
 "nbformat_minor": 2
}
