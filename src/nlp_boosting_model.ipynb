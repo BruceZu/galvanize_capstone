{
 "cells": [
  {
   "cell_type": "code",
   "execution_count": 1,
   "metadata": {},
   "outputs": [
    {
     "name": "stderr",
     "output_type": "stream",
     "text": [
      "/home/ubuntu/anaconda3/lib/python3.7/site-packages/sklearn/ensemble/weight_boosting.py:29: DeprecationWarning: numpy.core.umath_tests is an internal NumPy module and should not be imported. It will be removed in a future NumPy release.\n",
      "  from numpy.core.umath_tests import inner1d\n"
     ]
    },
    {
     "name": "stdout",
     "output_type": "stream",
     "text": [
      "-------------------\n",
      "Loading original and preprocessed data for vectorizing and modeling...\n",
      "------------------\n",
      "------------------\n",
      "Data includes bills, joints resolutions, and laws with text from the 110th Congress (2007) to present\n",
      "Make changes in my_tools.get_bill_data to modify the data set.\n",
      "------------------\n",
      "-------------------\n",
      "Performing train-test split...\n",
      "-------------------\n",
      "Vectorizing...\n",
      "-------------------\n",
      "Creating vocabulary...\n"
     ]
    }
   ],
   "source": [
    "# %%writefile pickle_nlp_boosting_model.py\n",
    "from pymongo import MongoClient\n",
    "import numpy as np\n",
    "import pandas as pd\n",
    "from my_tools import get_bill_data, process_corpus, read_jsonl_file\n",
    "import matplotlib.pyplot as plt\n",
    "import os\n",
    "\n",
    "from sklearn.model_selection import train_test_split\n",
    "from sklearn.feature_extraction.text import TfidfVectorizer\n",
    "from sklearn.ensemble import GradientBoostingClassifier\n",
    "\n",
    "from sklearn.metrics import recall_score, precision_score, accuracy_score, f1_score, confusion_matrix\n",
    "\n",
    "from sklearn.externals import joblib\n",
    "\n",
    "\n",
    "print('-------------------')\n",
    "print('Loading original and preprocessed data for vectorizing and modeling...')\n",
    "data, in_progress = get_bill_data()\n",
    "\n",
    "# drop bill text column from data and retrieve preprocessed text from corpus_with_labels.jsonl\n",
    "data.drop('body', axis = 1, inplace = True)\n",
    "\n",
    "corpus_with_labels = read_jsonl_file('/home/ubuntu/galvanize_capstone/data/nlp/corpus_with_labels.jsonl')\n",
    "corpus_df = pd.DataFrame(list(corpus_with_labels))\n",
    "\n",
    "X = corpus_df['document']\n",
    "y = corpus_df['label'].astype(int)\n",
    "\n",
    "\n",
    "# create stratified train-test split\n",
    "print('-------------------')\n",
    "print('Performing train-test split...')\n",
    "X_train, X_test, y_train, y_test = train_test_split(X, y, stratify = y)#, random_state = 123)\n",
    "\n",
    "# vectorizing 6M of ~30M dimensions with n-grams, l1 norm (simple avg, l2 avg**2\n",
    "# use_idf=True gives more weight to words, n_grams that appear less frequently in the corpus\n",
    "# sublinear_tf=True reduces the bias of length\n",
    "print('-------------------')\n",
    "print('Vectorizing...')\n",
    "tfvect = TfidfVectorizer(ngram_range=(1, 4), \n",
    "#                          max_features = 6000000,\n",
    "                         norm = 'l2',              #default value\n",
    "                         use_idf = True,           #default value\n",
    "                         sublinear_tf = True)\n",
    "\n",
    "X_train_vec = tfvect.fit_transform(X_train)\n",
    "X_test_vec = tfvect.transform(X_test)\n",
    "\n",
    "print('-------------------')\n",
    "print('Getting Features...')\n",
    "features = tfvect.get_feature_names()"
   ]
  },
  {
   "cell_type": "code",
   "execution_count": 7,
   "metadata": {},
   "outputs": [
    {
     "name": "stdout",
     "output_type": "stream",
     "text": [
      "-------------------\n",
      "Pickling the TfidfVectorizer...\n",
      "Pickling complete.\n"
     ]
    }
   ],
   "source": [
    "# dump the TfidfVectorizer\n",
    "print('-------------------')\n",
    "print('Pickling the TfidfVectorizer...')\n",
    "pickle_path = 'pickle_files/tfidfVectorizer.pkl'\n",
    "if os.path.exists(pickle_path):\n",
    "    os.remove(pickle_path)\n",
    "joblib.dump(tfvect, pickle_path)\n",
    "print('Pickling complete.')"
   ]
  },
  {
   "cell_type": "code",
   "execution_count": 3,
   "metadata": {},
   "outputs": [],
   "source": [
    "# # load the TfidfVectorizer\n",
    "# print('-------------------')\n",
    "# print('Loading the pickled TfidfVectorizer...')\n",
    "# pickle_path = 'pickle_files/tfidfVectorizer.pkl'\n",
    "# tfvect = joblib.load(pickle_path)\n",
    "# print('Pickled vectorizer loaded.')"
   ]
  },
  {
   "cell_type": "code",
   "execution_count": 4,
   "metadata": {},
   "outputs": [
    {
     "data": {
      "text/plain": [
       "(47486, 6000000)"
      ]
     },
     "execution_count": 4,
     "metadata": {},
     "output_type": "execute_result"
    }
   ],
   "source": [
    "X_train_vec.shape"
   ]
  },
  {
   "cell_type": "code",
   "execution_count": 5,
   "metadata": {},
   "outputs": [
    {
     "name": "stdout",
     "output_type": "stream",
     "text": [
      "-------------------\n",
      "Training Gradient Boosting Classifier with vectorized results...\n",
      "-------------------\n",
      "Getting predictions...\n",
      "-------------------\n",
      "F1 Score:\t\t0.9407\n",
      "Recall Score:\t\t0.8946\n",
      "Precision Score:\t0.9918\n",
      "Accuracy Score:\t\t0.9961\n"
     ]
    }
   ],
   "source": [
    "print('-------------------')\n",
    "print('Training Gradient Boosting Classifier with vectorized results...')\n",
    "gb = GradientBoostingClassifier(loss= 'deviance', \n",
    "                                max_features = 6000000, \n",
    "                                learning_rate = .1, \n",
    "                                n_estimators = 100, \n",
    "                                criterion = 'friedman_mse', \n",
    "                                min_samples_split = 2, \n",
    "                                min_samples_leaf = 15, \n",
    "                                max_depth = 3, \n",
    "                                max_leaf_nodes = None)\n",
    "\n",
    "gb.fit(X_train_vec, y_train)\n",
    "\n",
    "print('-------------------')\n",
    "print('Getting predictions...')\n",
    "gb_y_pred = gb.predict(X_test_vec)\n",
    "gb_y_pred_proba = gb.predict_proba(X_test_vec)\n",
    "\n",
    "print('-------------------')\n",
    "print('F1 Score:\\t\\t{:.4f}'.format(f1_score(y_test, gb_y_pred)))\n",
    "print('Recall Score:\\t\\t{:.4f}'.format(recall_score(y_test, gb_y_pred)))\n",
    "print('Precision Score:\\t{:.4f}'.format(precision_score(y_test, gb_y_pred)))\n",
    "print('Accuracy Score:\\t\\t{:.4f}'.format(accuracy_score(y_test, gb_y_pred)))"
   ]
  },
  {
   "cell_type": "code",
   "execution_count": 6,
   "metadata": {},
   "outputs": [
    {
     "data": {
      "text/plain": [
       "array([[0.99790061, 0.00209939],\n",
       "       [0.99790061, 0.00209939],\n",
       "       [0.99790061, 0.00209939],\n",
       "       ...,\n",
       "       [0.99790061, 0.00209939],\n",
       "       [0.99790061, 0.00209939],\n",
       "       [0.99790061, 0.00209939]])"
      ]
     },
     "execution_count": 6,
     "metadata": {},
     "output_type": "execute_result"
    }
   ],
   "source": [
    "gb_y_pred_proba"
   ]
  },
  {
   "cell_type": "code",
   "execution_count": 8,
   "metadata": {},
   "outputs": [
    {
     "name": "stdout",
     "output_type": "stream",
     "text": [
      "-------------------\n",
      "Pickling the Gradient Boosting Model...\n",
      "Pickling complete.\n"
     ]
    }
   ],
   "source": [
    "# dump the Gradient Boosting Model\n",
    "print('-------------------')\n",
    "print('Pickling the Gradient Boosting Model...')\n",
    "pickle_path = 'pickle_files/nlp_gradientBoost.pkl'\n",
    "if os.path.exists(pickle_path):\n",
    "    os.remove(pickle_path)\n",
    "joblib.dump(gb, pickle_path)\n",
    "print('Pickling complete.')"
   ]
  },
  {
   "cell_type": "code",
   "execution_count": 67,
   "metadata": {},
   "outputs": [
    {
     "data": {
      "text/plain": [
       "array([[15284,     4],\n",
       "       [   57,   484]])"
      ]
     },
     "execution_count": 67,
     "metadata": {},
     "output_type": "execute_result"
    }
   ],
   "source": [
    "confusion_matrix(y_test, gb_y_pred)"
   ]
  },
  {
   "cell_type": "code",
   "execution_count": 64,
   "metadata": {},
   "outputs": [
    {
     "name": "stdout",
     "output_type": "stream",
     "text": [
      "Index 356 is a False Negative\n",
      "Index 1134 is a False Negative\n",
      "Index 1446 is a False Negative\n",
      "Index 1456 is a False Negative\n",
      "Index 1561 is a False Negative\n",
      "Index 1655 is a False Negative\n",
      "Index 1929 is a False Negative\n",
      "Index 2416 is a False Negative\n",
      "Index 2623 is a False Negative\n",
      "Index 3035 is a False Negative\n",
      "Index 3142 is a False Negative\n",
      "Index 3231 is a False Negative\n",
      "Index 3320 is a False Negative\n",
      "Index 3688 is a False Negative\n",
      "Index 4116 is a False Negative\n",
      "Index 4269 is a False Negative\n",
      "Index 4325 is a False Negative\n",
      "Index 4556 is a False Negative\n",
      "Index 4568 is a False Positive\n",
      "Index 4669 is a False Negative\n",
      "Index 5204 is a False Positive\n",
      "Index 5638 is a False Negative\n",
      "Index 5857 is a False Negative\n",
      "Index 5998 is a False Negative\n",
      "Index 6746 is a False Negative\n",
      "Index 7157 is a False Negative\n",
      "Index 7485 is a False Negative\n",
      "Index 7701 is a False Negative\n",
      "Index 8032 is a False Negative\n",
      "Index 8163 is a False Positive\n",
      "Index 8215 is a False Negative\n",
      "Index 8299 is a False Negative\n",
      "Index 8584 is a False Negative\n",
      "Index 8714 is a False Negative\n",
      "Index 8719 is a False Negative\n",
      "Index 8774 is a False Negative\n",
      "Index 9003 is a False Negative\n",
      "Index 9038 is a False Negative\n",
      "Index 9087 is a False Negative\n",
      "Index 9630 is a False Negative\n",
      "Index 9763 is a False Negative\n",
      "Index 9771 is a False Negative\n",
      "Index 10321 is a False Negative\n",
      "Index 10506 is a False Negative\n",
      "Index 10794 is a False Negative\n",
      "Index 11024 is a False Negative\n",
      "Index 11261 is a False Negative\n",
      "Index 11364 is a False Negative\n",
      "Index 11440 is a False Negative\n",
      "Index 11551 is a False Negative\n",
      "Index 11797 is a False Negative\n",
      "Index 12312 is a False Negative\n",
      "Index 12350 is a False Negative\n",
      "Index 12942 is a False Negative\n",
      "Index 13223 is a False Negative\n",
      "Index 13417 is a False Negative\n",
      "Index 14416 is a False Negative\n",
      "Index 14871 is a False Negative\n",
      "Index 14975 is a False Negative\n",
      "Index 15649 is a False Positive\n",
      "Index 15736 is a False Negative\n"
     ]
    }
   ],
   "source": [
    "diffs = y_test - gb_y_pred\n",
    "\n",
    "fp_index_list = []\n",
    "fn_index_list = []\n",
    "\n",
    "for i, j in enumerate(diffs):\n",
    "    if j == 1:\n",
    "        print('Index {} is a False Negative'.format(i))\n",
    "        fn_index_list.append(i)\n",
    "    if j == -1:\n",
    "        print('Index {} is a False Positive'.format(i))\n",
    "        fp_index_list.append(i)\n"
   ]
  },
  {
   "cell_type": "code",
   "execution_count": 65,
   "metadata": {},
   "outputs": [
    {
     "data": {
      "text/plain": [
       "[4568, 5204, 8163, 15649]"
      ]
     },
     "execution_count": 65,
     "metadata": {},
     "output_type": "execute_result"
    }
   ],
   "source": [
    "fp_index_list"
   ]
  },
  {
   "cell_type": "code",
   "execution_count": null,
   "metadata": {},
   "outputs": [],
   "source": [
    "gb_y_pred_proba[:,0].max()"
   ]
  },
  {
   "cell_type": "code",
   "execution_count": 71,
   "metadata": {},
   "outputs": [
    {
     "data": {
      "text/plain": [
       "(15829,)"
      ]
     },
     "execution_count": 71,
     "metadata": {},
     "output_type": "execute_result"
    }
   ],
   "source": [
    "X_test.shape"
   ]
  },
  {
   "cell_type": "code",
   "execution_count": 73,
   "metadata": {},
   "outputs": [
    {
     "data": {
      "text/plain": [
       "\"adjust immigration status certain venezuelan national united state enacted united state america congress assembled section short title act may cited venezuelan refugee assistance act '' sec adjustment status certain venezuelan national adjustment status. general. notwithstanding section c immigration nationality act u.s.c c status alien described subsection b adjusted secretary homeland security alien lawfully admitted permanent residence alien applies adjustment january b inadmissible paragraph e g c section immigration nationality act u.s.c c deportable paragraph e g section act u.s.c ordered incited assisted otherwise participated persecution person account race religion nationality membership particular social group political opinion e convicted offense federal state law punishable maximum term imprisonment ii offense federal state law alien convicted different date offense sentenced imprisonment aggregate day relationship application certain orders. alien present united state ordered removed ordered depart voluntarily united state provision immigration nationality act may notwithstanding order apply adjustment status paragraph alien may required condition submitting granting application file motion reopen reconsider vacate order secretary homeland security grant application secretary homeland security cancel order secretary homeland security render final administrative decision deny application order effective enforceable extent application made b alien eligible adjustment status. benefit provided subsection apply alien national venezuela physically present united state january physically present united state least physically present united state date application adjustment status act filed except alien failed maintain continuous physical presence reason absence absence united state period aggregate exceeding day c stay removal. general. secretary homeland security provide regulation alien subject final order removal seek stay order based filing application subsection certain proceedings. notwithstanding provision immigration nationality act u.s.c et seq secretary homeland security order alien removed united state alien removal proceeding provision act raise defense order eligibility alien apply adjustment status subsection except secretary homeland security rendered final administrative determination deny application work authorization. secretary homeland security may authorize alien applied adjustment status subsection engage employment united state pendency application may provide alien employment authorized '' endorsement appropriate document signifying authorization employment except application pending period exceeding day denied secretary homeland security authorize employment adjustment status spouse children. general. notwithstanding section c immigration nationality act u.s.c c status alien adjusted secretary homeland security alien lawfully admitted permanent residence alien spouse child unmarried son daughter alien whose status adjusted alien lawfully admitted permanent residence subsection except case unmarried son daughter son daughter required establish physically present united state least b alien applies adjustment physically present united state date application filed c alien otherwise eligible receive immigrant visa otherwise admissible united state permanent residence except determining admissibility ground exclusion specified paragraph section immigration nationality act u.s.c apply proof continuous presence. purpose establishing period continuous physical presence referred paragraph b alien failed maintain continuous physical presence reason absence absence united state period aggregate exceeding day e availability administrative review. secretary homeland security provide applicant adjustment status subsection right procedure administrative review provided applicant adjustment status section immigration nationality act u.s.c alien subject removal proceeding section act u.s.c f limitation judicial review. determination secretary homeland security whether status alien adjusted act final subject review court g offset number visa available. alien granted status lawfully admitted permanent residence pursuant act secretary state required reduce number immigrant visa authorized issued provision immigration nationality act h application immigration nationality act provisions. except otherwise specifically provided section definition contained immigration nationality act apply administration act nothing contained act held repeal amend alter modify effect restrict power duty function authority secretary homeland security administration enforcement act law relating immigration nationality naturalization fact alien may eligible granted status lawfully admitted permanent residence section preclude alien seeking status provision law alien may eligible\""
      ]
     },
     "execution_count": 73,
     "metadata": {},
     "output_type": "execute_result"
    }
   ],
   "source": [
    "X_train[15649]"
   ]
  },
  {
   "cell_type": "code",
   "execution_count": 77,
   "metadata": {},
   "outputs": [
    {
     "data": {
      "text/plain": [
       "(63315, 25)"
      ]
     },
     "execution_count": 77,
     "metadata": {},
     "output_type": "execute_result"
    }
   ],
   "source": [
    "data.shape"
   ]
  },
  {
   "cell_type": "code",
   "execution_count": 79,
   "metadata": {},
   "outputs": [
    {
     "data": {
      "text/plain": [
       "_id                                           5c26c8051417de25ef8a90b3\n",
       "bill_status                                                 Introduced\n",
       "bill_text            To adjust the immigration status of certain Ve...\n",
       "body                 [Congressional Bills 114th Congress] [From the...\n",
       "committee                                            House - Judiciary\n",
       "congress_id                                                        114\n",
       "cosponsors                                                        None\n",
       "cosponsors_url       https://www.congress.gov/bill/114th-congress/h...\n",
       "desc                                 Venezuelan Refugee Assistance Act\n",
       "intro_date                                         2015-10-09 00:00:00\n",
       "leg_id                                                        H R 3744\n",
       "leg_type                                                          BILL\n",
       "leg_url              https://www.congress.gov/bill/114th-congress/h...\n",
       "num_of_amendments                                                    0\n",
       "num_of_cosponsors                                                    5\n",
       "sponsor                                                Curbelo, Carlos\n",
       "sponsor_district                                                    26\n",
       "sponsor_party                                                        R\n",
       "sponsor_state                                                       FL\n",
       "bill_char_counts                                                  7687\n",
       "intro_month                                                         10\n",
       "intro_year                                                        2015\n",
       "session                                                              1\n",
       "char_count_bucket                                          7001 - 8000\n",
       "labels                                                               0\n",
       "Name: 15649, dtype: object"
      ]
     },
     "execution_count": 79,
     "metadata": {},
     "output_type": "execute_result"
    }
   ],
   "source": [
    "data.iloc[15649, :]"
   ]
  },
  {
   "cell_type": "code",
   "execution_count": null,
   "metadata": {},
   "outputs": [],
   "source": [
    "# plt.hist(gb_y_pred_proba[:,1] > 0, bins = 100)"
   ]
  },
  {
   "cell_type": "code",
   "execution_count": 66,
   "metadata": {},
   "outputs": [
    {
     "data": {
      "text/plain": [
       "array([[0.23861626, 0.76138374],\n",
       "       [0.23861626, 0.76138374],\n",
       "       [0.44683412, 0.55316588],\n",
       "       [0.23861626, 0.76138374]])"
      ]
     },
     "execution_count": 66,
     "metadata": {},
     "output_type": "execute_result"
    }
   ],
   "source": [
    "gb_y_pred_proba[fp_index_list]"
   ]
  },
  {
   "cell_type": "code",
   "execution_count": null,
   "metadata": {},
   "outputs": [],
   "source": [
    "gb_y_pred_proba[fn_index_list]"
   ]
  },
  {
   "cell_type": "code",
   "execution_count": null,
   "metadata": {},
   "outputs": [],
   "source": [
    "gb.feature_importances_[:5]"
   ]
  },
  {
   "cell_type": "code",
   "execution_count": null,
   "metadata": {},
   "outputs": [],
   "source": [
    "vocab['agency determines required']"
   ]
  },
  {
   "cell_type": "code",
   "execution_count": null,
   "metadata": {},
   "outputs": [],
   "source": [
    "print(X_train_vec[:, vocab['agency determines required']])"
   ]
  },
  {
   "cell_type": "code",
   "execution_count": null,
   "metadata": {},
   "outputs": [],
   "source": [
    "X[11149]"
   ]
  },
  {
   "cell_type": "code",
   "execution_count": 23,
   "metadata": {},
   "outputs": [],
   "source": [
    "vocab = tfvect.vocabulary_\n",
    "features = tfvect.get_feature_names()"
   ]
  },
  {
   "cell_type": "code",
   "execution_count": 31,
   "metadata": {},
   "outputs": [
    {
     "data": {
      "text/plain": [
       "3511828"
      ]
     },
     "execution_count": 31,
     "metadata": {},
     "output_type": "execute_result"
    }
   ],
   "source": [
    "vocab['note']"
   ]
  },
  {
   "cell_type": "code",
   "execution_count": 33,
   "metadata": {},
   "outputs": [
    {
     "data": {
      "text/plain": [
       "3511828"
      ]
     },
     "execution_count": 33,
     "metadata": {},
     "output_type": "execute_result"
    }
   ],
   "source": [
    "features.index('note')"
   ]
  },
  {
   "cell_type": "code",
   "execution_count": null,
   "metadata": {},
   "outputs": [],
   "source": []
  },
  {
   "cell_type": "code",
   "execution_count": 41,
   "metadata": {},
   "outputs": [
    {
     "data": {
      "text/plain": [
       "matrix([[0.],\n",
       "        [0.],\n",
       "        [0.],\n",
       "        ...,\n",
       "        [0.],\n",
       "        [0.],\n",
       "        [0.]])"
      ]
     },
     "execution_count": 41,
     "metadata": {},
     "output_type": "execute_result"
    }
   ],
   "source": [
    "X_train_vec[:, 3511828]"
   ]
  },
  {
   "cell_type": "code",
   "execution_count": 51,
   "metadata": {},
   "outputs": [
    {
     "data": {
      "text/plain": [
       "42569    reduce deficit government spending elimination...\n",
       "47569    amend part title xviii social security act pro...\n",
       "57947    amend provision elementary secondary education...\n",
       "25347    amend older american act provide senior financ...\n",
       "22202    provide integrated plan space launch activity ...\n",
       "52279    support recruitment retention volunteer firefi...\n",
       "33054    extend modify temporary suspension duty averme...\n",
       "4621     require secretary treasury make certification ...\n",
       "873      amend public health service act reauthorize em...\n",
       "4927     amend internal revenue code establish new tax ...\n",
       "48684    require electric utility notify electric consu...\n",
       "38451    prevent online threat economic creativity thef...\n",
       "4801     amend title united state code improve manner f...\n",
       "42901    amend title united state code prohibit recogni...\n",
       "47237    protect right public shareholder mutual holdin...\n",
       "37010    prohibit use fund maintain united state armed ...\n",
       "31808    preserve green mountain lookout glacier peak w...\n",
       "60954    require enhanced disclosure consumer regarding...\n",
       "49510    amend chapter title united state code increase...\n",
       "45956    suspend temporarily duty grilamid tr enacted u...\n",
       "31931    amend title united state code realign division...\n",
       "14409    authorize united state fish wildlife service s...\n",
       "5222     provide federal research grant reform enacted ...\n",
       "2284     amend higher education act provide greater acc...\n",
       "17827    amend federal power act prohibit public disclo...\n",
       "Name: document, dtype: object"
      ]
     },
     "execution_count": 51,
     "metadata": {},
     "output_type": "execute_result"
    }
   ],
   "source": [
    "X_train[:25]"
   ]
  },
  {
   "cell_type": "code",
   "execution_count": 53,
   "metadata": {},
   "outputs": [
    {
     "name": "stdout",
     "output_type": "stream",
     "text": [
      "0.1340048979097592\n"
     ]
    }
   ],
   "source": [
    "print(X_train_vec[:, 3511828].max())"
   ]
  },
  {
   "cell_type": "code",
   "execution_count": 59,
   "metadata": {},
   "outputs": [
    {
     "data": {
      "text/plain": [
       "\"To protect human rights and enhance opportunities for LGBTI people around the world, and for other purposes. Be it enacted by the Senate and House of Representatives of the United States of America in Congress assembled, SECTION 1. SHORT TITLE. This Act may be cited as the ``Greater Leadership Overseas for the Benefit of Equality Act of 2018'' or the ``GLOBE Act of 2018''. SEC. 2. FINDINGS. Congress finds the following: (1) The norms of good governance, human rights protections, and the rule of law have been violated unconscionably with respect to lesbian, gay, bisexual, transgender and intersex (LGBTI) peoples in an overwhelming majority of countries around the world, where LGBTI people face violence, hatred, bigotry and discrimination because of who they are and whom they love. (2) In 75 countries, or almost 40 percent of the world, same-sex relations and relationships are criminalized. These include Nigeria, Egypt, and Uganda, among others. Homosexuality is punishable by death in at least 8 countries. Many countries also criminalize or otherwise prohibit cross-dressing and gender-affirming treatments for transgender individuals. (3) Criminalizing LGBTI status or conduct is at the base of political, social and economic injustice toward LGBTI individuals in many countries. (4) The World Bank has begun to measure the macro-economic costs of criminal laws targeting LGBTI individuals through lost productivity, detrimental health outcomes and violence, as a step toward mitigating those costs. (5) Violence and discrimination based on sexual orientation and gender identity are documented in the Department of State's annual Country Human Rights Reports to Congress. These reports continue to show a clear pattern of human rights violations in every region of the world based on sexual orientation and gender identity. (6) These violations include murder, rape, torture, death threats, extortion, and imprisonment, in many cases with the complicity of governing officials. In the Russian autonomous region of Chechnya, Chechen authorities have been found directly complicit in the round-up, torture, and murders of LGBTI men. In Indonesia, public humiliation and punishment of gay men has been carried out. In Jamaica, lesbian women have been subjected to so-called ``corrective rape''. (7) As documented by the State Department, LGBTI individuals are subjected in many countries to capricious imprisonment, loss of employment, housing, access to health care, and societal stigma and discrimination. LGBTI-specific restrictions on basic freedoms of assembly, press, and speech exist in every region of the world. Public support for LGBTI communities is prohibited in many countries, including Russia, Belarus, Moldova, Kyrgyzstan, and Egypt. (8) Targeted sanctions are an important tool to push for accountability for violations of the human rights of LGBTI people. In December 2017, the United States imposed sanctions on Chechen President Ramzan Kadyrov and head of the Chechen Ministry of Internal Affairs Ayub Kataev, for committing extrajudicial imprisonment, torture, and murder, including of gay men, in Chechnya. (9) Anti-LGBTI laws and discrimination pose significant risks for LGBTI youth who come out to their family or community and often face rejection, homelessness, and limited educational and economic opportunities. These factors contribute to increased risks of substance abuse, suicide, and HIV infection among LGBTI youth. (10) Anti-LGBTI laws also increase global health risks. Studies have shown that when LGBTI people, especially LGBTI youth, face discrimination, they are less likely to seek HIV testing, prevention, and treatment services. In countries such as Tanzania, government authorities have closed down access to HIV services for gay men. (11) LGBTI populations are disproportionately impacted by the Mexico City Policy, also widely referred to as the ``global gag rule'', which was reinstated and expanded by President Donald J. Trump on January 23, 2017. LGBTI people often receive much of their healthcare through reproductive health clinics, and organizations that cannot comply with the policy are forced to discontinue work on United States-supported global health projects that are frequently used by LGBTI populations, including HIV prevention and treatment, stigma reduction, and research. (12) Because they face tremendous discrimination in the formal labor sector, many sex workers are also LGBTI individuals, and many sex-worker-led programs and clinics serve the LGBTI community with safe, non-stigmatizing, medical and social care. USAID has also referred to sex workers as a ``most-at-risk population''. The anti-prostitution loyalty oath that health care providers receiving United States assistance must take isolates sex-worker-led and serving groups from programs and reinforces stigma, undermining both the global AIDS response and human rights. The Supreme Court found this requirement unconstitutional as it applies to United States nongovernmental organizations and their foreign affiliates in 2013. (13) According to the Trans Murder Monitoring Project, which monitors homicides of transgender individuals, 2,343 transgender and gender-diverse people were murdered between 2008 and 2016, in 69 countries. (14) In many countries, intersex individuals experience prejudice and discrimination because their bodies do not conform to general expectations about sex and gender. Because of these expectations, medically unnecessary interventions are often performed in infancy without the consent or approval of intersex individuals, in violation of international human rights standards. (15) Asylum and refugee protection are critical last-resort protections for LGBTI individuals, but those who seek such protections face ostracization and abuse in refugee camps and detention facilities. They are frequently targeted for violence, including sexual assault, in refugee camps and in immigration detention. LGBTI individuals may be segregated against their will for long periods in solitary confinement, in an effort to protect them from such violence, but prolonged solitary confinement itself represents an additional form of abuse that is profoundly damaging to the social and psychological well-being of any individual. (16) The one-year filing deadline to apply for United States asylum also disproportionately impacts LGBTI individuals, as does the severe backlog in immigration cases that LGBTI individuals must endure. The lack of legal representation in asylum and refugee adjudication proceedings imposes an often insurmountable barrier to protection and durable resettlement. (17) In December 2011, President Barack Obama directed all Federal foreign affairs agencies to ensure that their diplomatic, humanitarian, health and foreign assistance programs take into account the needs of marginalized LGBTI communities and persons. (18) In 2015, the Department of State established the position of Special Envoy for the Human Rights of LGBTI Persons. In 2017, the Trump Administration indicated to Congress that it will retain this position, which as of the date of the enactment of this Act has still not been filled. (19) The President's Emergency Plan for AIDS Relief's 2018 Annual Report to Congress states that ``In order to reach epidemic control, we must address the underlying social and cultural issues, especially unequal human rights and stigma and discrimination, that prevent people from accessing HIV prevention and treatment services''. (20) The use of United States diplomatic tools, including the Department of State's exchange and speaker programs, to address the human rights needs of marginalized communities has helped inform public debates in many countries regarding the protective responsibilities of any democratic government. (21) In 2016, the United Nations Human Rights Council passed a resolution cosponsored by the United States that established an independent expert on violence and discrimination based on sexual orientation and gender identity to help monitor and track discrimination and violence experienced by LGBTI persons around the world. (22) According to the International Guidelines on HIV/AIDS and Human Rights, as published by the United Nations High Commissioner for Human Rights, and according to the July 2017 report of the Independent Expert on protection against violence and discrimination based on sexual orientation and gender identity, countries should review and reform criminal laws and correctional systems to ensure that they are consistent with international human rights obligations and are not misused or targeted against vulnerable groups. (23) Engaging multilateral fora and international institutions is critical to impacting global norms and to broadening global commitments to fairer standards for the treatment of all people, including LGBTI. The United States must remain a leader in the United Nations system and has a vested interest in the success of that multilateral engagement. (24) Ongoing United States leadership in the Equal Rights Coalition, which is a new intergovernmental coalition of more than 40 governments and leading civil society organizations that work together to protect the human rights of LGBTI people around the world, remains vital to international efforts to respond to violence and impunity. (25) Those who represent the United States abroad, including our diplomats, development specialists and military, should reflect the diversity of our country and honor America's call to equality, including through proud and open service abroad by LGBTI Americans and those living with HIV. SEC. 3. DOCUMENTING AND RESPONDING TO BIAS-MOTIVATED VIOLENCE AGAINST LGBTI PEOPLE ABROAD. (a) Information To Include in Annual Country Reports on Human Rights Practices.--The Foreign Assistance Act of 1961 is amended-- (1) in section 116(d) (22 U.S.C. 2151n(d))-- (A) in paragraph (11)(C), by striking ``and'' at the end; (B) in paragraph (12)(C)(ii), by striking the period at the end and inserting ``; and''; and (C) by adding at the end the following new paragraph: ``(13) wherever applicable, violence or discrimination that affects fundamental freedoms, including widespread or systematic violation of the freedoms of expression, association, or assembly of an individual in foreign countries that is based on actual or perceived sexual orientation, gender identity, or sex characteristics.''; and (2) in section 502B(b) (22 U.S.C. 2304(b)), by inserting after the ninth sentence the following new sentence: ``Wherever applicable, such report shall also include information regarding violence or discrimination that affects the fundamental freedoms, including widespread or systematic violation of the freedoms of expression, association, or assembly of an individual in foreign countries that is based on actual or perceived sexual orientation, gender identity, or sex characteristics.''. (b) Review at Diplomatic and Consular Posts.-- (1) In general.--In preparing the annual country reports on human rights practices required by section 116 or 502B of the Foreign Assistance Act of 1961, as amended by subsection (a), the Secretary of State shall obtain information from each diplomatic and consular post with respect to the following: (A) Incidents of violence against LGBTI people in the country in which such post is located. (B) An analysis of the factors enabling or aggravating such incidents, such as government policy, societal pressure, or external actors. (C) The response, whether public or private, of the personnel of such post with respect to such incidents. (2) Addressing bias-motivated violence.--The Secretary shall include in the annual strategic plans of the regional bureaus concrete diplomatic strategies, programs, and policies to address bias-motivated violence using information obtained pursuant to paragraph (1), such as programs to build capacity among civil society or governmental entities to document, investigate, and prosecute instances of such violence and provide support to victims of such violence. (c) Interagency Group.-- (1) Establishment.--There is established an interagency group on responses to urgent threats to LGBTI people in foreign countries (in this subsection referred to as the ``interagency group''), that shall be chaired by the Secretary of State and include the Secretary of Defense, the Secretary of the Treasury, the Administrator of the United States Agency for International Development, the Attorney General, and the head of each other Federal department or agency the President determines is relevant to the duties of the interagency group. (2) Duties.--The duties of the interagency group shall be to-- (A) coordinate the responses of each participating agency with respect to threats directed towards LGBTI populations in other countries; (B) develop longer-term approaches to policy developments and incidents negatively impacting the LGBTI populations in specific countries; (C) advise the President on the designation of foreign persons for sanctions pursuant to section 4; (D) identify United States laws and policies, at the Federal, State, and local levels, that affirm the equality of LGBTI persons; and (E) use such identified laws and policies to develop diplomatic strategies to share the expertise obtained from the implementation of such laws and policies with appropriate officials of countries where LGBTI persons do not enjoy equal protection under the law. (d) Special Envoy for the Human Rights of LGBTI Peoples.-- (1) Establishment.--The Secretary of State shall establish in the Bureau of Democracy, Human Rights, and Labor (DRL) of the Department of State a permanent Special Envoy for the Human Rights of LGBTI Peoples (in this section referred to as the ``Special Envoy''), who shall be appointed by the President. The Special Envoy shall report directly to the Assistant Secretary for DRL. (2) Purpose.--The Special Envoy shall direct efforts of the United States Government relating to United States foreign policy, as directed by the Secretary, regarding human rights abuses against LGBTI people and communities internationally and the advancement of human rights for LGBTI people, and shall represent the United States internationally in bilateral and multilateral engagement on such matters. (3) Duties.-- (A) In general.--The Special Envoy-- (i) shall serve as the principal advisor to the Secretary of State regarding human rights for LGBTI people internationally; (ii) shall, notwithstanding any other provision of law, direct activities, policies, programs, and funding relating to the human rights of LGBTI people and the advancement of LGBTI equality initiatives internationally, for all bureaus and offices of the Department of State and shall lead the coordination of relevant international programs for all other Federal agencies relating to such matters; (iii) shall represent the United States in diplomatic matters relevant to the human rights of LGBTI people, including criminalization, discrimination, and violence against LGBTI people internationally; (iv) shall direct, as appropriate, United States Government resources to respond to needs for protection, integration, resettlement, and empowerment of LGBTI people in United States Government policies and international programs, including to prevent and respond to criminalization, discrimination, and violence against LGBTI people internationally; (v) shall design, support, and implement activities regarding support, education, resettlement, and empowerment of LGBTI people internationally, including for the prevention and response to criminalization, discrimination, and violence against LGBTI people internationally; (vi) shall lead interagency coordination between the foreign policy priorities related to the human rights of LGBTI people and the development assistance priorities of the LGBTI Coordinator of the United States Agency for International Development; (vii) shall conduct regular consultation with nongovernmental organizations working to prevent and respond to criminalization, discrimination, and violence against LGBTI people internationally; (viii) shall ensure that programs, projects, and activities of the Department of State and the United States Agency for International Development designed to prevent and respond to criminalization, discrimination, and violence against LGBTI people internationally are subject to rigorous monitoring and evaluation, and that there is a uniform set of indicators and standards for such monitoring and evaluation that is used across international programs in Federal agencies; and (ix) is authorized to represent the United States in bilateral and multilateral fora on matters relevant to the human rights of LGBTI people internationally, including criminalization, discrimination, and violence against LGBTI people internationally. (e) Training at International Law Enforcement Academies.--The President shall ensure that any international law enforcement academy supported by United States assistance shall provide training with respect to the rights of LGBTI people, including through specialized courses highlighting best practices in the documentation, investigation and prosecution of bias-motivated hate crimes targeting persons based on actual or perceived sexual orientation, gender identity or sex characteristics. SEC. 4. SANCTIONS ON INDIVIDUALS RESPONSIBLE FOR VIOLATIONS OF HUMAN RIGHTS AGAINST LGBTI PEOPLE. (a) In General.--Not later than 180 days after the date of the enactment of this Act and biannually thereafter, the President shall transmit to the appropriate congressional committees a list of each foreign person that the President determines, based on credible information including information obtained by other countries or by nongovernmental organizations that monitor violations of human rights-- (1) is responsible for or complicit in, with respect to persons based on actual or perceived sexual orientation, gender identity, or sex characteristics-- (A) cruel, inhuman, or degrading treatment or punishment; (B) prolonged detention without charges and trial; (C) causing the disappearance of persons by the abduction and clandestine detention of such persons; or (D) other flagrant denial of the right to life, liberty, or the security of such persons; (2) acted as an agent of or on behalf of a foreign person in a matter relating to an activity described in paragraph (1); or (3) is responsible for or complicit in inciting a foreign person to engage in an activity described in paragraph (1). (b) Form; Updates; Removal.-- (1) Form.--The list required by subsection (a) shall be transmitted in unclassified form and shall be published in the Federal Register without regard to the requirements of section 222(f) of the Immigration and Nationality Act (8 U.S.C. 1202(f)) with respect to confidentiality of records pertaining to the issuance or refusal of visas or permits to enter the United States, except that the President may include a person in a classified, unpublished annex to such list if the President-- (A) determines that-- (i) it is vital for the national security interests of the United States to do so; and (ii) the use of such annex, and the inclusion of such person in such annex, would not undermine the overall purpose of this section to publicly identify foreign persons engaging in the conduct described in subsection (a)(1) in order to increase accountability for such conduct; and (B) not later than 15 days before including such person in a classified annex, provides to the appropriate congressional committees notice of, and a justification for, including or continuing to include each foreign person in the classified annex despite the existence of any publicly available credible information indicating that the foreign person engaged in an activity described in paragraph (1) or (2) of subsection (a). (2) Updates.--The President shall transmit to the appropriate congressional committees an update of the list required by subsection (a) as new information becomes available. (3) Removal.--A person may be removed from the list required by subsection (a) if the President determines and reports to the appropriate congressional committees not later than 15 days before the removal of the person from the list that-- (A) credible information exists that the person did not engage in the activity for which the person was added to the list; (B) the person has been prosecuted appropriately for the activity in which the person engaged; or (C) the person has credibly demonstrated a significant change in behavior, has paid an appropriate consequence for the activities in which the person engaged, and has credibly committed to not engage in an activity described in paragraph (1) or (2) of subsection (a). (c) Public Submission of Information.--The President shall issue public guidance, including through United States diplomatic and consular posts, setting forth the manner by which the names of foreign persons who may meet the criteria to be included on the list required by subsection (a) may be submitted to the Department of State for evaluation. (d) Requests From Chair and Ranking Member of Appropriate Congressional Committees.-- (1) Consideration of information.--The President shall also consider information provided by the Chair or Ranking Member of each of the appropriate congressional committees in determining whether to include a foreign person on the list required by subsection (a). (2) Requests.--Not later than 120 days after receiving a written request from the Chair or Ranking Member of one of the appropriate congressional committees with respect to whether a foreign person meets the criteria for being added to the list required by subsection (a), the President shall transmit a response to that Chair or Ranking Member, as the case may be, with respect to the President's determination relating to such foreign person. (3) Removal.--If the President removes from the list required by subsection (a) a person that had been placed on the list pursuant to a request under paragraph (2), the President shall provide to the relevant Chair or Ranking Member any information that contributed to such decision. (4) Form.--The President may transmit a response required by paragraph (2) or paragraph (3) in classified form if the President determines that it is necessary for the national security interests of the United States to do so. (e) Ineligibility for Visas and Admission to the United States.--An individual who is a foreign person on the list required by subsection (a) is ineligible to receive a visa to enter the United States and ineligible to be admitted to the United States. (f) Current Visas Revoked and Removal From United States.-- (1) In general.--The Secretary of State shall revoke, in accordance with section 221(i) of the Immigration and Nationality Act (8 U.S.C. 1201(i)), the visa or other documentation of an individual who would be ineligible to receive such a visa or documentation under subsection (e), and the Secretary of Homeland Security shall remove from the United States such an individual. (2) Regulations required.--Not later than 180 days after the date of the enactment of this Act, the Secretary of State and the Secretary of Homeland Security shall prescribe such regulations as are necessary to carry out this subsection. (g) Sense of Congress With Respect to Additional Sanctions.--It is the sense of Congress that the President should impose additional targeted sanctions with respect to foreign persons on the list required by subsection (a) to push for accountability for flagrant denials of the right to life, liberty, or the security of the person, through the use of designations and targeted sanctions provided for such conduct under other existing authorities. (h) Waivers in the Interest of National Security.-- (1) In general.--The President may waive the application of subsection (e), (f), or (g) with respect to a person if the President determines and submits to the appropriate congressional committees notice and justification, that such a waiver-- (A) is necessary to permit the United States to comply with the Agreement between the United Nations and the United States of America regarding the Headquarters of the United Nations, signed June 26, 1947, and entered into force November 21, 1947, or other applicable international obligations of the United States; or (B) is in the national security interests of the United States. (2) Timing of certain waivers.--A waiver pursuant to a determination under subparagraph (B) of paragraph (1) shall be submitted not later than 15 days before the granting of such waiver. (i) Report Required.--Not later than one year after the date of the enactment of this Act and annually thereafter, the President, acting through the Secretary of State, shall submit to the appropriate congressional committees a report on-- (1) the actions taken to carry out this section, including-- (A) the number of foreign persons added to or removed from the list required by subsection (a) during the year preceding each report, the dates on which those persons were added or removed, and the reasons for adding or removing those persons; and (B) an analysis that compares increases or decreases in the number of such persons year-over-year and the reasons therefor; and (2) any efforts by the President to coordinate with the governments of other countries, as appropriate, to impose sanctions that are similar to the sanctions imposed under this section. (j) Foreign Persons.--In this section, the term ``foreign person'' means-- (1) any citizen or national of a foreign country (including any such individual who is also a citizen or national of the United States), including leaders or officials of governmental entities of a foreign country; or (2) any entity not organized solely under the laws of the United States or existing solely in the United States, including governmental entities of a foreign country. (k) Exclusion for Persecution of LGBTI Individuals.--Section 212(a)(2) of the Immigration and Nationality Act (8 U.S.C. 1182(a)(2)) is amended by adding at the end the following new subparagraph: ``(J) Human rights violators.--Any alien who, while serving as an official of a foreign government, was responsible for or directly carried out serious violations of the human rights of LGBTI individuals or targeting LGBTI people, is inadmissible.''. SEC. 5. COMBATING INTERNATIONAL CRIMINALIZATION OF LGBTI STATUS, EXPRESSION, OR CONDUCT. (a) Annual Strategic Review.--The Secretary of State, in consultation with the Administrator of the United States Agency for International Development, shall include during the course of annual strategic planning an examination of the progress made in countries around the world toward the decriminalization of the status, expression, and conduct of LGBTI individuals, the obstacles that remain toward achieving such decriminalization, and the strategies available to the Department and the Agency to address such obstacles (b) Elements.--The examination described in subsection (a) shall include the following: (1) An examination of the full range of criminal and civil laws of other countries that disproportionately impact communities of LGBTI individuals or apply with respect to the conduct of LGBTI individuals. (2) In consultation with the Attorney General, a list of countries in each geographic region with respect to which-- (A) the Attorney General, acting through the Office of Overseas Prosecutorial Development Assistance and Training of the Department of Justice, shall prioritize programs seeking to-- (i) decriminalize the status, expression, and conduct of LGBTI individuals; (ii) monitor the trials of those prosecuted because of such status, expression, or conduct; and (iii) reform related laws having a discriminatory impact on LGBTI individuals; and (B) applicable speaker or exchange programs sponsored by the United States Government shall bring together civil society and governmental leaders to promote the recognition of LGBTI rights through educational exchanges in the United States and support better understanding of the role that governments and civil societies mutually play in assurance of equal treatment of LGBTI populations abroad. SEC. 6. FOREIGN ASSISTANCE TO PROTECT HUMAN RIGHTS OF LGBTI PEOPLE. (a) Global Equality Fund.-- (1) In general.--The Secretary of State shall establish a fund, to be known as the ``Global Equality Fund'', to be managed by the Assistant Secretary of the Bureau of Democracy, Human Rights and Labor, consisting of such sums as may be appropriated to provide grants, emergency assistance, and technical assistance to eligible civil society organizations and human rights defenders working to advance and protect human rights for all including LGBTI persons, by seeking to achieve the following: (A) Ensuring the freedoms of assembly, association, and expression. (B) Protecting persons or groups against the threat of violence, including medically unnecessary interventions performed on intersex infants. (C) Advocating against laws that criminalize LGBTI status, expression, or conduct or discriminate against individuals on the basis of sexual orientation, gender identity, or sex characteristics. (D) Ending explicit and implicit forms of discrimination in the workplace, housing, education, and other public institutions or services. (E) Building community awareness and support for the human rights of LGBTI persons. (2) Contributions.--The Secretary may accept financial and technical contributions from corporations, bilateral donors, foundations, nongovernmental organizations, and other entities supporting the outcomes described in paragraph (1), through the Global Equality Fund. (3) Prioritization.--In providing assistance through the Global Equality Fund, the Secretary shall ensure due consideration and appropriate prioritization of assistance to groups that have historically been excluded from programs undertaken for the outcomes described in paragraph (1). (b) LGBTI Global Development Partnership.--The Administrator of the United States Agency for International Development, in consultation with the Secretary of State, shall establish a partnership, to be known as the ``LGBTI Global Development Partnership'', to leverage the financial and technical contributions of corporations, bilateral donors, foundations, nongovernmental organizations, and universities to support the human rights and development of LGBTI persons around the world by supporting programs, projects, and activities for the following purposes: (1) To strengthen the capacity of LGBTI leaders and civil society organizations. (2) To train LGBTI leaders to effectively participate in democratic processes and lead civil institutions. (3) To conduct research to inform national, regional, or global policies and programs. (4) To promote economic empowerment through enhanced LGBTI entrepreneurship and business development. (c) Consultation.--In coordinating programs, projects, and activities through the Global Equality Fund or the Global Development Partnership, the Secretary of State shall consult, as appropriate, with the Administrator of the United States Agency for International Development and the heads of other relevant Federal departments and agencies. (d) Report.--The Secretary of State shall submit to the appropriate congressional committees an annual report on the work of, successes obtained, and challenges faced by the Global Equality Fund and the LGBTI Global Development Partnership established in accordance with this section. (e) Limitation on Assistance Relating to Equal Access.-- (1) In general.--None of the amounts authorized to be appropriated or otherwise made available to provide United States assistance for any humanitarian, development, or global health programs may be made available to any contractor, grantee, or implementing partner, unless such recipient-- (A) ensures that the program, project, or activity funded by such amounts are made available to all elements of the population, except to the extent that such program, project, or activity targets a population because of the higher assessed risk of negative outcomes among such populations; (B) undertakes to make every reasonable effort to ensure that each subcontractor or subgrantee of such recipient will also adhere to the requirement described in subparagraph (A); and (C) agrees to return all amounts awarded or otherwise provided by the United States, including such additional penalties as the Secretary of State may determine to be appropriate, if the recipient is not able to adhere to the requirement described in subparagraph (A). (2) Quarterly report.--The Secretary of State shall provide to the appropriate congressional committees a quarterly report on the methods by which the Department monitors compliance with the requirement in paragraph (1)(A). SEC. 7. GLOBAL HEALTH INCLUSIVITY. (a) In General.--The Coordinator of United States Government Activities to Combat HIV/AIDS Globally shall develop mechanisms to ensure that the President's Emergency Plan for AIDS Relief (PEPFAR) is implemented in a way that equitably serves LGBTI people in accordance with the goals described in section 6(e), including by requiring all partner entities receiving assistance through PEPFAR to receive training on the health needs of and human rights standards relating to LGBTI people, and shall promptly notify Congress of any obstacles encountered by a foreign government or contractor, grantee, or implementing partner in the effort to equitably implement PEPFAR as described in such subsection, including any remedial steps taken by the Coordinator to overcome such obstacles. (b) Report on International Prosecutions for Sex Work or Consensual Sexual Activity.--Not later than 180 days after the date of the enactment of this Act, the Coordinator shall submit to the appropriate congressional committees a report describing the manner in which commodities such as condoms provided by programs, projects, or activities funded through PEPFAR or other sources of United States assistance have been used as evidence to arrest, detain, or prosecute individuals in other countries in order to enforce domestic laws criminalizing sex work or consensual sexual activity. (c) Report on HIV/AIDS-Related Index Testing.--Not later than 180 days after the date of the enactment of this Act, the Coordinator shall submit to the appropriate congressional committees a report describing the impact of partner notification services and index testing on treatment adherence, intimate partner violence, and exposure to the criminal justice system for key populations, including LGBTI people and sex workers, using qualitative and quantitative data. (d) Removing Limitations on Eligibility for Foreign Assistance.-- (1) In general.--Notwithstanding any other provision of law, regulation, or policy, in determining eligibility for assistance authorized under part I of the Foreign Assistance Act of 1961 (22 U.S.C. 2151 et seq.), a foreign nongovernmental organization-- (A) shall not be ineligible for such assistance solely on the basis of health or medical services, including counseling and referral services, provided by such organizations solely using funds not provided by the United States Government, if such services do not violate the laws of the country in which they are being provided and would not violate Federal law if provided in the United States; and (B) shall not be subject to requirements relating to advocacy and lobbying activities with respect to funds not provided by the United States Government, other than requirements relating to such activities that also apply to United States nongovernmental organizations receiving assistance authorized under such part I. (2) Conforming amendments to pepfar authorization.--Section 301 of the United States Leadership Against HIV/AIDS, Tuberculosis, and Malaria Act of 2003 (22 U.S.C. 7631) is amended-- (A) by striking subsections (d) through (f); and (B) by redesignating subsection (g) as subsection (d). (3) Conforming amendments to the allocation of funds by the global aids coordinator.--Section 403(a) of the United States Leadership Against HIV/AIDS, Tuberculosis, and Malaria Act of 2003 (22 U.S.C. 7673(a)) is amended-- (A) in paragraph (1)-- (i) by striking ``shall--'' and all that follows through ``(A) provide'' and inserting ``shall provide''; (ii) by striking ``; and'' and inserting a period; and (iii) by striking subparagraph (B); and (B) in paragraph (2)-- (i) by striking ``Prevention strategy.--'' and all that follows through ``In carrying out paragraph (1)'' and inserting ``Prevention strategy.--In carrying out paragraph (1)''; and (ii) by striking subparagraph (B). (4) Conforming amendments to tvpra authorization.--Section 113 of the Trafficking Victims Protection Act of 2000 (22 U.S.C. 7110) is amended-- (A) by striking subsection (g); and (B) by redesignating subsections (h) and (i) as subsections (g) and (h), respectively. SEC. 8. IMMIGRATION REFORM. (a) Refugees and Asylum Seekers.-- (1) LGBTI social group.--Section 101(a)(42) of the Immigration and Nationality Act (8 U.S.C. 1101(a)(42)) is amended by inserting after the period at the end the following: ``For purposes of determinations under this Act, a person who has been persecuted on the basis of sexual orientation or gender identity, shall be deemed to have been persecuted on account of membership in a particular social group, and a person who has a well founded fear of persecution on the basis of sexual orientation or gender identity shall be deemed to have a well founded fear of persecution on account of membership in a particular social group.''. (2) Report.--Section 103(e) of the Immigration and Nationality Act (8 U.S.C. 1103(e)) is amended by adding at the end the following: ``(3) Each annual report shall include information on the total number of applications for asylum and refugee status received that are, in whole or in part, based on persecution or a well founded fear of persecution on account of sexual orientation or gender identity, and the rate of approval administratively of such applications.''. (3) Asylum filing deadline repeal.-- (A) In general.--Section 208(a)(2)(B) of the Immigration and Nationality Act (8 U.S.C. 1158(a)(2)(B)) is repealed. (B) Conforming amendments.--Section 208(a)(2) of the Immigration and Nationality Act (8 U.S.C. 1158(a)(2)) is amended-- (i) in subparagraph (D)-- (I) by striking ``notwithstanding subparagraphs (B) and (C)'' and inserting ``notwithstanding subparagraph (C)''; (II) by striking ``either'' after ``Attorney General''; and (III) by striking ``or extraordinary circumstances relating to the delay in filing an application within the period specified in subparagraph (B)''; and (ii) in subparagraph (E), by striking ``Subparagraphs (A) and (B)'' and inserting ``Subparagraph (A)''. (C) Application.--The amendments made by this paragraph shall apply to applications for asylum filed before, on, or after the date of the enactment of this Act. (b) Permanent Partners.--Section 101(a) of the Immigration and Nationality Act (8 U.S.C. 1101(a)) is amended-- (1) in paragraph (35), by inserting ``includes any permanent partner, but'' before ``does not include''; and (2) by adding at the end the following: ``(53) The term `marriage' includes a permanent partnership. ``(54) The term `permanent partner' means an individual 18 years of age or older who-- ``(A) is in a committed, intimate relationship with another individual 18 years of age or older, in which both parties intend a lifelong commitment; ``(B) is financially interdependent with the other individual; ``(C) is not married to anyone other than the other individual; ``(D) is a national of or, in the case of a person having no nationality, last habitually resided in a country that prohibits marriage between the individuals; and ``(E) is not a first-, second-, or third-degree blood relation of the other individual. ``(55) The term `permanent partnership' means the relationship that exists between two permanent partners.''. (c) Counsel.-- (1) Appointment of counsel.--Section 240(b)(4) of the Immigration and Nationality Act (8 U.S.C. 1229a(b)(4)) is amended-- (A) in subparagraph (B), by striking ``and'' at the end; (B) in subparagraph (C), by striking the period at the end and inserting ``, and''; and (C) by adding at the end the following: ``(D) notwithstanding subparagraph (A), in a case in which an indigent alien requests representation, such representation shall be appointed by the court, at the expense of the Government, for such proceedings.''. (2) Right to counsel.--Section 292 of the Immigration and Nationality Act (8 U.S.C. 1362) is amended-- (A) by inserting ``(a)'' before ``In any''; (B) by striking ``he'' and inserting ``the person''; and (C) by adding at the end the following: ``(b) Notwithstanding subsection (a), in a case in which an indigent alien requests representation, such representation shall be appointed by the court, at the expense of the Government, for the proceedings described in subsection (a). ``(c) In an interview relating to admission under section 207, an alien shall have the privilege of being represented, at no expense to the Government, by such counsel, authorized to practice in such proceedings, as the alien shall choose.''. (d) Refugee Admissions of LGBTI Aliens From Certain Countries.-- (1) In general.--In the case of aliens who are nationals of or, in the case of aliens having no nationality, last habitually resided in a country that fails to protect against persecution on the basis of sexual orientation or gender identity and who share common characteristics that identify them as targets of persecution on account of sexual orientation or gender identity, such aliens are eligible for Priority 2 processing under the refugee resettlement priority system. (2) Resettlement processing.-- (A) In general.--In a case in which a refugee admitted under section 207 of the Immigration and Nationality Act discloses to an employee or contractor of the Bureau of Population, Refugees, and Migration information with respect to the refugee's sexual orientation or gender identity, the Secretary of State shall, with the refugee's consent, provide such information to the appropriate national resettlement agency to prevent the refugee from being placed in a community in which the refugee is likely to face continued discrimination and to place the refugee in a community that offers services to meet the needs of the refugee. (B) National resettlement agencies defined.--The term ``national resettlement agency'' means an agency contracting with the Department of State to provide sponsorship and initial resettlement services to refugees entering the United States. (e) Training Program.-- (1) Training program.--In order to create an environment in which an alien may safely disclose such alien's sexual orientation or gender identity, the Secretary of Homeland Security shall establish, in consultation with the Secretary of State, a training program for staff and translators who participate in the interview process of aliens seeking asylum or status as a refugee. (2) Components of training program.--The training program described in paragraph (1) shall include instruction on-- (A) appropriate word choice and word usage; (B) creating safe spaces and facilities for LGBTI aliens; (C) confidentiality requirements; and (D) nondiscrimination policies. (f) Limitation on Detention.-- (1) Presumption of release.-- (A) In general.--Notwithstanding any other provision of law and except as provided in subparagraphs (B) and (C), the Secretary of Homeland Security-- (i) may not detain an alien who is a member of a vulnerable group under any provision of the Immigration and Nationality Act (8 U.S.C. 1101 et seq.) pending a decision with respect to whether the alien is to be removed from the United States; and (ii) shall immediately release any detained alien who is a member of a vulnerable group. (B) Exceptions.--The Secretary of Homeland Security may detain, pursuant to the Immigration and Nationality Act (8 U.S.C. 1101 et seq.), an alien who is a member of a vulnerable group if the Secretary makes a determination, using credible and individualized information, that the use of alternatives to detention will not reasonably assure the appearance of the alien at removal proceedings, or that the alien is a threat to another person or the community. The fact that an alien has a criminal charge pending against the alien may not be the sole factor to justify the detention of the alien. (C) Removal.--In a case in which detention is the least restrictive means of effectuating the removal from the United States of an alien who is a member of a vulnerable group, the subject of a final order of deportation or removal, and not detained under subparagraph (B), the Secretary of Homeland Security may, solely for the purpose of such removal, detain the alien for a period that is-- (i) the shortest possible period immediately preceding the removal of the alien from the United States; and (ii) not more than 5 days. (2) Weekly review required.-- (A) In general.--With respect to an alien detained under subparagraph (B) of paragraph (1), not less frequently than once each week, the Secretary of Homeland Security shall conduct an individualized review to determine whether the alien should continue to be detained under such subparagraph. (B) Release.--In the case of a determination under subparagraph (A) that an alien should not be detained under paragraph (1)(B), not later than 24 hours after the date on which the Secretary makes the determination, the Secretary shall release the detainee. (g) Protective Custody for LGBTI Alien Detainees.-- (1) Detainees.--An LGBTI alien who is detained under subparagraph (B) or (C) of subsection (f)(1) may not be placed in housing that is segregated from the general population unless-- (A) the alien requests placement in such housing for the protection of the alien; or (B) the Secretary of Homeland Security determines, after assessing all available alternatives, that there is no available alternative means of separation from likely abusers. (2) Placement factors.--In a case in which an LGBTI alien is placed in segregated housing pursuant to paragraph (1), the Secretary of Homeland Security shall ensure that such housing-- (A) includes non-LGBTI aliens, to the extent practicable; and (B) complies with any applicable court order for the protection of LGBTI aliens. (3) Protective custody requests.--In a case in which an LGBTI alien who is detained requests placement in segregated housing for the protection of such alien, the Secretary of Homeland Security shall grant such request. (h) Sense of Congress.--It is the sense of Congress that the Secretary of Homeland Security should hire a sufficient number of Refugee Corps officers for refugee interviews to be held within a reasonable period of time and adjudicated not later than 180 days after a request for Priority 2 consideration is filed. SEC. 9. ENGAGING INTERNATIONAL ORGANIZATIONS IN THE FIGHT AGAINST LGBTI DISCRIMINATION. (a) Sense of Congress.--It is the sense of Congress that-- (1) the United States should be a leader in efforts by the United Nations to ensure that human rights norms, development principles, and political rights are fully inclusive of LGBTI people; (2) United States leadership within international financial institutions, such as the World Bank and the regional development banks, should be used to ensure that the programs, projects, and activities undertaken by such institutions are fully inclusive of all people, including LGBTI people; and (3) the Secretary of State should seek appropriate opportunities to encourage the equal treatment of LGBTI people during discussions with or participation in the full range of regional, multilateral, and international fora, such as the Organization of American States, the Organization for Security and Cooperation in Europe, the European Union, the African Union, and the Association of South East Asian Nations. (b) Action Through the Equal Rights Coalition.--The Secretary of State shall promote diplomatic coordination through the Equal Rights Coalition, established in July 2016 at the Global LGBTI Human Rights Conference in Montevideo, Uruguay, and other multilateral mechanisms, to achieve the goals and outcomes described in subsection (a). SEC. 10. REPRESENTING THE RIGHTS OF UNITED STATES LGBTI CITIZENS DEPLOYED TO DIPLOMATIC AND CONSULAR POSTS. (a) Sense of Congress.--It is the sense of Congress that, recognizing the importance of a diverse workforce in the representation of the United States abroad, and in support of sound personnel staffing policies, the Secretary of State should-- (1) prioritize efforts to ensure that foreign governments do not impede the assignment of United States LGBTI citizens and their families to diplomatic and consular posts; and (2) open conversations with entities in the United States private sector that engage in business in other countries to the extent necessary to address any visa issues faced by such private sector entities with respect to their LGBTI employees. (b) Remedies for Family Visa Denial.-- (1) In general.--The Secretary of State shall use all appropriate diplomatic efforts to ensure that the families of LGBTI employees of the Department are issued visas from countries where such employees are posted. (2) List required.--Not later than 180 days after the date of the enactment of this Act, the Secretary of State shall submit to Congress-- (A) a classified list of each country that has refused to grant accreditation to LGBTI employees of the Department or their family members in the prior two years; and (B) the actions taken or intended to be taken by the Secretary, in accordance with paragraph (1), to ensure that LGBTI employees are appointed to appropriate positions in accordance with diplomatic needs and personnel qualifications, including actions specifically relating to securing the accreditation of the families of such employees by relevant countries. SEC. 11. DEFINITIONS. In this Act: (1) LGBTI.--The term ``LGBTI'' means lesbian, gay, bisexual, transgender, or intersex. (2) Appropriate congressional committees.--The term ``appropriate congressional committees'' means-- (A) the Committee on Foreign Affairs, the Committee on the Judiciary, and the Committee on Appropriations of the House of Representatives; and (B) the Committee on Foreign Relations, the Committee on the Judiciary, and the Committee on Appropriations of the Senate. (3) Member of a vulnerable group.--The term ``member of a vulnerable group'' means, with respect to an alien, that such alien-- (A) is under 21 years of age or over 60 years of age; (B) is pregnant; (C) identifies as lesbian, gay, bisexual, transgender, or intersex; (D) is victim or witness of a crime; (E) has filed a nonfrivolous civil rights claim in Federal or State court; (F) has a serious mental or physical illness or disability; (G) has been determined by an asylum officer in an interview conducted under section 235(b)(1)(B) to have a credible fear of persecution; or (H) has been determined by an immigration judge or the Secretary of Homeland Security to be experiencing severe trauma or to be a survivor of torture or gender- based violence, based on information obtained during intake, from the alien's attorney or legal service provider, or through credible self-reporting. <all>\""
      ]
     },
     "execution_count": 59,
     "metadata": {},
     "output_type": "execute_result"
    }
   ],
   "source": [
    "data.loc[165, 'bill_text']"
   ]
  },
  {
   "cell_type": "code",
   "execution_count": 30,
   "metadata": {},
   "outputs": [
    {
     "data": {
      "text/plain": [
       "Text(0.5,0,'Average contribution to information gain')"
      ]
     },
     "execution_count": 30,
     "metadata": {},
     "output_type": "execute_result"
    },
    {
     "data": {
      "image/png": "[encoded data removed]",
      "text/plain": [
       "<Figure size 720x576 with 1 Axes>"
      ]
     },
     "metadata": {
      "needs_background": "light"
     },
     "output_type": "display_data"
    }
   ],
   "source": [
    "# Plot the feature importance\n",
    "feat_scores = pd.Series(gb.feature_importances_,\n",
    "                           index=features)\n",
    "\n",
    "feat_scores = feat_scores.sort_values()[::-1][:50][::-1]\n",
    "ax = feat_scores.plot(kind='barh', \n",
    "                      figsize=(10,8),\n",
    "                      color='b')\n",
    "ax.set_title('Average Friedman MSE Importance (Top 50 features)')\n",
    "ax.set_xlabel('Average contribution to information gain')"
   ]
  },
  {
   "cell_type": "code",
   "execution_count": 61,
   "metadata": {},
   "outputs": [
    {
     "name": "stdout",
     "output_type": "stream",
     "text": [
      "------------------\n",
      "------------------\n",
      "Data includes bills, joints resolutions, and laws with text from the 110th Congress (2007) to present\n",
      "Make changes in my_tools.get_bill_data to modify the data set.\n",
      "------------------\n"
     ]
    }
   ],
   "source": [
    "data, in_progress = get_bill_data()"
   ]
  },
  {
   "cell_type": "code",
   "execution_count": 62,
   "metadata": {},
   "outputs": [
    {
     "data": {
      "text/plain": [
       "(26, 25)"
      ]
     },
     "execution_count": 62,
     "metadata": {},
     "output_type": "execute_result"
    }
   ],
   "source": [
    "in_progress.shape"
   ]
  },
  {
   "cell_type": "code",
   "execution_count": 63,
   "metadata": {},
   "outputs": [
    {
     "name": "stdout",
     "output_type": "stream",
     "text": [
      "------------------\n",
      "Step 1 of 4: Creating corpus...\n",
      "------------------\n",
      "Step 2 of 4: Tokenizing...\n",
      "------------------\n",
      "Step 3 of 4: Stripping out stop words, punctuation, and numbers...\n",
      "------------------\n",
      "Step 4 of 4: Lemmatizing...\n",
      "------------------\n",
      "NLP preprocessing complete ...\n",
      "[[0.99790061 0.00209939]\n",
      " [0.99790061 0.00209939]\n",
      " [0.99790061 0.00209939]\n",
      " [0.99889146 0.00110854]\n",
      " [0.99790061 0.00209939]\n",
      " [0.99790061 0.00209939]\n",
      " [0.99790061 0.00209939]\n",
      " [0.99790061 0.00209939]\n",
      " [0.99790061 0.00209939]\n",
      " [0.99790061 0.00209939]\n",
      " [0.99790061 0.00209939]\n",
      " [0.99790061 0.00209939]\n",
      " [0.99790061 0.00209939]\n",
      " [0.99790061 0.00209939]\n",
      " [0.99790061 0.00209939]\n",
      " [0.99790061 0.00209939]\n",
      " [0.99790061 0.00209939]\n",
      " [0.99790061 0.00209939]\n",
      " [0.99790061 0.00209939]\n",
      " [0.99790061 0.00209939]\n",
      " [0.99790061 0.00209939]\n",
      " [0.99790061 0.00209939]\n",
      " [0.99790061 0.00209939]\n",
      " [0.99790061 0.00209939]\n",
      " [0.99790061 0.00209939]\n",
      " [0.99790061 0.00209939]]\n"
     ]
    }
   ],
   "source": [
    "# Get input of bill still in progress\n",
    "input_corpus = process_corpus(in_progress, 'bill_text')\n",
    "\n",
    "input_vec = tfvect.transform(input_corpus)\n",
    "input_y_pred = gb.predict(input_vec)\n",
    "input_y_pred_proba = gb.predict_proba(input_vec)\n",
    "\n",
    "\n",
    "print(input_y_pred_proba)"
   ]
  },
  {
   "cell_type": "code",
   "execution_count": null,
   "metadata": {},
   "outputs": [],
   "source": []
  }
 ],
 "metadata": {
  "kernelspec": {
   "display_name": "Python 3",
   "language": "python",
   "name": "python3"
  },
  "language_info": {
   "codemirror_mode": {
    "name": "ipython",
    "version": 3
   },
   "file_extension": ".py",
   "mimetype": "text/x-python",
   "name": "python",
   "nbconvert_exporter": "python",
   "pygments_lexer": "ipython3",
   "version": "3.7.1"
  }
 },
 "nbformat": 4,
 "nbformat_minor": 2
}
