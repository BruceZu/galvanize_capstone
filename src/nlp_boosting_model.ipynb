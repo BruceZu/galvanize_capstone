{
 "cells": [
  {
   "cell_type": "code",
   "execution_count": 5,
   "metadata": {},
   "outputs": [],
   "source": [
    "from pymongo import MongoClient\n",
    "import numpy as np\n",
    "import pandas as pd\n",
    "from my_tools import get_bill_data, process_corpus, read_jsonl_file\n",
    "import matplotlib.pyplot as plt\n",
    "import os\n",
    "\n",
    "from sklearn.model_selection import train_test_split\n",
    "from sklearn.feature_extraction.text import TfidfVectorizer\n",
    "from sklearn.ensemble import GradientBoostingClassifier\n",
    "\n",
    "from sklearn.metrics import recall_score, precision_score, accuracy_score, f1_score, confusion_matrix\n",
    "\n",
    "from sklearn.externals import joblib"
   ]
  },
  {
   "cell_type": "code",
   "execution_count": 1,
   "metadata": {},
   "outputs": [
    {
     "name": "stderr",
     "output_type": "stream",
     "text": [
      "/home/ubuntu/anaconda3/lib/python3.7/site-packages/sklearn/ensemble/weight_boosting.py:29: DeprecationWarning: numpy.core.umath_tests is an internal NumPy module and should not be imported. It will be removed in a future NumPy release.\n",
      "  from numpy.core.umath_tests import inner1d\n"
     ]
    },
    {
     "name": "stdout",
     "output_type": "stream",
     "text": [
      "------------------\n",
      "------------------\n",
      "Data includes bills, joints resolutions, and laws with text from the 110th Congress (2007) to present\n",
      "Make changes in my_tools.get_bill_data to modify the data set.\n",
      "------------------\n"
     ]
    }
   ],
   "source": [
    "print('-------------------')\n",
    "print('Loading data for vectorizing and modeling...')\n",
    "data, in_progress = get_bill_data()\n",
    "\n",
    "corpus_with_labels = read_jsonl_file('/home/ubuntu/galvanize_capstone/data/nlp/corpus_with_labels.jsonl')\n",
    "corpus_df = pd.DataFrame(list(corpus_with_labels))\n",
    "\n",
    "X = corpus_df['document']\n",
    "y = corpus_df['label'].astype(int)"
   ]
  },
  {
   "cell_type": "code",
   "execution_count": 2,
   "metadata": {},
   "outputs": [
    {
     "name": "stdout",
     "output_type": "stream",
     "text": [
      "-------------------\n",
      "Performing train-test split...\n",
      "-------------------\n",
      "Vectorizing...\n",
      "-------------------\n",
      "Creating vocabulary...\n"
     ]
    }
   ],
   "source": [
    "# create stratified train-test split\n",
    "print('-------------------')\n",
    "print('Performing train-test split...')\n",
    "X_train, X_test, y_train, y_test = train_test_split(X, y, stratify = y)#, random_state = 123)\n",
    "\n",
    "# vectorizing 6M of ~30M dimensions with n-grams, l1 norm (simple avg, l2 avg**2\n",
    "# use_idf=True gives more weight to words, n_grams that appear less frequently in the corpus\n",
    "# sublinear_tf=True reduces the bias of length\n",
    "print('-------------------')\n",
    "print('Vectorizing...')\n",
    "tfvect = TfidfVectorizer(ngram_range=(1, 4), \n",
    "                         max_features = 6000000,\n",
    "                         norm = 'l2',              #default value\n",
    "                         use_idf = True,           #default value\n",
    "                         sublinear_tf = True)\n",
    "\n",
    "X_train_vec = tfvect.fit_transform(X_train)\n",
    "X_test_vec = tfvect.transform(X_test)\n",
    "\n",
    "print('-------------------')\n",
    "print('Creating vocabulary...')\n",
    "vocab = tfvect.vocabulary_"
   ]
  },
  {
   "cell_type": "code",
   "execution_count": 6,
   "metadata": {},
   "outputs": [
    {
     "name": "stdout",
     "output_type": "stream",
     "text": [
      "-------------------\n",
      "Pickling the TfidfVectorizer...\n",
      "Pickling complete.\n"
     ]
    }
   ],
   "source": [
    "# dump the TfidfVectorizer\n",
    "print('-------------------')\n",
    "print('Pickling the TfidfVectorizer...')\n",
    "pickle_path = 'pickle_files/tfidfVectorizer.pkl'\n",
    "if os.path.exists(pickle_path):\n",
    "    os.remove(pickle_path)\n",
    "joblib.dump(tfvect, pickle_path)\n",
    "print('Pickling complete.')"
   ]
  },
  {
   "cell_type": "code",
   "execution_count": null,
   "metadata": {},
   "outputs": [],
   "source": [
    "# # load the TfidfVectorizer\n",
    "# print('-------------------')\n",
    "# print('Loading the pickled TfidfVectorizer...')\n",
    "# pickle_path = 'pickle_files/tfidfVectorizer.pkl'\n",
    "# tfvect = joblib.load(tfvect, pickle_path)\n",
    "# print('Pickled vectorizer loaded.')"
   ]
  },
  {
   "cell_type": "code",
   "execution_count": 11,
   "metadata": {},
   "outputs": [
    {
     "data": {
      "text/plain": [
       "(47486, 6000000)"
      ]
     },
     "execution_count": 11,
     "metadata": {},
     "output_type": "execute_result"
    }
   ],
   "source": [
    "X_train_vec.shape"
   ]
  },
  {
   "cell_type": "code",
   "execution_count": 26,
   "metadata": {},
   "outputs": [
    {
     "name": "stdout",
     "output_type": "stream",
     "text": [
      "-------------------\n",
      "Training Gradient Boosting Classifier with vectorized results...\n",
      "-------------------\n",
      "Getting predictions...\n",
      "-------------------\n",
      "F1 Score:\t\t0.9935\n",
      "Recall Score:\t\t0.9963\n",
      "Precision Score:\t0.9908\n",
      "Accuracy Score:\t\t0.9996\n"
     ]
    }
   ],
   "source": [
    "print('-------------------')\n",
    "print('Training Gradient Boosting Classifier with vectorized results...')\n",
    "gb = GradientBoostingClassifier(loss= 'deviance', \n",
    "                                max_features = 1000000, \n",
    "                                learning_rate = .1, \n",
    "                                n_estimators = 100, \n",
    "                                criterion = 'friedman_mse', \n",
    "                                min_samples_split = 2, \n",
    "                                min_samples_leaf = 15, \n",
    "                                max_depth = 3, \n",
    "                                max_leaf_nodes = None)\n",
    "\n",
    "gb.fit(X_train_vec, y_train)\n",
    "\n",
    "print('-------------------')\n",
    "print('Getting predictions...')\n",
    "gb_y_pred = gb.predict(X_test_vec)\n",
    "gb_y_pred_proba = gb.predict_proba(X_test_vec)\n",
    "\n",
    "print('-------------------')\n",
    "print('F1 Score:\\t\\t{:.4f}'.format(f1_score(y_test, gb_y_pred)))\n",
    "print('Recall Score:\\t\\t{:.4f}'.format(recall_score(y_test, gb_y_pred)))\n",
    "print('Precision Score:\\t{:.4f}'.format(precision_score(y_test, gb_y_pred)))\n",
    "print('Accuracy Score:\\t\\t{:.4f}'.format(accuracy_score(y_test, gb_y_pred)))"
   ]
  },
  {
   "cell_type": "code",
   "execution_count": 55,
   "metadata": {},
   "outputs": [
    {
     "name": "stdout",
     "output_type": "stream",
     "text": [
      "-------------------\n",
      "Pickling the Gradient Boosting Model...\n",
      "Pickling complete.\n"
     ]
    }
   ],
   "source": [
    "# dump the Gradient Boosting Model\n",
    "print('-------------------')\n",
    "print('Pickling the Gradient Boosting Model...')\n",
    "pickle_path = 'pickle_files/nlp_gradientBoost.pkl'\n",
    "if os.path.exists(pickle_path):\n",
    "    os.remove(pickle_path)\n",
    "joblib.dump(gb, pickle_path)\n",
    "print('Pickling complete.')"
   ]
  },
  {
   "cell_type": "code",
   "execution_count": 32,
   "metadata": {},
   "outputs": [
    {
     "data": {
      "text/plain": [
       "array([[15283,     5],\n",
       "       [    2,   539]])"
      ]
     },
     "execution_count": 32,
     "metadata": {},
     "output_type": "execute_result"
    }
   ],
   "source": [
    "confusion_matrix(y_test, gb_y_pred)"
   ]
  },
  {
   "cell_type": "code",
   "execution_count": 34,
   "metadata": {},
   "outputs": [
    {
     "data": {
      "text/plain": [
       "63193    0\n",
       "13511    0\n",
       "27880    0\n",
       "Name: label, dtype: int64"
      ]
     },
     "execution_count": 34,
     "metadata": {},
     "output_type": "execute_result"
    }
   ],
   "source": [
    "y_test[:3]"
   ]
  },
  {
   "cell_type": "code",
   "execution_count": 36,
   "metadata": {},
   "outputs": [
    {
     "data": {
      "text/plain": [
       "array([0, 0, 0])"
      ]
     },
     "execution_count": 36,
     "metadata": {},
     "output_type": "execute_result"
    }
   ],
   "source": [
    "gb_y_pred[:3]"
   ]
  },
  {
   "cell_type": "code",
   "execution_count": 45,
   "metadata": {},
   "outputs": [],
   "source": [
    "diffs = y_test - gb_y_pred"
   ]
  },
  {
   "cell_type": "code",
   "execution_count": 47,
   "metadata": {},
   "outputs": [
    {
     "name": "stdout",
     "output_type": "stream",
     "text": [
      "Index 278 is a False Positive\n",
      "Index 754 is a False Positive\n",
      "Index 2509 is a False Negative\n",
      "Index 4329 is a False Positive\n",
      "Index 6672 is a False Positive\n",
      "Index 9723 is a False Positive\n",
      "Index 15073 is a False Negative\n"
     ]
    }
   ],
   "source": [
    "fp_index_list = []\n",
    "fn_index_list = []\n",
    "\n",
    "for i, j in enumerate(diffs):\n",
    "    if j == 1:\n",
    "        print('Index {} is a False Negative'.format(i))\n",
    "        fn_index_list.append(i)\n",
    "    if j == -1:\n",
    "        print('Index {} is a False Positive'.format(i))\n",
    "        fp_index_list.append(i)\n"
   ]
  },
  {
   "cell_type": "code",
   "execution_count": 48,
   "metadata": {},
   "outputs": [
    {
     "data": {
      "text/plain": [
       "[278, 754, 4329, 6672, 9723]"
      ]
     },
     "execution_count": 48,
     "metadata": {},
     "output_type": "execute_result"
    }
   ],
   "source": [
    "fp_index_list"
   ]
  },
  {
   "cell_type": "code",
   "execution_count": 77,
   "metadata": {},
   "outputs": [
    {
     "data": {
      "text/plain": [
       "0.9999776145858235"
      ]
     },
     "execution_count": 77,
     "metadata": {},
     "output_type": "execute_result"
    }
   ],
   "source": [
    "gb_y_pred_proba[:,0].max()"
   ]
  },
  {
   "cell_type": "code",
   "execution_count": null,
   "metadata": {},
   "outputs": [],
   "source": []
  },
  {
   "cell_type": "code",
   "execution_count": 75,
   "metadata": {},
   "outputs": [
    {
     "data": {
      "text/plain": [
       "(array([1.5283e+04, 0.0000e+00, 0.0000e+00, 0.0000e+00, 0.0000e+00,\n",
       "        0.0000e+00, 0.0000e+00, 0.0000e+00, 0.0000e+00, 0.0000e+00,\n",
       "        0.0000e+00, 1.0000e+00, 0.0000e+00, 0.0000e+00, 0.0000e+00,\n",
       "        1.0000e+00, 0.0000e+00, 0.0000e+00, 0.0000e+00, 0.0000e+00,\n",
       "        0.0000e+00, 0.0000e+00, 0.0000e+00, 0.0000e+00, 0.0000e+00,\n",
       "        0.0000e+00, 0.0000e+00, 0.0000e+00, 0.0000e+00, 0.0000e+00,\n",
       "        0.0000e+00, 0.0000e+00, 0.0000e+00, 0.0000e+00, 0.0000e+00,\n",
       "        0.0000e+00, 0.0000e+00, 0.0000e+00, 0.0000e+00, 0.0000e+00,\n",
       "        0.0000e+00, 0.0000e+00, 0.0000e+00, 0.0000e+00, 0.0000e+00,\n",
       "        0.0000e+00, 0.0000e+00, 0.0000e+00, 0.0000e+00, 0.0000e+00,\n",
       "        0.0000e+00, 0.0000e+00, 0.0000e+00, 0.0000e+00, 0.0000e+00,\n",
       "        0.0000e+00, 0.0000e+00, 0.0000e+00, 0.0000e+00, 0.0000e+00,\n",
       "        0.0000e+00, 0.0000e+00, 0.0000e+00, 0.0000e+00, 0.0000e+00,\n",
       "        0.0000e+00, 0.0000e+00, 0.0000e+00, 0.0000e+00, 0.0000e+00,\n",
       "        0.0000e+00, 0.0000e+00, 0.0000e+00, 0.0000e+00, 0.0000e+00,\n",
       "        0.0000e+00, 0.0000e+00, 1.0000e+00, 1.0000e+00, 0.0000e+00,\n",
       "        0.0000e+00, 0.0000e+00, 0.0000e+00, 1.0000e+00, 0.0000e+00,\n",
       "        2.0000e+00, 0.0000e+00, 2.0000e+00, 1.0000e+00, 1.0000e+00,\n",
       "        1.0000e+00, 0.0000e+00, 2.0000e+00, 1.0000e+00, 4.0000e+00,\n",
       "        7.0000e+00, 1.0000e+01, 9.0000e+00, 1.0000e+01, 4.9100e+02]),\n",
       " array([2.23854142e-05, 9.99332364e-03, 1.99642619e-02, 2.99352001e-02,\n",
       "        3.99061383e-02, 4.98770765e-02, 5.98480148e-02, 6.98189530e-02,\n",
       "        7.97898912e-02, 8.97608295e-02, 9.97317677e-02, 1.09702706e-01,\n",
       "        1.19673644e-01, 1.29644582e-01, 1.39615521e-01, 1.49586459e-01,\n",
       "        1.59557397e-01, 1.69528335e-01, 1.79499273e-01, 1.89470212e-01,\n",
       "        1.99441150e-01, 2.09412088e-01, 2.19383026e-01, 2.29353965e-01,\n",
       "        2.39324903e-01, 2.49295841e-01, 2.59266779e-01, 2.69237718e-01,\n",
       "        2.79208656e-01, 2.89179594e-01, 2.99150532e-01, 3.09121470e-01,\n",
       "        3.19092409e-01, 3.29063347e-01, 3.39034285e-01, 3.49005223e-01,\n",
       "        3.58976162e-01, 3.68947100e-01, 3.78918038e-01, 3.88888976e-01,\n",
       "        3.98859914e-01, 4.08830853e-01, 4.18801791e-01, 4.28772729e-01,\n",
       "        4.38743667e-01, 4.48714606e-01, 4.58685544e-01, 4.68656482e-01,\n",
       "        4.78627420e-01, 4.88598359e-01, 4.98569297e-01, 5.08540235e-01,\n",
       "        5.18511173e-01, 5.28482111e-01, 5.38453050e-01, 5.48423988e-01,\n",
       "        5.58394926e-01, 5.68365864e-01, 5.78336803e-01, 5.88307741e-01,\n",
       "        5.98278679e-01, 6.08249617e-01, 6.18220555e-01, 6.28191494e-01,\n",
       "        6.38162432e-01, 6.48133370e-01, 6.58104308e-01, 6.68075247e-01,\n",
       "        6.78046185e-01, 6.88017123e-01, 6.97988061e-01, 7.07958999e-01,\n",
       "        7.17929938e-01, 7.27900876e-01, 7.37871814e-01, 7.47842752e-01,\n",
       "        7.57813691e-01, 7.67784629e-01, 7.77755567e-01, 7.87726505e-01,\n",
       "        7.97697444e-01, 8.07668382e-01, 8.17639320e-01, 8.27610258e-01,\n",
       "        8.37581196e-01, 8.47552135e-01, 8.57523073e-01, 8.67494011e-01,\n",
       "        8.77464949e-01, 8.87435888e-01, 8.97406826e-01, 9.07377764e-01,\n",
       "        9.17348702e-01, 9.27319640e-01, 9.37290579e-01, 9.47261517e-01,\n",
       "        9.57232455e-01, 9.67203393e-01, 9.77174332e-01, 9.87145270e-01,\n",
       "        9.97116208e-01]),\n",
       " <a list of 100 Patch objects>)"
      ]
     },
     "execution_count": 75,
     "metadata": {},
     "output_type": "execute_result"
    },
    {
     "data": {
      "image/png": "[encoded data removed]",
      "text/plain": [
       "<Figure size 432x288 with 1 Axes>"
      ]
     },
     "metadata": {
      "needs_background": "light"
     },
     "output_type": "display_data"
    }
   ],
   "source": [
    "plt.hist(gb_y_pred_proba[:,1], bins = 100)"
   ]
  },
  {
   "cell_type": "code",
   "execution_count": 49,
   "metadata": {},
   "outputs": [
    {
     "data": {
      "text/plain": [
       "array([[0.22037985, 0.77962015],\n",
       "       [0.14426907, 0.85573093],\n",
       "       [0.02985219, 0.97014781],\n",
       "       [0.05609168, 0.94390832],\n",
       "       [0.02985219, 0.97014781]])"
      ]
     },
     "execution_count": 49,
     "metadata": {},
     "output_type": "execute_result"
    }
   ],
   "source": [
    "gb_y_pred_proba[fp_index_list]"
   ]
  },
  {
   "cell_type": "code",
   "execution_count": 50,
   "metadata": {},
   "outputs": [
    {
     "data": {
      "text/plain": [
       "array([[0.88454965, 0.11545035],\n",
       "       [0.84782311, 0.15217689]])"
      ]
     },
     "execution_count": 50,
     "metadata": {},
     "output_type": "execute_result"
    }
   ],
   "source": [
    "gb_y_pred_proba[fn_index_list]"
   ]
  },
  {
   "cell_type": "code",
   "execution_count": 54,
   "metadata": {},
   "outputs": [
    {
     "data": {
      "text/plain": [
       "Text(0.5,0,'Average contribution to information gain')"
      ]
     },
     "execution_count": 54,
     "metadata": {},
     "output_type": "execute_result"
    },
    {
     "data": {
      "image/png": "[encoded data removed]",
      "text/plain": [
       "<Figure size 720x576 with 1 Axes>"
      ]
     },
     "metadata": {
      "needs_background": "light"
     },
     "output_type": "display_data"
    }
   ],
   "source": [
    "# Plot the feature importance\n",
    "feat_scores = pd.Series(gb.feature_importances_,\n",
    "                           index=vocab)\n",
    "\n",
    "feat_scores = feat_scores.sort_values()[::-1][:50][::-1]\n",
    "ax = feat_scores.plot(kind='barh', \n",
    "                      figsize=(10,8),\n",
    "                      color='b')\n",
    "ax.set_title('Average Friedman MSE Importance (Top 50 features)')\n",
    "ax.set_xlabel('Average contribution to information gain')"
   ]
  },
  {
   "cell_type": "code",
   "execution_count": 56,
   "metadata": {},
   "outputs": [
    {
     "data": {
      "text/plain": [
       "(3, 24)"
      ]
     },
     "execution_count": 56,
     "metadata": {},
     "output_type": "execute_result"
    }
   ],
   "source": [
    "in_progress.shape"
   ]
  },
  {
   "cell_type": "code",
   "execution_count": 64,
   "metadata": {},
   "outputs": [
    {
     "name": "stdout",
     "output_type": "stream",
     "text": [
      "------------------\n",
      "Step 1 of 4: Creating corpus...\n",
      "------------------\n",
      "Step 2 of 4: Tokenizing...\n",
      "------------------\n",
      "Step 3 of 4: Stripping out stop words, punctuation, and numbers...\n",
      "------------------\n",
      "Step 4 of 4: Lemmatizing...\n",
      "------------------\n",
      "NLP preprocessing complete ...\n"
     ]
    }
   ],
   "source": [
    "# Get input of bill still in progress\n",
    "input_corpus = process_corpus(in_progress, 'body')\n",
    "\n",
    "input_vec = tfvect.transform(input_corpus)\n",
    "input_y_pred = gb.predict(input_vec)\n",
    "input_y_pred_proba = gb.predict_proba(input_vec)\n"
   ]
  },
  {
   "cell_type": "code",
   "execution_count": 65,
   "metadata": {},
   "outputs": [
    {
     "data": {
      "text/plain": [
       "array([[9.99862783e-01, 1.37217337e-04],\n",
       "       [9.99862783e-01, 1.37217337e-04],\n",
       "       [9.99780940e-01, 2.19060479e-04]])"
      ]
     },
     "execution_count": 65,
     "metadata": {},
     "output_type": "execute_result"
    }
   ],
   "source": [
    "input_y_pred_proba"
   ]
  },
  {
   "cell_type": "code",
   "execution_count": null,
   "metadata": {},
   "outputs": [],
   "source": []
  }
 ],
 "metadata": {
  "kernelspec": {
   "display_name": "Python 3",
   "language": "python",
   "name": "python3"
  },
  "language_info": {
   "codemirror_mode": {
    "name": "ipython",
    "version": 3
   },
   "file_extension": ".py",
   "mimetype": "text/x-python",
   "name": "python",
   "nbconvert_exporter": "python",
   "pygments_lexer": "ipython3",
   "version": "3.7.1"
  }
 },
 "nbformat": 4,
 "nbformat_minor": 2
}
