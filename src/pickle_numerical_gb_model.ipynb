{
 "cells": [
  {
   "cell_type": "code",
   "execution_count": 1,
   "metadata": {},
   "outputs": [
    {
     "name": "stderr",
     "output_type": "stream",
     "text": [
      "/home/ubuntu/anaconda3/lib/python3.7/site-packages/sklearn/ensemble/weight_boosting.py:29: DeprecationWarning: numpy.core.umath_tests is an internal NumPy module and should not be imported. It will be removed in a future NumPy release.\n",
      "  from numpy.core.umath_tests import inner1d\n"
     ]
    }
   ],
   "source": [
    "# %%writefile pickle_numerical_gb_model.py\n",
    "'''\n",
    "This script pickles the Gradient Boosting model trained on the categorical and \n",
    "continuous values for bills that have moved beyond bill_status Introduced. The \n",
    "predicted probabilities will be used in feature-weighted linear stacking with the\n",
    "probabilities calculated in the nlp model to improve predictions on those.\n",
    "'''\n",
    "import pandas as pd\n",
    "import numpy as np\n",
    "from my_tools import get_bill_data\n",
    "import matplotlib.pyplot as plt\n",
    "plt.style.use('ggplot')\n",
    "\n",
    "from sklearn.model_selection import train_test_split\n",
    "from sklearn.preprocessing import StandardScaler\n",
    "\n",
    "from sklearn.ensemble import GradientBoostingClassifier\n",
    "from sklearn.linear_model import LogisticRegression\n",
    "\n",
    "\n",
    "from sklearn.metrics import recall_score, precision_score, accuracy_score, f1_score, confusion_matrix, log_loss, roc_curve, roc_auc_score\n",
    "\n"
   ]
  },
  {
   "cell_type": "code",
   "execution_count": 2,
   "metadata": {},
   "outputs": [
    {
     "name": "stdout",
     "output_type": "stream",
     "text": [
      "------------------\n",
      "Limiting dataset to significant numerical and categorical features...\n"
     ]
    }
   ],
   "source": [
    "data, in_progress = get_bill_data()\n",
    "\n",
    "# fit to bills that have moved beyond bill_status Introduced\n",
    "data = data[data['bill_status'] != 'Introduced']\n",
    "\n",
    "print('------------------')\n",
    "print('Limiting dataset to significant numerical and categorical features...')\n",
    "\n",
    "cols_to_use = [\n",
    "#             'sponsor',\n",
    "            'num_of_cosponsors', \n",
    "#             'sponsor_party', \n",
    "#             'sponsor_state', \n",
    "            'num_of_amendments',\n",
    "            'bill_char_counts', \n",
    "            'intro_month', \n",
    "            'session', \n",
    "            'labels'\n",
    "            ]\n",
    "\n",
    "dummy_columns = [\n",
    "            'intro_month', \n",
    "#             'num_of_amendments', \n",
    "#             'num_of_cosponsors',\n",
    "#             'sponsor',\n",
    "#             'sponsor_party', \n",
    "#             'sponsor_state', \n",
    "            'session'\n",
    "            ]\n",
    "\n",
    "data_features = data.loc[:, cols_to_use]\n",
    "\n",
    "# get dummies for intro_month, sponsor_party, sponsor_state, session\n",
    "data_dumm = pd.get_dummies(data_features, columns = dummy_columns, drop_first=False)\n",
    "\n",
    "\n",
    "# drop last dummy column for each feature to avoid dummy trap\n",
    "cols_to_drop = ['intro_month_12', 'session_2']\n",
    "for col in cols_to_drop: \n",
    "    data_dumm.drop(col, axis = 1, inplace = True)\n",
    "\n"
   ]
  },
  {
   "cell_type": "code",
   "execution_count": 3,
   "metadata": {},
   "outputs": [],
   "source": [
    "# y = data_features.pop('labels').values.astype(int)\n",
    "y = data_dumm.pop('labels').values.astype(int)"
   ]
  },
  {
   "cell_type": "code",
   "execution_count": 4,
   "metadata": {},
   "outputs": [
    {
     "name": "stdout",
     "output_type": "stream",
     "text": [
      "------------------\n",
      "Performing train-test split...\n",
      "------------------\n",
      "Scaling the data...\n",
      "-------------------\n",
      "Training Gradient Boosting Classifier with continuous and categorical data...\n",
      "-------------------\n",
      "Getting predictions...\n",
      "-------------------\n",
      "F1 Score:\t\t0.5087\n",
      "Recall Score:\t\t0.4307\n",
      "Precision Score:\t0.6213\n",
      "Accuracy Score:\t\t0.6924\n",
      "[[780 142]\n",
      " [308 233]]\n",
      "-------------------\n",
      "Training Logistic regression with continuous and categorical data...\n",
      "-------------------\n",
      "Getting predictions...\n",
      "-------------------\n",
      "F1 Score:\t\t0.4252\n",
      "Recall Score:\t\t0.4492\n",
      "Precision Score:\t0.4037\n",
      "Accuracy Score:\t\t0.5509\n",
      "Confusion Matrix\n",
      "[[563 359]\n",
      " [298 243]]\n"
     ]
    },
    {
     "name": "stderr",
     "output_type": "stream",
     "text": [
      "/home/ubuntu/anaconda3/lib/python3.7/site-packages/sklearn/linear_model/logistic.py:1232: UserWarning: 'n_jobs' > 1 does not have any effect when 'solver' is set to 'liblinear'. Got 'n_jobs' = -1.\n",
      "  \" = {}.\".format(self.n_jobs))\n"
     ]
    }
   ],
   "source": [
    "print('------------------')\n",
    "print('Performing train-test split...')\n",
    "X_train, X_test, y_train, y_test = train_test_split(data_dumm, y, stratify = y)\n",
    "# X_train, X_test, y_train, y_test = train_test_split(data_features, y, stratify = y)\n",
    "\n",
    "print('------------------')\n",
    "print('Scaling the data...')\n",
    "sc = StandardScaler()\n",
    "X_train = sc.fit_transform(X_train)\n",
    "X_test = sc.transform(X_test)\n",
    "\n",
    "\n",
    "\n",
    "print('-------------------')\n",
    "print('Training Gradient Boosting Classifier with continuous and categorical data...')\n",
    "gb = GradientBoostingClassifier(loss= 'deviance',             # default value\n",
    "                                max_features = None,          # default value\n",
    "                                learning_rate = .05,\n",
    "                                n_estimators = 200,           # default value\n",
    "                                criterion = 'friedman_mse',   # default value\n",
    "                                min_samples_split = 2,        # default value\n",
    "                                min_samples_leaf = 1,         # default value\n",
    "                                max_depth = 8,\n",
    "                                max_leaf_nodes = None)        # default value\n",
    "\n",
    "gb.fit(X_train, y_train)\n",
    "\n",
    "print('-------------------')\n",
    "print('Getting predictions...')\n",
    "gb_y_pred = gb.predict(X_test)\n",
    "gb_y_pred_proba = gb.predict_proba(X_test)[:, 1]\n",
    "\n",
    "print('-------------------')\n",
    "print('F1 Score:\\t\\t{:.4f}'.format(f1_score(y_test, gb_y_pred)))\n",
    "print('Recall Score:\\t\\t{:.4f}'.format(recall_score(y_test, gb_y_pred)))\n",
    "print('Precision Score:\\t{:.4f}'.format(precision_score(y_test, gb_y_pred)))\n",
    "print('Accuracy Score:\\t\\t{:.4f}'.format(accuracy_score(y_test, gb_y_pred)))\n",
    "print(confusion_matrix(y_test, gb_y_pred))\n",
    "\n",
    "gb_fprs, gb_tprs, gb_thresh = roc_curve(y_test, gb_y_pred_proba)\n",
    "\n",
    "# fit data to Logistic Regression\n",
    "print('-------------------')\n",
    "print('Training Logistic regression with continuous and categorical data...')\n",
    "lr = LogisticRegression(C = 100, \n",
    "                        n_jobs = -1, \n",
    "                        class_weight = 'balanced')\n",
    "lr.fit(X_train, y_train)\n",
    "\n",
    "print('-------------------')\n",
    "print('Getting predictions...')\n",
    "lr_y_pred = lr.predict(X_test)\n",
    "lr_y_pred_proba = lr.predict_proba(X_test)[:,1]\n",
    "\n",
    "print('-------------------')\n",
    "print('F1 Score:\\t\\t{:.4f}'.format(f1_score(y_test, lr_y_pred)))\n",
    "print('Recall Score:\\t\\t{:.4f}'.format(recall_score(y_test, lr_y_pred)))\n",
    "print('Precision Score:\\t{:.4f}'.format(precision_score(y_test, lr_y_pred)))\n",
    "print('Accuracy Score:\\t\\t{:.4f}'.format(accuracy_score(y_test, lr_y_pred)))\n",
    "print('Confusion Matrix')\n",
    "print(confusion_matrix(y_test, lr_y_pred))\n",
    "\n",
    "lr_fprs, lr_tprs, lr_thresh = roc_curve(y_test, lr_y_pred_proba)"
   ]
  },
  {
   "cell_type": "code",
   "execution_count": 5,
   "metadata": {},
   "outputs": [
    {
     "name": "stdout",
     "output_type": "stream",
     "text": [
      "---------------------------\n",
      "With all data (2007 - 2018)\n",
      "---------------------------\n",
      "Logistic Regression ROC AUC Score: \t0.5330\n",
      "GradientBoost ROC AUC Score: \t\t0.6855\n"
     ]
    },
    {
     "data": {
      "image/png": "[encoded data removed]",
      "text/plain": [
       "<Figure size 720x576 with 1 Axes>"
      ]
     },
     "metadata": {
      "needs_background": "light"
     },
     "output_type": "display_data"
    }
   ],
   "source": [
    "print('---------------------------')\n",
    "print('With all data (2007 - 2018)')\n",
    "print('---------------------------')\n",
    "fig = plt.figure(figsize = (10, 8))\n",
    "plt.plot(lr_fprs, lr_tprs, label = 'Logistic Regression', color = 'orange')\n",
    "plt.plot(gb_fprs, gb_tprs, label = 'GradientBoost', color = 'red')\n",
    "plt.plot([0, 1], [0, 1], 'k:')\n",
    "plt.legend()\n",
    "plt.xlabel('FPR')\n",
    "plt.ylabel('TPR')\n",
    "plt.title('ROC Curve')\n",
    "\n",
    "print('Logistic Regression ROC AUC Score: \\t{:.4f}'.format(roc_auc_score(y_test, lr_y_pred_proba)))\n",
    "print('GradientBoost ROC AUC Score: \\t\\t{:.4f}'.format(roc_auc_score(y_test, gb_y_pred_proba)))\n",
    "\n"
   ]
  },
  {
   "cell_type": "code",
   "execution_count": 6,
   "metadata": {},
   "outputs": [
    {
     "name": "stdout",
     "output_type": "stream",
     "text": [
      "------------------\n",
      "Limiting dataset to significant numerical and categorical features...\n"
     ]
    }
   ],
   "source": [
    "# fit new bills that have moved beyond bill_status Introduced\n",
    "new_data = in_progress[in_progress['bill_status'] != 'Introduced']\n",
    "\n",
    "\n",
    "print('------------------')\n",
    "print('Limiting dataset to significant numerical and categorical features...')\n",
    "new_data_features = new_data.loc[:, cols_to_use]"
   ]
  },
  {
   "cell_type": "code",
   "execution_count": 7,
   "metadata": {},
   "outputs": [],
   "source": [
    "# get dummies for intro_month, sponsor_party, sponsor_state, session\n",
    "new_data_dumm = pd.get_dummies(new_data_features, columns = dummy_columns, \n",
    "                           drop_first=False)\n",
    "\n",
    "\n",
    "# modify columns to fit model\n",
    "new_data_dumm.drop('labels', axis = 1, inplace = True)\n",
    "for col in data_dumm.columns:\n",
    "    if col not in new_data_dumm.columns:\n",
    "        new_data_dumm[col] = 0"
   ]
  },
  {
   "cell_type": "code",
   "execution_count": 8,
   "metadata": {},
   "outputs": [
    {
     "data": {
      "text/html": [
       "<div>\n",
       "<style scoped>\n",
       "    .dataframe tbody tr th:only-of-type {\n",
       "        vertical-align: middle;\n",
       "    }\n",
       "\n",
       "    .dataframe tbody tr th {\n",
       "        vertical-align: top;\n",
       "    }\n",
       "\n",
       "    .dataframe thead th {\n",
       "        text-align: right;\n",
       "    }\n",
       "</style>\n",
       "<table border=\"1\" class=\"dataframe\">\n",
       "  <thead>\n",
       "    <tr style=\"text-align: right;\">\n",
       "      <th></th>\n",
       "      <th>num_of_cosponsors</th>\n",
       "      <th>num_of_amendments</th>\n",
       "      <th>bill_char_counts</th>\n",
       "      <th>intro_month_1</th>\n",
       "      <th>session_1</th>\n",
       "      <th>intro_month_2</th>\n",
       "      <th>intro_month_3</th>\n",
       "      <th>intro_month_4</th>\n",
       "      <th>intro_month_5</th>\n",
       "      <th>intro_month_6</th>\n",
       "      <th>intro_month_7</th>\n",
       "      <th>intro_month_8</th>\n",
       "      <th>intro_month_9</th>\n",
       "      <th>intro_month_10</th>\n",
       "      <th>intro_month_11</th>\n",
       "    </tr>\n",
       "  </thead>\n",
       "  <tbody>\n",
       "    <tr>\n",
       "      <th>2</th>\n",
       "      <td>0</td>\n",
       "      <td>0</td>\n",
       "      <td>4577</td>\n",
       "      <td>1</td>\n",
       "      <td>1</td>\n",
       "      <td>0</td>\n",
       "      <td>0</td>\n",
       "      <td>0</td>\n",
       "      <td>0</td>\n",
       "      <td>0</td>\n",
       "      <td>0</td>\n",
       "      <td>0</td>\n",
       "      <td>0</td>\n",
       "      <td>0</td>\n",
       "      <td>0</td>\n",
       "    </tr>\n",
       "    <tr>\n",
       "      <th>25</th>\n",
       "      <td>0</td>\n",
       "      <td>0</td>\n",
       "      <td>1295706</td>\n",
       "      <td>1</td>\n",
       "      <td>1</td>\n",
       "      <td>0</td>\n",
       "      <td>0</td>\n",
       "      <td>0</td>\n",
       "      <td>0</td>\n",
       "      <td>0</td>\n",
       "      <td>0</td>\n",
       "      <td>0</td>\n",
       "      <td>0</td>\n",
       "      <td>0</td>\n",
       "      <td>0</td>\n",
       "    </tr>\n",
       "  </tbody>\n",
       "</table>\n",
       "</div>"
      ],
      "text/plain": [
       "    num_of_cosponsors  num_of_amendments  bill_char_counts  intro_month_1  \\\n",
       "2                   0                  0              4577              1   \n",
       "25                  0                  0           1295706              1   \n",
       "\n",
       "    session_1  intro_month_2  intro_month_3  intro_month_4  intro_month_5  \\\n",
       "2           1              0              0              0              0   \n",
       "25          1              0              0              0              0   \n",
       "\n",
       "    intro_month_6  intro_month_7  intro_month_8  intro_month_9  \\\n",
       "2               0              0              0              0   \n",
       "25              0              0              0              0   \n",
       "\n",
       "    intro_month_10  intro_month_11  \n",
       "2                0               0  \n",
       "25               0               0  "
      ]
     },
     "execution_count": 8,
     "metadata": {},
     "output_type": "execute_result"
    }
   ],
   "source": [
    "new_data_dumm"
   ]
  },
  {
   "cell_type": "code",
   "execution_count": 9,
   "metadata": {},
   "outputs": [
    {
     "name": "stdout",
     "output_type": "stream",
     "text": [
      "-------------------\n",
      "Getting predictions...\n"
     ]
    }
   ],
   "source": [
    "print('-------------------')\n",
    "print('Getting predictions...')\n",
    "gb_y_pred = gb.predict(new_data_dumm)\n",
    "gb_y_pred_proba = gb.predict_proba(new_data_dumm)[:, 1]\n"
   ]
  },
  {
   "cell_type": "code",
   "execution_count": 10,
   "metadata": {},
   "outputs": [
    {
     "name": "stdout",
     "output_type": "stream",
     "text": [
      "-------------------\n",
      "Getting predictions...\n"
     ]
    }
   ],
   "source": [
    "print('-------------------')\n",
    "print('Getting predictions...')\n",
    "lr_y_pred = lr.predict(new_data_dumm)\n",
    "lr_y_pred_proba = lr.predict_proba(new_data_dumm)[:, 1]\n"
   ]
  },
  {
   "cell_type": "code",
   "execution_count": 11,
   "metadata": {},
   "outputs": [
    {
     "data": {
      "text/plain": [
       "array([0.93413942, 0.93413942])"
      ]
     },
     "execution_count": 11,
     "metadata": {},
     "output_type": "execute_result"
    }
   ],
   "source": [
    "gb_y_pred_proba"
   ]
  },
  {
   "cell_type": "code",
   "execution_count": 12,
   "metadata": {},
   "outputs": [
    {
     "data": {
      "text/plain": [
       "array([1., 1.])"
      ]
     },
     "execution_count": 12,
     "metadata": {},
     "output_type": "execute_result"
    }
   ],
   "source": [
    "lr_y_pred_proba"
   ]
  },
  {
   "cell_type": "code",
   "execution_count": 13,
   "metadata": {},
   "outputs": [
    {
     "data": {
      "text/plain": [
       "(2, 15)"
      ]
     },
     "execution_count": 13,
     "metadata": {},
     "output_type": "execute_result"
    }
   ],
   "source": [
    "new_data_dumm.shape"
   ]
  },
  {
   "cell_type": "code",
   "execution_count": 14,
   "metadata": {},
   "outputs": [
    {
     "data": {
      "text/html": [
       "<div>\n",
       "<style scoped>\n",
       "    .dataframe tbody tr th:only-of-type {\n",
       "        vertical-align: middle;\n",
       "    }\n",
       "\n",
       "    .dataframe tbody tr th {\n",
       "        vertical-align: top;\n",
       "    }\n",
       "\n",
       "    .dataframe thead th {\n",
       "        text-align: right;\n",
       "    }\n",
       "</style>\n",
       "<table border=\"1\" class=\"dataframe\">\n",
       "  <thead>\n",
       "    <tr style=\"text-align: right;\">\n",
       "      <th></th>\n",
       "      <th>_id</th>\n",
       "      <th>bill_status</th>\n",
       "      <th>bill_text</th>\n",
       "      <th>body</th>\n",
       "      <th>committee</th>\n",
       "      <th>congress_id</th>\n",
       "      <th>cosponsors</th>\n",
       "      <th>cosponsors_url</th>\n",
       "      <th>desc</th>\n",
       "      <th>intro_date</th>\n",
       "      <th>...</th>\n",
       "      <th>sponsor</th>\n",
       "      <th>sponsor_district</th>\n",
       "      <th>sponsor_party</th>\n",
       "      <th>sponsor_state</th>\n",
       "      <th>bill_char_counts</th>\n",
       "      <th>intro_month</th>\n",
       "      <th>intro_year</th>\n",
       "      <th>session</th>\n",
       "      <th>char_count_bucket</th>\n",
       "      <th>labels</th>\n",
       "    </tr>\n",
       "  </thead>\n",
       "  <tbody>\n",
       "    <tr>\n",
       "      <th>2</th>\n",
       "      <td>5c2fb9ca1417de116c271913</td>\n",
       "      <td>Passed House</td>\n",
       "      <td>Making further continuing appropriations for t...</td>\n",
       "      <td>[Congressional Bills 116th Congress] [From the...</td>\n",
       "      <td>House - Appropriations</td>\n",
       "      <td>116</td>\n",
       "      <td>None</td>\n",
       "      <td>None</td>\n",
       "      <td>Making further continuing appropriations for t...</td>\n",
       "      <td>2019-01-03</td>\n",
       "      <td>...</td>\n",
       "      <td>Lowey, Nita M.</td>\n",
       "      <td>17</td>\n",
       "      <td>D</td>\n",
       "      <td>NY</td>\n",
       "      <td>4577</td>\n",
       "      <td>1</td>\n",
       "      <td>2019</td>\n",
       "      <td>1</td>\n",
       "      <td>4001 - 5000</td>\n",
       "      <td>in_progress</td>\n",
       "    </tr>\n",
       "    <tr>\n",
       "      <th>25</th>\n",
       "      <td>5c2fb9c21417de116c2718fd</td>\n",
       "      <td>Passed House</td>\n",
       "      <td>Making appropriations for the fiscal year endi...</td>\n",
       "      <td>[Congressional Bills 116th Congress] [From the...</td>\n",
       "      <td>House - Appropriations, Budget</td>\n",
       "      <td>116</td>\n",
       "      <td>None</td>\n",
       "      <td>None</td>\n",
       "      <td>Consolidated Appropriations Act, 2019</td>\n",
       "      <td>2019-01-03</td>\n",
       "      <td>...</td>\n",
       "      <td>Lowey, Nita M.</td>\n",
       "      <td>17</td>\n",
       "      <td>D</td>\n",
       "      <td>NY</td>\n",
       "      <td>1295706</td>\n",
       "      <td>1</td>\n",
       "      <td>2019</td>\n",
       "      <td>1</td>\n",
       "      <td>greater than 10000</td>\n",
       "      <td>in_progress</td>\n",
       "    </tr>\n",
       "  </tbody>\n",
       "</table>\n",
       "<p>2 rows × 25 columns</p>\n",
       "</div>"
      ],
      "text/plain": [
       "                         _id   bill_status  \\\n",
       "2   5c2fb9ca1417de116c271913  Passed House   \n",
       "25  5c2fb9c21417de116c2718fd  Passed House   \n",
       "\n",
       "                                            bill_text  \\\n",
       "2   Making further continuing appropriations for t...   \n",
       "25  Making appropriations for the fiscal year endi...   \n",
       "\n",
       "                                                 body  \\\n",
       "2   [Congressional Bills 116th Congress] [From the...   \n",
       "25  [Congressional Bills 116th Congress] [From the...   \n",
       "\n",
       "                         committee congress_id cosponsors cosponsors_url  \\\n",
       "2           House - Appropriations         116       None           None   \n",
       "25  House - Appropriations, Budget         116       None           None   \n",
       "\n",
       "                                                 desc intro_date     ...       \\\n",
       "2   Making further continuing appropriations for t... 2019-01-03     ...        \n",
       "25              Consolidated Appropriations Act, 2019 2019-01-03     ...        \n",
       "\n",
       "           sponsor sponsor_district sponsor_party  sponsor_state  \\\n",
       "2   Lowey, Nita M.               17             D             NY   \n",
       "25  Lowey, Nita M.               17             D             NY   \n",
       "\n",
       "    bill_char_counts intro_month intro_year session   char_count_bucket  \\\n",
       "2               4577           1       2019       1         4001 - 5000   \n",
       "25           1295706           1       2019       1  greater than 10000   \n",
       "\n",
       "         labels  \n",
       "2   in_progress  \n",
       "25  in_progress  \n",
       "\n",
       "[2 rows x 25 columns]"
      ]
     },
     "execution_count": 14,
     "metadata": {},
     "output_type": "execute_result"
    }
   ],
   "source": [
    "new_data"
   ]
  },
  {
   "cell_type": "code",
   "execution_count": null,
   "metadata": {},
   "outputs": [],
   "source": []
  }
 ],
 "metadata": {
  "kernelspec": {
   "display_name": "Python 3",
   "language": "python",
   "name": "python3"
  },
  "language_info": {
   "codemirror_mode": {
    "name": "ipython",
    "version": 3
   },
   "file_extension": ".py",
   "mimetype": "text/x-python",
   "name": "python",
   "nbconvert_exporter": "python",
   "pygments_lexer": "ipython3",
   "version": "3.7.1"
  }
 },
 "nbformat": 4,
 "nbformat_minor": 2
}
