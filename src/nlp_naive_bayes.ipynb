{
 "cells": [
  {
   "cell_type": "code",
   "execution_count": 1,
   "metadata": {
    "scrolled": true
   },
   "outputs": [],
   "source": [
    "# %%writefile nlp_naive_bayes.py\n",
    "import numpy as np\n",
    "import pandas as pd\n",
    "from pymongo import MongoClient\n",
    "\n",
    "from sklearn.externals import joblib\n",
    "\n",
    "from sklearn.metrics import recall_score, precision_score, accuracy_score, f1_score, confusion_matrix\n",
    "\n",
    "from sklearn.model_selection import train_test_split\n",
    "from sklearn.naive_bayes import MultinomialNB#, ComplementNB unreleased as of 12/14\n",
    "\n",
    "import matplotlib.pyplot as plt\n",
    "plt.style.use('ggplot')\n",
    "\n",
    "from my_tools import get_bill_data, process_corpus, read_jsonl_file"
   ]
  },
  {
   "cell_type": "code",
   "execution_count": 2,
   "metadata": {},
   "outputs": [
    {
     "name": "stdout",
     "output_type": "stream",
     "text": [
      "-------------------\n",
      "Loading original and preprocessed data for vectorizing and modeling...\n",
      "------------------\n",
      "------------------\n",
      "Data includes bills, joints resolutions, and laws with text from the 110th Congress (2007) to present\n",
      "Make changes in my_tools.get_bill_data to modify the data set.\n",
      "------------------\n",
      "-------------------\n",
      "Performing train-test split...\n"
     ]
    }
   ],
   "source": [
    "\n",
    "print('-------------------')\n",
    "print('Loading original and preprocessed data for vectorizing and modeling...')\n",
    "data, in_progress = get_bill_data()\n",
    "\n",
    "# drop bill text column from data and retrieve preprocessed text from corpus_with_labels.jsonl\n",
    "data.drop('body', axis = 1, inplace = True)\n",
    "\n",
    "corpus_with_labels = read_jsonl_file('/home/ubuntu/galvanize_capstone/data/nlp/corpus_with_labels.jsonl')\n",
    "corpus_df = pd.DataFrame(list(corpus_with_labels))\n",
    "\n",
    "X = corpus_df['document']\n",
    "y = corpus_df['label'].astype(int)\n",
    "\n",
    "\n",
    "# create stratified train-test split\n",
    "print('-------------------')\n",
    "print('Performing train-test split...')\n",
    "X_train, X_test, y_train, y_test = train_test_split(X, y, stratify = y)#, random_state = 123)"
   ]
  },
  {
   "cell_type": "code",
   "execution_count": 3,
   "metadata": {},
   "outputs": [
    {
     "name": "stdout",
     "output_type": "stream",
     "text": [
      "-------------------\n",
      "Loading the pickled TfidfVectorizer...\n",
      "Pickled vectorizer loaded.\n"
     ]
    }
   ],
   "source": [
    "# load the TfidfVectorizer\n",
    "print('-------------------')\n",
    "print('Loading the pickled TfidfVectorizer...')\n",
    "pickle_path = 'pickle_files/tfidfVectorizer.pkl'\n",
    "tfvect = joblib.load(pickle_path)\n",
    "print('Pickled vectorizer loaded.')"
   ]
  },
  {
   "cell_type": "code",
   "execution_count": 6,
   "metadata": {},
   "outputs": [
    {
     "name": "stdout",
     "output_type": "stream",
     "text": [
      "-------------------\n",
      "Getting Features...\n"
     ]
    }
   ],
   "source": [
    "print('-------------------')\n",
    "print('Vectorizing bill text...')\n",
    "X_train_vec = tfvect.transform(X_train)\n",
    "X_test_vec = tfvect.transform(X_test)\n",
    "\n",
    "print('-------------------')\n",
    "print('Getting Features...')\n",
    "features = tfvect.get_feature_names()"
   ]
  },
  {
   "cell_type": "code",
   "execution_count": 7,
   "metadata": {},
   "outputs": [
    {
     "name": "stdout",
     "output_type": "stream",
     "text": [
      "-------------------\n",
      "F1 Score:\t\t0.0073\n",
      "Recall Score:\t\t0.0037\n",
      "Precision Score:\t0.5000\n",
      "Accuracy Score:\t\t0.9658\n"
     ]
    }
   ],
   "source": [
    "nb = MultinomialNB()\n",
    "nb.fit(X_train_vec, y_train)\n",
    "nb_y_pred = nb.predict(X_test_vec)#.astype('int')\n",
    "nb_y_pred_proba = nb.predict_proba(X_test_vec)\n",
    "\n",
    "print('-------------------')\n",
    "print('F1 Score:\\t\\t{:.4f}'.format(f1_score(y_test, nb_y_pred)))\n",
    "print('Recall Score:\\t\\t{:.4f}'.format(recall_score(y_test, nb_y_pred)))\n",
    "print('Precision Score:\\t{:.4f}'.format(precision_score(y_test, nb_y_pred)))\n",
    "print('Accuracy Score:\\t\\t{:.4f}'.format(accuracy_score(y_test, nb_y_pred)))"
   ]
  },
  {
   "cell_type": "code",
   "execution_count": 9,
   "metadata": {},
   "outputs": [
    {
     "data": {
      "text/plain": [
       "array([[15286,     2],\n",
       "       [  539,     2]])"
      ]
     },
     "execution_count": 9,
     "metadata": {},
     "output_type": "execute_result"
    }
   ],
   "source": [
    "confusion_matrix(y_test, nb_y_pred)"
   ]
  },
  {
   "cell_type": "code",
   "execution_count": 8,
   "metadata": {},
   "outputs": [
    {
     "data": {
      "text/plain": [
       "(26, 25)"
      ]
     },
     "execution_count": 8,
     "metadata": {},
     "output_type": "execute_result"
    }
   ],
   "source": [
    "in_progress.shape"
   ]
  },
  {
   "cell_type": "code",
   "execution_count": 11,
   "metadata": {},
   "outputs": [
    {
     "name": "stdout",
     "output_type": "stream",
     "text": [
      "------------------\n",
      "Step 1 of 4: Creating corpus...\n",
      "------------------\n",
      "Step 2 of 4: Tokenizing...\n",
      "------------------\n",
      "Step 3 of 4: Stripping out stop words, punctuation, and numbers...\n",
      "------------------\n",
      "Step 4 of 4: Lemmatizing...\n",
      "------------------\n",
      "NLP preprocessing complete ...\n",
      "[[1.00000000e+00 7.06164973e-13]\n",
      " [1.00000000e+00 9.93913466e-15]\n",
      " [1.00000000e+00 6.66920319e-12]\n",
      " [1.00000000e+00 6.63359524e-24]\n",
      " [1.00000000e+00 1.82753872e-12]\n",
      " [9.99790073e-01 2.09926915e-04]\n",
      " [1.00000000e+00 7.43399950e-14]\n",
      " [1.00000000e+00 2.79923955e-15]\n",
      " [1.00000000e+00 6.96272837e-14]\n",
      " [9.99999992e-01 7.79400005e-09]\n",
      " [1.00000000e+00 2.66643474e-12]\n",
      " [1.00000000e+00 9.40005241e-12]\n",
      " [1.00000000e+00 1.65994254e-12]\n",
      " [1.00000000e+00 1.47301128e-12]\n",
      " [1.00000000e+00 1.01923607e-11]\n",
      " [1.00000000e+00 1.96169891e-13]\n",
      " [1.00000000e+00 1.88950309e-13]\n",
      " [1.00000000e+00 1.47301128e-12]\n",
      " [1.00000000e+00 1.60670386e-11]\n",
      " [1.00000000e+00 9.96055683e-13]\n",
      " [1.00000000e+00 2.75562885e-13]\n",
      " [1.00000000e+00 5.41843686e-12]\n",
      " [9.99999999e-01 1.32330218e-09]\n",
      " [9.99997737e-01 2.26311701e-06]\n",
      " [1.00000000e+00 1.93228582e-14]\n",
      " [1.00000000e+00 1.01440133e-23]]\n"
     ]
    }
   ],
   "source": [
    "# Get input of bill still in progress\n",
    "input_corpus = process_corpus(in_progress, 'bill_text')\n",
    "\n",
    "input_vec = tfvect.transform(input_corpus)\n",
    "input_y_pred = nb.predict(input_vec)\n",
    "input_y_pred_proba = nb.predict_proba(input_vec)\n",
    "\n",
    "\n",
    "print(input_y_pred_proba)"
   ]
  },
  {
   "cell_type": "code",
   "execution_count": 6,
   "metadata": {},
   "outputs": [],
   "source": [
    "def plot_scores(x, y_list, name, labels):\n",
    "    x = x\n",
    "    fig = plt.figure(figsize = (16, 8))\n",
    "    ax = fig.add_subplot(111)\n",
    "    ax.set_title(name, fontdict = {'fontsize': 20})\n",
    "    for y in y_list:\n",
    "        plt.plot(x, y)\n",
    "    plt.legend(labels)\n",
    "\n",
    "    plt.show"
   ]
  },
  {
   "cell_type": "code",
   "execution_count": 10,
   "metadata": {},
   "outputs": [
    {
     "name": "stdout",
     "output_type": "stream",
     "text": [
      "-------------------\n",
      "Iterating though multiple values for max_features...\n",
      "\t max_features = 250\n",
      "\t max_features = 500\n",
      "\t max_features = 750\n",
      "\t max_features = 1000\n",
      "\t max_features = 1250\n",
      "\t max_features = 1500\n",
      "\t max_features = 1750\n",
      "\t max_features = 2000\n",
      "\t max_features = 2250\n",
      "\t max_features = 2500\n",
      "\t max_features = 2750\n",
      "\t max_features = 3000\n",
      "\t max_features = 3250\n",
      "\t max_features = 3500\n",
      "\t max_features = 3750\n",
      "\t max_features = 4000\n",
      "\t max_features = 4250\n",
      "\t max_features = 4500\n",
      "\t max_features = 4750\n",
      "\t max_features = 5000\n",
      "\t max_features = 5250\n"
     ]
    }
   ],
   "source": [
    "# iterate through multiple values of max_features to find ideal\n",
    "print('-------------------')\n",
    "print('Iterating though multiple values for max_features...')\n",
    "\n",
    "a_list = []\n",
    "r_list = []\n",
    "p_list = []\n",
    "\n",
    "\n",
    "# TF-IDF vectorizer\n",
    "for i in range(250, 5500, 250):\n",
    "    print('\\t max_features = {}'.format(i))\n",
    "    \n",
    "    tfvect = TfidfVectorizer(max_features = i)\n",
    "    X_train_vec = tfvect.fit_transform(X_train)\n",
    "    X_test_vec = tfvect.transform(X_test)\n",
    "\n",
    "    nb = MultinomialNB()\n",
    "    nb.fit(X_train_vec, y_train)\n",
    "    y_pred = nb.predict(X_test_vec).astype('int')\n",
    "    \n",
    "    a_score = accuracy_score(y_test, y_pred)\n",
    "    r_score = recall_score(y_test, y_pred)\n",
    "    p_score = precision_score(y_test, y_pred)\n",
    "    \n",
    "    a_list.append(a_score)\n",
    "    r_list.append(r_score)\n",
    "    p_list.append(p_score)"
   ]
  },
  {
   "cell_type": "code",
   "execution_count": 16,
   "metadata": {
    "scrolled": true
   },
   "outputs": [
    {
     "data": {
      "image/png": "[encoded data removed]",
      "text/plain": [
       "<Figure size 1152x576 with 1 Axes>"
      ]
     },
     "metadata": {
      "needs_background": "light"
     },
     "output_type": "display_data"
    }
   ],
   "source": [
    "# show graph of scores vs. number of max_features \n",
    "x = np.arange(250, 5500, 250)\n",
    "plot_list = [a_list, r_list, p_list]\n",
    "graph_name = 'Multinomial Naive Bayes Scores vs. Number of Features with Max Frequency in Corpus'\n",
    "labels = ['accuracy score', 'recall score', 'precision score']\n",
    "\n",
    "plot_scores(x, plot_list, graph_name, labels)"
   ]
  },
  {
   "cell_type": "code",
   "execution_count": 19,
   "metadata": {},
   "outputs": [
    {
     "name": "stdout",
     "output_type": "stream",
     "text": [
      "Max Recall Score of 0.546 obtained when max_features = 3250\n"
     ]
    }
   ],
   "source": [
    "ideal_max_feat = x[np.argmax(r_list)]\n",
    "print('Max Recall Score of {:.3f} obtained when max_features = {}'.format(max(r_list), ideal_max_feat))"
   ]
  },
  {
   "cell_type": "code",
   "execution_count": 29,
   "metadata": {},
   "outputs": [
    {
     "name": "stdout",
     "output_type": "stream",
     "text": [
      "-------------------\n",
      "Iterating though multiple values for alpha in Naive Bayes model...\n",
      "\t alpha = 0.0\n"
     ]
    },
    {
     "name": "stderr",
     "output_type": "stream",
     "text": [
      "/home/ubuntu/anaconda3/lib/python3.7/site-packages/sklearn/naive_bayes.py:472: UserWarning: alpha too small will result in numeric errors, setting alpha = 1.0e-10\n",
      "  'setting alpha = %.1e' % _ALPHA_MIN)\n"
     ]
    },
    {
     "name": "stdout",
     "output_type": "stream",
     "text": [
      "\t alpha = 0.01\n",
      "\t alpha = 0.02\n",
      "\t alpha = 0.03\n",
      "\t alpha = 0.04\n",
      "\t alpha = 0.05\n",
      "\t alpha = 0.06\n",
      "\t alpha = 0.07\n",
      "\t alpha = 0.08\n",
      "\t alpha = 0.09\n"
     ]
    }
   ],
   "source": [
    "# fix max_features and vary the alpha in the Naive Bayes model\n",
    "print('-------------------')\n",
    "print('Iterating though multiple values for alpha in Naive Bayes model...')\n",
    "\n",
    "a_list = []\n",
    "r_list = []\n",
    "p_list = []\n",
    "\n",
    "x = np.arange(0, .1, .01)\n",
    "\n",
    "for i in x:\n",
    "    print('\\t alpha = {}'.format(i))\n",
    "    \n",
    "    tfvect = TfidfVectorizer(max_features = 3250)\n",
    "    X_train_vec = tfvect.fit_transform(X_train)\n",
    "    X_test_vec = tfvect.transform(X_test)\n",
    "\n",
    "    nb = MultinomialNB(alpha = i)\n",
    "    nb.fit(X_train_vec, y_train)\n",
    "    y_pred = nb.predict(X_test_vec).astype('int')\n",
    "    \n",
    "    a_score = accuracy_score(y_test, y_pred)\n",
    "    r_score = recall_score(y_test, y_pred)\n",
    "    p_score = precision_score(y_test, y_pred)\n",
    "    \n",
    "    a_list.append(a_score)\n",
    "    r_list.append(r_score)\n",
    "    p_list.append(p_score)"
   ]
  },
  {
   "cell_type": "code",
   "execution_count": 30,
   "metadata": {},
   "outputs": [
    {
     "data": {
      "image/png": "[encoded data removed]",
      "text/plain": [
       "<Figure size 1152x576 with 1 Axes>"
      ]
     },
     "metadata": {
      "needs_background": "light"
     },
     "output_type": "display_data"
    }
   ],
   "source": [
    "# show graph of scores vs. number of max_features \n",
    "x = np.arange(0, .1, .01)\n",
    "plot_list = [r_list]\n",
    "graph_name = 'Multinomial Naive Bayes Scores vs. Alpha Value (max_features = 3250)'\n",
    "labels = ['accuracy score', 'recall score', 'precision score']\n",
    "\n",
    "plot_scores(x, plot_list, graph_name, labels)"
   ]
  },
  {
   "cell_type": "code",
   "execution_count": 32,
   "metadata": {},
   "outputs": [
    {
     "name": "stdout",
     "output_type": "stream",
     "text": [
      "Max Recall Score of 0.571 obtained when alpha = 0.0\n"
     ]
    }
   ],
   "source": [
    "ideal_max_feat = x[np.argmax(r_list)]\n",
    "print('Max Recall Score of {:.3f} obtained when alpha = {}'.format(max(r_list), ideal_max_feat))"
   ]
  },
  {
   "cell_type": "code",
   "execution_count": null,
   "metadata": {},
   "outputs": [],
   "source": []
  }
 ],
 "metadata": {
  "kernelspec": {
   "display_name": "Python 3",
   "language": "python",
   "name": "python3"
  },
  "language_info": {
   "codemirror_mode": {
    "name": "ipython",
    "version": 3
   },
   "file_extension": ".py",
   "mimetype": "text/x-python",
   "name": "python",
   "nbconvert_exporter": "python",
   "pygments_lexer": "ipython3",
   "version": "3.7.1"
  }
 },
 "nbformat": 4,
 "nbformat_minor": 2
}
