{
 "cells": [
  {
   "cell_type": "code",
   "execution_count": null,
   "metadata": {},
   "outputs": [],
   "source": [
    "%%writefile overview.py\n",
    "from my_tools import get_bill_data\n",
    "import matplotlib.pyplot as plt\n",
    "plt.style.use('ggplot')\n",
    "\n",
    "# retrive data from mongo\n",
    "data = get_bill_data()\n",
    "\n",
    "# show histograms to show proportion of bills that passed vs. those that failed\n",
    "passed_df = data[data['labels'] == 1]\n",
    "\n",
    "fig = plt.figure(figsize = (30, 12))\n",
    "ax = fig.add_subplot(111)\n",
    "ax.set_title('Number of Bills Introduced (red) and Passed (green) vs. Time', fontdict={'fontsize': 24})\n",
    "ax.hist(data['intro_date'], bins = 500, alpha = .35, color = 'r')\n",
    "ax.hist(passed_df['intro_date'], bins = 1000, color = 'g')\n",
    "ax.set_ylim(0, 400)\n",
    "plt.show()"
   ]
  },
  {
   "cell_type": "code",
   "execution_count": null,
   "metadata": {},
   "outputs": [],
   "source": []
  }
 ],
 "metadata": {
  "kernelspec": {
   "display_name": "Python 3",
   "language": "python",
   "name": "python3"
  },
  "language_info": {
   "codemirror_mode": {
    "name": "ipython",
    "version": 3
   },
   "file_extension": ".py",
   "mimetype": "text/x-python",
   "name": "python",
   "nbconvert_exporter": "python",
   "pygments_lexer": "ipython3",
   "version": "3.7.1"
  }
 },
 "nbformat": 4,
 "nbformat_minor": 2
}
