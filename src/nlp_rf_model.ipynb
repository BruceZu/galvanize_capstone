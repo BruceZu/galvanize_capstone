{
 "cells": [
  {
   "cell_type": "code",
   "execution_count": 1,
   "metadata": {},
   "outputs": [
    {
     "name": "stderr",
     "output_type": "stream",
     "text": [
      "/home/ubuntu/anaconda3/lib/python3.7/site-packages/sklearn/ensemble/weight_boosting.py:29: DeprecationWarning: numpy.core.umath_tests is an internal NumPy module and should not be imported. It will be removed in a future NumPy release.\n",
      "  from numpy.core.umath_tests import inner1d\n"
     ]
    }
   ],
   "source": [
    "from pymongo import MongoClient\n",
    "import numpy as np\n",
    "from my_tools import get_bill_data, process_corpus, write_json_file, write_jsonl_file\n",
    "import matplotlib.pyplot as plt\n",
    "\n",
    "from sklearn.model_selection import train_test_split\n",
    "from sklearn.feature_extraction.text import TfidfVectorizer\n",
    "from sklearn.ensemble import RandomForestClassifier\n",
    "from sklearn.metrics import recall_score, precision_score, accuracy_score, f1_score\n",
    "\n",
    "from sklearn.externals import joblib\n"
   ]
  },
  {
   "cell_type": "code",
   "execution_count": 2,
   "metadata": {
    "scrolled": true
   },
   "outputs": [
    {
     "name": "stdout",
     "output_type": "stream",
     "text": [
      "------------------\n",
      "------------------\n",
      "Data includes bills, joints resolutions, and laws with text from the 110th Congress (2007) to present\n",
      "Make changes in my_tools.get_bill_data to modify the data set.\n",
      "------------------\n"
     ]
    }
   ],
   "source": [
    "data, in_progress = get_bill_data()"
   ]
  },
  {
   "cell_type": "code",
   "execution_count": 3,
   "metadata": {},
   "outputs": [
    {
     "name": "stdout",
     "output_type": "stream",
     "text": [
      "<class 'pandas.core.frame.DataFrame'>\n",
      "RangeIndex: 52366 entries, 0 to 52365\n",
      "Data columns (total 24 columns):\n",
      "_id                  52366 non-null object\n",
      "bill_status          52366 non-null object\n",
      "body                 52366 non-null object\n",
      "committee            51870 non-null object\n",
      "congress_id          52366 non-null object\n",
      "cosponsors           0 non-null object\n",
      "cosponsors_url       37342 non-null object\n",
      "desc                 52366 non-null object\n",
      "intro_date           52366 non-null datetime64[ns]\n",
      "leg_id               52366 non-null object\n",
      "leg_type             52366 non-null object\n",
      "leg_url              52366 non-null object\n",
      "num_of_amendments    52366 non-null int64\n",
      "num_of_cosponsors    52366 non-null int64\n",
      "sponsor              52366 non-null object\n",
      "sponsor_district     33908 non-null object\n",
      "sponsor_party        52366 non-null object\n",
      "sponsor_state        52366 non-null object\n",
      "bill_char_counts     52366 non-null int64\n",
      "intro_month          52366 non-null int64\n",
      "intro_year           52366 non-null int64\n",
      "session              52366 non-null int64\n",
      "char_count_bucket    52366 non-null object\n",
      "labels               52366 non-null object\n",
      "dtypes: datetime64[ns](1), int64(6), object(17)\n",
      "memory usage: 9.6+ MB\n"
     ]
    }
   ],
   "source": [
    "data.info()"
   ]
  },
  {
   "cell_type": "code",
   "execution_count": 4,
   "metadata": {},
   "outputs": [
    {
     "data": {
      "text/html": [
       "<div>\n",
       "<style scoped>\n",
       "    .dataframe tbody tr th:only-of-type {\n",
       "        vertical-align: middle;\n",
       "    }\n",
       "\n",
       "    .dataframe tbody tr th {\n",
       "        vertical-align: top;\n",
       "    }\n",
       "\n",
       "    .dataframe thead th {\n",
       "        text-align: right;\n",
       "    }\n",
       "</style>\n",
       "<table border=\"1\" class=\"dataframe\">\n",
       "  <thead>\n",
       "    <tr style=\"text-align: right;\">\n",
       "      <th></th>\n",
       "      <th>_id</th>\n",
       "      <th>bill_status</th>\n",
       "      <th>body</th>\n",
       "      <th>committee</th>\n",
       "      <th>congress_id</th>\n",
       "      <th>cosponsors</th>\n",
       "      <th>cosponsors_url</th>\n",
       "      <th>desc</th>\n",
       "      <th>intro_date</th>\n",
       "      <th>leg_id</th>\n",
       "      <th>...</th>\n",
       "      <th>sponsor</th>\n",
       "      <th>sponsor_district</th>\n",
       "      <th>sponsor_party</th>\n",
       "      <th>sponsor_state</th>\n",
       "      <th>bill_char_counts</th>\n",
       "      <th>intro_month</th>\n",
       "      <th>intro_year</th>\n",
       "      <th>session</th>\n",
       "      <th>char_count_bucket</th>\n",
       "      <th>labels</th>\n",
       "    </tr>\n",
       "  </thead>\n",
       "  <tbody>\n",
       "    <tr>\n",
       "      <th>0</th>\n",
       "      <td>5c2d51551417de4b3aaa8d87</td>\n",
       "      <td>Became Law</td>\n",
       "      <td>[Congressional Bills 115th Congress] [From the...</td>\n",
       "      <td>House - Small Business | Senate - Small Busine...</td>\n",
       "      <td>115</td>\n",
       "      <td>None</td>\n",
       "      <td>https://www.congress.gov/bill/115th-congress/h...</td>\n",
       "      <td>Small Business Runway Extension Act of 2018</td>\n",
       "      <td>2018-07-11</td>\n",
       "      <td>H R 6330</td>\n",
       "      <td>...</td>\n",
       "      <td>Knight, Stephen</td>\n",
       "      <td>25</td>\n",
       "      <td>R</td>\n",
       "      <td>CA</td>\n",
       "      <td>981</td>\n",
       "      <td>7</td>\n",
       "      <td>2018</td>\n",
       "      <td>2</td>\n",
       "      <td>less than 1000</td>\n",
       "      <td>1</td>\n",
       "    </tr>\n",
       "    <tr>\n",
       "      <th>1</th>\n",
       "      <td>5c2d51bd1417de4b3aaa8dce</td>\n",
       "      <td>Became Law</td>\n",
       "      <td>[Congressional Bills 115th Congress] [From the...</td>\n",
       "      <td>House - Judiciary | Senate - Judiciary</td>\n",
       "      <td>115</td>\n",
       "      <td>None</td>\n",
       "      <td>https://www.congress.gov/bill/115th-congress/h...</td>\n",
       "      <td>Protecting Access to the Courts for Taxpayers Act</td>\n",
       "      <td>2017-10-10</td>\n",
       "      <td>H R 3996</td>\n",
       "      <td>...</td>\n",
       "      <td>Issa, Darrell E.</td>\n",
       "      <td>49</td>\n",
       "      <td>R</td>\n",
       "      <td>CA</td>\n",
       "      <td>990</td>\n",
       "      <td>10</td>\n",
       "      <td>2017</td>\n",
       "      <td>1</td>\n",
       "      <td>less than 1000</td>\n",
       "      <td>1</td>\n",
       "    </tr>\n",
       "    <tr>\n",
       "      <th>2</th>\n",
       "      <td>5c2d522d1417de4b3aaa8e3a</td>\n",
       "      <td>Became Law</td>\n",
       "      <td>[Congressional Bills 115th Congress] [From the...</td>\n",
       "      <td>House - Natural Resources | Senate - Indian Af...</td>\n",
       "      <td>115</td>\n",
       "      <td>None</td>\n",
       "      <td>https://www.congress.gov/bill/115th-congress/h...</td>\n",
       "      <td>To repeal the Act entitled \"An Act to confer j...</td>\n",
       "      <td>2017-02-15</td>\n",
       "      <td>H R 1074</td>\n",
       "      <td>...</td>\n",
       "      <td>Blum, Rod</td>\n",
       "      <td>1</td>\n",
       "      <td>R</td>\n",
       "      <td>IA</td>\n",
       "      <td>927</td>\n",
       "      <td>2</td>\n",
       "      <td>2017</td>\n",
       "      <td>1</td>\n",
       "      <td>less than 1000</td>\n",
       "      <td>1</td>\n",
       "    </tr>\n",
       "    <tr>\n",
       "      <th>3</th>\n",
       "      <td>5c2d52361417de4b3aaa8e41</td>\n",
       "      <td>Became Law</td>\n",
       "      <td>[115th Congress Public Law 111] [From the U.S....</td>\n",
       "      <td>House - Natural Resources | Senate - Energy an...</td>\n",
       "      <td>115</td>\n",
       "      <td>None</td>\n",
       "      <td>None</td>\n",
       "      <td>To facilitate the addition of park administrat...</td>\n",
       "      <td>2017-02-03</td>\n",
       "      <td>H R 863</td>\n",
       "      <td>...</td>\n",
       "      <td>Larson, John B.</td>\n",
       "      <td>1</td>\n",
       "      <td>D</td>\n",
       "      <td>CT</td>\n",
       "      <td>948</td>\n",
       "      <td>2</td>\n",
       "      <td>2017</td>\n",
       "      <td>1</td>\n",
       "      <td>less than 1000</td>\n",
       "      <td>1</td>\n",
       "    </tr>\n",
       "    <tr>\n",
       "      <th>4</th>\n",
       "      <td>5c2d8f671417de4ef25de42c</td>\n",
       "      <td>Became Law</td>\n",
       "      <td>[115th Congress Public Law 74] [From the U.S. ...</td>\n",
       "      <td>House - Financial Services</td>\n",
       "      <td>115</td>\n",
       "      <td>None</td>\n",
       "      <td>https://www.congress.gov/bill/115th-congress/h...</td>\n",
       "      <td>Providing for congressional disapproval under ...</td>\n",
       "      <td>2017-07-20</td>\n",
       "      <td>H J Res 111</td>\n",
       "      <td>...</td>\n",
       "      <td>Rothfus, Keith J.</td>\n",
       "      <td>12</td>\n",
       "      <td>R</td>\n",
       "      <td>PA</td>\n",
       "      <td>965</td>\n",
       "      <td>7</td>\n",
       "      <td>2017</td>\n",
       "      <td>1</td>\n",
       "      <td>less than 1000</td>\n",
       "      <td>1</td>\n",
       "    </tr>\n",
       "  </tbody>\n",
       "</table>\n",
       "<p>5 rows × 24 columns</p>\n",
       "</div>"
      ],
      "text/plain": [
       "                        _id bill_status  \\\n",
       "0  5c2d51551417de4b3aaa8d87  Became Law   \n",
       "1  5c2d51bd1417de4b3aaa8dce  Became Law   \n",
       "2  5c2d522d1417de4b3aaa8e3a  Became Law   \n",
       "3  5c2d52361417de4b3aaa8e41  Became Law   \n",
       "4  5c2d8f671417de4ef25de42c  Became Law   \n",
       "\n",
       "                                                body  \\\n",
       "0  [Congressional Bills 115th Congress] [From the...   \n",
       "1  [Congressional Bills 115th Congress] [From the...   \n",
       "2  [Congressional Bills 115th Congress] [From the...   \n",
       "3  [115th Congress Public Law 111] [From the U.S....   \n",
       "4  [115th Congress Public Law 74] [From the U.S. ...   \n",
       "\n",
       "                                           committee congress_id cosponsors  \\\n",
       "0  House - Small Business | Senate - Small Busine...         115       None   \n",
       "1             House - Judiciary | Senate - Judiciary         115       None   \n",
       "2  House - Natural Resources | Senate - Indian Af...         115       None   \n",
       "3  House - Natural Resources | Senate - Energy an...         115       None   \n",
       "4                         House - Financial Services         115       None   \n",
       "\n",
       "                                      cosponsors_url  \\\n",
       "0  https://www.congress.gov/bill/115th-congress/h...   \n",
       "1  https://www.congress.gov/bill/115th-congress/h...   \n",
       "2  https://www.congress.gov/bill/115th-congress/h...   \n",
       "3                                               None   \n",
       "4  https://www.congress.gov/bill/115th-congress/h...   \n",
       "\n",
       "                                                desc intro_date       leg_id  \\\n",
       "0        Small Business Runway Extension Act of 2018 2018-07-11     H R 6330   \n",
       "1  Protecting Access to the Courts for Taxpayers Act 2017-10-10     H R 3996   \n",
       "2  To repeal the Act entitled \"An Act to confer j... 2017-02-15     H R 1074   \n",
       "3  To facilitate the addition of park administrat... 2017-02-03      H R 863   \n",
       "4  Providing for congressional disapproval under ... 2017-07-20  H J Res 111   \n",
       "\n",
       "    ...              sponsor sponsor_district  sponsor_party  sponsor_state  \\\n",
       "0   ...      Knight, Stephen               25              R             CA   \n",
       "1   ...     Issa, Darrell E.               49              R             CA   \n",
       "2   ...            Blum, Rod                1              R             IA   \n",
       "3   ...      Larson, John B.                1              D             CT   \n",
       "4   ...    Rothfus, Keith J.               12              R             PA   \n",
       "\n",
       "  bill_char_counts intro_month intro_year session  char_count_bucket  labels  \n",
       "0              981           7       2018       2     less than 1000       1  \n",
       "1              990          10       2017       1     less than 1000       1  \n",
       "2              927           2       2017       1     less than 1000       1  \n",
       "3              948           2       2017       1     less than 1000       1  \n",
       "4              965           7       2017       1     less than 1000       1  \n",
       "\n",
       "[5 rows x 24 columns]"
      ]
     },
     "execution_count": 4,
     "metadata": {},
     "output_type": "execute_result"
    }
   ],
   "source": [
    "data.head()"
   ]
  },
  {
   "cell_type": "code",
   "execution_count": 5,
   "metadata": {},
   "outputs": [
    {
     "data": {
      "text/plain": [
       "1    33862\n",
       "2    18504\n",
       "Name: session, dtype: int64"
      ]
     },
     "execution_count": 5,
     "metadata": {},
     "output_type": "execute_result"
    }
   ],
   "source": [
    "data.session.value_counts()"
   ]
  },
  {
   "cell_type": "code",
   "execution_count": 6,
   "metadata": {},
   "outputs": [
    {
     "data": {
      "text/plain": [
       "1    6849\n",
       "2    4100\n",
       "Name: session, dtype: int64"
      ]
     },
     "execution_count": 6,
     "metadata": {},
     "output_type": "execute_result"
    }
   ],
   "source": [
    "in_progress.session.value_counts()"
   ]
  },
  {
   "cell_type": "code",
   "execution_count": null,
   "metadata": {},
   "outputs": [],
   "source": [
    "last_month = data[(data['congress_id'] == '115') & (data['session'] == 2)]\n",
    "\n",
    "last_month.labels.value_counts()"
   ]
  },
  {
   "cell_type": "code",
   "execution_count": null,
   "metadata": {},
   "outputs": [],
   "source": [
    "# output corpus to eliminate multiple preprocessing events.\n",
    "outfile_path = '../data/nlp/corpus_with_labels.jsonl'\n",
    "#reset file\n",
    "write_jsonl_file([''], outfile_path)\n",
    "for i in range(len(X)):\n",
    "    output = {'document': X[i], 'label': str(y[i])}\n",
    "    write_json_file(output, outfile_path)"
   ]
  },
  {
   "cell_type": "code",
   "execution_count": null,
   "metadata": {},
   "outputs": [],
   "source": [
    "# create stratified train-test split\n",
    "print('-------------------')\n",
    "print('Doing train-test split...')\n",
    "X_train, X_test, y_train, y_test = train_test_split(X, y, stratify = y)#, random_state = 123)\n",
    "\n",
    "print('-------------------')\n",
    "print('Vectorizing...')\n",
    "tfvect = TfidfVectorizer(ngram_range=(1, 5), max_features=1000000)\n",
    "X_train_vec = tfvect.fit_transform(X_train)\n",
    "X_test_vec = tfvect.transform(X_test)\n",
    "\n",
    "# create vocabulary\n",
    "vocab = tfvect.vocabulary_"
   ]
  },
  {
   "cell_type": "code",
   "execution_count": null,
   "metadata": {},
   "outputs": [],
   "source": [
    "# dump the TfidfVectorizer\n",
    "print('Pickling the TfidfVectorizer...')\n",
    "joblib.dump(tfvect, 'pickle_files/tfidfVectorizer.pkl')"
   ]
  },
  {
   "cell_type": "code",
   "execution_count": null,
   "metadata": {},
   "outputs": [],
   "source": [
    "print('Training Random Forest Classifier with vectorized results...')\n",
    "rf = RandomForestClassifier(n_jobs = -1)\n",
    "rf.fit(X_train_vec, y_train)"
   ]
  },
  {
   "cell_type": "code",
   "execution_count": null,
   "metadata": {},
   "outputs": [],
   "source": [
    "# dump the RandomForest Classifier\n",
    "print('Pickling the Random Forest Classifier...')\n",
    "joblib.dump(rf, 'pickle_files/nlp_randomForest.pkl')"
   ]
  },
  {
   "cell_type": "code",
   "execution_count": null,
   "metadata": {},
   "outputs": [],
   "source": [
    "rf_y_pred = rf.predict(X_test_vec)\n",
    "rf_y_pred_proba = rf.predict_proba(X_test_vec)"
   ]
  },
  {
   "cell_type": "code",
   "execution_count": null,
   "metadata": {},
   "outputs": [],
   "source": [
    "print('Recall Score:\\t\\t{:.4f}'.format(recall_score(y_test, rf_y_pred)))\n",
    "print('Precision Score:\\t{:.4f}'.format(precision_score(y_test, rf_y_pred)))\n",
    "print('Accuracy Score:\\t\\t{:.4f}'.format(accuracy_score(y_test, rf_y_pred)))"
   ]
  },
  {
   "cell_type": "code",
   "execution_count": null,
   "metadata": {},
   "outputs": [],
   "source": [
    "# rf_y_pred_proba[0]"
   ]
  },
  {
   "cell_type": "code",
   "execution_count": null,
   "metadata": {
    "scrolled": true
   },
   "outputs": [],
   "source": [
    "# Plot the feature importance\n",
    "feat_scores = pd.Series(rf.feature_importances_,\n",
    "                           index=vocab)\n",
    "\n",
    "feat_scores = feat_scores.sort_values()[::-1][:50][::-1]\n",
    "ax = feat_scores.plot(kind='barh', \n",
    "                      figsize=(10,8),\n",
    "                      color='b')\n",
    "ax.set_title('Average Gini Importance (Top 50 features)')\n",
    "ax.set_xlabel('Average contribution to information gain')"
   ]
  },
  {
   "cell_type": "code",
   "execution_count": null,
   "metadata": {},
   "outputs": [],
   "source": [
    "# my recall scores seem abnormally high... let's iterate through a few different slices to build \n",
    "# confidence in our results\n",
    "recall_scores = []\n",
    "\n",
    "i = 1\n",
    "while i < 6:\n",
    "    print('-------------')\n",
    "    print('Performing train-test split and vectorizing for iteration {}...'.format(i))\n",
    "    X_train, X_test, y_train, y_test = train_test_split(X, y, \n",
    "                                                    stratify = y)\n",
    "    \n",
    "    tfvect = TfidfVectorizer(ngram_range=(1, 5))\n",
    "    X_train_vec = tfvect.fit_transform(X_train)\n",
    "    X_test_vec = tfvect.transform(X_test)\n",
    "    \n",
    "    print('\\tFitting data to Random Forest Classifier...')\n",
    "    rf = RandomForestClassifier(max_features = 'auto', n_jobs = -1)\n",
    "    rf.fit(X_train, y_train)\n",
    "\n",
    "    rf_y_pred = rf.predict(X_test)\n",
    "    recall_scores.append(recall_score(y_test, rf_y_pred))\n",
    "    \n",
    "    i+=1\n",
    "    \n",
    "\n",
    "print('Mean recall score after {} iterations: {}'.format(i, np.mean(recall_scores)))"
   ]
  },
  {
   "cell_type": "code",
   "execution_count": null,
   "metadata": {},
   "outputs": [],
   "source": []
  }
 ],
 "metadata": {
  "kernelspec": {
   "display_name": "Python 3",
   "language": "python",
   "name": "python3"
  },
  "language_info": {
   "codemirror_mode": {
    "name": "ipython",
    "version": 3
   },
   "file_extension": ".py",
   "mimetype": "text/x-python",
   "name": "python",
   "nbconvert_exporter": "python",
   "pygments_lexer": "ipython3",
   "version": "3.7.1"
  }
 },
 "nbformat": 4,
 "nbformat_minor": 2
}
