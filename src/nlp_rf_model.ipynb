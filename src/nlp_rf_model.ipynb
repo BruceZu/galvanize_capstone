{
 "cells": [
  {
   "cell_type": "code",
   "execution_count": null,
   "metadata": {},
   "outputs": [],
   "source": [
    "from pymongo import MongoClient\n",
    "import numpy as np\n",
    "import pandas as pd\n",
    "from my_tools import get_bill_data, process_corpus, read_jsonl_file\n",
    "import matplotlib.pyplot as plt\n",
    "\n",
    "from sklearn.model_selection import train_test_split\n",
    "from sklearn.feature_extraction.text import TfidfVectorizer\n",
    "from sklearn.ensemble import RandomForestClassifier\n",
    "from sklearn.metrics import recall_score, precision_score, accuracy_score, f1_score, confusion_matrix\n",
    "\n",
    "from sklearn.externals import joblib\n",
    "\n",
    "# get bill data\n",
    "data, in_progress = get_bill_data()\n",
    "\n",
    "corpus_with_labels = read_jsonl_file('/home/ubuntu/galvanize_capstone/data/nlp/corpus_with_labels.jsonl')\n",
    "\n",
    "corpus_df = pd.DataFrame(list(corpus_with_labels))\n",
    "\n",
    "X = corpus_df['document']\n",
    "y = corpus_df['label'].astype(int)"
   ]
  },
  {
   "cell_type": "code",
   "execution_count": null,
   "metadata": {},
   "outputs": [],
   "source": [
    "# create stratified train-test split\n",
    "print('-------------------')\n",
    "print('Doing train-test split...')\n",
    "X_train, X_test, y_train, y_test = train_test_split(X, y, stratify = y)#, random_state = 123)\n",
    "\n",
    "# vectorizing ~28M dimensions with n-grams, l1 norm (simple avg, l2 avg**2\n",
    "# use_idf=True gives more weight to words, n_grams that appear less frequently in the corpus\n",
    "# sublinear_tf=True reduces the bias of length\n",
    "print('-------------------')\n",
    "print('Vectorizing...')\n",
    "tfvect = TfidfVectorizer(ngram_range = (1, 4), \n",
    "                         max_features = 6000000,\n",
    "                         norm = 'l2',              #default value\n",
    "                         use_idf = True,           #default value\n",
    "                         sublinear_tf = True)\n",
    "\n",
    "X_train_vec = tfvect.fit_transform(X_train)\n",
    "X_test_vec = tfvect.transform(X_test)\n",
    "\n",
    "# create vocabulary\n",
    "vocab = tfvect.vocabulary_"
   ]
  },
  {
   "cell_type": "code",
   "execution_count": null,
   "metadata": {},
   "outputs": [],
   "source": [
    "print('-------------------')\n",
    "print('Training Random Forest Classifier with vectorized results...')\n",
    "rf = RandomForestClassifier(n_estimators = 100, \n",
    "#                             max_features = 500000,\n",
    "                            max_depth = None, \n",
    "                            min_samples_split = 2, \n",
    "                            min_samples_leaf = 1, \n",
    "                            n_jobs = -1)\n",
    "rf.fit(X_train_vec, y_train)\n",
    "\n",
    "rf_y_pred = rf.predict(X_test_vec)\n",
    "rf_y_pred_proba = rf.predict_proba(X_test_vec)\n",
    "\n",
    "print('F1 Score:\\t\\t{:.4f}'.format(f1_score(y_test, rf_y_pred)))\n",
    "print('Recall Score:\\t\\t{:.4f}'.format(recall_score(y_test, rf_y_pred)))\n",
    "print('Precision Score:\\t{:.4f}'.format(precision_score(y_test, rf_y_pred)))\n",
    "print('Accuracy Score:\\t\\t{:.4f}'.format(accuracy_score(y_test, rf_y_pred)))"
   ]
  },
  {
   "cell_type": "code",
   "execution_count": null,
   "metadata": {
    "scrolled": true
   },
   "outputs": [],
   "source": [
    "# Plot the feature importance\n",
    "feat_scores = pd.Series(rf.feature_importances_,\n",
    "                           index=vocab)\n",
    "\n",
    "feat_scores = feat_scores.sort_values()[::-1][:50][::-1]\n",
    "ax = feat_scores.plot(kind='barh', \n",
    "                      figsize=(10,8),\n",
    "                      color='b')\n",
    "ax.set_title('Average Gini Importance (Top 50 features)')\n",
    "ax.set_xlabel('Average contribution to information gain')"
   ]
  },
  {
   "cell_type": "code",
   "execution_count": null,
   "metadata": {},
   "outputs": [],
   "source": [
    "rf.n_estimators"
   ]
  },
  {
   "cell_type": "code",
   "execution_count": null,
   "metadata": {
    "scrolled": true
   },
   "outputs": [],
   "source": [
    "confusion_matrix(y_test, rf_y_pred)"
   ]
  },
  {
   "cell_type": "code",
   "execution_count": null,
   "metadata": {},
   "outputs": [],
   "source": [
    "pd.Series(rf_y_pred_proba[:, 1]).unique()"
   ]
  },
  {
   "cell_type": "code",
   "execution_count": null,
   "metadata": {},
   "outputs": [],
   "source": [
    "rf_y_pred_proba[45, 1]"
   ]
  },
  {
   "cell_type": "code",
   "execution_count": null,
   "metadata": {},
   "outputs": [],
   "source": [
    "# dump the TfidfVectorizer\n",
    "print('Pickling the TfidfVectorizer...')\n",
    "joblib.dump(tfvect, 'pickle_files/tfidfVectorizer.pkl')"
   ]
  },
  {
   "cell_type": "code",
   "execution_count": null,
   "metadata": {},
   "outputs": [],
   "source": [
    "# dump the RandomForest Classifier\n",
    "print('Pickling the Random Forest Classifier...')\n",
    "joblib.dump(rf, 'pickle_files/nlp_randomForest.pkl')"
   ]
  },
  {
   "cell_type": "code",
   "execution_count": null,
   "metadata": {},
   "outputs": [],
   "source": [
    "# rf_y_pred_proba[0]"
   ]
  },
  {
   "cell_type": "code",
   "execution_count": null,
   "metadata": {},
   "outputs": [],
   "source": [
    "# my recall scores seem abnormally high... let's iterate through a few different slices to build \n",
    "# confidence in our results\n",
    "recall_scores = []\n",
    "\n",
    "i = 1\n",
    "while i < 6:\n",
    "    print('-------------')\n",
    "    print('Performing train-test split and vectorizing for iteration {}...'.format(i))\n",
    "    X_train, X_test, y_train, y_test = train_test_split(X, y, \n",
    "                                                    stratify = y)\n",
    "    \n",
    "    tfvect = TfidfVectorizer(ngram_range=(1, 5))\n",
    "    X_train_vec = tfvect.fit_transform(X_train)\n",
    "    X_test_vec = tfvect.transform(X_test)\n",
    "    \n",
    "    print('\\tFitting data to Random Forest Classifier...')\n",
    "    rf = RandomForestClassifier(max_features = 'auto', n_jobs = -1)\n",
    "    rf.fit(X_train, y_train)\n",
    "\n",
    "    rf_y_pred = rf.predict(X_test)\n",
    "    recall_scores.append(recall_score(y_test, rf_y_pred))\n",
    "    \n",
    "    i+=1\n",
    "    \n",
    "\n",
    "print('Mean recall score after {} iterations: {}'.format(i, np.mean(recall_scores)))"
   ]
  },
  {
   "cell_type": "code",
   "execution_count": null,
   "metadata": {},
   "outputs": [],
   "source": []
  }
 ],
 "metadata": {
  "kernelspec": {
   "display_name": "Python 3",
   "language": "python",
   "name": "python3"
  },
  "language_info": {
   "codemirror_mode": {
    "name": "ipython",
    "version": 3
   },
   "file_extension": ".py",
   "mimetype": "text/x-python",
   "name": "python",
   "nbconvert_exporter": "python",
   "pygments_lexer": "ipython3",
   "version": "3.7.1"
  }
 },
 "nbformat": 4,
 "nbformat_minor": 2
}
