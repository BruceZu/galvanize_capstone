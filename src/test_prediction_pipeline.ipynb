{
 "cells": [
  {
   "cell_type": "code",
   "execution_count": 1,
   "metadata": {},
   "outputs": [
    {
     "name": "stdout",
     "output_type": "stream",
     "text": [
      "------------------\n",
      "------------------\n",
      "Data includes bills, joints resolutions, and laws with text from the 110th Congress (2007) to present\n",
      "Make changes in my_tools.get_bill_data to modify the data set.\n",
      "------------------\n"
     ]
    },
    {
     "data": {
      "text/html": [
       "<div>\n",
       "<style scoped>\n",
       "    .dataframe tbody tr th:only-of-type {\n",
       "        vertical-align: middle;\n",
       "    }\n",
       "\n",
       "    .dataframe tbody tr th {\n",
       "        vertical-align: top;\n",
       "    }\n",
       "\n",
       "    .dataframe thead th {\n",
       "        text-align: right;\n",
       "    }\n",
       "</style>\n",
       "<table border=\"1\" class=\"dataframe\">\n",
       "  <thead>\n",
       "    <tr style=\"text-align: right;\">\n",
       "      <th></th>\n",
       "      <th>_id</th>\n",
       "      <th>bill_status</th>\n",
       "      <th>body</th>\n",
       "      <th>committee</th>\n",
       "      <th>congress_id</th>\n",
       "      <th>cosponsors</th>\n",
       "      <th>cosponsors_url</th>\n",
       "      <th>desc</th>\n",
       "      <th>intro_date</th>\n",
       "      <th>leg_id</th>\n",
       "      <th>...</th>\n",
       "      <th>sponsor</th>\n",
       "      <th>sponsor_district</th>\n",
       "      <th>sponsor_party</th>\n",
       "      <th>sponsor_state</th>\n",
       "      <th>bill_char_counts</th>\n",
       "      <th>intro_month</th>\n",
       "      <th>intro_year</th>\n",
       "      <th>session</th>\n",
       "      <th>char_count_bucket</th>\n",
       "      <th>labels</th>\n",
       "    </tr>\n",
       "  </thead>\n",
       "  <tbody>\n",
       "    <tr>\n",
       "      <th>0</th>\n",
       "      <td>5c2fb9b81417de116c271892</td>\n",
       "      <td>Introduced</td>\n",
       "      <td>[Congressional Bills 116th Congress] [From the...</td>\n",
       "      <td>House - Small Business</td>\n",
       "      <td>116</td>\n",
       "      <td>None</td>\n",
       "      <td>https://www.congress.gov/bill/116th-congress/h...</td>\n",
       "      <td>To clarify the primary functions and duties of...</td>\n",
       "      <td>2019-01-03</td>\n",
       "      <td>H R 128</td>\n",
       "      <td>...</td>\n",
       "      <td>Comer, James</td>\n",
       "      <td>1</td>\n",
       "      <td>R</td>\n",
       "      <td>KY</td>\n",
       "      <td>1913</td>\n",
       "      <td>1</td>\n",
       "      <td>2019</td>\n",
       "      <td>1</td>\n",
       "      <td>1001 - 2000</td>\n",
       "      <td>in_progress</td>\n",
       "    </tr>\n",
       "    <tr>\n",
       "      <th>1</th>\n",
       "      <td>5c2fb9ca1417de116c271910</td>\n",
       "      <td>Introduced</td>\n",
       "      <td>[Congressional Bills 116th Congress] [From the...</td>\n",
       "      <td>House - Judiciary</td>\n",
       "      <td>116</td>\n",
       "      <td>None</td>\n",
       "      <td>https://www.congress.gov/bill/116th-congress/h...</td>\n",
       "      <td>Proposing an amendment to the Constitution of ...</td>\n",
       "      <td>2019-01-03</td>\n",
       "      <td>H J Res 4</td>\n",
       "      <td>...</td>\n",
       "      <td>Arrington, Jodey C.</td>\n",
       "      <td>19</td>\n",
       "      <td>R</td>\n",
       "      <td>TX</td>\n",
       "      <td>2144</td>\n",
       "      <td>1</td>\n",
       "      <td>2019</td>\n",
       "      <td>1</td>\n",
       "      <td>2001 - 3000</td>\n",
       "      <td>in_progress</td>\n",
       "    </tr>\n",
       "    <tr>\n",
       "      <th>2</th>\n",
       "      <td>5c2fb9ca1417de116c271913</td>\n",
       "      <td>Passed House</td>\n",
       "      <td>[Congressional Bills 116th Congress] [From the...</td>\n",
       "      <td>House - Appropriations</td>\n",
       "      <td>116</td>\n",
       "      <td>None</td>\n",
       "      <td>None</td>\n",
       "      <td>Making further continuing appropriations for t...</td>\n",
       "      <td>2019-01-03</td>\n",
       "      <td>H J Res 1</td>\n",
       "      <td>...</td>\n",
       "      <td>Lowey, Nita M.</td>\n",
       "      <td>17</td>\n",
       "      <td>D</td>\n",
       "      <td>NY</td>\n",
       "      <td>4832</td>\n",
       "      <td>1</td>\n",
       "      <td>2019</td>\n",
       "      <td>1</td>\n",
       "      <td>4001 - 5000</td>\n",
       "      <td>in_progress</td>\n",
       "    </tr>\n",
       "  </tbody>\n",
       "</table>\n",
       "<p>3 rows × 24 columns</p>\n",
       "</div>"
      ],
      "text/plain": [
       "                        _id   bill_status  \\\n",
       "0  5c2fb9b81417de116c271892    Introduced   \n",
       "1  5c2fb9ca1417de116c271910    Introduced   \n",
       "2  5c2fb9ca1417de116c271913  Passed House   \n",
       "\n",
       "                                                body               committee  \\\n",
       "0  [Congressional Bills 116th Congress] [From the...  House - Small Business   \n",
       "1  [Congressional Bills 116th Congress] [From the...       House - Judiciary   \n",
       "2  [Congressional Bills 116th Congress] [From the...  House - Appropriations   \n",
       "\n",
       "  congress_id cosponsors                                     cosponsors_url  \\\n",
       "0         116       None  https://www.congress.gov/bill/116th-congress/h...   \n",
       "1         116       None  https://www.congress.gov/bill/116th-congress/h...   \n",
       "2         116       None                                               None   \n",
       "\n",
       "                                                desc intro_date     leg_id  \\\n",
       "0  To clarify the primary functions and duties of... 2019-01-03    H R 128   \n",
       "1  Proposing an amendment to the Constitution of ... 2019-01-03  H J Res 4   \n",
       "2  Making further continuing appropriations for t... 2019-01-03  H J Res 1   \n",
       "\n",
       "      ...                   sponsor sponsor_district  sponsor_party  \\\n",
       "0     ...              Comer, James                1              R   \n",
       "1     ...       Arrington, Jodey C.               19              R   \n",
       "2     ...            Lowey, Nita M.               17              D   \n",
       "\n",
       "   sponsor_state bill_char_counts intro_month intro_year session  \\\n",
       "0             KY             1913           1       2019       1   \n",
       "1             TX             2144           1       2019       1   \n",
       "2             NY             4832           1       2019       1   \n",
       "\n",
       "   char_count_bucket       labels  \n",
       "0        1001 - 2000  in_progress  \n",
       "1        2001 - 3000  in_progress  \n",
       "2        4001 - 5000  in_progress  \n",
       "\n",
       "[3 rows x 24 columns]"
      ]
     },
     "execution_count": 1,
     "metadata": {},
     "output_type": "execute_result"
    }
   ],
   "source": [
    "# %%writefile prediction_pipeline.py\n",
    "from pymongo import MongoClient\n",
    "from my_tools import get_bill_data, read_jsonl_file, process_corpus\n",
    "import pandas as pd\n",
    "import numpy as np\n",
    "from sklearn.model_selection import train_test_split\n",
    "from sklearn.metrics import recall_score, precision_score, accuracy_score, f1_score\n",
    "from sklearn.externals import joblib\n",
    "\n",
    "import matplotlib.pyplot as plt\n",
    "\n",
    "# initialize Mongo client\n",
    "client = MongoClient()\n",
    "db = client.bills\n",
    "predictions = db.predictions\n",
    "\n",
    "print('---------------')\n",
    "print('Loading new data...')\n",
    "data, in_progress = get_bill_data()\n",
    "\n",
    "in_progress.head(3)"
   ]
  },
  {
   "cell_type": "code",
   "execution_count": 2,
   "metadata": {},
   "outputs": [
    {
     "name": "stdout",
     "output_type": "stream",
     "text": [
      "---------------\n",
      "Loading pickled vectorizer and classifier...\n"
     ]
    },
    {
     "name": "stderr",
     "output_type": "stream",
     "text": [
      "/home/ubuntu/anaconda3/lib/python3.7/site-packages/sklearn/ensemble/weight_boosting.py:29: DeprecationWarning: numpy.core.umath_tests is an internal NumPy module and should not be imported. It will be removed in a future NumPy release.\n",
      "  from numpy.core.umath_tests import inner1d\n"
     ]
    }
   ],
   "source": [
    "print('---------------')\n",
    "print('Loading pickled vectorizer and classifier...')\n",
    "vectorizer = joblib.load('pickle_files/tfidfVectorizer.pkl')\n",
    "classifier = joblib.load('pickle_files/nlp_gradientBoost.pkl')"
   ]
  },
  {
   "cell_type": "code",
   "execution_count": 3,
   "metadata": {},
   "outputs": [
    {
     "name": "stdout",
     "output_type": "stream",
     "text": [
      "---------------\n",
      "Preprocessing bill text...\n",
      "------------------\n",
      "Step 1 of 4: Creating corpus...\n",
      "------------------\n",
      "Step 2 of 4: Tokenizing...\n",
      "------------------\n",
      "Step 3 of 4: Stripping out stop words, punctuation, and numbers...\n",
      "------------------\n",
      "Step 4 of 4: Lemmatizing...\n",
      "------------------\n",
      "NLP preprocessing complete ...\n",
      "---------------\n",
      "Vectorizing bill text...\n",
      "---------------\n",
      "Calculating predicted probabilities...\n"
     ]
    }
   ],
   "source": [
    "print('---------------')\n",
    "print('Preprocessing bill text...')\n",
    "corpus = process_corpus(in_progress, 'body')\n",
    "\n",
    "print('---------------')\n",
    "print('Vectorizing bill text...')\n",
    "corpus_vec = vectorizer.transform(corpus)\n",
    "\n",
    "print('---------------')\n",
    "print('Calculating predicted probabilities...')\n",
    "y_pred = classifier.predict(corpus_vec)\n",
    "y_pred_proba = classifier.predict_proba(corpus_vec)"
   ]
  },
  {
   "cell_type": "code",
   "execution_count": 4,
   "metadata": {},
   "outputs": [
    {
     "data": {
      "text/plain": [
       "array([[9.99862783e-01, 1.37217337e-04],\n",
       "       [9.99862783e-01, 1.37217337e-04],\n",
       "       [9.99862783e-01, 1.37217337e-04],\n",
       "       [9.99862783e-01, 1.37217337e-04],\n",
       "       [9.99862783e-01, 1.37217337e-04],\n",
       "       [9.99862783e-01, 1.37217337e-04],\n",
       "       [9.99862783e-01, 1.37217337e-04],\n",
       "       [9.99862783e-01, 1.37217337e-04],\n",
       "       [9.99862783e-01, 1.37217337e-04],\n",
       "       [9.99862783e-01, 1.37217337e-04],\n",
       "       [9.99862783e-01, 1.37217337e-04],\n",
       "       [9.99862783e-01, 1.37217337e-04],\n",
       "       [9.99862783e-01, 1.37217337e-04],\n",
       "       [9.99862783e-01, 1.37217337e-04],\n",
       "       [9.99862783e-01, 1.37217337e-04],\n",
       "       [9.99862783e-01, 1.37217337e-04],\n",
       "       [9.99862783e-01, 1.37217337e-04],\n",
       "       [9.99862783e-01, 1.37217337e-04],\n",
       "       [9.99862783e-01, 1.37217337e-04],\n",
       "       [9.99862783e-01, 1.37217337e-04],\n",
       "       [9.99862783e-01, 1.37217337e-04],\n",
       "       [9.99862783e-01, 1.37217337e-04],\n",
       "       [9.99862783e-01, 1.37217337e-04],\n",
       "       [9.99862783e-01, 1.37217337e-04],\n",
       "       [9.99780940e-01, 2.19060479e-04]])"
      ]
     },
     "execution_count": 4,
     "metadata": {},
     "output_type": "execute_result"
    }
   ],
   "source": [
    "y_pred_proba"
   ]
  },
  {
   "cell_type": "code",
   "execution_count": 15,
   "metadata": {},
   "outputs": [
    {
     "data": {
      "text/plain": [
       "\"h.j re doc congress session j. re proposing balanced budget amendment constitution united state representative january byrne submitted following joint resolution referred committee judiciary joint resolution proposing balanced budget amendment constitution united state resolved representative united state america congress assembled two-thirds concurring therein following article proposed amendment constitution united state valid intent purpose part constitution ratified legislature three-fourths several state within seven year date submission ratification `` article `` section total outlay fiscal exceed total receipt fiscal unless three-fifths whole number congress provide law specific excess outlay receipt rollcall vote `` section total outlay fiscal exceed one-fifth economic output united state unless two-thirds congress provide specific increase outlay amount `` section limit debt united state held public increased unless three-fifths whole number provide law increase rollcall vote `` section prior fiscal president transmit congress proposed budget united state government fiscal total outlay exceed total receipt `` section bill increase revenue become law unless three-fifths whole number provide law increase rollcall vote `` section congress may waive provision article fiscal declaration war effect provision article may waived fiscal united state engaged military conflict cause imminent serious military threat national security declared joint resolution adopted majority whole number becomes law waiver must identify limited specific excess increase fiscal made necessary identified military conflict `` section congress enforce implement article appropriate legislation may rely estimate outlay receipt `` section total receipt include receipt united state government except derived borrowing total outlay include outlay united state government except repayment debt principal `` section article take effect beginning fifth fiscal beginning ratification. ''\""
      ]
     },
     "execution_count": 15,
     "metadata": {},
     "output_type": "execute_result"
    }
   ],
   "source": [
    "corpus[6]"
   ]
  },
  {
   "cell_type": "code",
   "execution_count": null,
   "metadata": {},
   "outputs": [],
   "source": [
    "# the code below needs to be a function\n",
    "# def train_test_split_by_feature(df, split_on, stratify):\n",
    "df_list = []\n",
    "\n",
    "for c in range(110, 115):\n",
    "    cong_id = str(c)\n",
    "    sub_df = data[data['congress_id'] == cong_id].copy()\n",
    "    df_list.append(sub_df)\n",
    "\n",
    "# initialize dataframes, see if it preserves index\n",
    "X_train_df = pd.DataFrame()\n",
    "X_test_df = pd.DataFrame()\n",
    "y_train_df = pd.DataFrame()\n",
    "y_test_df = pd.DataFrame()\n",
    "\n",
    "\n",
    "for df in df_list:\n",
    "    X = df['body']\n",
    "    y = df['labels']\n",
    "    \n",
    "    X_train, X_test, y_train, y_test = train_test_split(X, y, stratify=y)\n",
    "    \n",
    "    X_train_df = pd.concat([X_train_df, X_train])\n",
    "    X_test_df = pd.concat([X_test_df, X_test])\n",
    "    y_train_df = pd.concat([y_train_df, y_train])\n",
    "    y_test_df = pd.concat([y_test_df, y_test])\n",
    "    \n",
    "X_train_df.drop_duplicates(inplace=True)\n",
    "X_test_df.drop_duplicates(inplace=True)\n",
    "y_train_df.drop_duplicates(inplace=True)\n",
    "y_test_df.drop_duplicates(inplace=True)"
   ]
  },
  {
   "cell_type": "code",
   "execution_count": null,
   "metadata": {},
   "outputs": [],
   "source": [
    "X_train_df.shape"
   ]
  },
  {
   "cell_type": "code",
   "execution_count": null,
   "metadata": {},
   "outputs": [],
   "source": [
    "X_test_df.shape"
   ]
  },
  {
   "cell_type": "code",
   "execution_count": null,
   "metadata": {},
   "outputs": [],
   "source": [
    "X_train_df.shape[0] + X_test_df.shape[0]"
   ]
  },
  {
   "cell_type": "code",
   "execution_count": null,
   "metadata": {},
   "outputs": [],
   "source": [
    "y_train_df[0].value_counts()"
   ]
  },
  {
   "cell_type": "code",
   "execution_count": null,
   "metadata": {},
   "outputs": [],
   "source": [
    "y_test_df[0].value_counts()"
   ]
  },
  {
   "cell_type": "code",
   "execution_count": null,
   "metadata": {},
   "outputs": [],
   "source": [
    "data['labels'].value_counts()"
   ]
  },
  {
   "cell_type": "code",
   "execution_count": null,
   "metadata": {},
   "outputs": [],
   "source": [
    "X_train.shape[0] + X_test.shape[0]"
   ]
  },
  {
   "cell_type": "code",
   "execution_count": null,
   "metadata": {},
   "outputs": [],
   "source": [
    "y_train.shape[0] + y_test.shape[0]"
   ]
  },
  {
   "cell_type": "code",
   "execution_count": null,
   "metadata": {},
   "outputs": [],
   "source": [
    "data.shape[0]"
   ]
  },
  {
   "cell_type": "code",
   "execution_count": null,
   "metadata": {
    "scrolled": true
   },
   "outputs": [],
   "source": [
    "X = process_corpus(in_progress, 'body')"
   ]
  },
  {
   "cell_type": "code",
   "execution_count": null,
   "metadata": {},
   "outputs": [],
   "source": [
    "X[0]"
   ]
  },
  {
   "cell_type": "code",
   "execution_count": null,
   "metadata": {},
   "outputs": [],
   "source": [
    "in_progress.bill_status.unique()"
   ]
  },
  {
   "cell_type": "code",
   "execution_count": null,
   "metadata": {},
   "outputs": [],
   "source": [
    "len(X)"
   ]
  },
  {
   "cell_type": "code",
   "execution_count": null,
   "metadata": {},
   "outputs": [],
   "source": [
    "print('---------------')\n",
    "print('Vectorizing corpus and fitting to classifier...')\n",
    "X_vec = vectorizer.transform(X)\n",
    "\n",
    "y_pred = classifier.predict(X_vec)\n",
    "y_pred_proba = classifier.predict_proba(X_vec)\n"
   ]
  },
  {
   "cell_type": "code",
   "execution_count": null,
   "metadata": {},
   "outputs": [],
   "source": [
    "y_pred_proba[:, 1]"
   ]
  },
  {
   "cell_type": "code",
   "execution_count": null,
   "metadata": {},
   "outputs": [],
   "source": [
    "in_progress['pred_proba'] = y_pred_proba[:, 1]"
   ]
  },
  {
   "cell_type": "code",
   "execution_count": null,
   "metadata": {},
   "outputs": [],
   "source": [
    "in_progress.head()"
   ]
  },
  {
   "cell_type": "code",
   "execution_count": null,
   "metadata": {},
   "outputs": [],
   "source": [
    "in_progress.pred_proba.unique()"
   ]
  },
  {
   "cell_type": "code",
   "execution_count": null,
   "metadata": {},
   "outputs": [],
   "source": [
    "leg_id = 'H R 5759'"
   ]
  },
  {
   "cell_type": "code",
   "execution_count": null,
   "metadata": {
    "scrolled": true
   },
   "outputs": [],
   "source": [
    "data[(data['congress_id'] == '115') & (data['leg_id'] == leg_id)]"
   ]
  },
  {
   "cell_type": "code",
   "execution_count": null,
   "metadata": {},
   "outputs": [],
   "source": [
    "in_progress[in_progress['leg_id'] == leg_id]"
   ]
  },
  {
   "cell_type": "code",
   "execution_count": null,
   "metadata": {},
   "outputs": [],
   "source": []
  },
  {
   "cell_type": "code",
   "execution_count": null,
   "metadata": {},
   "outputs": [],
   "source": [
    "def plot_scores(x, y_list, name, labels):\n",
    "    x = x\n",
    "    fig = plt.figure(figsize = (16, 8))\n",
    "    ax = fig.add_subplot(111)\n",
    "    ax.set_title(name, fontdict = {'fontsize': 20})\n",
    "    for y in y_list:\n",
    "        plt.plot(x, y)\n",
    "    plt.legend(labels)\n",
    "\n",
    "    plt.show"
   ]
  },
  {
   "cell_type": "code",
   "execution_count": null,
   "metadata": {},
   "outputs": [],
   "source": [
    "a_list = []\n",
    "r_list = []\n",
    "p_list = []\n",
    "\n",
    "for i in range(1, 21):\n",
    "    print('***************')')\n",
    "    print('Iteration {}'.format(i))\n",
    "\n",
    "    print('---------------')\n",
    "    print('Vectorizing corpus and fitting to classifier...')\n",
    "    X_train, X_test, y_train, y_test = train_test_split(X, y)\n",
    "\n",
    "    X_test_vec = vectorizer.transform(X_test)\n",
    "\n",
    "    y_pred = classifier.predict(X_test_vec)\n",
    "\n",
    "\n",
    "    r_score = recall_score(y_test, y_pred)\n",
    "    p_score = precision_score(y_test, y_pred)\n",
    "    a_score = accuracy_score(y_test, y_pred)\n",
    "\n",
    "    print('Recall Score:\\t\\t{:.4f}'.format(r_score))\n",
    "    print('Precision Score:\\t{:.4f}'.format(p_score))\n",
    "    print('Accuracy Score:\\t\\t{:.4f}'.format(a_score))\n",
    "\n",
    "    print('---------------')\n",
    "    print('Appending scores.')\n",
    "    r_list.append(r_score)\n",
    "    p_list.append(p_score)\n",
    "    a_list.append(a_score)\n",
    "\n"
   ]
  },
  {
   "cell_type": "code",
   "execution_count": null,
   "metadata": {},
   "outputs": [],
   "source": [
    "# show graph of scores vs. number of max_features \n",
    "x = np.arange(1, 11)\n",
    "plot_list = [a_list, r_list, p_list]\n",
    "graph_name = 'Recall, Precision, and Accuracy Scores over Multiple Iteration of Pickled Model'\n",
    "labels = ['accuracy score', 'recall score', 'precision score']\n",
    "\n",
    "plot_scores(x, plot_list, graph_name, labels)"
   ]
  },
  {
   "cell_type": "code",
   "execution_count": null,
   "metadata": {},
   "outputs": [],
   "source": []
  }
 ],
 "metadata": {
  "kernelspec": {
   "display_name": "Python 3",
   "language": "python",
   "name": "python3"
  },
  "language_info": {
   "codemirror_mode": {
    "name": "ipython",
    "version": 3
   },
   "file_extension": ".py",
   "mimetype": "text/x-python",
   "name": "python",
   "nbconvert_exporter": "python",
   "pygments_lexer": "ipython3",
   "version": "3.7.1"
  }
 },
 "nbformat": 4,
 "nbformat_minor": 2
}
