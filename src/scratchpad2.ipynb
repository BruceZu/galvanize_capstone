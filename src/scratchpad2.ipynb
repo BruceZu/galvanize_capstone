{
 "cells": [
  {
   "cell_type": "code",
   "execution_count": 1,
   "metadata": {},
   "outputs": [],
   "source": [
    "from pymongo import MongoClient\n",
    "import pandas as pd\n",
    "import numpy as np\n",
    "from my_tools import get_bill_data, process_corpus\n",
    "import matplotlib.pyplot as plt"
   ]
  },
  {
   "cell_type": "code",
   "execution_count": 2,
   "metadata": {},
   "outputs": [
    {
     "name": "stdout",
     "output_type": "stream",
     "text": [
      "------------------\n",
      "------------------\n",
      "Data includes bills, joints resolutions, and laws with text from the 110th Congress (2007) to present\n",
      "Make changes in my_tools.get_bill_data to modify the data set.\n",
      "------------------\n"
     ]
    }
   ],
   "source": [
    "data = get_bill_data()"
   ]
  },
  {
   "cell_type": "code",
   "execution_count": 3,
   "metadata": {},
   "outputs": [],
   "source": [
    "client = MongoClient()\n",
    "db = client.bills\n",
    "bill_info = db.bill_info"
   ]
  },
  {
   "cell_type": "code",
   "execution_count": 4,
   "metadata": {},
   "outputs": [
    {
     "name": "stdout",
     "output_type": "stream",
     "text": [
      "Amendment Counts\n",
      "cong_id\tWith\tWithout\n",
      "110: \t4538 \t6686\n",
      "111: \t7129 \t3641\n",
      "112: \t9437 \t1175\n",
      "113: \t8798 \t285\n",
      "114: \t10223 \t0\n",
      "115: \t11412 \t0\n"
     ]
    }
   ],
   "source": [
    "print('Amendment Counts')\n",
    "print('cong_id\\tWith\\tWithout')\n",
    "\n",
    "for i in range(110, 116):\n",
    "    cong_id = str(i)\n",
    "    with_amend = bill_info.count_documents({'congress_id': cong_id, 'num_of_amendments': {'$regex': '(.+)'}})\n",
    "    wo_amend = bill_info.count_documents({'congress_id': cong_id, 'num_of_amendments': None})\n",
    "    print('{}: \\t{} \\t{}'.format(cong_id, with_amend, wo_amend))\n",
    "    "
   ]
  },
  {
   "cell_type": "code",
   "execution_count": 5,
   "metadata": {},
   "outputs": [
    {
     "data": {
      "text/html": [
       "<div>\n",
       "<style scoped>\n",
       "    .dataframe tbody tr th:only-of-type {\n",
       "        vertical-align: middle;\n",
       "    }\n",
       "\n",
       "    .dataframe tbody tr th {\n",
       "        vertical-align: top;\n",
       "    }\n",
       "\n",
       "    .dataframe thead th {\n",
       "        text-align: right;\n",
       "    }\n",
       "</style>\n",
       "<table border=\"1\" class=\"dataframe\">\n",
       "  <thead>\n",
       "    <tr style=\"text-align: right;\">\n",
       "      <th></th>\n",
       "      <th>_id</th>\n",
       "      <th>bill_status</th>\n",
       "      <th>body</th>\n",
       "      <th>committee</th>\n",
       "      <th>congress_id</th>\n",
       "      <th>cosponsors</th>\n",
       "      <th>cosponsors_url</th>\n",
       "      <th>desc</th>\n",
       "      <th>intro_date</th>\n",
       "      <th>leg_id</th>\n",
       "    </tr>\n",
       "  </thead>\n",
       "  <tbody>\n",
       "    <tr>\n",
       "      <th>0</th>\n",
       "      <td>5c2d51551417de4b3aaa8d87</td>\n",
       "      <td>Became Law</td>\n",
       "      <td>[Congressional Bills 115th Congress] [From the...</td>\n",
       "      <td>House - Small Business | Senate - Small Busine...</td>\n",
       "      <td>115</td>\n",
       "      <td>None</td>\n",
       "      <td>https://www.congress.gov/bill/115th-congress/h...</td>\n",
       "      <td>Small Business Runway Extension Act of 2018</td>\n",
       "      <td>2018-07-11</td>\n",
       "      <td>H R 6330</td>\n",
       "    </tr>\n",
       "    <tr>\n",
       "      <th>1</th>\n",
       "      <td>5c2d51bd1417de4b3aaa8dce</td>\n",
       "      <td>Became Law</td>\n",
       "      <td>[Congressional Bills 115th Congress] [From the...</td>\n",
       "      <td>House - Judiciary | Senate - Judiciary</td>\n",
       "      <td>115</td>\n",
       "      <td>None</td>\n",
       "      <td>https://www.congress.gov/bill/115th-congress/h...</td>\n",
       "      <td>Protecting Access to the Courts for Taxpayers Act</td>\n",
       "      <td>2017-10-10</td>\n",
       "      <td>H R 3996</td>\n",
       "    </tr>\n",
       "    <tr>\n",
       "      <th>2</th>\n",
       "      <td>5c2d522d1417de4b3aaa8e3a</td>\n",
       "      <td>Became Law</td>\n",
       "      <td>[Congressional Bills 115th Congress] [From the...</td>\n",
       "      <td>House - Natural Resources | Senate - Indian Af...</td>\n",
       "      <td>115</td>\n",
       "      <td>None</td>\n",
       "      <td>https://www.congress.gov/bill/115th-congress/h...</td>\n",
       "      <td>To repeal the Act entitled \"An Act to confer j...</td>\n",
       "      <td>2017-02-15</td>\n",
       "      <td>H R 1074</td>\n",
       "    </tr>\n",
       "  </tbody>\n",
       "</table>\n",
       "</div>"
      ],
      "text/plain": [
       "                        _id bill_status  \\\n",
       "0  5c2d51551417de4b3aaa8d87  Became Law   \n",
       "1  5c2d51bd1417de4b3aaa8dce  Became Law   \n",
       "2  5c2d522d1417de4b3aaa8e3a  Became Law   \n",
       "\n",
       "                                                body  \\\n",
       "0  [Congressional Bills 115th Congress] [From the...   \n",
       "1  [Congressional Bills 115th Congress] [From the...   \n",
       "2  [Congressional Bills 115th Congress] [From the...   \n",
       "\n",
       "                                           committee congress_id cosponsors  \\\n",
       "0  House - Small Business | Senate - Small Busine...         115       None   \n",
       "1             House - Judiciary | Senate - Judiciary         115       None   \n",
       "2  House - Natural Resources | Senate - Indian Af...         115       None   \n",
       "\n",
       "                                      cosponsors_url  \\\n",
       "0  https://www.congress.gov/bill/115th-congress/h...   \n",
       "1  https://www.congress.gov/bill/115th-congress/h...   \n",
       "2  https://www.congress.gov/bill/115th-congress/h...   \n",
       "\n",
       "                                                desc intro_date    leg_id  \n",
       "0        Small Business Runway Extension Act of 2018 2018-07-11  H R 6330  \n",
       "1  Protecting Access to the Courts for Taxpayers Act 2017-10-10  H R 3996  \n",
       "2  To repeal the Act entitled \"An Act to confer j... 2017-02-15  H R 1074  "
      ]
     },
     "execution_count": 5,
     "metadata": {},
     "output_type": "execute_result"
    }
   ],
   "source": [
    "data.iloc[:3, :10]"
   ]
  },
  {
   "cell_type": "code",
   "execution_count": 6,
   "metadata": {},
   "outputs": [
    {
     "data": {
      "text/html": [
       "<div>\n",
       "<style scoped>\n",
       "    .dataframe tbody tr th:only-of-type {\n",
       "        vertical-align: middle;\n",
       "    }\n",
       "\n",
       "    .dataframe tbody tr th {\n",
       "        vertical-align: top;\n",
       "    }\n",
       "\n",
       "    .dataframe thead th {\n",
       "        text-align: right;\n",
       "    }\n",
       "</style>\n",
       "<table border=\"1\" class=\"dataframe\">\n",
       "  <thead>\n",
       "    <tr style=\"text-align: right;\">\n",
       "      <th></th>\n",
       "      <th>leg_type</th>\n",
       "      <th>leg_url</th>\n",
       "      <th>num_of_amendments</th>\n",
       "      <th>num_of_cosponsors</th>\n",
       "      <th>sponsor</th>\n",
       "      <th>sponsor_district</th>\n",
       "      <th>sponsor_party</th>\n",
       "      <th>sponsor_state</th>\n",
       "      <th>bill_char_counts</th>\n",
       "      <th>intro_month</th>\n",
       "      <th>session</th>\n",
       "      <th>char_count_bucket</th>\n",
       "      <th>labels</th>\n",
       "    </tr>\n",
       "  </thead>\n",
       "  <tbody>\n",
       "    <tr>\n",
       "      <th>0</th>\n",
       "      <td>LAW</td>\n",
       "      <td>https://www.congress.gov/bill/115th-congress/h...</td>\n",
       "      <td>0.0</td>\n",
       "      <td>6</td>\n",
       "      <td>Knight, Stephen</td>\n",
       "      <td>25</td>\n",
       "      <td>R</td>\n",
       "      <td>CA</td>\n",
       "      <td>981</td>\n",
       "      <td>7</td>\n",
       "      <td>1</td>\n",
       "      <td>less than 1000</td>\n",
       "      <td>1</td>\n",
       "    </tr>\n",
       "    <tr>\n",
       "      <th>1</th>\n",
       "      <td>LAW</td>\n",
       "      <td>https://www.congress.gov/bill/115th-congress/h...</td>\n",
       "      <td>0.0</td>\n",
       "      <td>2</td>\n",
       "      <td>Issa, Darrell E.</td>\n",
       "      <td>49</td>\n",
       "      <td>R</td>\n",
       "      <td>CA</td>\n",
       "      <td>990</td>\n",
       "      <td>10</td>\n",
       "      <td>1</td>\n",
       "      <td>less than 1000</td>\n",
       "      <td>1</td>\n",
       "    </tr>\n",
       "    <tr>\n",
       "      <th>2</th>\n",
       "      <td>LAW</td>\n",
       "      <td>https://www.congress.gov/bill/115th-congress/h...</td>\n",
       "      <td>0.0</td>\n",
       "      <td>3</td>\n",
       "      <td>Blum, Rod</td>\n",
       "      <td>1</td>\n",
       "      <td>R</td>\n",
       "      <td>IA</td>\n",
       "      <td>927</td>\n",
       "      <td>2</td>\n",
       "      <td>1</td>\n",
       "      <td>less than 1000</td>\n",
       "      <td>1</td>\n",
       "    </tr>\n",
       "  </tbody>\n",
       "</table>\n",
       "</div>"
      ],
      "text/plain": [
       "  leg_type                                            leg_url  \\\n",
       "0      LAW  https://www.congress.gov/bill/115th-congress/h...   \n",
       "1      LAW  https://www.congress.gov/bill/115th-congress/h...   \n",
       "2      LAW  https://www.congress.gov/bill/115th-congress/h...   \n",
       "\n",
       "   num_of_amendments  num_of_cosponsors           sponsor sponsor_district  \\\n",
       "0                0.0                  6   Knight, Stephen               25   \n",
       "1                0.0                  2  Issa, Darrell E.               49   \n",
       "2                0.0                  3         Blum, Rod                1   \n",
       "\n",
       "  sponsor_party sponsor_state  bill_char_counts  intro_month  session  \\\n",
       "0             R            CA               981            7        1   \n",
       "1             R            CA               990           10        1   \n",
       "2             R            IA               927            2        1   \n",
       "\n",
       "  char_count_bucket labels  \n",
       "0    less than 1000      1  \n",
       "1    less than 1000      1  \n",
       "2    less than 1000      1  "
      ]
     },
     "execution_count": 6,
     "metadata": {},
     "output_type": "execute_result"
    }
   ],
   "source": [
    "data.iloc[:3, 10:]"
   ]
  },
  {
   "cell_type": "code",
   "execution_count": 7,
   "metadata": {},
   "outputs": [
    {
     "name": "stdout",
     "output_type": "stream",
     "text": [
      "<class 'pandas.core.frame.DataFrame'>\n",
      "RangeIndex: 52366 entries, 0 to 52365\n",
      "Data columns (total 23 columns):\n",
      "_id                  52366 non-null object\n",
      "bill_status          52366 non-null object\n",
      "body                 52366 non-null object\n",
      "committee            51870 non-null object\n",
      "congress_id          52366 non-null object\n",
      "cosponsors           0 non-null object\n",
      "cosponsors_url       37342 non-null object\n",
      "desc                 52366 non-null object\n",
      "intro_date           52366 non-null datetime64[ns]\n",
      "leg_id               52366 non-null object\n",
      "leg_type             52366 non-null object\n",
      "leg_url              52366 non-null object\n",
      "num_of_amendments    40580 non-null float64\n",
      "num_of_cosponsors    52366 non-null int64\n",
      "sponsor              52366 non-null object\n",
      "sponsor_district     33908 non-null object\n",
      "sponsor_party        52366 non-null object\n",
      "sponsor_state        52366 non-null object\n",
      "bill_char_counts     52366 non-null int64\n",
      "intro_month          52366 non-null int64\n",
      "session              52366 non-null int64\n",
      "char_count_bucket    52366 non-null object\n",
      "labels               52366 non-null object\n",
      "dtypes: datetime64[ns](1), float64(1), int64(4), object(17)\n",
      "memory usage: 9.2+ MB\n"
     ]
    }
   ],
   "source": [
    "data.info()"
   ]
  },
  {
   "cell_type": "code",
   "execution_count": 9,
   "metadata": {},
   "outputs": [
    {
     "data": {
      "text/plain": [
       "0    50162\n",
       "1     2204\n",
       "Name: labels, dtype: int64"
      ]
     },
     "execution_count": 9,
     "metadata": {},
     "output_type": "execute_result"
    }
   ],
   "source": [
    "data.labels.value_counts()"
   ]
  },
  {
   "cell_type": "code",
   "execution_count": 19,
   "metadata": {},
   "outputs": [
    {
     "name": "stderr",
     "output_type": "stream",
     "text": [
      "/home/ubuntu/anaconda3/lib/python3.7/site-packages/pandas/core/indexing.py:1472: FutureWarning: \n",
      "Passing list-likes to .loc or [] with any missing label will raise\n",
      "KeyError in the future, you can use .reindex() as an alternative.\n",
      "\n",
      "See the documentation here:\n",
      "https://pandas.pydata.org/pandas-docs/stable/indexing.html#deprecate-loc-reindex-listlike\n",
      "  return self._getitem_tuple(key)\n"
     ]
    }
   ],
   "source": [
    "data_features = data.loc[:, [\n",
    "                            'sponsor',\n",
    "                            'num_of_amendments'\n",
    "                            'num_of_cosponsors', \n",
    "                            'sponsor_party', \n",
    "                            'sponsor_state', \n",
    "#                             'bill_char_counts', \n",
    "                            'char_count_bucket',\n",
    "                            'intro_month', \n",
    "                            'session', \n",
    "                            'labels'\n",
    "                            ]]"
   ]
  },
  {
   "cell_type": "code",
   "execution_count": 20,
   "metadata": {},
   "outputs": [],
   "source": [
    "# get dummies for intro_month, sponsor_party, sponsor_state, session\n",
    "data_dumm = pd.get_dummies(data_features, columns = [\n",
    "                                            'sponsor',\n",
    "                                            'intro_month', \n",
    "                                            'sponsor_party', \n",
    "                                            'sponsor_state', \n",
    "                                            'session', \n",
    "                                            'char_count_bucket'\n",
    "                                            ], \n",
    "                           drop_first=True)"
   ]
  },
  {
   "cell_type": "code",
   "execution_count": 21,
   "metadata": {},
   "outputs": [
    {
     "data": {
      "text/plain": [
       "(52366, 1033)"
      ]
     },
     "execution_count": 21,
     "metadata": {},
     "output_type": "execute_result"
    }
   ],
   "source": [
    "data_dumm.shape"
   ]
  },
  {
   "cell_type": "code",
   "execution_count": null,
   "metadata": {},
   "outputs": [],
   "source": []
  }
 ],
 "metadata": {
  "kernelspec": {
   "display_name": "Python 3",
   "language": "python",
   "name": "python3"
  },
  "language_info": {
   "codemirror_mode": {
    "name": "ipython",
    "version": 3
   },
   "file_extension": ".py",
   "mimetype": "text/x-python",
   "name": "python",
   "nbconvert_exporter": "python",
   "pygments_lexer": "ipython3",
   "version": "3.7.1"
  }
 },
 "nbformat": 4,
 "nbformat_minor": 2
}
