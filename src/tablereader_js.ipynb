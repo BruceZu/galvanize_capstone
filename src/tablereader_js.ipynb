{
 "cells": [
  {
   "cell_type": "code",
   "execution_count": 5,
   "metadata": {},
   "outputs": [
    {
     "name": "stdout",
     "output_type": "stream",
     "text": [
      "Overwriting tablereader_js.py\n"
     ]
    }
   ],
   "source": [
    "%%writefile tablereader_js.py\n",
    "from pymongo import MongoClient\n",
    "import pprint \n",
    "import pandas as pd \n",
    "import copy\n",
    "from bs4 import BeautifulSoup\n",
    "import requests\n",
    "import datetime\n",
    "\n",
    "from selenium import webdriver\n",
    "from selenium.webdriver.common.by import By\n",
    "from selenium.webdriver.support.ui import WebDriverWait \n",
    "from selenium.webdriver.support import expected_conditions as EC \n",
    "from selenium.common.exceptions import TimeoutException\n",
    "\n",
    "from time import sleep\n",
    "import warnings\n",
    "\n",
    "warnings.filterwarnings('ignore')\n",
    "\n",
    "def page_to_mongo(site_url, collection_name):\n",
    "    # send GET request using selenium (sites in javascript) and check status\n",
    "    option = webdriver.ChromeOptions()\n",
    "    option.add_argument(' - incognito')\n",
    "    option.add_argument('--headless')\n",
    "\n",
    "    browser = webdriver.Chrome(executable_path='/usr/local/bin/chromedriver', chrome_options=option)\n",
    "\n",
    "    req = requests.get(site_url)\n",
    "    stat_code = req.status_code\n",
    "    tstamp = datetime.datetime.now().strftime('%m-%d-%Y %H:%M:%S')\n",
    "    print('_______________')\n",
    "    print('_______________')\n",
    "    print(site_url)\n",
    "    print('Request Status Code: {}'.format(stat_code))\n",
    "    if req.status_code == 200:\n",
    "        # add page page html to mongo\n",
    "        collection_name.insert_one({'lxml': req.content})\n",
    "        # print result of load\n",
    "        with open('data/load_results.txt', 'a') as f:\n",
    "            f.writelines('{}, {}, {}\\n'.format(site_url, stat_code, tstamp))\n",
    "        f.close()\n",
    "        \n",
    "    else: \n",
    "        print('failed to get {}'.format(site_url))\n",
    "        # print result of load\n",
    "        with open('data/logs/load_results.txt', 'a') as f:\n",
    "            f.writelines('{}, {}, {}\\n'.format(site_url, stat_code, tstamp))\n",
    "        f.close()\n",
    "    \n",
    "    return None\n",
    "\n",
    "        \n",
    "        \n",
    "        \n",
    "\n",
    "\n",
    "######################\n",
    "\n",
    "        \n",
    "if __name__ == '__main__':\n",
    "    # initialize mongo driver to add items as we iterate through them\n",
    "    client = MongoClient('mongodb://localhost:27017/')\n",
    "    db = client.bills\n",
    "    pages = db.pages\n",
    "\n",
    "        \n",
    "    # the 101st Congress (1989 - 1990) starts on pg 1011 for pageSize=250\n",
    "    site_url_root = 'https://www.congress.gov/search?q={%22source%22:%22legislation%22}&pageSize=250'\n",
    "    for i in range(1, 1011):\n",
    "        site_url = site_url_root + '&page={}'.format(i)\n",
    "        sleep(5)\n",
    "        rows = page_to_mongo(site_url, pages)\n",
    "#         add_to_mongo(rows)\n",
    "\n",
    "\n",
    "    print('Count of pages loaded: {}'.format(pages.find().count()))"
   ]
  },
  {
   "cell_type": "code",
   "execution_count": 1,
   "metadata": {},
   "outputs": [],
   "source": [
    "from pymongo import MongoClient\n",
    "client = MongoClient('mongodb://localhost:27017/')\n",
    "db = client.bills\n",
    "pages = db.pages"
   ]
  },
  {
   "cell_type": "code",
   "execution_count": 2,
   "metadata": {},
   "outputs": [],
   "source": [
    "import datetime"
   ]
  },
  {
   "cell_type": "code",
   "execution_count": 4,
   "metadata": {},
   "outputs": [
    {
     "data": {
      "text/plain": [
       "'12-04-2018 09:06:17'"
      ]
     },
     "execution_count": 4,
     "metadata": {},
     "output_type": "execute_result"
    }
   ],
   "source": [
    "datetime.datetime.now().strftime('%m-%d-%Y %H:%M:%S')"
   ]
  },
  {
   "cell_type": "code",
   "execution_count": null,
   "metadata": {},
   "outputs": [],
   "source": []
  },
  {
   "cell_type": "code",
   "execution_count": 22,
   "metadata": {},
   "outputs": [],
   "source": [
    "# iterate through pages in mongo to extract relevant data\n",
    "# for p in pages.find():\n",
    "#     print(len(p['lxml']))"
   ]
  },
  {
   "cell_type": "code",
   "execution_count": 18,
   "metadata": {},
   "outputs": [
    {
     "name": "stdout",
     "output_type": "stream",
     "text": [
      "<li class=\"expanded\">\n",
      " <div>\n",
      "  <span class=\"visualIndicator\">\n",
      "   BILL\n",
      "  </span>\n",
      " </div>\n",
      " 1.\n",
      " <span class=\"result-heading\">\n",
      "  <a href=\"https://www.congress.gov/bill/115th-congress/house-bill/7211?r=1\">\n",
      "   H.R.7211\n",
      "  </a>\n",
      "  — 115th Congress (2017-2018)\n",
      " </span>\n",
      " <span class=\"result-title\">\n",
      "  To amend the Mineral Leasing Act to authorize the Secretary of the Interior to regulate hydraulic fracturing operations on Federal lands, and for other purposes.\n",
      " </span>\n",
      " <span class=\"result-item\">\n",
      "  <strong>\n",
      "   Sponsor:\n",
      "  </strong>\n",
      "  <a href=\"/member/darren-soto/S001200\" target=\"_blank\">\n",
      "   Rep. Soto, Darren [D-FL-9]\n",
      "  </a>\n",
      "  (Introduced 11/30/2018)\n",
      "  <strong>\n",
      "   Cosponsors:\n",
      "  </strong>\n",
      "  (\n",
      "  <a href=\"https://www.congress.gov/bill/115th-congress/house-bill/7211/cosponsors?r=1&amp;overview=closed#tabs\">\n",
      "   0\n",
      "  </a>\n",
      "  )\n",
      " </span>\n",
      " <span class=\"result-item\">\n",
      "  <strong>\n",
      "   Committees:\n",
      "  </strong>\n",
      "  House - Natural Resources, Energy and Commerce\n",
      " </span>\n",
      " <span class=\"result-item\">\n",
      "  <strong>\n",
      "   Latest Action:\n",
      "  </strong>\n",
      "  House - 11/30/2018 Referred to the Committee on Natural Resources, and in addition to the Committee on Energy and Commerce, for a period to be subsequently determined by the Speaker, in each case for consideration of such provisions as fall within the jurisdiction of the committee... (\n",
      "  <a href=\"https://www.congress.gov/bill/115th-congress/house-bill/7211/all-actions?r=1&amp;overview=closed#tabs\">\n",
      "   All Actions\n",
      "  </a>\n",
      "  )\n",
      " </span>\n",
      " <span class=\"result-item result-tracker\">\n",
      "  <strong>\n",
      "   Tracker:\n",
      "  </strong>\n",
      "  <p class=\"hide_fromsighted\">\n",
      "   This bill has the status Introduced\n",
      "  </p>\n",
      "  <p class=\"hide_fromsighted\">\n",
      "   Here are the steps for Status of Legislation:\n",
      "  </p>\n",
      "  <ol class=\"stat_leg\">\n",
      "   <li class=\"first selected\">\n",
      "    Introduced\n",
      "    <div class=\"sol-step-info\" style=\"display:none\">\n",
      "     Array\n",
      "(\n",
      "    [actionDate] =&gt; 2018-11-30\n",
      "    [displayText] =&gt; Introduced in House\n",
      "    [externalActionCode] =&gt; 1000\n",
      "    [description] =&gt; Introduced\n",
      ")\n",
      "    </div>\n",
      "   </li>\n",
      "   <li>\n",
      "    Passed House\n",
      "   </li>\n",
      "   <li>\n",
      "    Passed Senate\n",
      "   </li>\n",
      "   <li>\n",
      "    To President\n",
      "   </li>\n",
      "   <li class=\"last\">\n",
      "    Became Law\n",
      "   </li>\n",
      "  </ol>\n",
      " </span>\n",
      "</li>\n",
      "\n"
     ]
    }
   ],
   "source": [
    "import pprint\n",
    "from bs4 import BeautifulSoup\n",
    "\n",
    "p = pages.find_one()['lxml']\n",
    "soup = BeautifulSoup(p, 'lxml')\n",
    "# print(soup.prettify())\n",
    "\n",
    "# table of bills are in ol class\n",
    "div = soup.find('div', {'class':'search-column-main'})\n",
    "table = div.find('ol')\n",
    "# print(table.prettify())\n",
    "\n",
    "# iterate though each li class expanded to get rows\n",
    "rows = table.find_all('li', {'class':'expanded'})\n",
    "print(rows[0].prettify())"
   ]
  },
  {
   "cell_type": "code",
   "execution_count": 70,
   "metadata": {},
   "outputs": [
    {
     "data": {
      "text/plain": [
       "True"
      ]
     },
     "execution_count": 70,
     "metadata": {},
     "output_type": "execute_result"
    }
   ],
   "source": [
    "columns = row.find_all('span')\n",
    "t = columns[3].text.strip().split()\n",
    "'(Introduced' in t\n",
    "# t = t[t.index('(Introduced') + 1][:-1]\n",
    "# t"
   ]
  },
  {
   "cell_type": "code",
   "execution_count": 81,
   "metadata": {},
   "outputs": [],
   "source": [
    "# store each row as key-value pair in a dictionary\n",
    "empty_row = {'leg_id': None, \n",
    "            'leg_type': None,\n",
    "            'leg_url': None,\n",
    "            'intro_date': None,\n",
    "            'congress_id': None,\n",
    "            'desc': None,\n",
    "            'sponsor': None, \n",
    "            'sponsor_party': None, \n",
    "            'sponsor_state': None,\n",
    "            'sponsor_district': None,  #senators don't have districts\n",
    "            'num_of_cosponsors': None,\n",
    "            'cosponsors_url': None,\n",
    "            'cosponsors': None,  #requires navigation to another url and extracting names from table\n",
    "            'committee': None, \n",
    "            'bill_status': None,\n",
    "            'body': None   #requires navigation to another url\n",
    "            }\n"
   ]
  },
  {
   "cell_type": "code",
   "execution_count": 82,
   "metadata": {},
   "outputs": [
    {
     "data": {
      "text/plain": [
       "250"
      ]
     },
     "execution_count": 82,
     "metadata": {},
     "output_type": "execute_result"
    }
   ],
   "source": [
    "import copy\n",
    "len(rows)"
   ]
  },
  {
   "cell_type": "code",
   "execution_count": 85,
   "metadata": {},
   "outputs": [],
   "source": [
    "all_rows = []\n",
    "\n",
    "# iterate through each of the 'rows' to fill in the 'columns'\n",
    "for row in rows:\n",
    "    new_row = copy.copy(empty_row)\n",
    "\n",
    "    # parse items within a tag\n",
    "    columns = row.find_all('a')\n",
    "    if columns[0].text.strip() != '':\n",
    "        new_row['leg_id'] = columns[0].text.strip()\n",
    "    if columns[0]['href'].strip() != '':\n",
    "        new_row['leg_url'] = columns[0]['href'].strip()\n",
    "    if columns[1].text.strip() != '':\n",
    "        new_row['sponsor'] = columns[1].text.strip()\n",
    "    if columns[2].text.strip() != '':\n",
    "        new_row['num_of_cosponsors'] = columns[2].text.strip()    \n",
    "\n",
    "    # parse items within span tag\n",
    "    columns = row.find_all('span')\n",
    "    if columns[1].text.strip().split()[2] != '':\n",
    "        new_row['congress_id'] = columns[1].text.strip().split()[2]\n",
    "    if columns[2].text != '':\n",
    "        new_row['desc'] = columns[2].text\n",
    "    if columns[4].text.strip()[12:] != '':\n",
    "        new_row['committee'] = columns[4].text.strip()[12:]\n",
    "    # date was a little tricky\n",
    "    dt = columns[3].text.strip().split()\n",
    "    if '(Introduced' in dt:\n",
    "        new_row['intro_date'] = dt[dt.index('(Introduced') + 1][:-1]\n",
    "\n",
    "    # parse items within p tag\n",
    "    columns = row.find_all('p')\n",
    "    if columns[0].text.strip()[25:] != '':\n",
    "        new_row['bill_status'] = columns[0].text.strip()[25:]\n",
    "\n",
    "    all_rows.append(new_row)\n",
    "\n",
    "#     store info in mongo\n",
    "#     collection_name.insert_one(new_row)\n"
   ]
  },
  {
   "cell_type": "code",
   "execution_count": 86,
   "metadata": {},
   "outputs": [
    {
     "data": {
      "text/plain": [
       "{'leg_id': 'H.R.7058',\n",
       " 'leg_type': None,\n",
       " 'leg_url': 'https://www.congress.gov/bill/115th-congress/house-bill/7058?r=154',\n",
       " 'intro_date': '10/12/2018',\n",
       " 'congress_id': '115th',\n",
       " 'desc': 'Digital Goods and Services Tax Fairness Act of 2018',\n",
       " 'sponsor': 'Rep. Smith, Lamar [R-TX-21]',\n",
       " 'sponsor_party': None,\n",
       " 'sponsor_state': None,\n",
       " 'sponsor_district': None,\n",
       " 'num_of_cosponsors': '1',\n",
       " 'cosponsors_url': None,\n",
       " 'cosponsors': None,\n",
       " 'committee': 'House - Judiciary',\n",
       " 'bill_status': 'Introduced',\n",
       " 'body': None}"
      ]
     },
     "execution_count": 86,
     "metadata": {},
     "output_type": "execute_result"
    }
   ],
   "source": [
    "all_rows[153]"
   ]
  },
  {
   "cell_type": "code",
   "execution_count": null,
   "metadata": {},
   "outputs": [],
   "source": []
  }
 ],
 "metadata": {
  "kernelspec": {
   "display_name": "Python 3",
   "language": "python",
   "name": "python3"
  },
  "language_info": {
   "codemirror_mode": {
    "name": "ipython",
    "version": 3
   },
   "file_extension": ".py",
   "mimetype": "text/x-python",
   "name": "python",
   "nbconvert_exporter": "python",
   "pygments_lexer": "ipython3",
   "version": "3.6.5"
  }
 },
 "nbformat": 4,
 "nbformat_minor": 2
}
