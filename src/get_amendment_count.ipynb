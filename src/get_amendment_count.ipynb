{
 "cells": [
  {
   "cell_type": "code",
   "execution_count": 84,
   "metadata": {},
   "outputs": [
    {
     "name": "stdout",
     "output_type": "stream",
     "text": [
      "Overwriting get_amendment_count.py\n"
     ]
    }
   ],
   "source": [
    "%%writefile get_amendment_count.py\n",
    "'''\n",
    "Once data has been populated into Mongo database, this script will populate the amendment\n",
    "count in the 'num_of_amendments' field if it doesn't already exist. \n",
    "'''\n",
    "from pymongo import MongoClient\n",
    "from bs4 import BeautifulSoup\n",
    "import requests\n",
    "import threading\n",
    "from random import randint\n",
    "from time import sleep\n",
    "\n",
    "from my_tools import write_json_file\n",
    "\n",
    "\n",
    "def url_builder(record_url):\n",
    "    '''\n",
    "    Builds endpoint url from leg_url in mongo. Endpoint url should be the site that \n",
    "    contains the amendments of the bill.\n",
    "    \n",
    "    Parameters: url from a the leg_url field in a mongo record\n",
    "    \n",
    "    Returns:    url to the amendment of the mongo record\n",
    "    '''\n",
    "    url_root = record_url.split('?')[0]\n",
    "    url_tail = record_url.split('?')[1]\n",
    "    url_s = url_tail.split('&')[0]\n",
    "    url_r = url_tail.split('&')[1]\n",
    "    return '{}/amendments?{}&{}'.format(url_root, url_r, url_s)\n",
    "\n",
    "\n",
    "def get_soup(url):\n",
    "    '''\n",
    "    Get soup object from url to be parsed out in another function. If status code != 200, \n",
    "    prints out error message.\n",
    "    \n",
    "    Parameters: url\n",
    "    \n",
    "    Returns: BeautifulSoup object\n",
    "    '''\n",
    "    # included sleep time to attempt human user mimicking\n",
    "    sleep_time = randint(2, 11)\n",
    "    sleep(sleep_time)\n",
    "    req = requests.get(url)\n",
    "    stat_code = req.status_code\n",
    "\n",
    "    if stat_code != 200:\n",
    "        print('_______________')\n",
    "        print('_______________')\n",
    "        print('')\n",
    "        print('\\t{}'.format(site_url))\n",
    "        print('\\t\\tError in retrieving amendment count. Logging...')\n",
    "        print('\\t\\tRequest Status Code: {}'.format(stat_code))\n",
    "        errored_line = {'url': site_url, 'error': stat_code, 'process': 'amendment count'}\n",
    "        write_json_file(errored_line, '../data/logs/bill_text_errors.jsonl')\n",
    "\n",
    "    if stat_code == 200:\n",
    "        soup = BeautifulSoup(req.content, 'lxml')\n",
    "        \n",
    "        return soup\n",
    "    \n",
    "\n",
    "def get_num_of_amendments(soup): \n",
    "    '''\n",
    "    Returns the number of amendments for the specific bill referenced in the soup object.\n",
    "    '''\n",
    "    tabs = soup.find('ul', {'class': 'tabs_links'})\n",
    "    titles = tabs.find_all('a')\n",
    "    for t in titles:\n",
    "        if 'Amendment' in t.text:\n",
    "            return t.text.split()[1].strip('()')\n",
    "\n",
    "        \n",
    "def update_mongo_num_of_amendments(leg_id, cong_id, amend_count, collection):\n",
    "    '''\n",
    "    Updates the num_of_amendments field in the mongo record specified by bill_issue (leg_id) \n",
    "    and cong_id (congress_id) from db.collection with amend_count.\n",
    "    \n",
    "    Parameters: leg_id - value to filter on for key leg_id\n",
    "                cong_id - value to filter on for key congress_id\n",
    "                amend_count - number of amendments\n",
    "                collection - the name of the mongo collection\n",
    "                \n",
    "    Returns:    None\n",
    "    '''\n",
    "    collection.update_one({'leg_id': leg_id, 'congress_id': cong_id}, {'$set': {'num_of_amendments': amend_count}})\n",
    "\n",
    "\n",
    "def initiate_process(year, collection):\n",
    "    '''\n",
    "    Initiates process from threads.\n",
    "    '''\n",
    "    print('--------------------')\n",
    "    print('Cleaning up year {}'.format(year))\n",
    "    year_str = str(year)\n",
    "    records_to_populate = collection.find({'leg_url': {'$regex': 'http'}, 'intro_date': {'$regex': year_str}, 'num_of_amendments': None})\n",
    "    record_count = collection.count_documents({'leg_url': {'$regex': 'http'}, 'intro_date': {'$regex': year_str}, 'num_of_amendments': None})\n",
    "    print('--> Number of records with no amendment counts for year {}: {}'.format(year, record_count))\n",
    "    \n",
    "    if record_count > 0:\n",
    "        for rec in records_to_populate:\n",
    "            # get complete url using url_builder\n",
    "            url = url_builder(rec['leg_url'])\n",
    "            # scrape url\n",
    "            soup = get_soup(url)\n",
    "            # get amendment count\n",
    "            amendment_count = get_num_of_amendments(soup)\n",
    "\n",
    "            # update mongo record with bill text\n",
    "            bill_issue = rec['leg_id']\n",
    "            cong_id = rec['congress_id']\n",
    "            update_mongo_num_of_amendments(bill_issue, cong_id, amendment_count, collection)\n",
    "\n",
    "            \n",
    "            r = collection.count_documents({'leg_url': {'$regex': 'http'}, 'intro_date': {'$regex': year_str}, 'num_of_amendments': None})\n",
    "            if r%100 == 0:\n",
    "                print('+++++++++')\n",
    "                print('Year {}: {} records remaining with amendment counts'.format(year, r))\n",
    "                print('+++++++++')\n",
    "\n",
    "                \n",
    "                \n",
    "if __name__ == '__main__':\n",
    "    print('This script is populating amendment counts into Mongo threading four years at a time for those records without any counts.')\n",
    "    client = MongoClient() # defaults to localhost\n",
    "    db = client.bills\n",
    "    bill_info = db.bill_info\n",
    "\n",
    "    # iterate through date range in reverse\n",
    "    year_range = range(2007, 2019)[::-1]\n",
    "\n",
    "    for y in year_range[::3]:\n",
    "        t1 = threading.Thread(target=initiate_process, args=[y, bill_info])\n",
    "        t2 = threading.Thread(target=initiate_process, args=[y-1, bill_info])\n",
    "        t3 = threading.Thread(target=initiate_process, args=[y-2, bill_info])\n",
    "        t4 = threading.Thread(target=initiate_process, args=[y-3, bill_info])\n",
    "        \n",
    "        t1.start()\n",
    "        t2.start()\n",
    "        t3.start()\n",
    "        t4.start()\n",
    "\n",
    "        t1.join()\n",
    "        t2.join()\n",
    "        t3.join()\n",
    "        t4.join()\n",
    "        \n",
    "    print('-----------')\n",
    "    print('-----------')\n",
    "    print('Amendment count populating complete!... DATA SCIENCE!!!')\n",
    "    "
   ]
  },
  {
   "cell_type": "code",
   "execution_count": null,
   "metadata": {},
   "outputs": [],
   "source": [
    "#exploration"
   ]
  },
  {
   "cell_type": "code",
   "execution_count": 76,
   "metadata": {},
   "outputs": [
    {
     "data": {
      "text/plain": [
       "{'_id': ObjectId('5c26c6e31417de25ef8a635f'),\n",
       " 'leg_id': 'H R 4998',\n",
       " 'leg_type': 'BILL',\n",
       " 'leg_url': 'https://www.congress.gov/bill/115th-congress/house-bill/4998?s=1&r=2402',\n",
       " 'intro_date': '02/13/2018',\n",
       " 'congress_id': '115',\n",
       " 'desc': 'Health Insurance for Former Foster Youth Act',\n",
       " 'sponsor': 'Bass, Karen',\n",
       " 'sponsor_party': 'D',\n",
       " 'sponsor_state': 'CA',\n",
       " 'sponsor_district': '37',\n",
       " 'num_of_cosponsors': '7',\n",
       " 'cosponsors_url': 'https://www.congress.gov/bill/115th-congress/house-bill/4998/cosponsors?s=1&r=2402&overview=closed#tabs',\n",
       " 'cosponsors': None,\n",
       " 'num_of_amendments': '0',\n",
       " 'committee': 'House - Energy and Commerce',\n",
       " 'bill_status': 'Introduced',\n",
       " 'body': None}"
      ]
     },
     "execution_count": 76,
     "metadata": {},
     "output_type": "execute_result"
    }
   ],
   "source": [
    "bill_info.find_one({'leg_id': 'H R 4998', 'congress_id': '115'})"
   ]
  },
  {
   "cell_type": "code",
   "execution_count": 66,
   "metadata": {},
   "outputs": [
    {
     "name": "stdout",
     "output_type": "stream",
     "text": [
      "https://www.congress.gov/bill/115th-congress/house-bill/5344/amendments?r=2056&s=1\n"
     ]
    }
   ],
   "source": [
    "print(url)"
   ]
  },
  {
   "cell_type": "code",
   "execution_count": 60,
   "metadata": {},
   "outputs": [
    {
     "name": "stdout",
     "output_type": "stream",
     "text": [
      "<a href=\"/bill/115th-congress/house-bill/7139/amendments?r=261&amp;s=1\">\n",
      "                     Amendments                     <span class=\"counter\">(0)</span>\n",
      "</a>\n",
      "\n",
      "                     Amendments                     (0)\n",
      "\n",
      "['Amendments', '(0)']\n",
      "0\n"
     ]
    }
   ],
   "source": [
    "tabs = soup.find('ul', {'class': 'tabs_links'})\n",
    "titles = tabs.find_all('a')\n",
    "for t in titles:\n",
    "    if 'Amendment' in t.text:\n",
    "        print(t)\n",
    "        print(t.text)\n",
    "        print(t.text.split())\n",
    "        print(t.text.split()[1].strip('()'))\n",
    "    \n"
   ]
  },
  {
   "cell_type": "code",
   "execution_count": 2,
   "metadata": {},
   "outputs": [],
   "source": [
    "client = MongoClient() # defaults to localhost\n",
    "db = client.bills\n",
    "bill_info = db.bill_info\n"
   ]
  },
  {
   "cell_type": "code",
   "execution_count": 6,
   "metadata": {},
   "outputs": [
    {
     "data": {
      "text/plain": [
       "4124"
      ]
     },
     "execution_count": 6,
     "metadata": {},
     "output_type": "execute_result"
    }
   ],
   "source": [
    "records_to_populate = bill_info.find({'leg_url': {'$regex': 'http'}, 'intro_date': {'$regex': '2018'}, 'num_of_amendments': None})\n",
    "record_count = bill_info.count_documents({'leg_url': {'$regex': 'http'}, 'intro_date': {'$regex': '2018'}, 'num_of_amendments': None})\n",
    "record_count"
   ]
  },
  {
   "cell_type": "code",
   "execution_count": null,
   "metadata": {},
   "outputs": [],
   "source": []
  }
 ],
 "metadata": {
  "kernelspec": {
   "display_name": "Python 3",
   "language": "python",
   "name": "python3"
  },
  "language_info": {
   "codemirror_mode": {
    "name": "ipython",
    "version": 3
   },
   "file_extension": ".py",
   "mimetype": "text/x-python",
   "name": "python",
   "nbconvert_exporter": "python",
   "pygments_lexer": "ipython3",
   "version": "3.7.1"
  }
 },
 "nbformat": 4,
 "nbformat_minor": 2
}
