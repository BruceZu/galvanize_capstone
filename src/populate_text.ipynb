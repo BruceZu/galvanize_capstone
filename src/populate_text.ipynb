{
 "cells": [
  {
   "cell_type": "code",
   "execution_count": 10,
   "metadata": {},
   "outputs": [
    {
     "name": "stdout",
     "output_type": "stream",
     "text": [
      "Overwriting populate_text.py\n"
     ]
    }
   ],
   "source": [
    "%%writefile populate_text.py\n",
    "from pymongo import MongoClient\n",
    "import bson.json_util\n",
    "from bs4 import BeautifulSoup\n",
    "from bson.objectid import ObjectId\n",
    "import pprint\n",
    "import os\n",
    "import json\n",
    "import codecs\n",
    "\n",
    "\n",
    "\n",
    "def read_jsonl_file(path):\n",
    "    '''turn a jsonl file into an array of objects'''\n",
    "    arr = []\n",
    "    f = codecs.open(path, 'r', 'utf-8')\n",
    "    for line in f:\n",
    "        record = json.loads(line.rstrip('\\n|\\r'))\n",
    "        arr.append(record)\n",
    "    return arr\n",
    "\n",
    "\n",
    "\n",
    "def update_bill_text(row, collection_name):\n",
    "    bill_issue = row['issue']\n",
    "    cong_id = row['congress_id'][:5]\n",
    "    bill_text = row['bill_text']\n",
    "    \n",
    "    collection_name.update({'leg_id': bill_issue, 'congress_id': cong_id}, {'$set': {'body': bill_text}})\n",
    "\n",
    "    \n",
    "    \n",
    "if __name__ == '__main__':\n",
    "    client = MongoClient() # defaults to localhost\n",
    "    db = client.bills\n",
    "\n",
    "    bill_details = db.bill_details\n",
    "\n",
    "    for filename in os.listdir('../data'):\n",
    "        if filename.startswith('bill_text'):\n",
    "            print(filename)\n",
    "            rows = read_jsonl_file('../data/{}'.format(filename))\n",
    "            for row in rows:\n",
    "                update_bill_text(row, bill_details)\n",
    "        "
   ]
  },
  {
   "cell_type": "code",
   "execution_count": null,
   "metadata": {},
   "outputs": [],
   "source": []
  }
 ],
 "metadata": {
  "kernelspec": {
   "display_name": "Python 3",
   "language": "python",
   "name": "python3"
  },
  "language_info": {
   "codemirror_mode": {
    "name": "ipython",
    "version": 3
   },
   "file_extension": ".py",
   "mimetype": "text/x-python",
   "name": "python",
   "nbconvert_exporter": "python",
   "pygments_lexer": "ipython3",
   "version": "3.6.5"
  }
 },
 "nbformat": 4,
 "nbformat_minor": 2
}
