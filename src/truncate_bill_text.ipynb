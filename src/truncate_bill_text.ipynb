{
 "cells": [
  {
   "cell_type": "code",
   "execution_count": 2,
   "metadata": {},
   "outputs": [
    {
     "name": "stdout",
     "output_type": "stream",
     "text": [
      "Overwriting truncate_bill_text.py\n"
     ]
    }
   ],
   "source": [
    "%%writefile truncate_bill_text.py\n",
    "'''\n",
    "This script truncates the 'body' in each Mongo document to store the actual bill text in key bill_text\n",
    "'''\n",
    "from pymongo import MongoClient\n",
    "\n",
    "def update_mongo_bill_text(leg_id, cong_id, bill_text_trunc, collection):\n",
    "    '''\n",
    "    ------------------------------------------\n",
    "    Updates the bill_text field in the mongo record specified by bill_issue (leg_id) \n",
    "    and cong_id (congress_id) from db.collection with bill_text_trunc.\n",
    "    \n",
    "    ------------------------------------------\n",
    "    Parameters: leg_id - value to filter on for key leg_id\n",
    "                cong_id - value to filter on for key congress_id\n",
    "                bill_text - truncated text in 'body'\n",
    "                collection - the name of the mongo collection\n",
    "                \n",
    "    ------------------------------------------\n",
    "    Returns:    None\n",
    "    \n",
    "    ------------------------------------------\n",
    "    '''\n",
    "    collection.update_one({'leg_id': leg_id, 'congress_id': cong_id}, {'$set': {'bill_text': bill_text_trunc}})\n",
    "\n",
    "\n",
    "if __name__ == '__main__':\n",
    "    client = MongoClient()\n",
    "    db = client.bills\n",
    "    bill_info = db.bill_info\n",
    "\n",
    "    # get doc count to show status\n",
    "    doc_count = bill_info.count_documents({'body': {'$regex': '(.+)'}})\n",
    "    \n",
    "    # retrieve Mongo documents\n",
    "    documents = bill_info.find({'body': {'$regex': '(.+)'}})\n",
    "\n",
    "    i = 0\n",
    "    \n",
    "    for doc in documents:\n",
    "        leg_id = doc['leg_id']\n",
    "        cong_id = doc['congress_id']\n",
    "        bill_text = doc['body']\n",
    "\n",
    "        # search through headers to get index\n",
    "        if ('A BILL' in bill_text[:5000]):\n",
    "            header_text = 'A BILL'\n",
    "\n",
    "        elif ('A Bill' in bill_text[:5000]):\n",
    "            header_text = 'A Bill'            \n",
    "\n",
    "        elif ('JOINT RESOLUTION' in bill_text[:5000]): \n",
    "            header_text = 'JOINT RESOLUTION'\n",
    "\n",
    "        elif ('Joint Resolution' in bill_text[:5000]):\n",
    "            header_text = 'Joint Resolution'\n",
    "\n",
    "        elif ('An Act' in bill_text[:5000]): \n",
    "            header_text = 'An Act'\n",
    "\n",
    "        elif ('AN ACT' in bill_text[:5000]): \n",
    "            header_text = 'AN ACT'\n",
    "\n",
    "        else: \n",
    "            header_text = 'Publishing Office'\n",
    "\n",
    "        text_start = bill_text.find(header_text)\n",
    "\n",
    "        # truncate the bill_text to remove header\n",
    "        bill_text_trunc = bill_text[text_start:].split(' ', 2)[2]\n",
    "\n",
    "\n",
    "        # truncate bill text to remove footer\n",
    "        if 'LEGISLATIVE HISTORY' in bill_text_trunc:\n",
    "            text_end = bill_text_trunc.find('LEGISLATIVE HISTORY')\n",
    "            bill_text_trunc = bill_text_trunc[:text_end].rsplit('Approved')[0]\n",
    "\n",
    "        # update Mongo\n",
    "        update_mongo_bill_text(leg_id, cong_id, bill_text_trunc, bill_info)     \n",
    "        \n",
    "        # show status\n",
    "        if i%200 == 0:\n",
    "            print('{:.2f}% complete'.format(i / doc_count))\n",
    "        i += 1"
   ]
  },
  {
   "cell_type": "code",
   "execution_count": null,
   "metadata": {},
   "outputs": [],
   "source": [
    "#exploration\n",
    "client = MongoClient()\n",
    "db = client.bills\n",
    "bill_info = db.bill_info\n"
   ]
  },
  {
   "cell_type": "code",
   "execution_count": null,
   "metadata": {},
   "outputs": [],
   "source": [
    "doc_count = bill_info.count_documents({'body': {'$regex': '(.+)'}})"
   ]
  },
  {
   "cell_type": "code",
   "execution_count": null,
   "metadata": {},
   "outputs": [],
   "source": [
    "doc_count"
   ]
  },
  {
   "cell_type": "code",
   "execution_count": null,
   "metadata": {},
   "outputs": [],
   "source": [
    "all_docs = bill_info.count_documents({})"
   ]
  },
  {
   "cell_type": "code",
   "execution_count": null,
   "metadata": {},
   "outputs": [],
   "source": [
    "all_docs"
   ]
  },
  {
   "cell_type": "code",
   "execution_count": null,
   "metadata": {},
   "outputs": [],
   "source": [
    "leg_id = 'H R 6897'\n",
    "cong_id = '115'\n",
    "doc = bill_info.find_one({'leg_id': leg_id, 'congress_id': cong_id})\n",
    "bill_text = doc['body']\n",
    "text_start = bill_text.find('An Act')\n",
    "\n",
    "bill_text_trunc = bill_text[text_start:].split(' ', 2)[2]\n",
    "\n",
    "text_end = bill_text_trunc.find('LEGISLATIVE HISTORY')\n",
    "bill_text_trunc = bill_text_trunc[:text_end].rsplit('Approved')[0]\n",
    "print(bill_text_trunc)"
   ]
  },
  {
   "cell_type": "code",
   "execution_count": null,
   "metadata": {},
   "outputs": [],
   "source": []
  },
  {
   "cell_type": "code",
   "execution_count": null,
   "metadata": {},
   "outputs": [],
   "source": []
  }
 ],
 "metadata": {
  "kernelspec": {
   "display_name": "Python 3",
   "language": "python",
   "name": "python3"
  },
  "language_info": {
   "codemirror_mode": {
    "name": "ipython",
    "version": 3
   },
   "file_extension": ".py",
   "mimetype": "text/x-python",
   "name": "python",
   "nbconvert_exporter": "python",
   "pygments_lexer": "ipython3",
   "version": "3.7.1"
  }
 },
 "nbformat": 4,
 "nbformat_minor": 2
}
