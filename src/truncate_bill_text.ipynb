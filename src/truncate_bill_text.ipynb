{
 "cells": [
  {
   "cell_type": "code",
   "execution_count": 1,
   "metadata": {},
   "outputs": [
    {
     "name": "stdout",
     "output_type": "stream",
     "text": [
      "Overwriting truncate_bill_text.py\n"
     ]
    }
   ],
   "source": [
    "%%writefile truncate_bill_text.py\n",
    "'''\n",
    "This script truncates the 'body' in each Mongo document to store the actual bill text in key bill_text\n",
    "'''\n",
    "from pymongo import MongoClient\n",
    "from my_tools import read_jsonl_file\n",
    "from datetime import date\n",
    "\n",
    "def update_mongo_bill_text(leg_id, cong_id, bill_text_trunc, collection):\n",
    "    '''\n",
    "    ------------------------------------------\n",
    "    Updates the bill_text field in the mongo record specified by bill_issue (leg_id) \n",
    "    and cong_id (congress_id) from db.collection with bill_text_trunc.\n",
    "    \n",
    "    ------------------------------------------\n",
    "    Parameters: leg_id - value to filter on for key leg_id\n",
    "                cong_id - value to filter on for key congress_id\n",
    "                bill_text - truncated text in 'body'\n",
    "                collection - the name of the mongo collection\n",
    "                \n",
    "    ------------------------------------------\n",
    "    Returns:    None\n",
    "    \n",
    "    ------------------------------------------\n",
    "    '''\n",
    "    collection.update_one({'leg_id': leg_id, 'congress_id': cong_id}, {'$set': {'bill_text': bill_text_trunc}})\n",
    "\n",
    "\n",
    "def truncate_bill_body(bill_text):\n",
    "    '''\n",
    "    ------------------------------------------\n",
    "    Clips the header and footer of bill_text to eliminate (or just reduce?) data leakage.\n",
    "    \n",
    "    \n",
    "    ------------------------------------------\n",
    "    Parameters: bill_text - 'body' field in Mongo documents\n",
    "    \n",
    "    \n",
    "    ------------------------------------------\n",
    "    Returns:    bill_text_trunc - clipped text\n",
    "    \n",
    "    ------------------------------------------\n",
    "    '''\n",
    "    # search through headers to get index\n",
    "    if ('A BILL' in bill_text[:5000]):\n",
    "        header_text = 'A BILL'\n",
    "\n",
    "    elif ('A Bill' in bill_text[:5000]):\n",
    "        header_text = 'A Bill'            \n",
    "\n",
    "    elif ('JOINT RESOLUTION' in bill_text[:5000]): \n",
    "        header_text = 'JOINT RESOLUTION'\n",
    "\n",
    "    elif ('Joint Resolution' in bill_text[:5000]):\n",
    "        header_text = 'Joint Resolution'\n",
    "\n",
    "    elif ('An Act' in bill_text[:5000]): \n",
    "        header_text = 'An Act'\n",
    "\n",
    "    elif ('AN ACT' in bill_text[:5000]): \n",
    "        header_text = 'AN ACT'\n",
    "\n",
    "    else: \n",
    "        header_text = 'ing Office'\n",
    "\n",
    "    text_start = bill_text.find(header_text)\n",
    "\n",
    "    # truncate the bill_text to remove header\n",
    "    bill_text_trunc = bill_text[text_start:].split(' ', 2)[2]\n",
    "\n",
    "\n",
    "    # truncate bill text to remove footer\n",
    "    if 'LEGISLATIVE HISTORY' in bill_text_trunc:\n",
    "        text_end = bill_text_trunc.find('LEGISLATIVE HISTORY')\n",
    "        bill_text_trunc = bill_text_trunc[:text_end].rsplit('Approved')[0]\n",
    "\n",
    "    return bill_text_trunc    \n",
    "    \n",
    "    \n",
    "    \n",
    "\n",
    "if __name__ == '__main__':\n",
    "    client = MongoClient()\n",
    "    db = client.bills\n",
    "    bill_info = db.bill_info\n",
    "    \n",
    "    # retrieve logs where the bill text has changed when get_bill_text was run\n",
    "    log_path = '/home/ubuntu/galvanize_capstone/data/logs/mongo_updates.jsonl'\n",
    "    logs = read_jsonl_file(log_path)\n",
    "    \n",
    "    today = date.today().isoformat()\n",
    "\n",
    "    for log in logs:\n",
    "        # check to see if the body was updated with get_bill_text today\n",
    "        if 'body' in log.keys():\n",
    "            if log['body']['date'] == today:\n",
    "                cong_id = log['congress_id']\n",
    "                leg_id = log['leg_id'] \n",
    "                print('\\t\\tThe bills text for Congress ID {}, {} has changed. Updating truncated text'.format(cong_id, leg_id))\n",
    "\n",
    "                # use cong_id and leg_id in log to pull bill text from Mongo and clip it\n",
    "                doc = bill_info.find_one({'congress_id': cong_id, 'leg_id': leg_id})\n",
    "                bill_text_clipped = truncate_bill_body(doc['body'])\n",
    "\n",
    "                # update Mongo\n",
    "                update_mongo_bill_text(leg_id, cong_id, bill_text_clipped, bill_info)     \n",
    "\n",
    "            \n",
    "            \n",
    "            "
   ]
  },
  {
   "cell_type": "code",
   "execution_count": 32,
   "metadata": {},
   "outputs": [],
   "source": [
    "#exploration\n",
    "from pymongo import MongoClient\n",
    "from my_tools import read_jsonl_file\n",
    "from datetime import date\n",
    "\n",
    "client = MongoClient()\n",
    "db = client.bills\n",
    "bill_info = db.bill_info\n"
   ]
  },
  {
   "cell_type": "code",
   "execution_count": 20,
   "metadata": {},
   "outputs": [
    {
     "data": {
      "text/plain": [
       "'2019-01-09'"
      ]
     },
     "execution_count": 20,
     "metadata": {},
     "output_type": "execute_result"
    }
   ],
   "source": [
    "today = date.today().isoformat()\n",
    "today"
   ]
  },
  {
   "cell_type": "code",
   "execution_count": 35,
   "metadata": {},
   "outputs": [
    {
     "data": {
      "text/plain": [
       "('116', 'H J Res 22')"
      ]
     },
     "execution_count": 35,
     "metadata": {},
     "output_type": "execute_result"
    }
   ],
   "source": [
    "cong_id, leg_id"
   ]
  },
  {
   "cell_type": "code",
   "execution_count": null,
   "metadata": {},
   "outputs": [],
   "source": []
  },
  {
   "cell_type": "code",
   "execution_count": 21,
   "metadata": {},
   "outputs": [
    {
     "data": {
      "text/plain": [
       "True"
      ]
     },
     "execution_count": 21,
     "metadata": {},
     "output_type": "execute_result"
    }
   ],
   "source": [
    "log['body']['date'] == today"
   ]
  },
  {
   "cell_type": "code",
   "execution_count": null,
   "metadata": {},
   "outputs": [],
   "source": []
  },
  {
   "cell_type": "code",
   "execution_count": null,
   "metadata": {},
   "outputs": [],
   "source": []
  }
 ],
 "metadata": {
  "kernelspec": {
   "display_name": "Python 3",
   "language": "python",
   "name": "python3"
  },
  "language_info": {
   "codemirror_mode": {
    "name": "ipython",
    "version": 3
   },
   "file_extension": ".py",
   "mimetype": "text/x-python",
   "name": "python",
   "nbconvert_exporter": "python",
   "pygments_lexer": "ipython3",
   "version": "3.7.1"
  }
 },
 "nbformat": 4,
 "nbformat_minor": 2
}
