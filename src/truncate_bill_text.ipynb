{
 "cells": [
  {
   "cell_type": "code",
   "execution_count": 15,
   "metadata": {},
   "outputs": [
    {
     "name": "stdout",
     "output_type": "stream",
     "text": [
      "Overwriting truncate_bill_text.py\n"
     ]
    }
   ],
   "source": [
    "%%writefile truncate_bill_text.py\n",
    "'''\n",
    "This script truncates the 'body' in each Mongo document to store the actual bill text in key bill_text\n",
    "'''\n",
    "from pymongo import MongoClient\n",
    "\n",
    "def update_mongo_bill_text(leg_id, cong_id, bill_text_trunc, collection):\n",
    "    '''\n",
    "    ------------------------------------------\n",
    "    Updates the bill_text field in the mongo record specified by bill_issue (leg_id) \n",
    "    and cong_id (congress_id) from db.collection with bill_text_trunc.\n",
    "    \n",
    "    ------------------------------------------\n",
    "    Parameters: leg_id - value to filter on for key leg_id\n",
    "                cong_id - value to filter on for key congress_id\n",
    "                bill_text - truncated text in 'body'\n",
    "                collection - the name of the mongo collection\n",
    "                \n",
    "    ------------------------------------------\n",
    "    Returns:    None\n",
    "    \n",
    "    ------------------------------------------\n",
    "    '''\n",
    "    collection.update_one({'leg_id': leg_id, 'congress_id': cong_id}, {'$set': {'bill_text': bill_text_trunc}})\n",
    "\n",
    "\n",
    "if __name__ == '__main__':\n",
    "    client = MongoClient()\n",
    "    db = client.bills\n",
    "    bill_info = db.bill_info\n",
    "\n",
    "    # get doc count to show status\n",
    "    doc_count = bill_info.count_documents({'body': {'$regex': '(.+)'}, 'bill_text': None})\n",
    "    \n",
    "    # retrieve Mongo documents\n",
    "    documents = bill_info.find({'body': {'$regex': '(.+)'}, 'bill_text': None})\n",
    "\n",
    "    i = 0\n",
    "    \n",
    "    for doc in documents:\n",
    "        leg_id = doc['leg_id']\n",
    "        cong_id = doc['congress_id']\n",
    "        bill_text = doc['body']\n",
    "\n",
    "        # search through headers to get index\n",
    "        if ('A BILL' in bill_text[:5000]):\n",
    "            header_text = 'A BILL'\n",
    "\n",
    "        elif ('A Bill' in bill_text[:5000]):\n",
    "            header_text = 'A Bill'            \n",
    "\n",
    "        elif ('JOINT RESOLUTION' in bill_text[:5000]): \n",
    "            header_text = 'JOINT RESOLUTION'\n",
    "\n",
    "        elif ('Joint Resolution' in bill_text[:5000]):\n",
    "            header_text = 'Joint Resolution'\n",
    "\n",
    "        elif ('An Act' in bill_text[:5000]): \n",
    "            header_text = 'An Act'\n",
    "\n",
    "        elif ('AN ACT' in bill_text[:5000]): \n",
    "            header_text = 'AN ACT'\n",
    "\n",
    "        else: \n",
    "            header_text = 'ing Office'\n",
    "\n",
    "        text_start = bill_text.find(header_text)\n",
    "\n",
    "        # truncate the bill_text to remove header\n",
    "        bill_text_trunc = bill_text[text_start:].split(' ', 2)[2]\n",
    "\n",
    "\n",
    "        # truncate bill text to remove footer\n",
    "        if 'LEGISLATIVE HISTORY' in bill_text_trunc:\n",
    "            text_end = bill_text_trunc.find('LEGISLATIVE HISTORY')\n",
    "            bill_text_trunc = bill_text_trunc[:text_end].rsplit('Approved')[0]\n",
    "\n",
    "        # update Mongo\n",
    "        update_mongo_bill_text(leg_id, cong_id, bill_text_trunc, bill_info)     \n",
    "        \n",
    "        # show status\n",
    "        if i%500 == 0:\n",
    "            print('{:.2f}% complete'.format(i / doc_count))\n",
    "        i += 1"
   ]
  },
  {
   "cell_type": "code",
   "execution_count": 4,
   "metadata": {},
   "outputs": [],
   "source": [
    "#exploration\n",
    "from pymongo import MongoClient\n",
    "client = MongoClient()\n",
    "db = client.bills\n",
    "bill_info = db.bill_info\n"
   ]
  },
  {
   "cell_type": "code",
   "execution_count": 11,
   "metadata": {},
   "outputs": [],
   "source": [
    "docs = bill_info.find({'body': {'$regex': '(.+)'}, 'bill_text': None})"
   ]
  },
  {
   "cell_type": "code",
   "execution_count": 12,
   "metadata": {},
   "outputs": [
    {
     "data": {
      "text/plain": [
       "{'_id': ObjectId('5c26ca411417de25ef8add61'),\n",
       " 'leg_id': 'H R 2369',\n",
       " 'leg_type': 'BILL',\n",
       " 'leg_url': 'https://www.congress.gov/bill/112th-congress/house-bill/2369?s=1&r=57759',\n",
       " 'intro_date': '06/24/2011',\n",
       " 'congress_id': '112',\n",
       " 'desc': 'To amend title 36, United States Code, to provide for an additional power for the American Legion under its Federal charter.',\n",
       " 'sponsor': 'Altmire, Jason',\n",
       " 'sponsor_party': 'D',\n",
       " 'sponsor_state': 'PA',\n",
       " 'sponsor_district': '4',\n",
       " 'num_of_cosponsors': '432',\n",
       " 'cosponsors_url': 'https://www.congress.gov/bill/112th-congress/house-bill/2369/cosponsors?s=1&r=57759&overview=closed#tabs',\n",
       " 'cosponsors': None,\n",
       " 'num_of_amendments': '0',\n",
       " 'committee': 'House - Judiciary',\n",
       " 'bill_status': 'Introduced',\n",
       " 'body': \"[Congressional Bills 112th Congress] [From the U.S. Government Printing Office] [H.R. 2369 Reported in House (RH)] Union Calendar No. 212 112th CONGRESS 1st Session H. R. 2369 [Report No. 112-313] To amend title 36, United States Code, to provide for an additional power for the American Legion under its Federal charter. _______________________________________________________________________ IN THE HOUSE OF REPRESENTATIVES June 24, 2011 Mr. Altmire (for himself and Mr. Rooney) introduced the following bill; which was referred to the Committee on the Judiciary December 5, 2011 Additional sponsors: Mr. Garrett, Mr. Cicilline, Mr. DeFazio, Mr. Hastings of Florida, Mr. Kingston, Mr. Price of Georgia, Mr. Fattah, Mr. Sam Johnson of Texas, Mrs. Lummis, Mr. Fortenberry, Mr. Alexander, Mr. McKinley, Mr. Gowdy, Mr. Duncan of South Carolina, Mr. Nugent, Mr. Thompson of Pennsylvania, Mr. LaTourette, Mr. Posey, Mr. Brady of Pennsylvania, Mr. Bishop of New York, Mr. Grijalva, Mrs. McCarthy of New York, Mr. Capuano, Mr. Doyle, Mr. Barletta, Mr. McNerney, Mr. Donnelly of Indiana, Mr. Carney, Mr. Perlmutter, Mr. Garamendi, Ms. Hirono, Mr. Becerra, Mr. Larson of Connecticut, Mr. Doggett, Mr. Wu, Mr. Sires, Mr. Meeks, Mr. Hinojosa, Mr. Lujan, Mrs. Napolitano, Mr. Cuellar, Mr. Polis, Mr. Crowley, Mr. Gonzalez, Mr. Matheson, Mr. Rahall, Ms. Wasserman Schultz, Mr. Wilson of South Carolina, Mr. Heinrich, Mr. Murphy of Connecticut, Mr. Peters, Mr. Ryan of Ohio, Mr. Holden, Mr. Critz, Mr. Cummings, Mr. Carson of Indiana, Ms. Clarke of New York, Ms. Richardson, Ms. Moore, Mr. Jackson of Illinois, Ms. Fudge, Ms. Hanabusa, Mr. Richmond, Mr. Clay, Mr. Johnson of Georgia, Mr. Rush, Mr. Rothman of New Jersey, Mr. Pascrell, Mr. Holt, Ms. Kaptur, Mr. Owens, Mr. Loebsack, Mr. Markey, Mr. Shuler, Mr. Kissell, Ms. Woolsey, Mr. Engel, Ms. McCollum, Mr. Connolly of Virginia, Mr. Kinzinger of Illinois, Mr. Heck, Mr. Guthrie, Mr. Paulsen, Mr. Coffman of Colorado, Mr. Sessions, Mr. Goodlatte, Mr. Conyers, Mr. Franks of Arizona, Mr. Lipinski, Mr. Murphy of Pennsylvania, Mr. Gosar, Mr. Mulvaney, Mr. Barrow, Mr. Pitts, Mr. Smith of Washington, Mr. Cohen, Mr. Cole, Mr. Lucas, Mr. Latta, Ms. Hayworth, Mr. Fitzpatrick, Mr. Runyan, Mr. West, Mr. Hunter, Mr. Shuster, Mr. Calvert, Mr. Lewis of California, Mr. Chabot, Mr. Coble, Mr. Ross of Florida, Mr. Long, Mr. Dreier, Mr. Yarmuth, Mr. Chandler, Ms. Schwartz, Mr. McIntyre, Mr. Walberg, Ms. Loretta Sanchez of California, Mr. Tonko, Ms. Hochul, Ms. Speier, Mr. Westmoreland, Mr. Poe of Texas, Mr. Langevin, Mr. Mack, Mrs. Bono Mack, Mr. Buchanan, Mr. Lankford, Mr. Roskam, Mr. Jordan, Mr. Chaffetz, Mr. Burgess, Mr. Reed, Mr. Crenshaw, Mr. Schrader, Mr. Rogers of Alabama, Mr. Boustany, Mr. Davis of Kentucky, Mr. Gohmert, Mr. Sensenbrenner, Mr. Bilirakis, Mrs. McMorris Rodgers, Ms. Foxx, Mr. Platts, Mr. Miller of Florida, Mr. Walsh of Illinois, Mr. Huelskamp, Mr. Rokita, Mr. Reichert, Mr. Southerland, Mr. Lynch, Mr. Carnahan, Mr. Israel, Mr. Boswell, Ms. Castor of Florida, Mr. Gene Green of Texas, Mr. Rohrabacher, Mr. Austria, Mr. McCaul, Mr. Neugebauer, Mr. Farenthold, Mr. Marchant, Mr. Griffin of Arkansas, Mrs. Noem, Mr. DesJarlais, Mr. Nunnelee, Mr. Lance, Mr. Hanna, Mr. Michaud, Mr. Boren, Mr. Daniel E. Lungren of California, Mr. Walz of Minnesota, Mr. Ross of Arkansas, Mr. Moran, Mrs. Davis of California, Mr. Marino, Mr. Kelly, Mr. Young of Florida, Mr. Scalise, Ms. Eshoo, Mr. Burton of Indiana, Mr. Meehan, Mr. Pence, Mr. LoBiondo, Mr. Sarbanes, Mr. Keating, Mr. Costello, Mr. Peterson, Mr. Inslee, Ms. Sutton, Ms. Linda T. Sanchez of California, Mrs. Capps, Ms. Jenkins, Mr. Johnson of Ohio, Mr. Gerlach, Mr. Hinchey, Ms. Berkley, Mrs. Schmidt, Mr. Courtney, Mrs. Myrick, Mr. Latham, Mr. Gutierrez, Mr. Harris, Mr. Guinta, Mr. Andrews, Ms. Brown of Florida, Mr. Butterfield, Mr. Campbell, Mr. Palazzo, Mr. Pastor of Arizona, Mr. Bilbray, Mr. Bishop of Georgia, Mr. Brady of Texas, Mr. Braley of Iowa, Mr. Cleaver, Mr. Cooper, Mr. Cravaack, Mr. Dent, Ms. Edwards, Mrs. Ellmers, Mr. Honda, Mr. Huizenga of Michigan, Mr. Kildee, Mr. Levin, Mrs. Lowey, Mrs. Maloney, Mr. George Miller of California, Mr. Pallone, Mr. Price of North Carolina, Mr. Scott of Virginia, Mr. Stark, Mr. Terry, Mr. Thompson of California, Ms. Waters, Mr. Watt, Mrs. Black, Ms. Herrera Beutler, Mrs. Emerson, Mr. Webster, Mr. Scott of South Carolina, Mr. Ackerman, Mr. Akin, Mr. Berman, Mrs. Capito, Mr. Carter, Mr. Cassidy, Ms. Chu, Mr. Costa, Mr. Crawford, Ms. DeLauro, Mr. Deutch, Mr. Duncan of Tennessee, Ms. Hahn, Mr. Higgins, Mr. Himes, Mr. McGovern, Mr. Miller of North Carolina, Mr. Nadler, Mr. Neal, Mr. Rangel, Mr. Ruppersberger, Mr. Shimkus, Mr. Towns, Ms. Tsongas, Mr. Welch, Mr. Diaz-Balart, Mr. Dold, Mr. Filner, Mr. Herger, Mr. King of Iowa, Mr. Larsen of Washington, Mr. McCotter, Mr. McHenry, Mr. Olson, Mr. Pearce, Mr. Rivera, Ms. Ros-Lehtinen, Mr. Smith of Nebraska, Mr. Walden, Mr. Mica, Mr. Ellison, Mr. Quigley, Ms. DeGette, Mr. Kucinich, Mr. Cardoza, Mr. Johnson of Illinois, Ms. Velazquez, Mr. Serrano, Mr. Reyes, Mr. Sherman, Mr. Bass of New Hampshire, Mr. Camp, Mr. Davis of Illinois, Mr. Visclosky, Mr. Dicks, Mr. Al Green of Texas, Ms. Baldwin, Ms. Slaughter, Mr. Clarke of Michigan, Mr. Frank of Massachusetts, Mr. Kind, Mr. Blumenauer, Mr. Aderholt, Mr. Dingell, Mr. Fleming, Mr. Gallegly, Mr. Graves of Georgia, Ms. Jackson Lee of Texas, Ms. Eddie Bernice Johnson of Texas, Mr. Jones, Mr. King of New York, Mr. Landry, Mr. Lewis of Georgia, Ms. Matsui, Mr. McDermott, Mr. Petri, Ms. Pingree of Maine, Mr. Roe of Tennessee, Ms. Roybal-Allard, Mr. David Scott of Georgia, Ms. Sewell, Mr. Simpson, Mr. Smith of New Jersey, Mr. Thompson of Mississippi, Mr. Upton, Mr. Wittman, Mr. Yoder, Mr. Clyburn, Mrs. Biggert, Mr. Frelinghuysen, Mr. Bartlett, Mr. Pompeo, Mr. Kline, Mr. Berg, Mr. Fleischmann, Mr. Griffith of Virginia, Mr. Hoyer, Mrs. Miller of Michigan, Mr. Labrador, Mr. McKeon, Mr. Gary G. Miller of California, Mr. Waxman, Mr. Gibson, Mr. Harper, Mrs. Blackburn, Ms. Zoe Lofgren of California, Mr. Pierluisi, Mr. Baca, Mr. Lamborn, Mr. Van Hollen, Mr. Wolf, Mr. Schock, Mr. Denham, Mr. Rehberg, Mr. Luetkemeyer, Mr. Forbes, Mr. Tipton, Mr. Hurt, Mr. Schweikert, Mr. Farr, Ms. Schakowsky, Mr. Gingrey of Georgia, Mr. Payne, Mr. Tierney, Mr. Sullivan, Ms. Granger, Ms. Lee of California, Mr. Gardner, Mr. Whitfield, Mrs. Roby, Mr. Nunes, Mr. Quayle, Mr. Austin Scott of Georgia, Mr. Duffy, Mr. Benishek, Mr. Bucshon, Mrs. Hartzler, Mr. Hultgren, Mr. Ribble, Mr. Rigell, Mr. Stivers, Mr. Young of Indiana, Mr. Brooks, Mr. Hastings of Washington, Mr. Canseco, Ms. Buerkle, Mr. Turner of Ohio, Mrs. Christensen, Ms. Bordallo, Mr. Fincher, Mr. Hall, Mr. Young of Alaska, Mr. Schiff, Mrs. Bachmann, Ms. Norton, Mr. Hensarling, Mr. Bonner, Mr. Conaway, Mr. Gibbs, Mr. Manzullo, Mr. Schilling, Mr. Thornberry, Mr. Womack, Mr. Rogers of Kentucky, Mr. Olver, Mrs. Adams, Mr. Faleomavaega, Mr. Sablan, Mr. Graves of Missouri, Mr. Grimm, Ms. Pelosi, Mr. Bachus, Mr. Barton of Texas, Mr. Culberson, Mr. Flores, Mr. McCarthy of California, Mr. McClintock, Mr. Renacci, Mr. Rogers of Michigan, Mr. Royce, Mr. Stearns, Mr. Stutzman, Mr. Woodall, Mr. Broun of Georgia, Mr. Amodei, Mr. Bishop of Utah, Mr. Turner of New York, Ms. Wilson of Florida, Mr. Paul, Mr. Tiberi, and Mr. Flake December 5, 2011 Committed to the Committee of the Whole House on the State of the Union and ordered to be printed _______________________________________________________________________ A BILL To amend title 36, United States Code, to provide for an additional power for the American Legion under its Federal charter. Be it enacted by the Senate and House of Representatives of the United States of America in Congress assembled, SECTION 1. ADDITIONAL POWER OF AMERICAL LEGION UNDER FEDERAL CHARTER. Section 2104 of title 36, United States Code, is amended-- (1) in paragraph (7), by striking ``and'' at the end; (2) by redesignating paragraph (8) as paragraph (9); and (3) by inserting after paragraph (7) the following new paragraph (8): ``(8) provide guidance and leadership to the individual Departments and Posts, but may not control or otherwise influence the specific activities and conduct of the independent, autonomous Departments and Posts; and''. Union Calendar No. 212 112th CONGRESS 1st Session H. R. 2369 [Report No. 112-313] _______________________________________________________________________ A BILL To amend title 36, United States Code, to provide for an additional power for the American Legion under its Federal charter. _______________________________________________________________________ December 5, 2011 Committed to the Committee of the Whole House on the State of the Union and ordered to be printed\"}"
      ]
     },
     "execution_count": 12,
     "metadata": {},
     "output_type": "execute_result"
    }
   ],
   "source": [
    "docs[0]"
   ]
  },
  {
   "cell_type": "code",
   "execution_count": null,
   "metadata": {},
   "outputs": [],
   "source": [
    "doc_count = bill_info.count_documents({'body': {'$regex': '(.+)'}})"
   ]
  },
  {
   "cell_type": "code",
   "execution_count": null,
   "metadata": {},
   "outputs": [],
   "source": [
    "doc_count"
   ]
  },
  {
   "cell_type": "code",
   "execution_count": null,
   "metadata": {},
   "outputs": [],
   "source": [
    "all_docs = bill_info.count_documents({})"
   ]
  },
  {
   "cell_type": "code",
   "execution_count": null,
   "metadata": {},
   "outputs": [],
   "source": [
    "all_docs"
   ]
  },
  {
   "cell_type": "code",
   "execution_count": null,
   "metadata": {},
   "outputs": [],
   "source": [
    "leg_id = 'H R 6897'\n",
    "cong_id = '115'\n",
    "doc = bill_info.find_one({'leg_id': leg_id, 'congress_id': cong_id})\n",
    "bill_text = doc['body']\n",
    "text_start = bill_text.find('An Act')\n",
    "\n",
    "bill_text_trunc = bill_text[text_start:].split(' ', 2)[2]\n",
    "\n",
    "text_end = bill_text_trunc.find('LEGISLATIVE HISTORY')\n",
    "bill_text_trunc = bill_text_trunc[:text_end].rsplit('Approved')[0]\n",
    "print(bill_text_trunc)"
   ]
  },
  {
   "cell_type": "code",
   "execution_count": null,
   "metadata": {},
   "outputs": [],
   "source": []
  },
  {
   "cell_type": "code",
   "execution_count": null,
   "metadata": {},
   "outputs": [],
   "source": []
  }
 ],
 "metadata": {
  "kernelspec": {
   "display_name": "Python 3",
   "language": "python",
   "name": "python3"
  },
  "language_info": {
   "codemirror_mode": {
    "name": "ipython",
    "version": 3
   },
   "file_extension": ".py",
   "mimetype": "text/x-python",
   "name": "python",
   "nbconvert_exporter": "python",
   "pygments_lexer": "ipython3",
   "version": "3.7.1"
  }
 },
 "nbformat": 4,
 "nbformat_minor": 2
}
