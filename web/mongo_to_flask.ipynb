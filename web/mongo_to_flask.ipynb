{
 "cells": [
  {
   "cell_type": "code",
   "execution_count": 14,
   "metadata": {},
   "outputs": [
    {
     "name": "stdout",
     "output_type": "stream",
     "text": [
      "Overwriting ../web/mongo_to_flask.py\n"
     ]
    }
   ],
   "source": [
    "%%writefile ../web/mongo_to_flask.py\n",
    "from flask import Flask, render_template\n",
    "from pymongo import MongoClient\n",
    "import bson.json_util\n",
    "\n",
    "# Set up Flask\n",
    "app = Flask(__name__)\n",
    "\n",
    "# Set up Mongo\n",
    "client = MongoClient() # defaults to localhost\n",
    "db = client.bills\n",
    "\n",
    "# Fetch from/to totals, given a pair of email addresses\n",
    "@app.route(\"/leg_id/<id>\")\n",
    "def leg_id(id):\n",
    "  row = db.bill_details.find({\"leg_id\": id})\n",
    "  return render_template('table.html', rows=list(row))\n",
    "\n",
    "\n",
    "# Fetch from/to totals, given a pair of email addresses\n",
    "@app.route(\"/congress_id/<id>\")\n",
    "def congress_id(id):\n",
    "  row = db.bill_details.find({\"congress_id\": id})\n",
    "  return render_template('table.html', rows=list(row))\n",
    "\n",
    "\n",
    "if __name__ == \"__main__\": app.run(debug=True, host='0.0.0.0')"
   ]
  },
  {
   "cell_type": "code",
   "execution_count": 4,
   "metadata": {},
   "outputs": [],
   "source": [
    "bill_details = db.bill_details"
   ]
  },
  {
   "cell_type": "code",
   "execution_count": 6,
   "metadata": {},
   "outputs": [
    {
     "data": {
      "text/plain": [
       "{'_id': ObjectId('5c117ba6cd68d14e1a3ffd9c'),\n",
       " 'leg_id': 'H R 7211',\n",
       " 'leg_type': 'BILL',\n",
       " 'leg_url': 'https://www.congress.gov/bill/115th-congress/house-bill/7211?r=1',\n",
       " 'intro_date': '11/30/2018',\n",
       " 'congress_id': '115th',\n",
       " 'desc': 'To amend the Mineral Leasing Act to authorize the Secretary of the Interior to regulate hydraulic fracturing operations on Federal lands, and for other purposes.',\n",
       " 'sponsor': 'Rep. Soto, Darren',\n",
       " 'sponsor_party': 'FL',\n",
       " 'sponsor_state': 'D',\n",
       " 'sponsor_district': '9',\n",
       " 'num_of_cosponsors': '0',\n",
       " 'cosponsors': None,\n",
       " 'committee': 'House - Natural Resources, Energy and Commerce',\n",
       " 'bill_status': 'Introduced',\n",
       " 'body': None}"
      ]
     },
     "execution_count": 6,
     "metadata": {},
     "output_type": "execute_result"
    }
   ],
   "source": [
    "b = bill_details.find_one()\n",
    "b"
   ]
  },
  {
   "cell_type": "code",
   "execution_count": null,
   "metadata": {},
   "outputs": [],
   "source": []
  },
  {
   "cell_type": "code",
   "execution_count": null,
   "metadata": {},
   "outputs": [],
   "source": []
  }
 ],
 "metadata": {
  "kernelspec": {
   "display_name": "Python 3",
   "language": "python",
   "name": "python3"
  },
  "language_info": {
   "codemirror_mode": {
    "name": "ipython",
    "version": 3
   },
   "file_extension": ".py",
   "mimetype": "text/x-python",
   "name": "python",
   "nbconvert_exporter": "python",
   "pygments_lexer": "ipython3",
   "version": "3.6.5"
  }
 },
 "nbformat": 4,
 "nbformat_minor": 2
}
