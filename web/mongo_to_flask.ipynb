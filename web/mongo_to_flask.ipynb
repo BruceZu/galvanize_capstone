{
 "cells": [
  {
   "cell_type": "code",
   "execution_count": 16,
   "metadata": {},
   "outputs": [
    {
     "name": "stdout",
     "output_type": "stream",
     "text": [
      "Overwriting ../web/mongo_to_flask.py\n"
     ]
    }
   ],
   "source": [
    "%%writefile ../web/mongo_to_flask.py\n",
    "from flask import Flask, render_template\n",
    "from pymongo import MongoClient\n",
    "import bson.json_util\n",
    "\n",
    "# Set up Flask\n",
    "app = Flask(__name__)\n",
    "\n",
    "# Set up Mongo\n",
    "client = MongoClient() # defaults to localhost\n",
    "db = client.bills\n",
    "\n",
    "# Fetch from/to totals, given a pair of email addresses\n",
    "@app.route(\"/leg_id/<id>\")\n",
    "def leg_id(id):\n",
    "  row = db.bill_details.find({\"leg_id\": id})\n",
    "  return render_template('table.html', rows=list(row))\n",
    "\n",
    "\n",
    "# Fetch from/to totals, given a pair of email addresses\n",
    "@app.route(\"/congress_id/<id>\")\n",
    "def congress_id(id):\n",
    "  row = db.bill_details.find({\"congress_id\": id})\n",
    "  return render_template('table.html', rows=list(row))\n",
    "\n",
    "\n",
    "if __name__ == \"__main__\": app.run(debug=True, host='0.0.0.0')"
   ]
  },
  {
   "cell_type": "code",
   "execution_count": 1,
   "metadata": {},
   "outputs": [],
   "source": [
    "# exploration\n",
    "from flask import Flask, render_template\n",
    "from pymongo import MongoClient\n",
    "import bson.json_util\n",
    "\n",
    "# Set up Mongo\n",
    "client = MongoClient() # defaults to localhost\n",
    "db = client.bills"
   ]
  },
  {
   "cell_type": "code",
   "execution_count": 2,
   "metadata": {},
   "outputs": [],
   "source": [
    "bill_details = db.bill_details"
   ]
  },
  {
   "cell_type": "code",
   "execution_count": 3,
   "metadata": {},
   "outputs": [
    {
     "name": "stderr",
     "output_type": "stream",
     "text": [
      "/home/ubuntu/anaconda3/lib/python3.7/site-packages/ipykernel_launcher.py:1: DeprecationWarning: count is deprecated. Use Collection.count_documents instead.\n",
      "  \"\"\"Entry point for launching an IPython kernel.\n"
     ]
    },
    {
     "data": {
      "text/plain": [
       "164874"
      ]
     },
     "execution_count": 3,
     "metadata": {},
     "output_type": "execute_result"
    }
   ],
   "source": [
    "bill_details.find().count()"
   ]
  },
  {
   "cell_type": "code",
   "execution_count": 4,
   "metadata": {},
   "outputs": [
    {
     "data": {
      "text/plain": [
       "{'_id': ObjectId('5c182d3a1417de23a825544e'),\n",
       " 'leg_id': 'H R 2840',\n",
       " 'leg_type': 'BILL',\n",
       " 'leg_url': 'https://www.congress.gov/bill/104th-congress/house-bill/2840?r=193696',\n",
       " 'intro_date': '12/27/1995',\n",
       " 'congress_id': '104th',\n",
       " 'desc': 'To assure that all Federal employees work and are paid.',\n",
       " 'sponsor': 'Rep. Morella, Constance A.',\n",
       " 'sponsor_party': 'MD',\n",
       " 'sponsor_state': 'R',\n",
       " 'sponsor_district': '8',\n",
       " 'num_of_cosponsors': '3',\n",
       " 'cosponsors_url': 'https://www.congress.gov/bill/104th-congress/house-bill/2840/cosponsors?r=193696&overview=closed#tabs',\n",
       " 'cosponsors': None,\n",
       " 'committee': 'House - Government Reform and Oversight',\n",
       " 'bill_status': 'Introduced',\n",
       " 'body': None}"
      ]
     },
     "execution_count": 4,
     "metadata": {},
     "output_type": "execute_result"
    }
   ],
   "source": [
    "b = bill_details.find_one()\n",
    "b"
   ]
  },
  {
   "cell_type": "code",
   "execution_count": null,
   "metadata": {},
   "outputs": [],
   "source": []
  },
  {
   "cell_type": "code",
   "execution_count": null,
   "metadata": {},
   "outputs": [],
   "source": []
  }
 ],
 "metadata": {
  "kernelspec": {
   "display_name": "Python 3",
   "language": "python",
   "name": "python3"
  },
  "language_info": {
   "codemirror_mode": {
    "name": "ipython",
    "version": 3
   },
   "file_extension": ".py",
   "mimetype": "text/x-python",
   "name": "python",
   "nbconvert_exporter": "python",
   "pygments_lexer": "ipython3",
   "version": "3.7.0"
  }
 },
 "nbformat": 4,
 "nbformat_minor": 2
}
