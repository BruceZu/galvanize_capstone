{
 "cells": [
  {
   "cell_type": "code",
   "execution_count": 1,
   "metadata": {},
   "outputs": [],
   "source": [
    "# heavily borrowed from https://www.dataquest.io/blog/streaming-data-python/\n",
    "\n",
    "import twitter\n",
    "import tweepy\n",
    "from tweepy import StreamListener\n",
    "import json\n",
    "import requests\n",
    "from bs4 import BeautifulSoup\n",
    "from collections import defaultdict\n",
    "\n",
    "from __future__ import unicode_literals"
   ]
  },
  {
   "cell_type": "code",
   "execution_count": 2,
   "metadata": {},
   "outputs": [],
   "source": [
    "c = open('/Users/u1b1700/.twitter/credentials', 'r')\n",
    "keys = c.readlines()"
   ]
  },
  {
   "cell_type": "code",
   "execution_count": 3,
   "metadata": {},
   "outputs": [],
   "source": [
    "ck = keys[0][:-1].encode('utf8')\n",
    "cs = keys[1][:-1].encode('utf8')\n",
    "atk = keys[2][:-1].encode('utf8')\n",
    "ats = keys[3][:-1].encode('utf8')\n",
    "\n",
    "api = twitter.Api(consumer_key=ck, \n",
    "                  consumer_secret=cs, \n",
    "                  access_token_key=atk, \n",
    "                  access_token_secret=ats)"
   ]
  },
  {
   "cell_type": "code",
   "execution_count": 4,
   "metadata": {},
   "outputs": [],
   "source": [
    "# create an OAuthHandler instance to authenticate\n",
    "auth = tweepy.OAuthHandler(ck, cs)\n",
    "auth.set_access_token(atk, ats)\n",
    "api_o = tweepy.API(auth)"
   ]
  },
  {
   "cell_type": "code",
   "execution_count": 5,
   "metadata": {},
   "outputs": [],
   "source": [
    "ck, cs, atk, ats, = None, None, None, None"
   ]
  },
  {
   "cell_type": "code",
   "execution_count": 6,
   "metadata": {},
   "outputs": [],
   "source": [
    "# basic pull of following list\n",
    "my_list = api.GetFriends()\n",
    "# my_list"
   ]
  },
  {
   "cell_type": "code",
   "execution_count": 7,
   "metadata": {},
   "outputs": [
    {
     "data": {
      "text/plain": [
       "Status(ID=1068423202534125568, ScreenName=SarahKSilverman, Created=Fri Nov 30 08:35:16 +0000 2018, Text='@Lin_Manuel @chelseahandler Amy&amp;Tina, @sethmeyers @galifianakisz @TiffanyHaddish @SteveMartinToGo &amp; Martin Short… https://t.co/RFJaTzGMDU')"
      ]
     },
     "execution_count": 7,
     "metadata": {},
     "output_type": "execute_result"
    }
   ],
   "source": [
    "# get sarah sliverman's timeline\n",
    "timeline = api.GetUserTimeline(user_id='30364057')\n",
    "\n",
    "timeline[0]"
   ]
  },
  {
   "cell_type": "code",
   "execution_count": 11,
   "metadata": {},
   "outputs": [],
   "source": [
    "# set up a listener\n",
    "# class to override on_status (only tweets) and on_error method (disconnect if rate limited)\n",
    "class StreamListener(tweepy.StreamListener):\n",
    "    \n",
    "    def on_status(self, status):\n",
    "        if str(status.text).startswith('RT'):\n",
    "            return\n",
    "        print(('------------------------------------'))\n",
    "        print(('------------------------------------'))\n",
    "        print(status.text)\n",
    "        print('Userid: {}'.format(status.user.id))\n",
    "        print('Verified User?: {}'.format(status.user.verified))\n",
    "#         print('Favorited: {}'.format(status.favorite_count)) # in real time, so always 0\n",
    "#         print('Replied: {}'.format(status.reply_count))   # may not be available, always 0\n",
    "#         print('Hastags: {}'.format(status.entities.hashtags))\n",
    "        \n",
    "        print('Location: {}'.format(status.place))\n",
    "#         print(status.place.country)\n",
    "#         print(status.place.full_name)\n",
    "#         print(status.place.bounding_box)\n",
    "        \n",
    "    def on_error(self, status_code):\n",
    "        if status_code == 420:\n",
    "            return False"
   ]
  },
  {
   "cell_type": "code",
   "execution_count": 12,
   "metadata": {},
   "outputs": [],
   "source": [
    "stream_listener = StreamListener()\n",
    "\n",
    "stream = tweepy.Stream(auth, stream_listener)\n",
    "\n",
    "stream.filter(track = ['mascara', 'eye cream', 'lipstick'], is_async=True, languages=['en'])"
   ]
  },
  {
   "cell_type": "code",
   "execution_count": 13,
   "metadata": {},
   "outputs": [
    {
     "name": "stdout",
     "output_type": "stream",
     "text": [
      "------------------------------------\n",
      "------------------------------------\n",
      "Imma need to get some eyelash extensions after Christmas... this mascara shit not for me.\n",
      "Userid: 2349392946\n",
      "Verified User?: False\n"
     ]
    },
    {
     "name": "stderr",
     "output_type": "stream",
     "text": [
      "Exception in thread Thread-5:\n",
      "Traceback (most recent call last):\n",
      "  File \"/anaconda3/lib/python3.6/threading.py\", line 916, in _bootstrap_inner\n",
      "    self.run()\n",
      "  File \"/anaconda3/lib/python3.6/threading.py\", line 864, in run\n",
      "    self._target(*self._args, **self._kwargs)\n",
      "  File \"/anaconda3/lib/python3.6/site-packages/tweepy/streaming.py\", line 300, in _run\n",
      "    six.reraise(*exc_info)\n",
      "  File \"/anaconda3/lib/python3.6/site-packages/six.py\", line 693, in reraise\n",
      "    raise value\n",
      "  File \"/anaconda3/lib/python3.6/site-packages/tweepy/streaming.py\", line 269, in _run\n",
      "    self._read_loop(resp)\n",
      "  File \"/anaconda3/lib/python3.6/site-packages/tweepy/streaming.py\", line 331, in _read_loop\n",
      "    self._data(next_status_obj)\n",
      "  File \"/anaconda3/lib/python3.6/site-packages/tweepy/streaming.py\", line 303, in _data\n",
      "    if self.listener.on_data(data) is False:\n",
      "  File \"/anaconda3/lib/python3.6/site-packages/tweepy/streaming.py\", line 55, in on_data\n",
      "    if self.on_status(status) is False:\n",
      "  File \"<ipython-input-11-d83291bfd334>\", line 15, in on_status\n",
      "    print('Hastags: {}'.format(status.entities.hashtags))\n",
      "AttributeError: 'dict' object has no attribute 'hashtags'\n",
      "\n"
     ]
    }
   ],
   "source": [
    "# tweets = requests.get('https://api.twitter.com/1.1/search/tweets.json?q=nasa&result_type=popular')\n",
    "\n",
    "# tweets\n",
    "\n",
    "# results = api.GetSearch(raw_query=\"q=twitter%20&result_type=recent&since=2014-07-19&count=100\")\n",
    "# # results\n",
    "\n",
    "# result2 = requests.get(\"https://api.twitter.com/1.1/collections/list.json?screen_name=twittermusic&count=1\")\n",
    "# # results\n",
    "\n",
    "# result2"
   ]
  },
  {
   "cell_type": "code",
   "execution_count": null,
   "metadata": {},
   "outputs": [],
   "source": []
  }
 ],
 "metadata": {
  "kernelspec": {
   "display_name": "Python 3",
   "language": "python",
   "name": "python3"
  },
  "language_info": {
   "codemirror_mode": {
    "name": "ipython",
    "version": 3
   },
   "file_extension": ".py",
   "mimetype": "text/x-python",
   "name": "python",
   "nbconvert_exporter": "python",
   "pygments_lexer": "ipython3",
   "version": "3.6.5"
  }
 },
 "nbformat": 4,
 "nbformat_minor": 2
}
