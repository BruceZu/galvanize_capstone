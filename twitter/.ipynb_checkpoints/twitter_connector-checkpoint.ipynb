{
 "cells": [
  {
   "cell_type": "code",
<<<<<<< HEAD
   "execution_count": 38,
=======
   "execution_count": 1,
>>>>>>> twitter
   "metadata": {},
   "outputs": [],
   "source": [
    "# heavily borrowed from https://www.dataquest.io/blog/streaming-data-python/\n",
    "\n",
    "import twitter\n",
    "import tweepy\n",
    "from tweepy import StreamListener\n",
    "import json\n",
    "import requests\n",
    "from bs4 import BeautifulSoup\n",
    "from collections import defaultdict\n",
    "\n",
    "from __future__ import unicode_literals"
   ]
  },
  {
   "cell_type": "code",
<<<<<<< HEAD
   "execution_count": 22,
=======
   "execution_count": 2,
>>>>>>> twitter
   "metadata": {},
   "outputs": [],
   "source": [
    "c = open('/Users/u1b1700/.twitter/credentials', 'r')\n",
    "keys = c.readlines()"
<<<<<<< HEAD
   ]
  },
  {
   "cell_type": "code",
   "execution_count": 23,
   "metadata": {},
   "outputs": [],
   "source": [
    "ck = keys[0][:-1]\n",
    "cs = keys[1][:-1]\n",
    "atk = keys[2][:-1]\n",
    "ats = keys[3][:-1]\n",
    "\n",
    "api = twitter.Api(consumer_key=ck, \n",
    "                  consumer_secret=cs, \n",
    "                  access_token_key=atk, \n",
    "                  access_token_secret=ats)"
=======
>>>>>>> twitter
   ]
  },
  {
   "cell_type": "code",
<<<<<<< HEAD
   "execution_count": 25,
   "metadata": {},
   "outputs": [],
   "source": [
    "ck, cs, atk, ats, = None, None, None, None"
=======
   "execution_count": 3,
   "metadata": {},
   "outputs": [],
   "source": [
    "ck = keys[0][:-1].encode('utf8')\n",
    "cs = keys[1][:-1].encode('utf8')\n",
    "atk = keys[2][:-1].encode('utf8')\n",
    "ats = keys[3][:-1].encode('utf8')\n",
    "\n",
    "api = twitter.Api(consumer_key=ck, \n",
    "                  consumer_secret=cs, \n",
    "                  access_token_key=atk, \n",
    "                  access_token_secret=ats)"
>>>>>>> twitter
   ]
  },
  {
   "cell_type": "code",
<<<<<<< HEAD
   "execution_count": 55,
=======
   "execution_count": 4,
>>>>>>> twitter
   "metadata": {},
   "outputs": [],
   "source": [
    "# create an OAuthHandler instance to authenticate\n",
    "auth = tweepy.OAuthHandler(ck, cs)\n",
    "auth.set_access_token(atk, ats)\n",
<<<<<<< HEAD
    "api = tweepy.API(auth)"
=======
    "api_o = tweepy.API(auth)"
>>>>>>> twitter
   ]
  },
  {
   "cell_type": "code",
<<<<<<< HEAD
   "execution_count": 52,
   "metadata": {},
   "outputs": [],
   "source": [
    "my_list = api.GetFriends()\n",
    "# my_list"
   ]
  },
  {
   "cell_type": "code",
   "execution_count": 53,
   "metadata": {},
   "outputs": [
    {
     "data": {
      "text/plain": [
       "Status(ID=1068345094611251200, ScreenName=SarahKSilverman, Created=Fri Nov 30 03:24:54 +0000 2018, Text='The world is currently suffering from leaders who live unexamined lives. Democracy  is paying the price for their daddy issues')"
      ]
     },
     "execution_count": 53,
     "metadata": {},
     "output_type": "execute_result"
    }
   ],
   "source": [
    "# get sarah sliverman's timeline\n",
    "timeline = api.GetUserTimeline(user_id='30364057')\n",
    "\n",
    "timeline[0]"
=======
   "execution_count": 5,
   "metadata": {},
   "outputs": [],
   "source": [
    "ck, cs, atk, ats, = None, None, None, None"
>>>>>>> twitter
   ]
  },
  {
   "cell_type": "code",
<<<<<<< HEAD
   "execution_count": null,
   "metadata": {},
   "outputs": [],
   "source": [
    "# open a connection to the twitter streaming api"
   ]
  },
  {
   "cell_type": "code",
   "execution_count": null,
   "metadata": {},
   "outputs": [],
   "source": []
  },
  {
   "cell_type": "code",
   "execution_count": 56,
   "metadata": {},
   "outputs": [],
   "source": [
    "# set up a listener\n",
    "# class to override on_status (only tweets) and on_error method (disconnect if rate limited)\n",
    "class StreamListener(tweepy.StreamListener):\n",
    "    \n",
    "    def on_status(self, status):\n",
    "        print(status.text)\n",
    "        \n",
    "    def on_error(self, status_code):\n",
    "        if status_code == 420:\n",
    "            return False"
   ]
  },
  {
   "cell_type": "code",
   "execution_count": 57,
   "metadata": {},
   "outputs": [],
   "source": [
    "stream_listener = StreamListener()\n",
    "stream = tweepy.Stream(auth = api.auth, listener = stream_listener)"
   ]
  },
  {
   "cell_type": "code",
   "execution_count": 59,
   "metadata": {},
   "outputs": [
    {
     "ename": "ValueError",
     "evalue": "Only unicode objects are escapable. Got None of type <class 'NoneType'>.",
     "output_type": "error",
     "traceback": [
      "\u001b[0;31m---------------------------------------------------------------------------\u001b[0m",
      "\u001b[0;31mValueError\u001b[0m                                Traceback (most recent call last)",
      "\u001b[0;32m<ipython-input-59-133139915416>\u001b[0m in \u001b[0;36m<module>\u001b[0;34m()\u001b[0m\n\u001b[0;32m----> 1\u001b[0;31m \u001b[0mstream\u001b[0m\u001b[0;34m.\u001b[0m\u001b[0mfilter\u001b[0m\u001b[0;34m(\u001b[0m\u001b[0mtrack\u001b[0m \u001b[0;34m=\u001b[0m \u001b[0;34m[\u001b[0m\u001b[0;34m'soccer'\u001b[0m\u001b[0;34m]\u001b[0m\u001b[0;34m)\u001b[0m\u001b[0;34m\u001b[0m\u001b[0m\n\u001b[0m",
      "\u001b[0;32m/anaconda3/lib/python3.6/site-packages/tweepy/streaming.py\u001b[0m in \u001b[0;36mfilter\u001b[0;34m(self, follow, track, is_async, locations, stall_warnings, languages, encoding, filter_level)\u001b[0m\n\u001b[1;32m    451\u001b[0m             \u001b[0mself\u001b[0m\u001b[0;34m.\u001b[0m\u001b[0mbody\u001b[0m\u001b[0;34m[\u001b[0m\u001b[0;34m'filter_level'\u001b[0m\u001b[0;34m]\u001b[0m \u001b[0;34m=\u001b[0m \u001b[0mfilter_level\u001b[0m\u001b[0;34m.\u001b[0m\u001b[0mencode\u001b[0m\u001b[0;34m(\u001b[0m\u001b[0mencoding\u001b[0m\u001b[0;34m)\u001b[0m\u001b[0;34m\u001b[0m\u001b[0m\n\u001b[1;32m    452\u001b[0m         \u001b[0mself\u001b[0m\u001b[0;34m.\u001b[0m\u001b[0msession\u001b[0m\u001b[0;34m.\u001b[0m\u001b[0mparams\u001b[0m \u001b[0;34m=\u001b[0m \u001b[0;34m{\u001b[0m\u001b[0;34m'delimited'\u001b[0m\u001b[0;34m:\u001b[0m \u001b[0;34m'length'\u001b[0m\u001b[0;34m}\u001b[0m\u001b[0;34m\u001b[0m\u001b[0m\n\u001b[0;32m--> 453\u001b[0;31m         \u001b[0mself\u001b[0m\u001b[0;34m.\u001b[0m\u001b[0m_start\u001b[0m\u001b[0;34m(\u001b[0m\u001b[0mis_async\u001b[0m\u001b[0;34m)\u001b[0m\u001b[0;34m\u001b[0m\u001b[0m\n\u001b[0m\u001b[1;32m    454\u001b[0m \u001b[0;34m\u001b[0m\u001b[0m\n\u001b[1;32m    455\u001b[0m     def sitestream(self, follow, stall_warnings=False,\n",
      "\u001b[0;32m/anaconda3/lib/python3.6/site-packages/tweepy/streaming.py\u001b[0m in \u001b[0;36m_start\u001b[0;34m(self, is_async)\u001b[0m\n\u001b[1;32m    366\u001b[0m             \u001b[0mself\u001b[0m\u001b[0;34m.\u001b[0m\u001b[0m_thread\u001b[0m\u001b[0;34m.\u001b[0m\u001b[0mstart\u001b[0m\u001b[0;34m(\u001b[0m\u001b[0;34m)\u001b[0m\u001b[0;34m\u001b[0m\u001b[0m\n\u001b[1;32m    367\u001b[0m         \u001b[0;32melse\u001b[0m\u001b[0;34m:\u001b[0m\u001b[0;34m\u001b[0m\u001b[0m\n\u001b[0;32m--> 368\u001b[0;31m             \u001b[0mself\u001b[0m\u001b[0;34m.\u001b[0m\u001b[0m_run\u001b[0m\u001b[0;34m(\u001b[0m\u001b[0;34m)\u001b[0m\u001b[0;34m\u001b[0m\u001b[0m\n\u001b[0m\u001b[1;32m    369\u001b[0m \u001b[0;34m\u001b[0m\u001b[0m\n\u001b[1;32m    370\u001b[0m     \u001b[0;32mdef\u001b[0m \u001b[0mon_closed\u001b[0m\u001b[0;34m(\u001b[0m\u001b[0mself\u001b[0m\u001b[0;34m,\u001b[0m \u001b[0mresp\u001b[0m\u001b[0;34m)\u001b[0m\u001b[0;34m:\u001b[0m\u001b[0;34m\u001b[0m\u001b[0m\n",
      "\u001b[0;32m/anaconda3/lib/python3.6/site-packages/tweepy/streaming.py\u001b[0m in \u001b[0;36m_run\u001b[0;34m(self)\u001b[0m\n\u001b[1;32m    298\u001b[0m             \u001b[0;31m# call a handler first so that the exception can be logged.\u001b[0m\u001b[0;34m\u001b[0m\u001b[0;34m\u001b[0m\u001b[0m\n\u001b[1;32m    299\u001b[0m             \u001b[0mself\u001b[0m\u001b[0;34m.\u001b[0m\u001b[0mlistener\u001b[0m\u001b[0;34m.\u001b[0m\u001b[0mon_exception\u001b[0m\u001b[0;34m(\u001b[0m\u001b[0mexc_info\u001b[0m\u001b[0;34m[\u001b[0m\u001b[0;36m1\u001b[0m\u001b[0;34m]\u001b[0m\u001b[0;34m)\u001b[0m\u001b[0;34m\u001b[0m\u001b[0m\n\u001b[0;32m--> 300\u001b[0;31m             \u001b[0msix\u001b[0m\u001b[0;34m.\u001b[0m\u001b[0mreraise\u001b[0m\u001b[0;34m(\u001b[0m\u001b[0;34m*\u001b[0m\u001b[0mexc_info\u001b[0m\u001b[0;34m)\u001b[0m\u001b[0;34m\u001b[0m\u001b[0m\n\u001b[0m\u001b[1;32m    301\u001b[0m \u001b[0;34m\u001b[0m\u001b[0m\n\u001b[1;32m    302\u001b[0m     \u001b[0;32mdef\u001b[0m \u001b[0m_data\u001b[0m\u001b[0;34m(\u001b[0m\u001b[0mself\u001b[0m\u001b[0;34m,\u001b[0m \u001b[0mdata\u001b[0m\u001b[0;34m)\u001b[0m\u001b[0;34m:\u001b[0m\u001b[0;34m\u001b[0m\u001b[0m\n",
      "\u001b[0;32m/anaconda3/lib/python3.6/site-packages/six.py\u001b[0m in \u001b[0;36mreraise\u001b[0;34m(tp, value, tb)\u001b[0m\n\u001b[1;32m    691\u001b[0m             \u001b[0;32mif\u001b[0m \u001b[0mvalue\u001b[0m\u001b[0;34m.\u001b[0m\u001b[0m__traceback__\u001b[0m \u001b[0;32mis\u001b[0m \u001b[0;32mnot\u001b[0m \u001b[0mtb\u001b[0m\u001b[0;34m:\u001b[0m\u001b[0;34m\u001b[0m\u001b[0m\n\u001b[1;32m    692\u001b[0m                 \u001b[0;32mraise\u001b[0m \u001b[0mvalue\u001b[0m\u001b[0;34m.\u001b[0m\u001b[0mwith_traceback\u001b[0m\u001b[0;34m(\u001b[0m\u001b[0mtb\u001b[0m\u001b[0;34m)\u001b[0m\u001b[0;34m\u001b[0m\u001b[0m\n\u001b[0;32m--> 693\u001b[0;31m             \u001b[0;32mraise\u001b[0m \u001b[0mvalue\u001b[0m\u001b[0;34m\u001b[0m\u001b[0m\n\u001b[0m\u001b[1;32m    694\u001b[0m         \u001b[0;32mfinally\u001b[0m\u001b[0;34m:\u001b[0m\u001b[0;34m\u001b[0m\u001b[0m\n\u001b[1;32m    695\u001b[0m             \u001b[0mvalue\u001b[0m \u001b[0;34m=\u001b[0m \u001b[0;32mNone\u001b[0m\u001b[0;34m\u001b[0m\u001b[0m\n",
      "\u001b[0;32m/anaconda3/lib/python3.6/site-packages/tweepy/streaming.py\u001b[0m in \u001b[0;36m_run\u001b[0;34m(self)\u001b[0m\n\u001b[1;32m    251\u001b[0m                                             \u001b[0mauth\u001b[0m\u001b[0;34m=\u001b[0m\u001b[0mauth\u001b[0m\u001b[0;34m,\u001b[0m\u001b[0;34m\u001b[0m\u001b[0m\n\u001b[1;32m    252\u001b[0m                                             \u001b[0mverify\u001b[0m\u001b[0;34m=\u001b[0m\u001b[0mself\u001b[0m\u001b[0;34m.\u001b[0m\u001b[0mverify\u001b[0m\u001b[0;34m,\u001b[0m\u001b[0;34m\u001b[0m\u001b[0m\n\u001b[0;32m--> 253\u001b[0;31m                                             proxies = self.proxies)\n\u001b[0m\u001b[1;32m    254\u001b[0m                 \u001b[0;32mif\u001b[0m \u001b[0mresp\u001b[0m\u001b[0;34m.\u001b[0m\u001b[0mstatus_code\u001b[0m \u001b[0;34m!=\u001b[0m \u001b[0;36m200\u001b[0m\u001b[0;34m:\u001b[0m\u001b[0;34m\u001b[0m\u001b[0m\n\u001b[1;32m    255\u001b[0m                     \u001b[0;32mif\u001b[0m \u001b[0mself\u001b[0m\u001b[0;34m.\u001b[0m\u001b[0mlistener\u001b[0m\u001b[0;34m.\u001b[0m\u001b[0mon_error\u001b[0m\u001b[0;34m(\u001b[0m\u001b[0mresp\u001b[0m\u001b[0;34m.\u001b[0m\u001b[0mstatus_code\u001b[0m\u001b[0;34m)\u001b[0m \u001b[0;32mis\u001b[0m \u001b[0;32mFalse\u001b[0m\u001b[0;34m:\u001b[0m\u001b[0;34m\u001b[0m\u001b[0m\n",
      "\u001b[0;32m/anaconda3/lib/python3.6/site-packages/requests/sessions.py\u001b[0m in \u001b[0;36mrequest\u001b[0;34m(self, method, url, params, data, headers, cookies, files, auth, timeout, allow_redirects, proxies, hooks, stream, verify, cert, json)\u001b[0m\n\u001b[1;32m    492\u001b[0m             \u001b[0mhooks\u001b[0m\u001b[0;34m=\u001b[0m\u001b[0mhooks\u001b[0m\u001b[0;34m,\u001b[0m\u001b[0;34m\u001b[0m\u001b[0m\n\u001b[1;32m    493\u001b[0m         )\n\u001b[0;32m--> 494\u001b[0;31m         \u001b[0mprep\u001b[0m \u001b[0;34m=\u001b[0m \u001b[0mself\u001b[0m\u001b[0;34m.\u001b[0m\u001b[0mprepare_request\u001b[0m\u001b[0;34m(\u001b[0m\u001b[0mreq\u001b[0m\u001b[0;34m)\u001b[0m\u001b[0;34m\u001b[0m\u001b[0m\n\u001b[0m\u001b[1;32m    495\u001b[0m \u001b[0;34m\u001b[0m\u001b[0m\n\u001b[1;32m    496\u001b[0m         \u001b[0mproxies\u001b[0m \u001b[0;34m=\u001b[0m \u001b[0mproxies\u001b[0m \u001b[0;32mor\u001b[0m \u001b[0;34m{\u001b[0m\u001b[0;34m}\u001b[0m\u001b[0;34m\u001b[0m\u001b[0m\n",
      "\u001b[0;32m/anaconda3/lib/python3.6/site-packages/requests/sessions.py\u001b[0m in \u001b[0;36mprepare_request\u001b[0;34m(self, request)\u001b[0m\n\u001b[1;32m    435\u001b[0m             \u001b[0mauth\u001b[0m\u001b[0;34m=\u001b[0m\u001b[0mmerge_setting\u001b[0m\u001b[0;34m(\u001b[0m\u001b[0mauth\u001b[0m\u001b[0;34m,\u001b[0m \u001b[0mself\u001b[0m\u001b[0;34m.\u001b[0m\u001b[0mauth\u001b[0m\u001b[0;34m)\u001b[0m\u001b[0;34m,\u001b[0m\u001b[0;34m\u001b[0m\u001b[0m\n\u001b[1;32m    436\u001b[0m             \u001b[0mcookies\u001b[0m\u001b[0;34m=\u001b[0m\u001b[0mmerged_cookies\u001b[0m\u001b[0;34m,\u001b[0m\u001b[0;34m\u001b[0m\u001b[0m\n\u001b[0;32m--> 437\u001b[0;31m             \u001b[0mhooks\u001b[0m\u001b[0;34m=\u001b[0m\u001b[0mmerge_hooks\u001b[0m\u001b[0;34m(\u001b[0m\u001b[0mrequest\u001b[0m\u001b[0;34m.\u001b[0m\u001b[0mhooks\u001b[0m\u001b[0;34m,\u001b[0m \u001b[0mself\u001b[0m\u001b[0;34m.\u001b[0m\u001b[0mhooks\u001b[0m\u001b[0;34m)\u001b[0m\u001b[0;34m,\u001b[0m\u001b[0;34m\u001b[0m\u001b[0m\n\u001b[0m\u001b[1;32m    438\u001b[0m         )\n\u001b[1;32m    439\u001b[0m         \u001b[0;32mreturn\u001b[0m \u001b[0mp\u001b[0m\u001b[0;34m\u001b[0m\u001b[0m\n",
      "\u001b[0;32m/anaconda3/lib/python3.6/site-packages/requests/models.py\u001b[0m in \u001b[0;36mprepare\u001b[0;34m(self, method, url, headers, files, data, params, auth, cookies, hooks, json)\u001b[0m\n\u001b[1;32m    307\u001b[0m         \u001b[0mself\u001b[0m\u001b[0;34m.\u001b[0m\u001b[0mprepare_cookies\u001b[0m\u001b[0;34m(\u001b[0m\u001b[0mcookies\u001b[0m\u001b[0;34m)\u001b[0m\u001b[0;34m\u001b[0m\u001b[0m\n\u001b[1;32m    308\u001b[0m         \u001b[0mself\u001b[0m\u001b[0;34m.\u001b[0m\u001b[0mprepare_body\u001b[0m\u001b[0;34m(\u001b[0m\u001b[0mdata\u001b[0m\u001b[0;34m,\u001b[0m \u001b[0mfiles\u001b[0m\u001b[0;34m,\u001b[0m \u001b[0mjson\u001b[0m\u001b[0;34m)\u001b[0m\u001b[0;34m\u001b[0m\u001b[0m\n\u001b[0;32m--> 309\u001b[0;31m         \u001b[0mself\u001b[0m\u001b[0;34m.\u001b[0m\u001b[0mprepare_auth\u001b[0m\u001b[0;34m(\u001b[0m\u001b[0mauth\u001b[0m\u001b[0;34m,\u001b[0m \u001b[0murl\u001b[0m\u001b[0;34m)\u001b[0m\u001b[0;34m\u001b[0m\u001b[0m\n\u001b[0m\u001b[1;32m    310\u001b[0m \u001b[0;34m\u001b[0m\u001b[0m\n\u001b[1;32m    311\u001b[0m         \u001b[0;31m# Note that prepare_auth must be last to enable authentication schemes\u001b[0m\u001b[0;34m\u001b[0m\u001b[0;34m\u001b[0m\u001b[0m\n",
      "\u001b[0;32m/anaconda3/lib/python3.6/site-packages/requests/models.py\u001b[0m in \u001b[0;36mprepare_auth\u001b[0;34m(self, auth, url)\u001b[0m\n\u001b[1;32m    538\u001b[0m \u001b[0;34m\u001b[0m\u001b[0m\n\u001b[1;32m    539\u001b[0m             \u001b[0;31m# Allow auth to make its changes.\u001b[0m\u001b[0;34m\u001b[0m\u001b[0;34m\u001b[0m\u001b[0m\n\u001b[0;32m--> 540\u001b[0;31m             \u001b[0mr\u001b[0m \u001b[0;34m=\u001b[0m \u001b[0mauth\u001b[0m\u001b[0;34m(\u001b[0m\u001b[0mself\u001b[0m\u001b[0;34m)\u001b[0m\u001b[0;34m\u001b[0m\u001b[0m\n\u001b[0m\u001b[1;32m    541\u001b[0m \u001b[0;34m\u001b[0m\u001b[0m\n\u001b[1;32m    542\u001b[0m             \u001b[0;31m# Update self to reflect the auth changes.\u001b[0m\u001b[0;34m\u001b[0m\u001b[0;34m\u001b[0m\u001b[0m\n",
      "\u001b[0;32m/anaconda3/lib/python3.6/site-packages/requests_oauthlib/oauth1_auth.py\u001b[0m in \u001b[0;36m__call__\u001b[0;34m(self, r)\u001b[0m\n\u001b[1;32m     78\u001b[0m             \u001b[0mr\u001b[0m\u001b[0;34m.\u001b[0m\u001b[0mheaders\u001b[0m\u001b[0;34m[\u001b[0m\u001b[0;34m'Content-Type'\u001b[0m\u001b[0;34m]\u001b[0m \u001b[0;34m=\u001b[0m \u001b[0mCONTENT_TYPE_FORM_URLENCODED\u001b[0m\u001b[0;34m\u001b[0m\u001b[0m\n\u001b[1;32m     79\u001b[0m             r.url, headers, r.body = self.client.sign(\n\u001b[0;32m---> 80\u001b[0;31m                 unicode(r.url), unicode(r.method), r.body or '', r.headers)\n\u001b[0m\u001b[1;32m     81\u001b[0m         \u001b[0;32melif\u001b[0m \u001b[0mself\u001b[0m\u001b[0;34m.\u001b[0m\u001b[0mforce_include_body\u001b[0m\u001b[0;34m:\u001b[0m\u001b[0;34m\u001b[0m\u001b[0m\n\u001b[1;32m     82\u001b[0m             \u001b[0;31m# To allow custom clients to work on non form encoded bodies.\u001b[0m\u001b[0;34m\u001b[0m\u001b[0;34m\u001b[0m\u001b[0m\n",
      "\u001b[0;32m/anaconda3/lib/python3.6/site-packages/oauthlib/oauth1/rfc5849/__init__.py\u001b[0m in \u001b[0;36msign\u001b[0;34m(self, uri, http_method, body, headers, realm)\u001b[0m\n\u001b[1;32m    312\u001b[0m         \u001b[0;31m# generate the signature\u001b[0m\u001b[0;34m\u001b[0m\u001b[0;34m\u001b[0m\u001b[0m\n\u001b[1;32m    313\u001b[0m         request.oauth_params.append(\n\u001b[0;32m--> 314\u001b[0;31m             ('oauth_signature', self.get_oauth_signature(request)))\n\u001b[0m\u001b[1;32m    315\u001b[0m \u001b[0;34m\u001b[0m\u001b[0m\n\u001b[1;32m    316\u001b[0m         \u001b[0;31m# render the signed request and return it\u001b[0m\u001b[0;34m\u001b[0m\u001b[0;34m\u001b[0m\u001b[0m\n",
      "\u001b[0;32m/anaconda3/lib/python3.6/site-packages/oauthlib/oauth1/rfc5849/__init__.py\u001b[0m in \u001b[0;36mget_oauth_signature\u001b[0;34m(self, request)\u001b[0m\n\u001b[1;32m    127\u001b[0m                                             self.resource_owner_secret)\n\u001b[1;32m    128\u001b[0m \u001b[0;34m\u001b[0m\u001b[0m\n\u001b[0;32m--> 129\u001b[0;31m         \u001b[0muri\u001b[0m\u001b[0;34m,\u001b[0m \u001b[0mheaders\u001b[0m\u001b[0;34m,\u001b[0m \u001b[0mbody\u001b[0m \u001b[0;34m=\u001b[0m \u001b[0mself\u001b[0m\u001b[0;34m.\u001b[0m\u001b[0m_render\u001b[0m\u001b[0;34m(\u001b[0m\u001b[0mrequest\u001b[0m\u001b[0;34m)\u001b[0m\u001b[0;34m\u001b[0m\u001b[0m\n\u001b[0m\u001b[1;32m    130\u001b[0m \u001b[0;34m\u001b[0m\u001b[0m\n\u001b[1;32m    131\u001b[0m         collected_params = signature.collect_parameters(\n",
      "\u001b[0;32m/anaconda3/lib/python3.6/site-packages/oauthlib/oauth1/rfc5849/__init__.py\u001b[0m in \u001b[0;36m_render\u001b[0;34m(self, request, formencode, realm)\u001b[0m\n\u001b[1;32m    209\u001b[0m         \u001b[0;32mif\u001b[0m \u001b[0mself\u001b[0m\u001b[0;34m.\u001b[0m\u001b[0msignature_type\u001b[0m \u001b[0;34m==\u001b[0m \u001b[0mSIGNATURE_TYPE_AUTH_HEADER\u001b[0m\u001b[0;34m:\u001b[0m\u001b[0;34m\u001b[0m\u001b[0m\n\u001b[1;32m    210\u001b[0m             headers = parameters.prepare_headers(\n\u001b[0;32m--> 211\u001b[0;31m                 request.oauth_params, request.headers, realm=realm)\n\u001b[0m\u001b[1;32m    212\u001b[0m         \u001b[0;32melif\u001b[0m \u001b[0mself\u001b[0m\u001b[0;34m.\u001b[0m\u001b[0msignature_type\u001b[0m \u001b[0;34m==\u001b[0m \u001b[0mSIGNATURE_TYPE_BODY\u001b[0m \u001b[0;32mand\u001b[0m \u001b[0mrequest\u001b[0m\u001b[0;34m.\u001b[0m\u001b[0mdecoded_body\u001b[0m \u001b[0;32mis\u001b[0m \u001b[0;32mnot\u001b[0m \u001b[0;32mNone\u001b[0m\u001b[0;34m:\u001b[0m\u001b[0;34m\u001b[0m\u001b[0m\n\u001b[1;32m    213\u001b[0m             body = parameters.prepare_form_encoded_body(\n",
      "\u001b[0;32m/anaconda3/lib/python3.6/site-packages/oauthlib/oauth1/rfc5849/utils.py\u001b[0m in \u001b[0;36mwrapper\u001b[0;34m(params, *args, **kwargs)\u001b[0m\n\u001b[1;32m     30\u001b[0m     \u001b[0;32mdef\u001b[0m \u001b[0mwrapper\u001b[0m\u001b[0;34m(\u001b[0m\u001b[0mparams\u001b[0m\u001b[0;34m,\u001b[0m \u001b[0;34m*\u001b[0m\u001b[0margs\u001b[0m\u001b[0;34m,\u001b[0m \u001b[0;34m**\u001b[0m\u001b[0mkwargs\u001b[0m\u001b[0;34m)\u001b[0m\u001b[0;34m:\u001b[0m\u001b[0;34m\u001b[0m\u001b[0m\n\u001b[1;32m     31\u001b[0m         \u001b[0mparams\u001b[0m \u001b[0;34m=\u001b[0m \u001b[0mfilter_oauth_params\u001b[0m\u001b[0;34m(\u001b[0m\u001b[0mparams\u001b[0m\u001b[0;34m)\u001b[0m\u001b[0;34m\u001b[0m\u001b[0m\n\u001b[0;32m---> 32\u001b[0;31m         \u001b[0;32mreturn\u001b[0m \u001b[0mtarget\u001b[0m\u001b[0;34m(\u001b[0m\u001b[0mparams\u001b[0m\u001b[0;34m,\u001b[0m \u001b[0;34m*\u001b[0m\u001b[0margs\u001b[0m\u001b[0;34m,\u001b[0m \u001b[0;34m**\u001b[0m\u001b[0mkwargs\u001b[0m\u001b[0;34m)\u001b[0m\u001b[0;34m\u001b[0m\u001b[0m\n\u001b[0m\u001b[1;32m     33\u001b[0m \u001b[0;34m\u001b[0m\u001b[0m\n\u001b[1;32m     34\u001b[0m     \u001b[0mwrapper\u001b[0m\u001b[0;34m.\u001b[0m\u001b[0m__doc__\u001b[0m \u001b[0;34m=\u001b[0m \u001b[0mtarget\u001b[0m\u001b[0;34m.\u001b[0m\u001b[0m__doc__\u001b[0m\u001b[0;34m\u001b[0m\u001b[0m\n",
      "\u001b[0;32m/anaconda3/lib/python3.6/site-packages/oauthlib/oauth1/rfc5849/parameters.py\u001b[0m in \u001b[0;36mprepare_headers\u001b[0;34m(oauth_params, headers, realm)\u001b[0m\n\u001b[1;32m     57\u001b[0m         \u001b[0;31m# .. _`Section 3.6`: https://tools.ietf.org/html/rfc5849#section-3.6\u001b[0m\u001b[0;34m\u001b[0m\u001b[0;34m\u001b[0m\u001b[0m\n\u001b[1;32m     58\u001b[0m         \u001b[0mescaped_name\u001b[0m \u001b[0;34m=\u001b[0m \u001b[0mutils\u001b[0m\u001b[0;34m.\u001b[0m\u001b[0mescape\u001b[0m\u001b[0;34m(\u001b[0m\u001b[0moauth_parameter_name\u001b[0m\u001b[0;34m)\u001b[0m\u001b[0;34m\u001b[0m\u001b[0m\n\u001b[0;32m---> 59\u001b[0;31m         \u001b[0mescaped_value\u001b[0m \u001b[0;34m=\u001b[0m \u001b[0mutils\u001b[0m\u001b[0;34m.\u001b[0m\u001b[0mescape\u001b[0m\u001b[0;34m(\u001b[0m\u001b[0mvalue\u001b[0m\u001b[0;34m)\u001b[0m\u001b[0;34m\u001b[0m\u001b[0m\n\u001b[0m\u001b[1;32m     60\u001b[0m \u001b[0;34m\u001b[0m\u001b[0m\n\u001b[1;32m     61\u001b[0m         \u001b[0;31m# 2.  Each parameter's name is immediately followed by an \"=\" character\u001b[0m\u001b[0;34m\u001b[0m\u001b[0;34m\u001b[0m\u001b[0m\n",
      "\u001b[0;32m/anaconda3/lib/python3.6/site-packages/oauthlib/oauth1/rfc5849/utils.py\u001b[0m in \u001b[0;36mescape\u001b[0;34m(u)\u001b[0m\n\u001b[1;32m     55\u001b[0m     \u001b[0;32mif\u001b[0m \u001b[0;32mnot\u001b[0m \u001b[0misinstance\u001b[0m\u001b[0;34m(\u001b[0m\u001b[0mu\u001b[0m\u001b[0;34m,\u001b[0m \u001b[0municode_type\u001b[0m\u001b[0;34m)\u001b[0m\u001b[0;34m:\u001b[0m\u001b[0;34m\u001b[0m\u001b[0m\n\u001b[1;32m     56\u001b[0m         raise ValueError('Only unicode objects are escapable. ' +\n\u001b[0;32m---> 57\u001b[0;31m                          'Got %r of type %s.' % (u, type(u)))\n\u001b[0m\u001b[1;32m     58\u001b[0m     \u001b[0;31m# Letters, digits, and the characters '_.-' are already treated as safe\u001b[0m\u001b[0;34m\u001b[0m\u001b[0;34m\u001b[0m\u001b[0m\n\u001b[1;32m     59\u001b[0m     \u001b[0;31m# by urllib.quote(). We need to add '~' to fully support rfc5849.\u001b[0m\u001b[0;34m\u001b[0m\u001b[0;34m\u001b[0m\u001b[0m\n",
      "\u001b[0;31mValueError\u001b[0m: Only unicode objects are escapable. Got None of type <class 'NoneType'>."
     ]
    }
   ],
   "source": [
    "stream.filter(track = ['soccer'])"
   ]
  },
  {
   "cell_type": "code",
   "execution_count": null,
   "metadata": {},
   "outputs": [],
   "source": []
  },
  {
   "cell_type": "code",
   "execution_count": null,
   "metadata": {},
   "outputs": [],
   "source": []
  },
  {
   "cell_type": "code",
   "execution_count": null,
   "metadata": {},
   "outputs": [],
   "source": []
  },
  {
   "cell_type": "code",
   "execution_count": 29,
=======
   "execution_count": 6,
>>>>>>> twitter
   "metadata": {},
   "outputs": [],
   "source": [
    "# basic pull of following list\n",
    "my_list = api.GetFriends()\n",
    "# my_list"
   ]
  },
  {
   "cell_type": "code",
<<<<<<< HEAD
   "execution_count": 30,
=======
   "execution_count": 7,
>>>>>>> twitter
   "metadata": {},
   "outputs": [
    {
     "data": {
      "text/plain": [
       "Status(ID=1068345094611251200, ScreenName=SarahKSilverman, Created=Fri Nov 30 03:24:54 +0000 2018, Text='The world is currently suffering from leaders who live unexamined lives. Democracy  is paying the price for their daddy issues')"
      ]
     },
<<<<<<< HEAD
     "execution_count": 30,
=======
     "execution_count": 7,
>>>>>>> twitter
     "metadata": {},
     "output_type": "execute_result"
    }
   ],
   "source": [
    "# get sarah sliverman's timeline\n",
    "timeline = api.GetUserTimeline(user_id='30364057')\n",
    "\n",
    "timeline[0]"
   ]
  },
  {
   "cell_type": "code",
<<<<<<< HEAD
   "execution_count": 31,
=======
   "execution_count": 8,
>>>>>>> twitter
   "metadata": {},
   "outputs": [],
   "source": [
    "# set up a listener\n",
    "# class to override on_status (only tweets) and on_error method (disconnect if rate limited)\n",
    "class StreamListener(tweepy.StreamListener):\n",
    "    \n",
    "    def on_status(self, status):\n",
    "        if str(status.text).startswith('RT'):\n",
    "            return\n",
    "        print(('------------------------------------'))\n",
    "        print(('------------------------------------'))\n",
    "        print(status.text)\n",
    "        print('Userid: {}'.format(status.user.id))\n",
    "        print('Verified User?: {}'.format(status.user.verified))\n",
    "#         print('Favorited: {}'.format(status.favorite_count)) # in real time, so always 0\n",
    "#         print('Replied: {}'.format(status.reply_count))   # may not be available, always 0\n",
    "        print('Hastags: {}'.format(status.entities.hastags))\n",
    "        \n",
    "        print('Location: {}'.format(status.place))\n",
    "#         print(status.place.country)\n",
    "#         print(status.place.full_name)\n",
    "#         print(status.place.bounding_box)\n",
    "        \n",
    "    def on_error(self, status_code):\n",
    "        if status_code == 420:\n",
    "            return False"
   ]
  },
  {
   "cell_type": "code",
<<<<<<< HEAD
   "execution_count": 32,
=======
   "execution_count": 9,
>>>>>>> twitter
   "metadata": {},
   "outputs": [],
   "source": [
    "stream_listener = StreamListener()\n",
    "\n",
    "stream = tweepy.Stream(auth, stream_listener)\n",
    "\n",
    "stream.filter(track = ['soccer'], is_async=True, languages=['en'])"
   ]
  },
  {
   "cell_type": "code",
<<<<<<< HEAD
   "execution_count": 33,
   "metadata": {},
   "outputs": [
    {
     "data": {
      "text/plain": [
       "<Response [400]>"
      ]
     },
     "execution_count": 33,
     "metadata": {},
     "output_type": "execute_result"
=======
   "execution_count": 10,
   "metadata": {},
   "outputs": [
    {
     "name": "stdout",
     "output_type": "stream",
     "text": [
      "------------------------------------\n",
      "------------------------------------\n",
      "Fenerbahce v Kasimpasa\n",
      "\n",
      "Watch &amp; Bet on the soccer live from the Turkey Super Lig at https://t.co/xfAlTm2CXH… https://t.co/qeJxL04yGx\n",
      "Userid: 864796245130231809\n",
      "Verified User?: False\n",
      "Favorited: 0\n",
      "Replied: 0\n",
      "Entities: {'hashtags': [], 'urls': [{'url': 'https://t.co/xfAlTm2CXH', 'expanded_url': 'http://bit.ly/1MgeTpp', 'display_url': 'bit.ly/1MgeTpp', 'indices': [88, 111]}, {'url': 'https://t.co/qeJxL04yGx', 'expanded_url': 'https://twitter.com/i/web/status/1068423127414292480', 'display_url': 'twitter.com/i/web/status/1…', 'indices': [113, 136]}], 'user_mentions': [], 'symbols': []}\n",
      "None\n",
      "------------------------------------\n",
      "------------------------------------\n",
      "Day 3 Matches : Ashanti Regional Inter Schools and Colleges Male Soccer Competition https://t.co/3dszLgtMTJ\n",
      "Userid: 746080023233335296\n",
      "Verified User?: False\n",
      "Favorited: 0\n",
      "Replied: 0\n",
      "Entities: {'hashtags': [], 'urls': [{'url': 'https://t.co/3dszLgtMTJ', 'expanded_url': 'https://ift.tt/2P9NWKb', 'display_url': 'ift.tt/2P9NWKb', 'indices': [84, 107]}], 'user_mentions': [], 'symbols': []}\n",
      "None\n",
      "------------------------------------\n",
      "------------------------------------\n",
      "Use code “FRUITOFF” to get £2.51 off!!\n",
      "https://t.co/9PCNGEOG8R\n",
      "\n",
      "#AstonVilla #AVFC #MitaCopiers #Mita #Villa… https://t.co/EZFnYSrhKF\n",
      "Userid: 729742227933663235\n",
      "Verified User?: False\n",
      "Favorited: 0\n",
      "Replied: 0\n",
      "Entities: {'hashtags': [{'text': 'AstonVilla', 'indices': [64, 75]}, {'text': 'AVFC', 'indices': [76, 81]}, {'text': 'MitaCopiers', 'indices': [82, 94]}, {'text': 'Mita', 'indices': [95, 100]}, {'text': 'Villa', 'indices': [101, 107]}], 'urls': [{'url': 'https://t.co/9PCNGEOG8R', 'expanded_url': 'https://etsy.me/2HHV9OE', 'display_url': 'etsy.me/2HHV9OE', 'indices': [39, 62]}, {'url': 'https://t.co/EZFnYSrhKF', 'expanded_url': 'https://twitter.com/i/web/status/1068423178781904896', 'display_url': 'twitter.com/i/web/status/1…', 'indices': [109, 132]}], 'user_mentions': [], 'symbols': []}\n",
      "None\n",
      "------------------------------------\n",
      "------------------------------------\n",
      "All the 13 teams that have qualified for the last 32 so far\n",
      "\n",
      "#football #scorenga #footballresults #soccer… https://t.co/cEmECuRtuN\n",
      "Userid: 1064882611804344320\n",
      "Verified User?: False\n",
      "Favorited: 0\n",
      "Replied: 0\n",
      "Entities: {'hashtags': [{'text': 'football', 'indices': [61, 70]}, {'text': 'scorenga', 'indices': [71, 80]}, {'text': 'footballresults', 'indices': [81, 97]}, {'text': 'soccer', 'indices': [98, 105]}], 'urls': [{'url': 'https://t.co/cEmECuRtuN', 'expanded_url': 'https://twitter.com/i/web/status/1068423278270795777', 'display_url': 'twitter.com/i/web/status/1…', 'indices': [107, 130]}], 'user_mentions': [], 'symbols': []}\n",
      "None\n",
      "------------------------------------\n",
      "------------------------------------\n",
      "Delighted to see @Robbie9Fowler in #Kampala #Uganda \n",
      "\n",
      "all #LiverpoolFC fans and soccer fans in #Uganda we feel extr… https://t.co/07USNSMCaN\n",
      "Userid: 1669857157\n",
      "Verified User?: False\n",
      "Favorited: 0\n",
      "Replied: 0\n",
      "Entities: {'hashtags': [{'text': 'Kampala', 'indices': [35, 43]}, {'text': 'Uganda', 'indices': [44, 51]}, {'text': 'LiverpoolFC', 'indices': [58, 70]}, {'text': 'Uganda', 'indices': [95, 102]}], 'urls': [{'url': 'https://t.co/07USNSMCaN', 'expanded_url': 'https://twitter.com/i/web/status/1068423397988855808', 'display_url': 'twitter.com/i/web/status/1…', 'indices': [117, 140]}], 'user_mentions': [{'screen_name': 'Robbie9Fowler', 'name': 'Robbie Fowler', 'id': 278175819, 'id_str': '278175819', 'indices': [17, 31]}], 'symbols': []}\n",
      "None\n",
      "------------------------------------\n",
      "------------------------------------\n",
      "Please comment and share #liverpool #team #everton  #CFL #PAK #soccer https://t.co/vJcdNMepeL\n",
      "Userid: 1001003940002091008\n",
      "Verified User?: False\n",
      "Favorited: 0\n",
      "Replied: 0\n",
      "Entities: {'hashtags': [{'text': 'liverpool', 'indices': [25, 35]}, {'text': 'team', 'indices': [36, 41]}, {'text': 'everton', 'indices': [42, 50]}, {'text': 'CFL', 'indices': [52, 56]}, {'text': 'PAK', 'indices': [57, 61]}, {'text': 'soccer', 'indices': [62, 69]}], 'urls': [{'url': 'https://t.co/vJcdNMepeL', 'expanded_url': 'http://www.goal.com/en/news/8/main/2018/11/30/49753962/liverpool-team-news-injuries-suspensions-and-line-up-vs', 'display_url': 'goal.com/en/news/8/main…', 'indices': [70, 93]}], 'user_mentions': [], 'symbols': []}\n",
      "None\n",
      "------------------------------------\n",
      "------------------------------------\n",
      "2017/18 Panini Select Soccer Hobby 12 Box Case Break Pick Your Team #77: https://t.co/lqvapiVa48 via @YouTube\n",
      "Userid: 2393110687\n",
      "Verified User?: False\n",
      "Favorited: 0\n",
      "Replied: 0\n",
      "Entities: {'hashtags': [], 'urls': [{'url': 'https://t.co/lqvapiVa48', 'expanded_url': 'http://youtu.be/Uk18IpeGb-Q?a', 'display_url': 'youtu.be/Uk18IpeGb-Q?a', 'indices': [73, 96]}], 'user_mentions': [{'screen_name': 'YouTube', 'name': 'YouTube', 'id': 10228272, 'id_str': '10228272', 'indices': [101, 109]}], 'symbols': []}\n",
      "None\n",
      "------------------------------------\n",
      "------------------------------------\n",
      "@dkl5341 looks a lot like @MarkBook1965 if i'm not mistaken?\n",
      "Userid: 1880455735\n",
      "Verified User?: False\n",
      "Favorited: 0\n",
      "Replied: 0\n",
      "Entities: {'hashtags': [], 'urls': [], 'user_mentions': [{'screen_name': 'dkl5341', 'name': 'deano', 'id': 476626731, 'id_str': '476626731', 'indices': [0, 8]}, {'screen_name': 'MarkBook1965', 'name': 'Mark Book', 'id': 2261747645, 'id_str': '2261747645', 'indices': [26, 39]}], 'symbols': []}\n",
      "None\n",
      "------------------------------------\n",
      "------------------------------------\n",
      "@Stop_Trump20 @HenryTContreras Is that Putin’s transmitter soccer ball?\n",
      "Userid: 944293576703447040\n",
      "Verified User?: False\n",
      "Favorited: 0\n",
      "Replied: 0\n",
      "Entities: {'hashtags': [], 'urls': [], 'user_mentions': [{'screen_name': 'Stop_Trump20', 'name': 'Maggie Resists Trump', 'id': 3334843313, 'id_str': '3334843313', 'indices': [0, 13]}, {'screen_name': 'HenryTContreras', 'name': 'Henry T. Contreras 🌊', 'id': 784306108085129216, 'id_str': '784306108085129216', 'indices': [14, 30]}], 'symbols': []}\n",
      "None\n",
      "------------------------------------\n",
      "------------------------------------\n",
      "And i miss playing volleyball 😣\n",
      "Userid: 830281575321391104\n",
      "Verified User?: False\n",
      "Favorited: 0\n",
      "Replied: 0\n",
      "Entities: {'hashtags': [], 'urls': [], 'user_mentions': [], 'symbols': []}\n",
      "None\n",
      "------------------------------------\n",
      "------------------------------------\n",
      "tennis girls porn pics mom and daughter porn pics et pussy soccer boys porn free full length porn film  https://t.co/WKToyEK3sD\n",
      "Userid: 849538044118126592\n",
      "Verified User?: False\n",
      "Favorited: 0\n",
      "Replied: 0\n",
      "Entities: {'hashtags': [], 'urls': [], 'user_mentions': [], 'symbols': [], 'media': [{'id': 1065916489310576641, 'id_str': '1065916489310576641', 'indices': [104, 127], 'media_url': 'http://pbs.twimg.com/media/DsrlZkmWoAEdUNc.jpg', 'media_url_https': 'https://pbs.twimg.com/media/DsrlZkmWoAEdUNc.jpg', 'url': 'https://t.co/WKToyEK3sD', 'display_url': 'pic.twitter.com/WKToyEK3sD', 'expanded_url': 'https://twitter.com/S0nicisfast/status/1065916499007819776/photo/1', 'type': 'photo', 'sizes': {'medium': {'w': 1200, 'h': 800, 'resize': 'fit'}, 'thumb': {'w': 150, 'h': 150, 'resize': 'crop'}, 'small': {'w': 680, 'h': 453, 'resize': 'fit'}, 'large': {'w': 2048, 'h': 1365, 'resize': 'fit'}}, 'source_status_id': 1065916499007819776, 'source_status_id_str': '1065916499007819776', 'source_user_id': 2920146638, 'source_user_id_str': '2920146638'}]}\n",
      "None\n",
      "------------------------------------\n",
      "------------------------------------\n",
      "#SOCCER  FCKKKK IT ALL IN #FIAI\n",
      "\n",
      "Read: https://t.co/G9HmvTl3eC\n",
      "Userid: 1062233846\n",
      "Verified User?: False\n",
      "Favorited: 0\n",
      "Replied: 0\n",
      "Entities: {'hashtags': [{'text': 'SOCCER', 'indices': [0, 7]}, {'text': 'FIAI', 'indices': [26, 31]}], 'urls': [{'url': 'https://t.co/G9HmvTl3eC', 'expanded_url': 'http://tl.gd/n_1sqnvr2', 'display_url': 'tl.gd/n_1sqnvr2', 'indices': [39, 62]}], 'user_mentions': [], 'symbols': []}\n",
      "None\n",
      "------------------------------------\n",
      "------------------------------------\n",
      "Life is like soccer because mom signed me up for it and expects me to try my best even though I fucking hate soccer.\n",
      "Userid: 733403132009402370\n",
      "Verified User?: False\n",
      "Favorited: 0\n",
      "Replied: 0\n",
      "Entities: {'hashtags': [], 'urls': [], 'user_mentions': [], 'symbols': []}\n",
      "None\n",
      "------------------------------------\n",
      "------------------------------------\n",
      "My SUPER SUBS look like 1/4 on the way to a new soccer team...o...just wait and see 😉 @CCMO90 @MuggSelektah… https://t.co/qVQMKYvSsd\n",
      "Userid: 1393743061\n",
      "Verified User?: False\n",
      "Favorited: 0\n",
      "Replied: 0\n",
      "Entities: {'hashtags': [], 'urls': [{'url': 'https://t.co/qVQMKYvSsd', 'expanded_url': 'https://twitter.com/i/web/status/1068423870657384448', 'display_url': 'twitter.com/i/web/status/1…', 'indices': [109, 132]}], 'user_mentions': [{'screen_name': 'CCMO90', 'name': 'Celeste Molina', 'id': 2413317660, 'id_str': '2413317660', 'indices': [86, 93]}, {'screen_name': 'MuggSelektah', 'name': 'Alex Fernandez', 'id': 117818576, 'id_str': '117818576', 'indices': [94, 107]}], 'symbols': []}\n",
      "None\n",
      "------------------------------------\n",
      "------------------------------------\n",
      "FRIDAY JUNIOR SOCCER - Middle League: Black Knights beat Trublu (6 - 3) https://t.co/9hhRo8Tgmd\n",
      "Userid: 839028230887649280\n",
      "Verified User?: False\n",
      "Favorited: 0\n",
      "Replied: 0\n",
      "Entities: {'hashtags': [], 'urls': [{'url': 'https://t.co/9hhRo8Tgmd', 'expanded_url': 'http://bit.ly/2NBy3vd', 'display_url': 'bit.ly/2NBy3vd', 'indices': [72, 95]}], 'user_mentions': [], 'symbols': []}\n",
      "None\n",
      "------------------------------------\n",
      "------------------------------------\n",
      "FRIDAY JUNIOR SOCCER - Senior League: Aces United beat Willow Magic (26 - 0) https://t.co/OJztCzSxZI\n",
      "Userid: 839028230887649280\n",
      "Verified User?: False\n",
      "Favorited: 0\n",
      "Replied: 0\n",
      "Entities: {'hashtags': [], 'urls': [{'url': 'https://t.co/OJztCzSxZI', 'expanded_url': 'http://bit.ly/2NDlr6R', 'display_url': 'bit.ly/2NDlr6R', 'indices': [77, 100]}], 'user_mentions': [], 'symbols': []}\n",
      "None\n",
      "------------------------------------\n",
      "------------------------------------\n",
      "FRIDAY JUNIOR SOCCER - Junior-Middle League: Kid Madrid beat Panna Magic (12 - 6) https://t.co/e7ZzvduiVl\n",
      "Userid: 839028230887649280\n",
      "Verified User?: False\n",
      "Favorited: 0\n",
      "Replied: 0\n",
      "Entities: {'hashtags': [], 'urls': [{'url': 'https://t.co/e7ZzvduiVl', 'expanded_url': 'http://bit.ly/2NBACxl', 'display_url': 'bit.ly/2NBACxl', 'indices': [82, 105]}], 'user_mentions': [], 'symbols': []}\n",
      "None\n",
      "------------------------------------\n",
      "------------------------------------\n",
      "FRIDAY JUNIOR SOCCER - Junior-Middle League: Red Devils and Unicorn Magic drew (0 all) https://t.co/e7ZzvduiVl\n",
      "Userid: 839028230887649280\n",
      "Verified User?: False\n",
      "Favorited: 0\n",
      "Replied: 0\n",
      "Entities: {'hashtags': [], 'urls': [{'url': 'https://t.co/e7ZzvduiVl', 'expanded_url': 'http://bit.ly/2NBACxl', 'display_url': 'bit.ly/2NBACxl', 'indices': [87, 110]}], 'user_mentions': [], 'symbols': []}\n",
      "None\n",
      "------------------------------------\n",
      "------------------------------------\n",
      "FRIDAY JUNIOR SOCCER: Z I G beat Taipans (7 - 5) https://t.co/mY7uwrCbep\n",
      "Userid: 839028230887649280\n",
      "Verified User?: False\n",
      "Favorited: 0\n",
      "Replied: 0\n",
      "Entities: {'hashtags': [], 'urls': [{'url': 'https://t.co/mY7uwrCbep', 'expanded_url': 'http://bit.ly/2R3bu4R', 'display_url': 'bit.ly/2R3bu4R', 'indices': [49, 72]}], 'user_mentions': [], 'symbols': []}\n",
      "None\n",
      "------------------------------------\n",
      "------------------------------------\n",
      "#MustRead -&gt;  2018 Major League Soccer playoffs: Schedule, game times and results, TV info The 2018 Major League So… https://t.co/fk4K4JqEkI\n",
      "Userid: 790019230389248000\n",
      "Verified User?: False\n",
      "Favorited: 0\n",
      "Replied: 0\n",
      "Entities: {'hashtags': [{'text': 'MustRead', 'indices': [0, 9]}], 'urls': [{'url': 'https://t.co/fk4K4JqEkI', 'expanded_url': 'https://twitter.com/i/web/status/1068423955264999425', 'display_url': 'twitter.com/i/web/status/1…', 'indices': [120, 143]}], 'user_mentions': [], 'symbols': []}\n",
      "None\n",
      "------------------------------------\n",
      "------------------------------------\n",
      "My SUPER SUBS look like 1/4 on the way to a new soccer team...oh...just wait and see 😉 @CCMO90 @MuggSelektah… https://t.co/cnAdjSnE0Q\n",
      "Userid: 1393743061\n",
      "Verified User?: False\n",
      "Favorited: 0\n",
      "Replied: 0\n",
      "Entities: {'hashtags': [], 'urls': [{'url': 'https://t.co/cnAdjSnE0Q', 'expanded_url': 'https://twitter.com/i/web/status/1068424061665984512', 'display_url': 'twitter.com/i/web/status/1…', 'indices': [110, 133]}], 'user_mentions': [{'screen_name': 'CCMO90', 'name': 'Celeste Molina', 'id': 2413317660, 'id_str': '2413317660', 'indices': [87, 94]}, {'screen_name': 'MuggSelektah', 'name': 'Alex Fernandez', 'id': 117818576, 'id_str': '117818576', 'indices': [95, 108]}], 'symbols': []}\n",
      "None\n",
      "------------------------------------\n",
      "------------------------------------\n",
      "Great interview but unfortunately he’s not a leg man. I guess I’ll stick with Adam after all. 🤣🤣🤣 And I knew playin… https://t.co/10zzJSKmok\n",
      "Userid: 49274208\n",
      "Verified User?: False\n",
      "Favorited: 0\n",
      "Replied: 0\n",
      "Entities: {'hashtags': [], 'urls': [{'url': 'https://t.co/10zzJSKmok', 'expanded_url': 'https://twitter.com/i/web/status/1068424075226296320', 'display_url': 'twitter.com/i/web/status/1…', 'indices': [117, 140]}], 'user_mentions': [], 'symbols': []}\n",
      "None\n",
      "------------------------------------\n",
      "------------------------------------\n",
      "Recently, students from MAC vs Essendon Keilor College ( EKC) engaged in an exciting friendly soccer match. Student… https://t.co/dvBw3WFzeP\n",
      "Userid: 3023384316\n",
      "Verified User?: False\n",
      "Favorited: 0\n",
      "Replied: 0\n",
      "Entities: {'hashtags': [], 'urls': [{'url': 'https://t.co/dvBw3WFzeP', 'expanded_url': 'https://twitter.com/i/web/status/1068424254314741760', 'display_url': 'twitter.com/i/web/status/1…', 'indices': [117, 140]}], 'user_mentions': [], 'symbols': []}\n",
      "None\n",
      "------------------------------------\n",
      "------------------------------------\n",
      "Got a prize on Soccer Stars! Play me now! @miniclip https://t.co/a5wCcDDy7K\n",
      "Userid: 1017162484531318785\n",
      "Verified User?: False\n",
      "Favorited: 0\n",
      "Replied: 0\n",
      "Entities: {'hashtags': [], 'urls': [{'url': 'https://t.co/a5wCcDDy7K', 'expanded_url': 'https://scstar.co/NzQxNmEzNTktODQ4MS00YzNkLWEyNWUtNWY5ZmJhNTYyOTcy', 'display_url': 'scstar.co/NzQxNmEzNTktOD…', 'indices': [52, 75]}], 'user_mentions': [{'screen_name': 'Miniclip', 'name': 'Miniclip Games', 'id': 32493622, 'id_str': '32493622', 'indices': [42, 51]}], 'symbols': []}\n",
      "None\n",
      "------------------------------------\n",
      "------------------------------------\n",
      "stress anat main table soccer\n",
      "Userid: 469959886\n",
      "Verified User?: False\n",
      "Favorited: 0\n",
      "Replied: 0\n",
      "Entities: {'hashtags': [], 'urls': [], 'user_mentions': [], 'symbols': []}\n",
      "None\n",
      "------------------------------------\n",
      "------------------------------------\n",
      "‘NOT ABOUT SEATTLE’: TFC’s Bradley says MLS Cup about T.O. | Toronto Sun https://t.co/6Tnu1HzX8F ➜… https://t.co/bie9STsj59\n",
      "Userid: 819019859908558848\n",
      "Verified User?: False\n",
      "Favorited: 0\n",
      "Replied: 0\n",
      "Entities: {'hashtags': [], 'urls': [{'url': 'https://t.co/6Tnu1HzX8F', 'expanded_url': 'https://wayback.archive.org/web/20181130005005/https://torontosun.com/sports/soccer/mls/toronto-fc/none-of-this-is-about-seattle-toronto-fcs-michael-bradley-says-mls-cup-is-about-this-city', 'display_url': 'wayback.archive.org/web/2018113000…', 'indices': [73, 96]}, {'url': 'https://t.co/bie9STsj59', 'expanded_url': 'https://twitter.com/i/web/status/1068424592480497665', 'display_url': 'twitter.com/i/web/status/1…', 'indices': [100, 123]}], 'user_mentions': [], 'symbols': []}\n",
      "None\n",
      "------------------------------------\n",
      "------------------------------------\n",
      "Canadian Premier League announces first player signings. https://t.co/W3udPx2Ngv #CanPL\n",
      "Userid: 2571230281\n",
      "Verified User?: False\n",
      "Favorited: 0\n",
      "Replied: 0\n",
      "Entities: {'hashtags': [{'text': 'CanPL', 'indices': [81, 87]}], 'urls': [{'url': 'https://t.co/W3udPx2Ngv', 'expanded_url': 'http://www.sportingnews.com/g00/ca/soccer/news/canadian-premier-league-announces-foundational-player-signings-canpl-kyle-bekker-nik-ledgerwood/1gzay6r3p0l9r1pkhtmio5mnk8?i10c.encReferrer=&i10c.ua=1&i10c.dv=21', 'display_url': 'sportingnews.com/g00/ca/soccer/…', 'indices': [57, 80]}], 'user_mentions': [], 'symbols': []}\n",
      "None\n",
      "------------------------------------\n",
      "------------------------------------\n",
      "In the groundbreaking esports\n",
      "competition Pro Evolution\n",
      "Soccer is played and the Barça\n",
      "star Gerard Piqué is behind… https://t.co/KsS7KtHxiE\n",
      "Userid: 931509331299917824\n",
      "Verified User?: False\n",
      "Favorited: 0\n",
      "Replied: 0\n",
      "Entities: {'hashtags': [], 'urls': [{'url': 'https://t.co/KsS7KtHxiE', 'expanded_url': 'https://twitter.com/i/web/status/1068424710969540608', 'display_url': 'twitter.com/i/web/status/1…', 'indices': [116, 139]}], 'user_mentions': [], 'symbols': []}\n",
      "None\n",
      "------------------------------------\n",
      "------------------------------------\n",
      "New trending GIF tagged football, soccer, yes, reactions, yeah, good, thumbs up, roma, coach, as roma, positive, se… https://t.co/Iqoh7aAwME\n",
      "Userid: 3295606487\n",
      "Verified User?: False\n",
      "Favorited: 0\n",
      "Replied: 0\n",
      "Entities: {'hashtags': [], 'urls': [{'url': 'https://t.co/Iqoh7aAwME', 'expanded_url': 'https://twitter.com/i/web/status/1068424804460576771', 'display_url': 'twitter.com/i/web/status/1…', 'indices': [117, 140]}], 'user_mentions': [], 'symbols': []}\n",
      "None\n",
      "------------------------------------\n",
      "------------------------------------\n",
      "Shorter A-League season would be 'going backwards': McKinna https://t.co/G2tN9Hnmcv via @smh #aleague\n",
      "Userid: 18885134\n",
      "Verified User?: True\n",
      "Favorited: 0\n",
      "Replied: 0\n",
      "Entities: {'hashtags': [{'text': 'aleague', 'indices': [93, 101]}], 'urls': [{'url': 'https://t.co/G2tN9Hnmcv', 'expanded_url': 'https://www.smh.com.au/sport/soccer/shorter-a-league-season-would-be-going-backwards-mckinna-20181130-p50jiq.html', 'display_url': 'smh.com.au/sport/soccer/s…', 'indices': [60, 83]}], 'user_mentions': [{'screen_name': 'smh', 'name': 'The Sydney Morning Herald', 'id': 16675569, 'id_str': '16675569', 'indices': [88, 92]}], 'symbols': []}\n",
      "None\n",
      "------------------------------------\n",
      "------------------------------------\n",
      "HIGHLANDERS goalkeeper, Ariel Sibanda, has thanked his teammates after being voted among the Castle Lager Premier S… https://t.co/FNzUAdFUKv\n",
      "Userid: 283463575\n",
      "Verified User?: False\n",
      "Favorited: 0\n",
      "Replied: 0\n",
      "Entities: {'hashtags': [], 'urls': [{'url': 'https://t.co/FNzUAdFUKv', 'expanded_url': 'https://twitter.com/i/web/status/1068424891723059200', 'display_url': 'twitter.com/i/web/status/1…', 'indices': [117, 140]}], 'user_mentions': [], 'symbols': []}\n",
      "None\n",
      "------------------------------------\n",
      "------------------------------------\n",
      "team details  Chicago Fire #MLS #Soccer at team followers, https://t.co/mQwo5JftpO\n",
      "Userid: 734832988173783044\n",
      "Verified User?: False\n",
      "Favorited: 0\n",
      "Replied: 0\n",
      "Entities: {'hashtags': [{'text': 'MLS', 'indices': [27, 31]}, {'text': 'Soccer', 'indices': [32, 39]}], 'urls': [{'url': 'https://t.co/mQwo5JftpO', 'expanded_url': 'http://mlz.es/58f0T', 'display_url': 'mlz.es/58f0T', 'indices': [59, 82]}], 'user_mentions': [], 'symbols': []}\n",
      "None\n",
      "------------------------------------\n",
      "------------------------------------\n",
      "@Wonderb32 Soccer is cruel,it will kill u real death &amp; u die\n",
      "Userid: 790721283583537152\n",
      "Verified User?: False\n",
      "Favorited: 0\n",
      "Replied: 0\n",
      "Entities: {'hashtags': [], 'urls': [], 'user_mentions': [{'screen_name': 'Wonderb32', 'name': 'Sir TKO Champ Pablo 🏆', 'id': 958065330345168896, 'id_str': '958065330345168896', 'indices': [0, 10]}], 'symbols': []}\n",
      "None\n",
      "------------------------------------\n",
      "------------------------------------\n",
      "Let's kick off the weekend right, by following live updates for tonight's #ALeague round 6 clash on @TheRoarSports… https://t.co/5VZLaJlZc7\n",
      "Userid: 2462587086\n",
      "Verified User?: False\n",
      "Favorited: 0\n",
      "Replied: 0\n",
      "Entities: {'hashtags': [{'text': 'ALeague', 'indices': [74, 82]}], 'urls': [{'url': 'https://t.co/5VZLaJlZc7', 'expanded_url': 'https://twitter.com/i/web/status/1068424945309339649', 'display_url': 'twitter.com/i/web/status/1…', 'indices': [116, 139]}], 'user_mentions': [{'screen_name': 'TheRoarSports', 'name': 'The Roar', 'id': 31655596, 'id_str': '31655596', 'indices': [100, 114]}], 'symbols': []}\n",
      "None\n",
      "------------------------------------\n",
      "------------------------------------\n",
      "Soccer #Livescore: (BOL-LFPB) #Blooming vs #Bolivar: 3-2. -\n",
      "Userid: 73672052\n",
      "Verified User?: False\n",
      "Favorited: 0\n",
      "Replied: 0\n",
      "Entities: {'hashtags': [{'text': 'Livescore', 'indices': [7, 17]}, {'text': 'Blooming', 'indices': [30, 39]}, {'text': 'Bolivar', 'indices': [43, 51]}], 'urls': [], 'user_mentions': [], 'symbols': []}\n",
      "None\n",
      "------------------------------------\n",
      "------------------------------------\n",
      "Friday Soccer - Division 1/2: Steamed Hams beat Breakers (3 - 2) https://t.co/H96fERkPpe\n",
      "Userid: 2919113185\n",
      "Verified User?: False\n",
      "Favorited: 0\n",
      "Replied: 0\n",
      "Entities: {'hashtags': [], 'urls': [{'url': 'https://t.co/H96fERkPpe', 'expanded_url': 'http://bit.ly/2LuFd47', 'display_url': 'bit.ly/2LuFd47', 'indices': [65, 88]}], 'user_mentions': [], 'symbols': []}\n",
      "None\n"
     ]
>>>>>>> twitter
    }
   ],
   "source": [
    "# tweets = requests.get('https://api.twitter.com/1.1/search/tweets.json?q=nasa&result_type=popular')\n",
    "\n",
    "# tweets\n",
    "\n",
    "# results = api.GetSearch(raw_query=\"q=twitter%20&result_type=recent&since=2014-07-19&count=100\")\n",
    "# # results\n",
    "\n",
    "# result2 = requests.get(\"https://api.twitter.com/1.1/collections/list.json?screen_name=twittermusic&count=1\")\n",
    "# # results\n",
    "\n",
    "# result2"
   ]
  }
 ],
 "metadata": {
  "kernelspec": {
   "display_name": "Python 3",
   "language": "python",
   "name": "python3"
  },
  "language_info": {
   "codemirror_mode": {
    "name": "ipython",
    "version": 3
   },
   "file_extension": ".py",
   "mimetype": "text/x-python",
   "name": "python",
   "nbconvert_exporter": "python",
   "pygments_lexer": "ipython3",
   "version": "3.6.5"
  }
 },
 "nbformat": 4,
 "nbformat_minor": 2
}
