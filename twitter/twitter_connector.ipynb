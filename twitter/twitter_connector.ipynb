{
 "cells": [
  {
   "cell_type": "code",
   "execution_count": null,
   "metadata": {},
   "outputs": [],
   "source": [
    "# heavily borrowed from https://www.dataquest.io/blog/streaming-data-python/\n",
    "\n",
    "import twitter\n",
    "import tweepy\n",
    "from tweepy import StreamListener\n",
    "import json\n",
    "import requests\n",
    "from bs4 import BeautifulSoup\n",
    "from collections import defaultdict\n",
    "\n",
    "from __future__ import unicode_literals"
   ]
  },
  {
   "cell_type": "code",
   "execution_count": null,
   "metadata": {},
   "outputs": [],
   "source": [
    "c = open('/Users/u1b1700/.twitter/credentials', 'r')\n",
    "keys = c.readlines()"
   ]
  },
  {
   "cell_type": "code",
   "execution_count": null,
   "metadata": {},
   "outputs": [],
   "source": [
    "ck = keys[0][:-1].encode('utf8')\n",
    "cs = keys[1][:-1].encode('utf8')\n",
    "atk = keys[2][:-1].encode('utf8')\n",
    "ats = keys[3][:-1].encode('utf8')\n",
    "\n",
    "api = twitter.Api(consumer_key=ck, \n",
    "                  consumer_secret=cs, \n",
    "                  access_token_key=atk, \n",
    "                  access_token_secret=ats)"
   ]
  },
  {
   "cell_type": "code",
   "execution_count": null,
   "metadata": {},
   "outputs": [],
   "source": [
    "# create an OAuthHandler instance to authenticate\n",
    "auth = tweepy.OAuthHandler(ck, cs)\n",
    "auth.set_access_token(atk, ats)\n",
    "api_o = tweepy.API(auth)"
   ]
  },
  {
   "cell_type": "code",
   "execution_count": null,
   "metadata": {},
   "outputs": [],
   "source": [
    "ck, cs, atk, ats, = None, None, None, None"
   ]
  },
  {
   "cell_type": "code",
   "execution_count": null,
   "metadata": {},
   "outputs": [],
   "source": [
    "# basic pull of following list\n",
    "my_list = api.GetFriends()\n",
    "# my_list"
   ]
  },
  {
   "cell_type": "code",
   "execution_count": null,
   "metadata": {},
   "outputs": [],
   "source": [
    "# get sarah sliverman's timeline\n",
    "timeline = api.GetUserTimeline(user_id='30364057')\n",
    "\n",
    "timeline[0]"
   ]
  },
  {
   "cell_type": "code",
   "execution_count": null,
   "metadata": {},
   "outputs": [],
   "source": [
    "# set up a listener\n",
    "# class to override on_status (only tweets) and on_error method (disconnect if rate limited)\n",
    "class StreamListener(tweepy.StreamListener):\n",
    "    \n",
    "    def on_status(self, status):\n",
    "        if str(status.text).startswith('RT'):\n",
    "            return\n",
    "        print(('------------------------------------'))\n",
    "        print(('------------------------------------'))\n",
    "        print(status.text)\n",
    "        print('Userid: {}'.format(status.user.id))\n",
    "        print('Verified User?: {}'.format(status.user.verified))\n",
    "#         print('Favorited: {}'.format(status.favorite_count)) # in real time, so always 0\n",
    "#         print('Replied: {}'.format(status.reply_count))   # may not be available, always 0\n",
    "#         print('Hastags: {}'.format(status.entities.hashtags))\n",
    "        \n",
    "        print('Location: {}'.format(status.place))\n",
    "#         print(status.place.country)\n",
    "#         print(status.place.full_name)\n",
    "#         print(status.place.bounding_box)\n",
    "        \n",
    "    def on_error(self, status_code):\n",
    "        if status_code == 420:\n",
    "            return False"
   ]
  },
  {
   "cell_type": "code",
   "execution_count": null,
   "metadata": {},
   "outputs": [],
   "source": [
    "stream_listener = StreamListener()\n",
    "\n",
    "stream = tweepy.Stream(auth, stream_listener)\n",
    "\n",
    "stream.filter(track = ['soccer', 'MLS', 'USL'], is_async=True, languages=['en'])"
   ]
  },
  {
   "cell_type": "code",
   "execution_count": null,
   "metadata": {},
   "outputs": [],
   "source": [
    "# tweets = requests.get('https://api.twitter.com/1.1/search/tweets.json?q=nasa&result_type=popular')\n",
    "\n",
    "# tweets\n",
    "\n",
    "# results = api.GetSearch(raw_query=\"q=twitter%20&result_type=recent&since=2014-07-19&count=100\")\n",
    "# # results\n",
    "\n",
    "# result2 = requests.get(\"https://api.twitter.com/1.1/collections/list.json?screen_name=twittermusic&count=1\")\n",
    "# # results\n",
    "\n",
    "# result2"
   ]
  },
  {
   "cell_type": "code",
   "execution_count": null,
   "metadata": {},
   "outputs": [],
   "source": []
  },
  {
   "cell_type": "code",
   "execution_count": null,
   "metadata": {},
   "outputs": [],
   "source": []
  }
 ],
 "metadata": {
  "kernelspec": {
   "display_name": "Python 3",
   "language": "python",
   "name": "python3"
  },
  "language_info": {
   "codemirror_mode": {
    "name": "ipython",
    "version": 3
   },
   "file_extension": ".py",
   "mimetype": "text/x-python",
   "name": "python",
   "nbconvert_exporter": "python",
   "pygments_lexer": "ipython3",
   "version": "3.6.5"
  }
 },
 "nbformat": 4,
 "nbformat_minor": 2
}
