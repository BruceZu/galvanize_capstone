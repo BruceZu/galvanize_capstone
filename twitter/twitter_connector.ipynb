{
 "cells": [
  {
   "cell_type": "code",
   "execution_count": 1,
   "metadata": {},
   "outputs": [],
   "source": [
    "# heavily borrowed from https://www.dataquest.io/blog/streaming-data-python/\n",
    "\n",
    "import twitter\n",
    "import tweepy\n",
    "from tweepy import StreamListener\n",
    "import json\n",
    "import requests\n",
    "from bs4 import BeautifulSoup\n",
    "from collections import defaultdict\n",
    "\n",
    "from __future__ import unicode_literals"
   ]
  },
  {
   "cell_type": "code",
   "execution_count": 2,
   "metadata": {},
   "outputs": [],
   "source": [
    "c = open('/Users/u1b1700/.twitter/credentials', 'r')\n",
    "keys = c.readlines()"
   ]
  },
  {
   "cell_type": "code",
   "execution_count": 3,
   "metadata": {},
   "outputs": [],
   "source": [
    "ck = keys[0][:-1].encode('utf8')\n",
    "cs = keys[1][:-1].encode('utf8')\n",
    "atk = keys[2][:-1].encode('utf8')\n",
    "ats = keys[3][:-1].encode('utf8')\n",
    "\n",
    "api = twitter.Api(consumer_key=ck, \n",
    "                  consumer_secret=cs, \n",
    "                  access_token_key=atk, \n",
    "                  access_token_secret=ats)"
   ]
  },
  {
   "cell_type": "code",
   "execution_count": 4,
   "metadata": {},
   "outputs": [],
   "source": [
    "# create an OAuthHandler instance to authenticate\n",
    "auth = tweepy.OAuthHandler(ck, cs)\n",
    "auth.set_access_token(atk, ats)\n",
    "api_o = tweepy.API(auth)"
   ]
  },
  {
   "cell_type": "code",
   "execution_count": 5,
   "metadata": {},
   "outputs": [],
   "source": [
    "ck, cs, atk, ats, = None, None, None, None"
   ]
  },
  {
   "cell_type": "code",
   "execution_count": 6,
   "metadata": {},
   "outputs": [],
   "source": [
    "# basic pull of following list\n",
    "my_list = api.GetFriends()\n",
    "# my_list"
   ]
  },
  {
   "cell_type": "code",
   "execution_count": 7,
   "metadata": {},
   "outputs": [
    {
     "data": {
      "text/plain": [
       "Status(ID=1068423202534125568, ScreenName=SarahKSilverman, Created=Fri Nov 30 08:35:16 +0000 2018, Text='@Lin_Manuel @chelseahandler Amy&amp;Tina, @sethmeyers @galifianakisz @TiffanyHaddish @SteveMartinToGo &amp; Martin Short… https://t.co/RFJaTzGMDU')"
      ]
     },
     "execution_count": 7,
     "metadata": {},
     "output_type": "execute_result"
    }
   ],
   "source": [
    "# get sarah sliverman's timeline\n",
    "timeline = api.GetUserTimeline(user_id='30364057')\n",
    "\n",
    "timeline[0]"
   ]
  },
  {
   "cell_type": "code",
   "execution_count": 14,
   "metadata": {},
   "outputs": [],
   "source": [
    "# set up a listener\n",
    "# class to override on_status (only tweets) and on_error method (disconnect if rate limited)\n",
    "class StreamListener(tweepy.StreamListener):\n",
    "    \n",
    "    def on_status(self, status):\n",
    "        if str(status.text).startswith('RT'):\n",
    "            return\n",
    "        print(('------------------------------------'))\n",
    "        print(('------------------------------------'))\n",
    "        print(status.text)\n",
    "        print('Userid: {}'.format(status.user.id))\n",
    "        print('Verified User?: {}'.format(status.user.verified))\n",
    "#         print('Favorited: {}'.format(status.favorite_count)) # in real time, so always 0\n",
    "#         print('Replied: {}'.format(status.reply_count))   # may not be available, always 0\n",
    "#         print('Hastags: {}'.format(status.entities.hashtags))\n",
    "        \n",
    "        print('Location: {}'.format(status.place))\n",
    "#         print(status.place.country)\n",
    "#         print(status.place.full_name)\n",
    "#         print(status.place.bounding_box)\n",
    "        \n",
    "    def on_error(self, status_code):\n",
    "        if status_code == 420:\n",
    "            return False"
   ]
  },
  {
   "cell_type": "code",
   "execution_count": 15,
   "metadata": {},
   "outputs": [],
   "source": [
    "stream_listener = StreamListener()\n",
    "\n",
    "stream = tweepy.Stream(auth, stream_listener)\n",
    "\n",
    "stream.filter(track = ['mascara', 'eye cream', 'lipstick'], is_async=True, languages=['en'])"
   ]
  },
  {
   "cell_type": "code",
   "execution_count": 16,
   "metadata": {},
   "outputs": [
    {
     "name": "stdout",
     "output_type": "stream",
     "text": [
      "------------------------------------\n",
      "------------------------------------\n",
      "I’m just saying you can DEFINITELY get enough mascara and you crossed that mile five applies ago\n",
      "Userid: 286720573\n",
      "Verified User?: False\n",
      "Location: None\n",
      "------------------------------------\n",
      "------------------------------------\n",
      "Last call!! Today is the last day to scoop up a FREE ($62 retail) eye cream when you start a regimen! Pick from any… https://t.co/OzLcYpk85I\n",
      "Userid: 65042646\n",
      "Verified User?: False\n",
      "Location: None\n",
      "------------------------------------\n",
      "------------------------------------\n",
      "@ctanner3 @VBaus @TerrDonCantrell @404Lawman @heyitsCarolyn @TrumpTony4 @nususan1 @DoingRight1 @JosephZaragoz15… https://t.co/X6IEVyMLE1\n",
      "Userid: 759548901980409856\n",
      "Verified User?: False\n",
      "Location: None\n",
      "------------------------------------\n",
      "------------------------------------\n",
      "Today is your LAST CHANCE to get a FREE Multi-Function Eye Cream with any Regimen or regimen bundle purchase*, and… https://t.co/exbZtEo23I\n",
      "Userid: 3245503229\n",
      "Verified User?: False\n",
      "Location: None\n",
      "------------------------------------\n",
      "------------------------------------\n",
      "red lipstick on and high heels stilettos\n",
      "Userid: 3201282948\n",
      "Verified User?: False\n",
      "Location: None\n",
      "------------------------------------\n",
      "------------------------------------\n",
      "I love my EPIC mascara!!! Just wanted to show yall the amazing difference this mascara makes to your eyes!… https://t.co/g7kMLw277p\n",
      "Userid: 1042411577599840256\n",
      "Verified User?: False\n",
      "Location: None\n",
      "------------------------------------\n",
      "------------------------------------\n",
      "Red lipstick lagany ka Dil KR reha\n",
      "\n",
      "WBY?\n",
      "Userid: 953284481657556992\n",
      "Verified User?: False\n",
      "Location: None\n",
      "------------------------------------\n",
      "------------------------------------\n",
      "ugh @sophdoesnails's cake lipstick is just the perfect shade, i'm living and dying at the same time\n",
      "Userid: 757373714\n",
      "Verified User?: False\n",
      "Location: None\n",
      "------------------------------------\n",
      "------------------------------------\n",
      "I read this as “Tater Manater”, as if a potato company got into cosmetics?? I need to go eat\n",
      "Userid: 852032556\n",
      "Verified User?: False\n",
      "Location: None\n",
      "------------------------------------\n",
      "------------------------------------\n",
      "ladies with frosted lipstick and challis skirts, nice looking in a kind of well-tanned, lowkey way.\n",
      "Userid: 947466924434345985\n",
      "Verified User?: False\n",
      "Location: None\n",
      "------------------------------------\n",
      "------------------------------------\n",
      "peripera_official Pink Moment Ink Velvet tints 💛 clio_official\n",
      "clubclioph .\n",
      ".\n",
      ".\n",
      ".\n",
      ".\n",
      ".\n",
      ".\n",
      "#peripera #periperaph… https://t.co/t0cE7PgVCi\n",
      "Userid: 1068138675169460224\n",
      "Verified User?: False\n",
      "Location: None\n",
      "------------------------------------\n",
      "------------------------------------\n",
      "Here's why @CTilburyMakeup changed my mind on lipstick: https://t.co/jc6xOkg9u7\n",
      "Userid: 4193069292\n",
      "Verified User?: False\n",
      "Location: None\n",
      "------------------------------------\n",
      "------------------------------------\n",
      "@yannaaaaa12 liptint not lipstick😂\n",
      "Userid: 3136411087\n",
      "Verified User?: False\n",
      "Location: None\n",
      "------------------------------------\n",
      "------------------------------------\n",
      "THIS IS YOUR LAST CHANCE to get FREE Multifunction Eye Cream!! This fantastic offer ends TONIGHT!  Call or PM me!… https://t.co/GSXJlatgVG\n",
      "Userid: 42646614\n",
      "Verified User?: False\n",
      "Location: None\n",
      "------------------------------------\n",
      "------------------------------------\n",
      "@koalapuffss Do I need to make a \"britney spears-style\" Leave Koala Alone video of me crying under a sheet with mas… https://t.co/xxFEl0PkeE\n",
      "Userid: 17168044\n",
      "Verified User?: False\n",
      "Location: None\n",
      "------------------------------------\n",
      "------------------------------------\n",
      "I need a good eye cream 😩\n",
      "Userid: 39676552\n",
      "Verified User?: False\n",
      "Location: None\n",
      "------------------------------------\n",
      "------------------------------------\n",
      "Today I thought I was probably one of the few reckless bitches that does her makeup while driving. But this morning… https://t.co/npgojoP07o\n",
      "Userid: 216870461\n",
      "Verified User?: False\n",
      "Location: Place(_api=<tweepy.api.API object at 0x115514438>, id='a9b50065bfbb3fa9', url='https://api.twitter.com/1.1/geo/id/a9b50065bfbb3fa9.json', place_type='city', name='Grand Prairie', full_name='Grand Prairie, TX', country_code='US', country='United States', bounding_box=BoundingBox(_api=<tweepy.api.API object at 0x115514438>, type='Polygon', coordinates=[[[-97.065649, 32.720529], [-97.065649, 32.816653], [-96.924017, 32.816653], [-96.924017, 32.720529]]]), attributes={})\n",
      "------------------------------------\n",
      "------------------------------------\n",
      "Poppycock balderdash and bullocks.    It's putting lipstick on a pig.  \n",
      "\n",
      "Let's break it down.  Democratic.   Adject… https://t.co/seempErr0y\n",
      "Userid: 30724418\n",
      "Verified User?: False\n",
      "Location: None\n",
      "------------------------------------\n",
      "------------------------------------\n",
      "Pretentious lipstick and matching nail polish 💅 SOLD OUT but I have 2 extra . DM to purchase. Add BUNDLE 1 for the… https://t.co/COls6SXF7r\n",
      "Userid: 2531842162\n",
      "Verified User?: False\n",
      "Location: None\n",
      "------------------------------------\n",
      "------------------------------------\n",
      "Poppycock balderdash and bullocks.    It's putting lipstick on a pig.  \n",
      "\n",
      "Let's break it down.  Democratic.   Adject… https://t.co/YM4FaG9YgB\n",
      "Userid: 30724418\n",
      "Verified User?: False\n",
      "Location: None\n"
     ]
    }
   ],
   "source": [
    "# tweets = requests.get('https://api.twitter.com/1.1/search/tweets.json?q=nasa&result_type=popular')\n",
    "\n",
    "# tweets\n",
    "\n",
    "# results = api.GetSearch(raw_query=\"q=twitter%20&result_type=recent&since=2014-07-19&count=100\")\n",
    "# # results\n",
    "\n",
    "# result2 = requests.get(\"https://api.twitter.com/1.1/collections/list.json?screen_name=twittermusic&count=1\")\n",
    "# # results\n",
    "\n",
    "# result2"
   ]
  },
  {
   "cell_type": "code",
   "execution_count": null,
   "metadata": {},
   "outputs": [],
   "source": []
  },
  {
   "cell_type": "code",
   "execution_count": null,
   "metadata": {},
   "outputs": [],
   "source": []
  }
 ],
 "metadata": {
  "kernelspec": {
   "display_name": "Python 3",
   "language": "python",
   "name": "python3"
  },
  "language_info": {
   "codemirror_mode": {
    "name": "ipython",
    "version": 3
   },
   "file_extension": ".py",
   "mimetype": "text/x-python",
   "name": "python",
   "nbconvert_exporter": "python",
   "pygments_lexer": "ipython3",
   "version": "3.6.5"
  }
 },
 "nbformat": 4,
 "nbformat_minor": 2
}
