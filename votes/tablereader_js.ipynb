{
 "cells": [
  {
   "cell_type": "code",
   "execution_count": 97,
   "metadata": {},
   "outputs": [
    {
     "name": "stdout",
     "output_type": "stream",
     "text": [
      "_______________\n",
      "_______________\n",
      "Request Status Code: 200\n",
      "--------------\n",
      "--------------\n",
      "<title>Legislative Search Results | Congress.gov | Library of Congress</title>\n",
      "--------------\n",
      "15\n",
      "<li class=\"expanded\" style=\"display: block;\"> <div><span class=\"visualIndicator\">BILL</span></div>\n",
      "    1.\n",
      "    <span class=\"result-heading\"><a href=\"https://www.congress.gov/bill/115th-congress/house-bill/7211?r=1\">H.R.7211</a> — 115th Congress (2017-2018)</span>\n",
      "<span class=\"result-title\">To amend the Mineral Leasing Act to authorize the Secretary of the Interior to regulate hydraulic fracturing operations on Federal lands, and for other purposes.</span>\n",
      "<span class=\"result-item\">\n",
      "<strong>Sponsor:</strong> <a href=\"/member/darren-soto/S001200\" target=\"_blank\">Rep. Soto, Darren [D-FL-9]</a> (Introduced 11/30/2018) <strong>Cosponsors:</strong> (<a href=\"https://www.congress.gov/bill/115th-congress/house-bill/7211/cosponsors?r=1&amp;overview=closed#tabs\">0</a>)        </span>\n",
      "<span class=\"result-item\">\n",
      "<strong>Committees:</strong> House - Natural Resources, Energy and Commerce        </span>\n",
      "<span class=\"result-item\"><strong> Latest Action:            </strong> House - 11/30/2018 Referred to the Committee on Natural Resources, and in addition to the Committee on Energy and Commerce, for a period to be subsequently determined by the Speaker, in each case for consideration of such provisions as fall within the jurisdiction of the committee... (<a href=\"https://www.congress.gov/bill/115th-congress/house-bill/7211/all-actions?r=1&amp;overview=closed#tabs\">All Actions</a>)        </span>\n",
      "<span class=\"result-item result-tracker\"><strong>\n",
      "            Tracker: </strong><p class=\"hide_fromsighted\">This bill has the status Introduced</p><p class=\"hide_fromsighted\">Here are the steps for Status of Legislation:</p><ol class=\"stat_leg\"><li class=\"first selected\">Introduced<div class=\"sol-step-info\" style=\"display:none\">Array\n",
      "(\n",
      "    [actionDate] =&gt; 2018-11-30\n",
      "    [displayText] =&gt; Introduced in House\n",
      "    [externalActionCode] =&gt; 1000\n",
      "    [description] =&gt; Introduced\n",
      ")\n",
      "</div></li><li>Passed House</li><li>Passed Senate</li><li>To President</li><li class=\"last\">Became Law</li></ol> </span>\n",
      "</li>\n"
     ]
    }
   ],
   "source": [
    "# %%writefile tablereader_js2.py\n",
    "from pymongo import MongoClient\n",
    "import pprint \n",
    "import pandas as pd \n",
    "import copy\n",
    "from bs4 import BeautifulSoup as bs\n",
    "import requests\n",
    "\n",
    "from selenium import webdriver\n",
    "from selenium.webdriver.common.by import By\n",
    "from selenium.webdriver.support.ui import WebDriverWait \n",
    "from selenium.webdriver.support import expected_conditions as EC \n",
    "from selenium.common.exceptions import TimeoutException\n",
    "\n",
    "import warnings\n",
    "\n",
    "warnings.filterwarnings('ignore')\n",
    "\n",
    "\n",
    "\n",
    "\n",
    "# send GET request using selenium and check status\n",
    "option = webdriver.ChromeOptions()\n",
    "option.add_argument(' - incognito')\n",
    "\n",
    "browser = webdriver.Chrome(executable_path='/usr/local/bin/chromedriver', chrome_options=option)\n",
    "site_url = 'https://www.congress.gov/search?q=%7B%22source%22%3A%22legislation%22%7D'\n",
    "\n",
    "req = requests.get(site_url)\n",
    "print('_______________')\n",
    "print('_______________')\n",
    "print('Request Status Code: {}'.format(req.status_code))\n",
    "\n",
    "browser.get(site_url)\n",
    "\n",
    "# # save html into mongo\n",
    "# client = MongoClient('mongodb://localhost:27017/')\n",
    "# db = client.bills\n",
    "# pages = db.pages\n",
    "# pages.insert_one({'html': req.content})\n",
    "\n",
    "# parse the html with BeautifulSoup\n",
    "soup = bs(browser.page_source, 'lxml')\n",
    "print('--------------')\n",
    "print('--------------')\n",
    "print(soup.title)\n",
    "print('--------------')\n",
    "# print(soup.prettify())\n",
    "\n",
    "# table of bills are in ol class\n",
    "# navigate to find bill info\n",
    "div = soup.find('div', {'class':'search-column-main'})\n",
    "table = div.find('ol')\n",
    "# print(tab.prettify())\n",
    "# print(len(table))\n",
    "\n",
    "\n",
    "\n",
    "\n",
    "# #  need to iterate though each li class to find most of the above\n",
    "rows = table.find_all('li', {'class':'expanded'})\n",
    "\n",
    "\n",
    "# print(len(rows))\n",
    "print(len(rows[0]))\n",
    "pprint.pprint(rows[0])"
   ]
  },
  {
   "cell_type": "code",
   "execution_count": 162,
   "metadata": {},
   "outputs": [],
   "source": [
    "# store each row in a dictionary\n",
    "empty_row = {'bill_id': None, \n",
    "            'bill_url': None, \n",
    "            'congress_id': None,\n",
    "            'desc': None,\n",
    "            'sponsor': None, \n",
    "#             'cosponsors': None,  #requires navigation to another url and extracting names from table\n",
    "            'committee': None, \n",
    "            'bill_status': None,\n",
    "            'body': None\n",
    "            }\n"
   ]
  },
  {
   "cell_type": "code",
   "execution_count": 100,
   "metadata": {},
   "outputs": [
    {
     "name": "stdout",
     "output_type": "stream",
     "text": [
      "[<a href=\"https://www.congress.gov/bill/115th-congress/house-bill/7211?r=1\">H.R.7211</a>,\n",
      " <a href=\"/member/darren-soto/S001200\" target=\"_blank\">Rep. Soto, Darren [D-FL-9]</a>,\n",
      " <a href=\"https://www.congress.gov/bill/115th-congress/house-bill/7211/cosponsors?r=1&amp;overview=closed#tabs\">0</a>,\n",
      " <a href=\"https://www.congress.gov/bill/115th-congress/house-bill/7211/all-actions?r=1&amp;overview=closed#tabs\">All Actions</a>]\n"
     ]
    }
   ],
   "source": [
    "a = rows[0].find_all('a')\n",
    "# print(len(a))\n",
    "pprint.pprint(a)\n",
    "\n",
    "bill_id = a[0].text\n",
    "bill_url = a[0]['href']\n",
    "sponsor = a[1].text"
   ]
  },
  {
   "cell_type": "code",
   "execution_count": 149,
   "metadata": {},
   "outputs": [
    {
     "data": {
      "text/plain": [
       "'https://www.congress.gov/bill/115th-congress/house-bill/7211?r=1'"
      ]
     },
     "execution_count": 149,
     "metadata": {},
     "output_type": "execute_result"
    }
   ],
   "source": [
    "a[0]['href'].strip()"
   ]
  },
  {
   "cell_type": "code",
   "execution_count": 109,
   "metadata": {},
   "outputs": [
    {
     "name": "stdout",
     "output_type": "stream",
     "text": [
      "7\n",
      "[<span class=\"visualIndicator\">BILL</span>,\n",
      " <span class=\"result-heading\"><a href=\"https://www.congress.gov/bill/115th-congress/house-bill/7211?r=1\">H.R.7211</a> — 115th Congress (2017-2018)</span>,\n",
      " <span class=\"result-title\">To amend the Mineral Leasing Act to authorize the Secretary of the Interior to regulate hydraulic fracturing operations on Federal lands, and for other purposes.</span>,\n",
      " <span class=\"result-item\">\n",
      "<strong>Sponsor:</strong> <a href=\"/member/darren-soto/S001200\" target=\"_blank\">Rep. Soto, Darren [D-FL-9]</a> (Introduced 11/30/2018) <strong>Cosponsors:</strong> (<a href=\"https://www.congress.gov/bill/115th-congress/house-bill/7211/cosponsors?r=1&amp;overview=closed#tabs\">0</a>)        </span>,\n",
      " <span class=\"result-item\">\n",
      "<strong>Committees:</strong> House - Natural Resources, Energy and Commerce        </span>,\n",
      " <span class=\"result-item\"><strong> Latest Action:            </strong> House - 11/30/2018 Referred to the Committee on Natural Resources, and in addition to the Committee on Energy and Commerce, for a period to be subsequently determined by the Speaker, in each case for consideration of such provisions as fall within the jurisdiction of the committee... (<a href=\"https://www.congress.gov/bill/115th-congress/house-bill/7211/all-actions?r=1&amp;overview=closed#tabs\">All Actions</a>)        </span>,\n",
      " <span class=\"result-item result-tracker\"><strong>\n",
      "            Tracker: </strong><p class=\"hide_fromsighted\">This bill has the status Introduced</p><p class=\"hide_fromsighted\">Here are the steps for Status of Legislation:</p><ol class=\"stat_leg\"><li class=\"first selected\">Introduced<div class=\"sol-step-info\" style=\"display:none\">Array\n",
      "(\n",
      "    [actionDate] =&gt; 2018-11-30\n",
      "    [displayText] =&gt; Introduced in House\n",
      "    [externalActionCode] =&gt; 1000\n",
      "    [description] =&gt; Introduced\n",
      ")\n",
      "</div></li><li>Passed House</li><li>Passed Senate</li><li>To President</li><li class=\"last\">Became Law</li></ol> </span>]\n"
     ]
    }
   ],
   "source": [
    "s = rows[0].find_all('span')\n",
    "print(len(s))\n",
    "pprint.pprint(s)"
   ]
  },
  {
   "cell_type": "code",
   "execution_count": 155,
   "metadata": {},
   "outputs": [
    {
     "name": "stdout",
     "output_type": "stream",
     "text": [
      "2\n",
      "[<p class=\"hide_fromsighted\">This bill has the status Introduced</p>,\n",
      " <p class=\"hide_fromsighted\">Here are the steps for Status of Legislation:</p>]\n"
     ]
    }
   ],
   "source": [
    "pclass = rows[0].find_all('p')\n",
    "print(len(pclass))\n",
    "pprint.pprint(pclass)"
   ]
  },
  {
   "cell_type": "code",
   "execution_count": 160,
   "metadata": {},
   "outputs": [
    {
     "data": {
      "text/plain": [
       "'Introduced'"
      ]
     },
     "execution_count": 160,
     "metadata": {},
     "output_type": "execute_result"
    }
   ],
   "source": [
    "pclass[0].text[25:]"
   ]
  },
  {
   "cell_type": "code",
   "execution_count": 165,
   "metadata": {},
   "outputs": [],
   "source": [
    "all_rows = []\n",
    "\n",
    "for row in rows:\n",
    "    new_row = copy.copy(empty_row)\n",
    "\n",
    "    columns = row.find_all('a')\n",
    "    new_row['bill_id'] = columns[0].text.strip()\n",
    "    new_row['bill_url'] = columns[0]['href'].strip()\n",
    "    new_row['sponsor'] = columns[1].text.strip()\n",
    "    \n",
    "    columns = row.find_all('span')\n",
    "    new_row['congress_id'] = columns[1].text\n",
    "    new_row['desc'] = columns[2].text\n",
    "    new_row['committee'] = columns[4].text.strip()[12:]\n",
    "    \n",
    "    columns = row.find_all('p')\n",
    "    new_row['bill_status'] = columns[0].text.strip()[25:]\n",
    "    \n",
    "    all_rows.append(new_row)"
   ]
  },
  {
   "cell_type": "code",
   "execution_count": 171,
   "metadata": {},
   "outputs": [
    {
     "data": {
      "text/plain": [
       "[{'bill_id': 'H.R.7116',\n",
       "  'bill_url': 'https://www.congress.gov/bill/115th-congress/house-bill/7116?r=96',\n",
       "  'congress_id': 'H.R.7116 — 115th Congress (2017-2018)',\n",
       "  'desc': 'Suicide Prevention Assistance Act',\n",
       "  'sponsor': 'Rep. DeSaulnier, Mark [D-CA-11]',\n",
       "  'committee': 'House - Energy and Commerce',\n",
       "  'bill_status': 'Introduced',\n",
       "  'body': None},\n",
       " {'bill_id': 'H.R.7115',\n",
       "  'bill_url': 'https://www.congress.gov/bill/115th-congress/house-bill/7115?r=97',\n",
       "  'congress_id': 'H.R.7115 — 115th Congress (2017-2018)',\n",
       "  'desc': '3D Firearms Prohibitions Act',\n",
       "  'sponsor': 'Rep. Pallone, Frank, Jr. [D-NJ-6]',\n",
       "  'committee': 'House - Energy and Commerce, Judiciary',\n",
       "  'bill_status': 'Introduced',\n",
       "  'body': None},\n",
       " {'bill_id': 'H.R.7114',\n",
       "  'bill_url': 'https://www.congress.gov/bill/115th-congress/house-bill/7114?r=98',\n",
       "  'congress_id': 'H.R.7114 — 115th Congress (2017-2018)',\n",
       "  'desc': 'Natural Disaster Safe Inmate Relocation Act',\n",
       "  'sponsor': 'Rep. Meng, Grace [D-NY-6]',\n",
       "  'committee': 'House - Transportation and Infrastructure',\n",
       "  'bill_status': 'Introduced',\n",
       "  'body': None},\n",
       " {'bill_id': 'H.R.7113',\n",
       "  'bill_url': 'https://www.congress.gov/bill/115th-congress/house-bill/7113?r=99',\n",
       "  'congress_id': 'H.R.7113 — 115th Congress (2017-2018)',\n",
       "  'desc': 'Combat Violent Crime Act of 2018',\n",
       "  'sponsor': 'Rep. Roby, Martha [R-AL-2]',\n",
       "  'committee': 'House - Judiciary',\n",
       "  'bill_status': 'Introduced',\n",
       "  'body': None},\n",
       " {'bill_id': 'H.R.7112',\n",
       "  'bill_url': 'https://www.congress.gov/bill/115th-congress/house-bill/7112?r=100',\n",
       "  'congress_id': 'H.R.7112 — 115th Congress (2017-2018)',\n",
       "  'desc': 'PRO Students Act',\n",
       "  'sponsor': 'Rep. Takano, Mark [D-CA-41]',\n",
       "  'committee': 'House - Education and the Workforce',\n",
       "  'bill_status': 'Introduced',\n",
       "  'body': None}]"
      ]
     },
     "execution_count": 171,
     "metadata": {},
     "output_type": "execute_result"
    }
   ],
   "source": [
    "all_rows[-5:]"
   ]
  },
  {
   "cell_type": "code",
   "execution_count": null,
   "metadata": {},
   "outputs": [],
   "source": []
  },
  {
   "cell_type": "code",
   "execution_count": null,
   "metadata": {},
   "outputs": [],
   "source": [
    "    # # # initialize iterator over the rows in the table\n",
    "    # rows = tab.find_all('span')\n",
    "\n",
    "\n",
    "    # for row in rows[1:]:\n",
    "    #     new_row = copy.copy(empty_row)\n",
    "\n",
    "    #     # a list of all he entries in the row\n",
    "    #     columns = row.find_all('td')\n",
    "        # print(columns)\n",
    "    #     # new_row['bill_id'] = columns[0].text.strip())\n",
    "    #     # new_row['bill_desc'] = columns[0].text.strip())\n",
    "    #     # new_row['intro_date'] = columns[0].text.strip())\n",
    "    #     # new_row['bill_url'] = columns[0].text.strip())\n",
    "    #     # new_row['body'] = columns[0].text.strip())"
   ]
  },
  {
   "cell_type": "code",
   "execution_count": null,
   "metadata": {},
   "outputs": [],
   "source": [
    "if __name__ == '__main__':\n",
    "    site_table_reader()"
   ]
  }
 ],
 "metadata": {
  "kernelspec": {
   "display_name": "Python 3",
   "language": "python",
   "name": "python3"
  },
  "language_info": {
   "codemirror_mode": {
    "name": "ipython",
    "version": 3
   },
   "file_extension": ".py",
   "mimetype": "text/x-python",
   "name": "python",
   "nbconvert_exporter": "python",
   "pygments_lexer": "ipython3",
   "version": "3.6.5"
  }
 },
 "nbformat": 4,
 "nbformat_minor": 2
}
